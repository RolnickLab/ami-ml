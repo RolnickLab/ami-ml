{
 "cells": [
  {
   "cell_type": "code",
   "execution_count": 25,
   "metadata": {},
   "outputs": [],
   "source": [
    "\"\"\"\"\n",
    "Author        : Aditya Jain\n",
    "Date started  : May 10, 2022\n",
    "About         : Builds a raw video given the images\n",
    "\"\"\"\n",
    "\n",
    "import cv2\n",
    "import os\n",
    "import time\n",
    "import pandas as pd"
   ]
  },
  {
   "cell_type": "code",
   "execution_count": 26,
   "metadata": {},
   "outputs": [],
   "source": [
    "data_dir    = '/home/mila/a/aditya.jain/scratch/MothTrap_Tom/'\n",
    "image_dir   = data_dir + '040621_moths/'\n",
    "\n",
    "data_images = os.listdir(image_dir)\n",
    "data_images.sort()\n",
    "\n",
    "# output video settings\n",
    "framerate   = 5\n",
    "test_img    = cv2.imread(image_dir + data_images[0])\n",
    "height, width, layers = test_img.shape\n",
    "vid_out     = cv2.VideoWriter(data_dir + '040621-moths_raw-video.mp4',\n",
    "                              cv2.VideoWriter_fourcc(*'XVID'), \n",
    "                              framerate, \n",
    "                              (width,height))"
   ]
  },
  {
   "cell_type": "code",
   "execution_count": 27,
   "metadata": {},
   "outputs": [
    {
     "name": "stdout",
     "output_type": "stream",
     "text": [
      "Time take to build video in minutes:  3.8110122084617615\n",
      "Total images:  1540\n"
     ]
    }
   ],
   "source": [
    "s_time   = time.time()\n",
    "img_count = 0\n",
    "\n",
    "for img_name in data_images:    \n",
    "    image  = cv2.imread(image_dir + img_name)\n",
    "    vid_out.write(image)\n",
    "    img_count += 1\n",
    "        \n",
    "vid_out.release()\n",
    "print('Time take to build video in minutes: ', (time.time()-s_time)/60)\n",
    "print('Total images: ', img_count)"
   ]
  },
  {
   "cell_type": "code",
   "execution_count": null,
   "metadata": {},
   "outputs": [],
   "source": []
  }
 ],
 "metadata": {
  "kernelspec": {
   "display_name": "Python 3 (milamoth)",
   "language": "python",
   "name": "milamoth"
  },
  "language_info": {
   "codemirror_mode": {
    "name": "ipython",
    "version": 3
   },
   "file_extension": ".py",
   "mimetype": "text/x-python",
   "name": "python",
   "nbconvert_exporter": "python",
   "pygments_lexer": "ipython3",
   "version": "3.7.10"
  }
 },
 "nbformat": 4,
 "nbformat_minor": 4
}
