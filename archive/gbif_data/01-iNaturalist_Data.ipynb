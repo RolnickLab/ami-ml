{
 "cells": [
  {
   "cell_type": "code",
   "execution_count": 2,
   "metadata": {
    "colab": {
     "base_uri": "https://localhost:8080/"
    },
    "id": "KbPbE6wfxc_Z",
    "outputId": "2227f5f4-8108-402a-9eeb-1e5165189691"
   },
   "outputs": [
    {
     "name": "stdout",
     "output_type": "stream",
     "text": [
      "Collecting pyinaturalist\n",
      "\u001b[?25l  Downloading https://files.pythonhosted.org/packages/f6/80/6bb131f97e7e0a22bfd5e1c701a17f6373ce7d5af61c981168f2e1d1a08e/pyinaturalist-0.12.1-py3-none-any.whl (56kB)\n",
      "\u001b[K     |████████████████████████████████| 61kB 4.5MB/s  eta 0:00:01\n",
      "\u001b[?25hRequirement already satisfied: python-dateutil>=2.0 in /usr/local/lib/python3.7/dist-packages (from pyinaturalist) (2.8.1)\n",
      "Collecting python-forge\n",
      "  Downloading https://files.pythonhosted.org/packages/41/d6/e9af8e22d153ebbf584833c1c96d590046f522ae2a86978d4efe496b4aac/python_forge-18.6.0-py35-none-any.whl\n",
      "Collecting keyring~=21.4.0\n",
      "  Downloading https://files.pythonhosted.org/packages/e4/ed/7be20815f248b0d6aae406783c2bee392640924623c4e17b50ca90c7f74d/keyring-21.4.0-py3-none-any.whl\n",
      "Collecting requests~=2.25.0\n",
      "\u001b[?25l  Downloading https://files.pythonhosted.org/packages/29/c1/24814557f1d22c56d50280771a17307e6bf87b70727d975fd6b2ce6b014a/requests-2.25.1-py2.py3-none-any.whl (61kB)\n",
      "\u001b[K     |████████████████████████████████| 61kB 4.3MB/s \n",
      "\u001b[?25hRequirement already satisfied: six>=1.5 in /usr/local/lib/python3.7/dist-packages (from python-dateutil>=2.0->pyinaturalist) (1.15.0)\n",
      "Requirement already satisfied: importlib-metadata; python_version < \"3.8\" in /usr/local/lib/python3.7/dist-packages (from keyring~=21.4.0->pyinaturalist) (3.8.1)\n",
      "Collecting SecretStorage>=3; sys_platform == \"linux\"\n",
      "  Downloading https://files.pythonhosted.org/packages/d9/1e/29cd69fdac7391aa51510dfd42aa70b4e6a826c8cd019ee2a8ab9ec0777f/SecretStorage-3.3.1-py3-none-any.whl\n",
      "Collecting jeepney>=0.4.2; sys_platform == \"linux\"\n",
      "\u001b[?25l  Downloading https://files.pythonhosted.org/packages/51/b0/a6ea72741aaac3f37fb96d195e4ee576a103c4c04e279bc6b446a70960e1/jeepney-0.6.0-py3-none-any.whl (45kB)\n",
      "\u001b[K     |████████████████████████████████| 51kB 3.5MB/s \n",
      "\u001b[?25hRequirement already satisfied: certifi>=2017.4.17 in /usr/local/lib/python3.7/dist-packages (from requests~=2.25.0->pyinaturalist) (2020.12.5)\n",
      "Requirement already satisfied: urllib3<1.27,>=1.21.1 in /usr/local/lib/python3.7/dist-packages (from requests~=2.25.0->pyinaturalist) (1.24.3)\n",
      "Requirement already satisfied: idna<3,>=2.5 in /usr/local/lib/python3.7/dist-packages (from requests~=2.25.0->pyinaturalist) (2.10)\n",
      "Requirement already satisfied: chardet<5,>=3.0.2 in /usr/local/lib/python3.7/dist-packages (from requests~=2.25.0->pyinaturalist) (3.0.4)\n",
      "Requirement already satisfied: typing-extensions>=3.6.4; python_version < \"3.8\" in /usr/local/lib/python3.7/dist-packages (from importlib-metadata; python_version < \"3.8\"->keyring~=21.4.0->pyinaturalist) (3.7.4.3)\n",
      "Requirement already satisfied: zipp>=0.5 in /usr/local/lib/python3.7/dist-packages (from importlib-metadata; python_version < \"3.8\"->keyring~=21.4.0->pyinaturalist) (3.4.1)\n",
      "Collecting cryptography>=2.0\n",
      "\u001b[?25l  Downloading https://files.pythonhosted.org/packages/b2/26/7af637e6a7e87258b963f1731c5982fb31cd507f0d90d91836e446955d02/cryptography-3.4.7-cp36-abi3-manylinux2014_x86_64.whl (3.2MB)\n",
      "\u001b[K     |████████████████████████████████| 3.2MB 13.3MB/s \n",
      "\u001b[?25hRequirement already satisfied: cffi>=1.12 in /usr/local/lib/python3.7/dist-packages (from cryptography>=2.0->SecretStorage>=3; sys_platform == \"linux\"->keyring~=21.4.0->pyinaturalist) (1.14.5)\n",
      "Requirement already satisfied: pycparser in /usr/local/lib/python3.7/dist-packages (from cffi>=1.12->cryptography>=2.0->SecretStorage>=3; sys_platform == \"linux\"->keyring~=21.4.0->pyinaturalist) (2.20)\n",
      "\u001b[31mERROR: google-colab 1.0.0 has requirement requests~=2.23.0, but you'll have requests 2.25.1 which is incompatible.\u001b[0m\n",
      "\u001b[31mERROR: datascience 0.10.6 has requirement folium==0.2.1, but you'll have folium 0.8.3 which is incompatible.\u001b[0m\n",
      "Installing collected packages: python-forge, cryptography, jeepney, SecretStorage, keyring, requests, pyinaturalist\n",
      "  Found existing installation: requests 2.23.0\n",
      "    Uninstalling requests-2.23.0:\n",
      "      Successfully uninstalled requests-2.23.0\n",
      "Successfully installed SecretStorage-3.3.1 cryptography-3.4.7 jeepney-0.6.0 keyring-21.4.0 pyinaturalist-0.12.1 python-forge-18.6.0 requests-2.25.1\n",
      "Collecting ipyleaflet\n",
      "\u001b[?25l  Downloading https://files.pythonhosted.org/packages/1d/8f/c294cca18019dc553bd307e561165a5969ee46a7c067a769ca1590a54592/ipyleaflet-0.13.6-py2.py3-none-any.whl (3.3MB)\n",
      "\u001b[K     |████████████████████████████████| 3.3MB 11.9MB/s \n",
      "\u001b[?25hRequirement already satisfied: shapely in /usr/local/lib/python3.7/dist-packages (from ipyleaflet) (1.7.1)\n",
      "Requirement already satisfied: branca<0.5,>=0.3.1 in /usr/local/lib/python3.7/dist-packages (from ipyleaflet) (0.4.2)\n",
      "Collecting traittypes<3,>=0.2.1\n",
      "  Downloading https://files.pythonhosted.org/packages/9c/d1/8d5bd662703cc1764d986f6908a608777305946fa634d34c470cd4a1e729/traittypes-0.2.1-py2.py3-none-any.whl\n",
      "Requirement already satisfied: ipywidgets<8,>=7.6.0 in /usr/local/lib/python3.7/dist-packages (from ipyleaflet) (7.6.3)\n",
      "Requirement already satisfied: jinja2 in /usr/local/lib/python3.7/dist-packages (from branca<0.5,>=0.3.1->ipyleaflet) (2.11.3)\n",
      "Requirement already satisfied: traitlets>=4.2.2 in /usr/local/lib/python3.7/dist-packages (from traittypes<3,>=0.2.1->ipyleaflet) (5.0.5)\n",
      "Requirement already satisfied: ipykernel>=4.5.1 in /usr/local/lib/python3.7/dist-packages (from ipywidgets<8,>=7.6.0->ipyleaflet) (4.10.1)\n",
      "Requirement already satisfied: jupyterlab-widgets>=1.0.0; python_version >= \"3.6\" in /usr/local/lib/python3.7/dist-packages (from ipywidgets<8,>=7.6.0->ipyleaflet) (1.0.0)\n",
      "Requirement already satisfied: nbformat>=4.2.0 in /usr/local/lib/python3.7/dist-packages (from ipywidgets<8,>=7.6.0->ipyleaflet) (5.1.2)\n",
      "Requirement already satisfied: widgetsnbextension~=3.5.0 in /usr/local/lib/python3.7/dist-packages (from ipywidgets<8,>=7.6.0->ipyleaflet) (3.5.1)\n",
      "Requirement already satisfied: ipython>=4.0.0; python_version >= \"3.3\" in /usr/local/lib/python3.7/dist-packages (from ipywidgets<8,>=7.6.0->ipyleaflet) (5.5.0)\n",
      "Requirement already satisfied: MarkupSafe>=0.23 in /usr/local/lib/python3.7/dist-packages (from jinja2->branca<0.5,>=0.3.1->ipyleaflet) (1.1.1)\n",
      "Requirement already satisfied: ipython-genutils in /usr/local/lib/python3.7/dist-packages (from traitlets>=4.2.2->traittypes<3,>=0.2.1->ipyleaflet) (0.2.0)\n",
      "Requirement already satisfied: tornado>=4.0 in /usr/local/lib/python3.7/dist-packages (from ipykernel>=4.5.1->ipywidgets<8,>=7.6.0->ipyleaflet) (5.1.1)\n",
      "Requirement already satisfied: jupyter-client in /usr/local/lib/python3.7/dist-packages (from ipykernel>=4.5.1->ipywidgets<8,>=7.6.0->ipyleaflet) (5.3.5)\n",
      "Requirement already satisfied: jupyter-core in /usr/local/lib/python3.7/dist-packages (from nbformat>=4.2.0->ipywidgets<8,>=7.6.0->ipyleaflet) (4.7.1)\n",
      "Requirement already satisfied: jsonschema!=2.5.0,>=2.4 in /usr/local/lib/python3.7/dist-packages (from nbformat>=4.2.0->ipywidgets<8,>=7.6.0->ipyleaflet) (2.6.0)\n",
      "Requirement already satisfied: notebook>=4.4.1 in /usr/local/lib/python3.7/dist-packages (from widgetsnbextension~=3.5.0->ipywidgets<8,>=7.6.0->ipyleaflet) (5.3.1)\n",
      "Requirement already satisfied: decorator in /usr/local/lib/python3.7/dist-packages (from ipython>=4.0.0; python_version >= \"3.3\"->ipywidgets<8,>=7.6.0->ipyleaflet) (4.4.2)\n",
      "Requirement already satisfied: pexpect; sys_platform != \"win32\" in /usr/local/lib/python3.7/dist-packages (from ipython>=4.0.0; python_version >= \"3.3\"->ipywidgets<8,>=7.6.0->ipyleaflet) (4.8.0)\n",
      "Requirement already satisfied: pygments in /usr/local/lib/python3.7/dist-packages (from ipython>=4.0.0; python_version >= \"3.3\"->ipywidgets<8,>=7.6.0->ipyleaflet) (2.6.1)\n",
      "Requirement already satisfied: simplegeneric>0.8 in /usr/local/lib/python3.7/dist-packages (from ipython>=4.0.0; python_version >= \"3.3\"->ipywidgets<8,>=7.6.0->ipyleaflet) (0.8.1)\n",
      "Requirement already satisfied: prompt-toolkit<2.0.0,>=1.0.4 in /usr/local/lib/python3.7/dist-packages (from ipython>=4.0.0; python_version >= \"3.3\"->ipywidgets<8,>=7.6.0->ipyleaflet) (1.0.18)\n",
      "Requirement already satisfied: setuptools>=18.5 in /usr/local/lib/python3.7/dist-packages (from ipython>=4.0.0; python_version >= \"3.3\"->ipywidgets<8,>=7.6.0->ipyleaflet) (54.2.0)\n",
      "Requirement already satisfied: pickleshare in /usr/local/lib/python3.7/dist-packages (from ipython>=4.0.0; python_version >= \"3.3\"->ipywidgets<8,>=7.6.0->ipyleaflet) (0.7.5)\n",
      "Requirement already satisfied: python-dateutil>=2.1 in /usr/local/lib/python3.7/dist-packages (from jupyter-client->ipykernel>=4.5.1->ipywidgets<8,>=7.6.0->ipyleaflet) (2.8.1)\n",
      "Requirement already satisfied: pyzmq>=13 in /usr/local/lib/python3.7/dist-packages (from jupyter-client->ipykernel>=4.5.1->ipywidgets<8,>=7.6.0->ipyleaflet) (22.0.3)\n",
      "Requirement already satisfied: nbconvert in /usr/local/lib/python3.7/dist-packages (from notebook>=4.4.1->widgetsnbextension~=3.5.0->ipywidgets<8,>=7.6.0->ipyleaflet) (5.6.1)\n",
      "Requirement already satisfied: terminado>=0.8.1 in /usr/local/lib/python3.7/dist-packages (from notebook>=4.4.1->widgetsnbextension~=3.5.0->ipywidgets<8,>=7.6.0->ipyleaflet) (0.9.3)\n",
      "Requirement already satisfied: Send2Trash in /usr/local/lib/python3.7/dist-packages (from notebook>=4.4.1->widgetsnbextension~=3.5.0->ipywidgets<8,>=7.6.0->ipyleaflet) (1.5.0)\n",
      "Requirement already satisfied: ptyprocess>=0.5 in /usr/local/lib/python3.7/dist-packages (from pexpect; sys_platform != \"win32\"->ipython>=4.0.0; python_version >= \"3.3\"->ipywidgets<8,>=7.6.0->ipyleaflet) (0.7.0)\n",
      "Requirement already satisfied: six>=1.9.0 in /usr/local/lib/python3.7/dist-packages (from prompt-toolkit<2.0.0,>=1.0.4->ipython>=4.0.0; python_version >= \"3.3\"->ipywidgets<8,>=7.6.0->ipyleaflet) (1.15.0)\n",
      "Requirement already satisfied: wcwidth in /usr/local/lib/python3.7/dist-packages (from prompt-toolkit<2.0.0,>=1.0.4->ipython>=4.0.0; python_version >= \"3.3\"->ipywidgets<8,>=7.6.0->ipyleaflet) (0.2.5)\n",
      "Requirement already satisfied: defusedxml in /usr/local/lib/python3.7/dist-packages (from nbconvert->notebook>=4.4.1->widgetsnbextension~=3.5.0->ipywidgets<8,>=7.6.0->ipyleaflet) (0.7.1)\n",
      "Requirement already satisfied: bleach in /usr/local/lib/python3.7/dist-packages (from nbconvert->notebook>=4.4.1->widgetsnbextension~=3.5.0->ipywidgets<8,>=7.6.0->ipyleaflet) (3.3.0)\n",
      "Requirement already satisfied: mistune<2,>=0.8.1 in /usr/local/lib/python3.7/dist-packages (from nbconvert->notebook>=4.4.1->widgetsnbextension~=3.5.0->ipywidgets<8,>=7.6.0->ipyleaflet) (0.8.4)\n",
      "Requirement already satisfied: entrypoints>=0.2.2 in /usr/local/lib/python3.7/dist-packages (from nbconvert->notebook>=4.4.1->widgetsnbextension~=3.5.0->ipywidgets<8,>=7.6.0->ipyleaflet) (0.3)\n",
      "Requirement already satisfied: pandocfilters>=1.4.1 in /usr/local/lib/python3.7/dist-packages (from nbconvert->notebook>=4.4.1->widgetsnbextension~=3.5.0->ipywidgets<8,>=7.6.0->ipyleaflet) (1.4.3)\n",
      "Requirement already satisfied: testpath in /usr/local/lib/python3.7/dist-packages (from nbconvert->notebook>=4.4.1->widgetsnbextension~=3.5.0->ipywidgets<8,>=7.6.0->ipyleaflet) (0.4.4)\n",
      "Requirement already satisfied: webencodings in /usr/local/lib/python3.7/dist-packages (from bleach->nbconvert->notebook>=4.4.1->widgetsnbextension~=3.5.0->ipywidgets<8,>=7.6.0->ipyleaflet) (0.5.1)\n",
      "Requirement already satisfied: packaging in /usr/local/lib/python3.7/dist-packages (from bleach->nbconvert->notebook>=4.4.1->widgetsnbextension~=3.5.0->ipywidgets<8,>=7.6.0->ipyleaflet) (20.9)\n",
      "Requirement already satisfied: pyparsing>=2.0.2 in /usr/local/lib/python3.7/dist-packages (from packaging->bleach->nbconvert->notebook>=4.4.1->widgetsnbextension~=3.5.0->ipywidgets<8,>=7.6.0->ipyleaflet) (2.4.7)\n",
      "Installing collected packages: traittypes, ipyleaflet\n",
      "Successfully installed ipyleaflet-0.13.6 traittypes-0.2.1\n"
     ]
    }
   ],
   "source": [
    "'''\n",
    "Author.      : Aditya Jain\n",
    "Date Started : 17th March, 2021\n",
    "About        : This script scraps data from iNaturalist for moth species in Quebec, Canada\n",
    "'''\n",
    "\n",
    "!pip install pyinaturalist\n",
    "!pip install ipyleaflet"
   ]
  },
  {
   "cell_type": "code",
   "execution_count": 3,
   "metadata": {
    "id": "SKltPpi3yiMc"
   },
   "outputs": [],
   "source": [
    "from pyinaturalist.node_api import get_geojson_observations, get_taxa, get_places_nearby, get_places_by_id, get_observations, get_taxa_by_id, get_all_observations\n",
    "# from pyinaturalist.rest_api import get_observations\n",
    "from ipyleaflet import Map\n",
    "import json\n",
    "import math\n",
    "from bson import json_util\n",
    "from datetime import date\n",
    "from tqdm import tqdm\n",
    "import csv\n",
    "import numpy as np\n",
    "import pandas as pd\n",
    "\n",
    "# iNat place and species IDs\n",
    "CANADA_ID  = 6712\n",
    "QUEBEC_ID  = 13336\n",
    "LEPIDOP_ID = 47157\n",
    "\n",
    "CUR_DATE   = date.today()\n",
    "DATA_DIR   = \"/content/drive/My Drive/Data/\""
   ]
  },
  {
   "cell_type": "markdown",
   "metadata": {
    "id": "dIY29MIXL9u9"
   },
   "source": [
    "\n",
    "\n",
    "## 1. Fetch and Save json data from iNat\n",
    "##### a) The below snippet finds per-page results"
   ]
  },
  {
   "cell_type": "code",
   "execution_count": null,
   "metadata": {
    "colab": {
     "base_uri": "https://localhost:8080/"
    },
    "id": "Z_5K7o1Nd-hF",
    "outputId": "f3cd9726-92b7-4e04-96e7-105c49bd2491"
   },
   "outputs": [
    {
     "name": "stdout",
     "output_type": "stream",
     "text": [
      "No. of lepidopterans spotted in Quebec:  46420\n",
      "No. of lepidopterans spotted in Canada:  420430\n"
     ]
    }
   ],
   "source": [
    "# getting data for lepidopterans spotted in Quebec\n",
    "quebec_res = get_observations(\n",
    "    taxon_id=LEPIDOP_ID,\n",
    "    photos=True,\n",
    "    geo=True,\n",
    "    place_id=QUEBEC_ID,\n",
    "    quality_grade='research'\n",
    ")\n",
    "\n",
    "# getting data for lepidopterans spotted in Canada\n",
    "canada_res = get_observations(\n",
    "    taxon_id=LEPIDOP_ID,\n",
    "    photos=True,\n",
    "    geo=True,\n",
    "    place_id=CANADA_ID,\n",
    "    quality_grade='research'\n",
    ")\n",
    "\n",
    "total_quebec_points = quebec_res['total_results']\n",
    "\n",
    "print(\"No. of lepidopterans spotted in Quebec: \", quebec_res['total_results'])\n",
    "print(\"No. of lepidopterans spotted in Canada: \", canada_res['total_results'])\n",
    "\n",
    "# saving Quebec data in json format\n",
    "# with open('quebec_full-' + str(CUR_DATE) + '.json', 'w') as f:\n",
    "#     json.dump(quebec_res, f, default=json_util.default)"
   ]
  },
  {
   "cell_type": "markdown",
   "metadata": {
    "id": "Lpa_hIq4efSM"
   },
   "source": [
    "##### b) [Under Work] The get_all_observations API is troublesome, so manually going through all the pages and fetching the data"
   ]
  },
  {
   "cell_type": "code",
   "execution_count": null,
   "metadata": {
    "id": "zmhCChbKd3ac"
   },
   "outputs": [],
   "source": [
    "max_per_page = 200                                  # no. of entries to display per page\n",
    "no_of_pages  = math.ceil(total_quebec_points/200)   # no. of pages\n",
    "iNat_dict    = {}                                   # dictionary to store lepidopteran species on iNat\n",
    "\n",
    "# just for vizualisation\n",
    "lat_list     = []\n",
    "lon_list     = []\n",
    "\n",
    "for i in tqdm(range(1,no_of_pages+1)):\n",
    "  data = get_observations(\n",
    "    taxon_id=LEPIDOP_ID,\n",
    "    photos=True,\n",
    "    geo=True,\n",
    "    place_id=QUEBEC_ID,\n",
    "    quality_grade='research',\n",
    "    page=i,\n",
    "    per_page=max_per_page,\n",
    "    order_by='observed_on')\n",
    "  \n",
    "  data = data['results']\n",
    "  \n",
    "  for item in data:\n",
    "    taxa_name = item['taxon']['name']\n",
    "    iNat_ID   = item['taxon']['id']\n",
    "    \n",
    "    if iNat_ID not in iNat_dict.keys():\n",
    "      iNat_dict[iNat_ID] = [taxa_name, 1]\n",
    "    else:\n",
    "      iNat_dict[iNat_ID][1] += 1\n",
    "\n",
    "    lat_list.append(item['location'][0])\n",
    "    lon_list.append(item['location'][1])\n"
   ]
  },
  {
   "cell_type": "markdown",
   "metadata": {
    "id": "q-IN1qLvmodL"
   },
   "source": [
    "##### c) The below code snippet fetches a more concise data for lepidopterans in quebec"
   ]
  },
  {
   "cell_type": "code",
   "execution_count": null,
   "metadata": {
    "id": "bFOBhoPsFVVh"
   },
   "outputs": [],
   "source": [
    "quebec_res = get_geojson_observations(\n",
    "    taxon_id=LEPIDOP_ID,\n",
    "    photos=True,\n",
    "    geo=True,\n",
    "    place_id=QUEBEC_ID,\n",
    "    quality_grade='research'\n",
    ")\n",
    "\n",
    "with open('quebec_full-' + 'geojson' + '.json', 'w') as f:\n",
    "    json.dump(quebec_res, f, default=json_util.default)\n",
    "\n",
    "data = quebec_res[\"features\"]\n",
    "\n",
    "iNat_dict    = {}                                   # dictionary to store lepidopteran species on iNat\n",
    "lat_list     = []\n",
    "lon_list     = []\n",
    "\n",
    "for item in data:  \n",
    "  taxa_name = item[\"properties\"][\"taxon_name\"]\n",
    "  iNat_taxonID   = item[\"properties\"][\"taxon_id\"]\n",
    "    \n",
    "  if iNat_taxonID not in iNat_dict.keys():\n",
    "    iNat_dict[iNat_taxonID] = [taxa_name, 1]\n",
    "  else:\n",
    "    iNat_dict[iNat_taxonID][1] += 1\n",
    "\n",
    "  lat_list.append(item[\"geometry\"][\"coordinates\"][1])\n",
    "  lon_list.append(item[\"geometry\"][\"coordinates\"][0])\n",
    "\n",
    "print('Total species count:', len(iNat_dict.keys()))"
   ]
  },
  {
   "cell_type": "markdown",
   "metadata": {
    "id": "3EwY5tJvhrYf"
   },
   "source": [
    "## 2. Load json file"
   ]
  },
  {
   "cell_type": "markdown",
   "metadata": {
    "id": "tLnLGr-kqg5C"
   },
   "source": [
    "Loading quebec lepidopterans list"
   ]
  },
  {
   "cell_type": "code",
   "execution_count": null,
   "metadata": {
    "id": "71Vt-kCT_21y"
   },
   "outputs": [],
   "source": [
    "filename  = \"quebec_full-geojson.json\"\n",
    "path      = DATA_DIR + filename\n",
    "f         = open(path,)\n",
    "data      = json.load(f)['features']\n",
    "iNat_dict = {}                        # dictionary to store lepidopteran species on iNat\n",
    "\n",
    "\n",
    "for item in data:  \n",
    "  taxa_name = item[\"properties\"][\"taxon_name\"]\n",
    "  iNat_taxonID   = item[\"properties\"][\"taxon_id\"]\n",
    "    \n",
    "  if iNat_taxonID not in iNat_dict.keys():\n",
    "    iNat_dict[iNat_taxonID] = [taxa_name, 1]\n",
    "  else:\n",
    "    iNat_dict[iNat_taxonID][1] += 1\n"
   ]
  },
  {
   "cell_type": "markdown",
   "metadata": {
    "id": "xky4NlMuovBA"
   },
   "source": [
    "Once the data is loaded, the species list is saved in a csv with their counts"
   ]
  },
  {
   "cell_type": "code",
   "execution_count": null,
   "metadata": {
    "id": "tkgmaUwg-Eoi"
   },
   "outputs": [],
   "source": [
    "species_list = []\n",
    "\n",
    "for id, value in iNat_dict.items():\n",
    "  species_list.append([id, value[0], value[1]])\n",
    "\n",
    "species_list = np.array(species_list, dtype=np.dtype(object))\n",
    "species_list = species_list[species_list[:,2].argsort()[::-1]]\n",
    "field_names  = np.array([['iNat_TaxonID', 'Scientific_Name', 'Total_Observations_in_Quebec']])\n",
    "species_list = np.concatenate((field_names, species_list))\n",
    "np.savetxt('Quebec-Lepidop-Species_iNat.csv', species_list, delimiter=\",\", fmt='%s')"
   ]
  },
  {
   "cell_type": "markdown",
   "metadata": {
    "id": "scFFxQpfnnnt"
   },
   "source": [
    "#### Visualizing the observations geo-spatially"
   ]
  },
  {
   "cell_type": "code",
   "execution_count": null,
   "metadata": {
    "id": "ikFfi-4WOyuj"
   },
   "outputs": [],
   "source": [
    "import plotly.express as px\n",
    "\n",
    "fig = px.scatter_geo(lat=lat_list,\n",
    "                     lon=lon_list,\n",
    "                     scope='north america',\n",
    "                     title=\"Geo-locations of Lepidopterans spotted in Quebec\"\n",
    "                     )\n",
    "fig.show()"
   ]
  },
  {
   "cell_type": "code",
   "execution_count": null,
   "metadata": {
    "id": "6VK5KAn_LeaQ"
   },
   "outputs": [],
   "source": [
    "import matplotlib.pyplot as plt\n",
    "import numpy as np\n",
    "\n",
    "plt.hist(hist, bins=len(hist))\n",
    "plt.title(\"Histogram\")\n",
    "plt.show()"
   ]
  },
  {
   "cell_type": "code",
   "execution_count": null,
   "metadata": {
    "colab": {
     "base_uri": "https://localhost:8080/"
    },
    "id": "0P5_hIK8MA3M",
    "outputId": "5d1386fd-926b-4a9a-959e-7c6be1109395"
   },
   "outputs": [
    {
     "name": "stdout",
     "output_type": "stream",
     "text": [
      "[47, 5, 14, 138, 26, 104, 175, 99, 45, 6, 99, 75, 214, 104, 30, 24, 158, 260, 13, 48, 71, 11, 165, 15, 100, 78, 101, 40, 25, 37, 84, 22, 18, 10, 18, 46, 318, 31, 325, 104, 112, 163, 23, 36, 8, 10, 13, 42, 114, 7, 11, 15, 108, 145, 18, 20, 64, 55, 20, 19, 204, 25, 2, 37, 123, 50, 25, 18, 6, 65, 81, 4, 206, 21, 18, 238, 6, 55, 14, 59, 151, 8, 28, 47, 4, 4, 5, 20, 30, 60, 72, 26, 18, 140, 8, 34, 281, 5, 12, 56, 6, 6, 235, 8, 115, 170, 28, 168, 9, 140, 5, 38, 5, 5, 13, 31, 198, 69, 121, 420, 12, 13, 18, 43, 134, 16, 95, 17, 177, 2, 10, 3, 36, 20, 1, 29, 37, 92, 38, 30, 7, 25, 1, 7, 30, 19, 40, 11, 21, 25, 1, 68, 15, 80, 170, 19, 44, 28, 7, 114, 320, 56, 186, 295, 59, 161, 23, 17, 102, 48, 26, 9, 6, 20, 8, 25, 28, 94, 30, 101, 25, 41, 4, 8, 31, 130, 242, 63, 48, 39, 50, 87, 76, 2, 19, 10, 24, 30, 9, 39, 78, 80, 9, 45, 426, 24, 19, 52, 12, 41, 20, 4, 6, 107, 2, 6, 95, 21, 44, 71, 49, 54, 38, 62, 143, 158, 42, 27, 99, 138, 30, 31, 11, 163, 13, 9, 79, 9, 47, 36, 41, 2, 52, 4, 151, 41, 84, 22, 148, 41, 39, 3, 15, 32, 81, 85, 64, 41, 47, 26, 7, 49, 32, 104, 11, 107, 13, 9, 7, 4, 5, 1, 42, 3, 1, 6, 7, 14, 50, 7, 26, 14, 32, 23, 57, 193, 14, 4, 5, 25, 61, 24, 2, 2, 70, 33, 2, 70, 56, 64, 847, 220, 181, 532, 233, 24, 148, 6, 156, 78, 116, 150, 99, 292, 123, 62, 63, 372, 26, 19, 2, 103, 17, 42, 91, 603, 45, 128, 171, 19, 158, 20, 27, 90, 17, 1, 97, 44, 12, 18, 55, 5, 11, 2, 90, 4, 185, 538, 5, 153, 166, 288, 47, 55, 186, 15, 10, 21, 58, 43, 209, 53, 205, 44, 33, 98, 2, 31, 47, 20, 23, 59, 31, 120, 146, 1, 15, 18, 4, 136, 12, 3, 6, 52, 35, 33, 17, 23, 75, 10, 109, 2, 70, 7, 70, 34, 26, 4, 6, 86, 32, 14, 5, 5, 42, 57, 6, 15, 9, 6, 30, 89, 62, 10, 5, 13, 72, 49, 37, 1, 1, 42, 4, 8, 9, 6, 11, 12, 13, 21, 88, 4, 19, 84, 4, 5, 127, 18, 3, 44, 67, 40, 4, 7, 119, 34, 23, 33, 30, 8, 8, 18, 13, 10, 2, 3, 11, 2, 6, 15, 33, 19, 33, 1, 20, 9, 6, 100, 25, 82, 24, 70, 18, 9, 4, 4, 10, 14, 2, 26, 10, 18, 6, 6, 73, 1, 107, 26, 2, 89, 64, 156, 77, 9, 23, 71, 24, 95, 142, 10, 208, 66, 62, 15, 27, 12, 20, 20, 18, 3, 5, 9, 11, 1, 2, 3, 1, 3, 4, 9, 4, 33, 4, 10, 84, 37, 4, 4, 15, 49, 17, 4, 46, 5, 7, 11, 5, 47, 89, 60, 3, 10, 73, 5, 10, 27, 4, 53, 2, 10, 17, 43, 1, 8, 7, 88, 65, 15, 6, 22, 6, 9, 27, 61, 15, 51, 29, 5, 16, 6, 71, 36, 7, 117, 19, 110, 6, 5, 8, 29, 110, 1, 46, 72, 2, 6, 13, 24, 52, 5, 81, 121, 63, 24, 15, 82, 278, 59, 20, 50, 10, 63, 151, 62, 12, 80, 36, 46, 39, 1, 6, 289, 223, 137, 8, 1, 6, 11, 57, 29, 53, 49, 14, 3, 6, 68, 10, 8, 2, 3, 5, 3, 6, 15, 3, 20, 29, 17, 31, 14, 7, 24, 2, 8, 13, 33, 15, 8, 15, 6, 7, 3, 2, 2, 7, 54, 5, 12, 1, 3, 2, 3, 3, 1, 6, 5, 15, 36, 14, 4, 5, 1, 4, 119, 4, 1, 6, 20, 65, 17, 27, 4, 6, 2, 8, 27, 15, 8, 79, 7, 4, 2, 1, 28, 1, 3, 7, 4, 7, 1, 2, 7, 11, 2, 20, 13, 9, 2, 7, 1, 54, 18, 25, 59, 2, 20, 8, 40, 9, 11, 15, 6, 4, 4, 21, 49, 79, 25, 27, 20, 10, 10, 10, 76, 41, 16, 33, 10, 15, 1, 3, 3, 2, 33, 2, 3, 32, 47, 70, 2, 47, 18, 20, 2, 10, 2, 19, 40, 213, 32, 50, 3, 2, 37, 4, 16, 2, 15, 13, 34, 8, 60, 12, 14, 11, 24, 4, 3, 15, 15, 2, 8, 47, 27, 4, 3, 15, 60, 78, 4, 17, 2, 7, 6, 24, 7, 5, 34, 6, 1, 1, 1, 4, 7, 5, 13, 175, 1, 19, 8, 2, 6, 25, 1, 3, 2, 1, 6, 13, 1, 2, 1, 2, 1, 1, 2, 13, 27, 1, 33, 2, 2, 8, 18, 13, 28, 4, 4, 5, 32, 4, 8, 6, 4, 4, 1, 16, 2, 16, 19, 92, 10, 126, 20, 3, 16, 6, 5, 2, 6, 22, 19, 7, 2, 17, 28, 16, 7, 48, 36, 15, 9, 4, 118, 12, 15, 84, 48, 33, 45, 12, 26, 2, 24, 13, 6, 25, 1, 50, 2, 68, 9, 100, 41, 70, 82, 155, 1, 11, 4, 28, 74, 1, 8, 43, 68, 6, 7, 2, 15, 7, 4, 6, 2, 8, 32, 15, 46, 5, 12, 14, 6, 19, 17, 43, 6, 64, 7, 9, 28, 23, 26, 2, 10, 1, 7, 43, 31, 3, 7, 1, 8, 4, 28, 2, 5, 2, 3, 1, 9, 25, 2, 47, 15, 4, 43, 5, 1, 3, 42, 14, 1, 5, 1, 2, 12, 3, 13, 14, 14, 17, 3, 4, 3, 17, 6, 3, 21, 7, 41, 7, 6, 20, 86, 13, 35, 18, 24, 6, 3, 23, 24, 65, 9, 12, 7, 16, 4, 27, 49, 19, 38, 34, 30, 22, 14, 14, 78, 2, 10, 35, 2, 1, 13, 8, 1, 2, 7, 2, 12, 4, 15, 2, 14, 15, 1, 1, 3, 36, 5, 81, 8, 36, 11, 9, 24, 20, 6, 7, 3, 15, 2, 3, 1, 2, 2, 26, 3, 6, 3, 3, 2, 2, 2, 10, 10, 4, 14, 3, 5, 3, 3, 12, 8, 58, 1, 15, 4, 4, 91, 3, 3, 7, 3, 4, 5, 6, 3, 2, 6, 2, 1, 2, 3, 2, 4, 4, 25, 4, 2, 4, 4, 7, 1, 1, 35, 1, 27, 3, 36, 75, 63, 4, 28, 9, 4, 3, 3, 1, 5, 6, 18, 1, 12, 5, 1, 8, 3, 3, 14, 36, 7, 3, 1, 1, 6, 1, 6, 17, 4, 16, 2, 25, 41, 5, 3, 1, 1, 8, 2, 2, 1, 2, 1, 2, 1, 1, 2, 6, 10, 7, 3, 2, 4, 8, 3, 1, 2, 4, 7, 6, 17, 10, 7, 11, 3, 54, 6, 4, 1, 5, 6, 5, 3, 1, 3, 1, 2, 5, 8, 3, 1, 1, 19, 109, 22, 10, 1, 13, 5, 4, 4, 8, 5, 7, 3, 7, 7, 3, 6, 1, 48, 110, 26, 5, 1, 69, 47, 4, 1, 1, 5, 9, 4, 2, 6, 8, 12, 5, 3, 3, 20, 1, 8, 6, 3, 1, 12, 5, 10, 6, 1, 1, 63, 7, 9, 25, 37, 25, 11, 2, 2, 2, 15, 3, 21, 2, 4, 5, 11, 1, 1, 1, 16, 12, 17, 32, 5, 2, 13, 2, 10, 9, 1, 8, 3, 2, 14, 12, 13, 42, 41, 8, 22, 1, 1, 4, 2, 1, 9, 4, 3, 23, 18, 19, 4, 1, 3, 13, 42, 5, 8, 70, 8, 1, 1, 2, 2, 3, 1, 9, 23, 3, 9, 2, 3, 20, 14, 2, 6, 4, 6, 9, 12, 36, 4, 1, 4, 7, 4, 109, 1, 2, 17, 9, 1, 2, 6, 4, 1, 4, 22, 7, 3, 3, 1, 1, 9, 1, 2, 1, 4, 1, 4, 27, 1, 2, 7, 2, 7, 13, 6, 2, 1, 4, 7, 2, 5, 1, 20, 1, 4, 3, 13, 4, 1, 1, 2, 7, 1, 7, 2, 3, 4, 1, 1, 3, 5, 1, 1, 1, 1, 1, 3, 1, 2, 2, 6, 1, 2, 1, 6, 2, 6, 3, 8, 4, 7, 3, 1, 4, 3, 8, 11, 8, 6, 1, 1, 4, 2, 14, 1, 1, 2, 1, 7, 5, 3, 1, 1, 1, 1, 1, 2, 1, 5, 1, 5, 1, 1, 4, 3, 4, 1, 10, 1, 1, 1, 3, 1, 2, 3, 6, 2, 2, 2, 2, 1, 9, 6, 1, 28, 2, 17, 1, 59, 1, 3, 7, 1, 12, 4, 3, 3, 2, 3, 7, 3, 6, 3, 5, 2, 3, 9, 4, 6, 1, 8, 3, 1, 2, 6, 5, 2, 3, 1, 1, 3, 1, 2, 2, 1, 2, 1, 1, 3, 2, 1, 1, 8, 3, 2, 1, 1, 2, 1, 1, 2, 3, 2, 1, 2, 2, 2, 5, 3, 1, 2, 4, 2, 2, 1, 1, 18, 2, 2, 3, 10, 1, 6, 1, 1, 3, 3, 2, 17, 1, 1, 1, 3, 10, 1, 2, 1, 1, 2, 2, 2, 2, 6, 1, 2, 2, 1, 1, 1, 6, 5, 1, 1, 1, 1, 1, 1, 2, 3, 1, 3, 5, 2, 1, 1, 1, 3, 1, 1, 1, 1, 1, 2, 2, 1, 2, 4, 1, 1, 3, 1, 1, 1, 1, 1, 1, 1, 2, 1, 1, 7, 4, 3, 2, 4, 2, 1, 17, 2, 1, 7, 8, 1, 1, 1, 6, 1, 1, 8, 6, 1, 1, 2, 2, 1, 1, 1, 3, 1, 1, 1, 1, 3, 8, 5, 1, 1, 1, 1, 1, 1, 1, 4, 1, 1, 9, 1, 3, 1, 5, 1, 4, 2, 1, 5, 1, 1, 1, 1, 3, 1, 1, 1, 1, 1, 5, 1, 4, 1, 2, 8, 1, 1, 1, 4, 2, 1, 1, 1, 9, 1, 2, 1, 1, 2, 5, 1, 1, 1, 1, 1, 1, 1, 1, 1, 1, 1, 1, 2, 1, 1, 1, 30, 2, 1, 1, 2, 10, 1, 4, 3, 1, 1, 1, 3, 1, 3, 2, 2, 1, 1, 3, 1, 2, 1, 1, 2, 1, 3, 1, 2, 1, 1, 1, 1, 1, 1, 1, 1, 2, 1, 1, 2, 1, 3, 1, 1, 1, 1, 1, 1, 1, 1, 1, 1, 2, 1, 2, 2, 2, 1, 1, 2, 1, 1, 1, 1, 1, 1, 1, 1, 1, 1, 1, 1, 1, 5, 1, 1, 2, 3, 1, 1, 1, 1, 2, 3, 1, 1, 2, 1, 1, 1, 1, 1, 1, 1, 1, 3, 2, 1, 1, 1, 1, 1, 2, 1, 1, 1, 1, 1, 1, 1, 1, 1, 1, 1, 5, 1, 1, 1, 1, 1, 1, 1, 1, 1]\n"
     ]
    }
   ],
   "source": [
    "hist = []\n",
    "for key in iNat_dict.keys():\n",
    "  hist.append(iNat_dict[key][1])\n",
    "\n",
    "print(hist)"
   ]
  },
  {
   "cell_type": "markdown",
   "metadata": {
    "id": "__yMb8euqzXB"
   },
   "source": [
    "## 3. Reading moth species list (shared by Maxim)\n",
    "First reading the file, getting the relevant fields, cleaning it and generating a new csv file"
   ]
  },
  {
   "cell_type": "code",
   "execution_count": null,
   "metadata": {
    "colab": {
     "base_uri": "https://localhost:8080/"
    },
    "id": "O_xm3c5-q-SH",
    "outputId": "1448ca5b-4666-4e6a-b8c0-9cc6df4260b5"
   },
   "outputs": [
    {
     "name": "stdout",
     "output_type": "stream",
     "text": [
      "      SP NO.  ...                                   FULL NAME\n",
      "0     010001  ...         Epimartyria auricrinella Walsingham\n",
      "1     070001  ...  Dyseriocrania griseocapitella (Walsingham)\n",
      "2     070003  ...        Eriocrania semipurpurella (Stephens)\n",
      "3        NaN  ...                                         NaN\n",
      "4     070004  ...                  Eriocrania breviapex Davis\n",
      "...      ...  ...                                         ...\n",
      "3502  933680  ...                 Abagrotis alternata (Grote)\n",
      "3503  933682  ...                Abagrotis forbesi (Benjamin)\n",
      "3504  933683  ...             Abagrotis brunneipennis (Grote)\n",
      "3505  933685  ...                    Abagrotis cupida (Grote)\n",
      "3506  933688  ...           Abagrotis anchocelioides (Guenée)\n",
      "\n",
      "[3507 rows x 7 columns]\n",
      "       SP NO.  ...                                   FULL NAME\n",
      "0      010001  ...         Epimartyria auricrinella Walsingham\n",
      "1      070001  ...  Dyseriocrania griseocapitella (Walsingham)\n",
      "2      070003  ...        Eriocrania semipurpurella (Stephens)\n",
      "4      070004  ...                  Eriocrania breviapex Davis\n",
      "5     070008P  ...              Eriocraniella platyptera Davis\n",
      "...       ...  ...                                         ...\n",
      "3502   933680  ...                 Abagrotis alternata (Grote)\n",
      "3503   933682  ...                Abagrotis forbesi (Benjamin)\n",
      "3504   933683  ...             Abagrotis brunneipennis (Grote)\n",
      "3505   933685  ...                    Abagrotis cupida (Grote)\n",
      "3506   933688  ...           Abagrotis anchocelioides (Guenée)\n",
      "\n",
      "[3150 rows x 7 columns]\n"
     ]
    }
   ],
   "source": [
    "filename  = 'quebec_mothlist.xlsx'\n",
    "file_path = DATA_DIR + filename\n",
    "file_path = 'listB_Quebec_Pohl2018.xlsx'\n",
    "data      = pd.read_excel(file_path, sheet_name=None)\n",
    "data      = data['Pohl et al 2018 Qc moths']\n",
    "data      = data[['SP NO.', 'superfamily', 'family', 'subfamily', 'val genus', 'name', 'FULL NAME']]\n",
    "\n",
    "# data.to_csv('quebec_moth_v1.csv')   # this contains relevant columns but some empty rows\n",
    "\n",
    "# removing empty entries by checking a specific column\n",
    "for row in data.index:\n",
    "  if pd.isnull(data['family'][row]):\n",
    "    data.drop(row, inplace=True)\n",
    "\n",
    "print(data)\n",
    "data.to_csv('quebec_moth_v2.csv')   # this contains relevant columns along with removed empty rows"
   ]
  },
  {
   "cell_type": "markdown",
   "metadata": {
    "id": "Y1caXf3FIwTf"
   },
   "source": [
    "## 4. Reading Vermont moth species list (shared by KP)\n",
    "First reading the file, getting the relevant fields, cleaning it and generating a new csv file"
   ]
  },
  {
   "cell_type": "code",
   "execution_count": 9,
   "metadata": {
    "colab": {
     "base_uri": "https://localhost:8080/"
    },
    "id": "Zcua-ON0I6v_",
    "outputId": "633868a4-fb00-49a6-b251-5854c1dc66a0"
   },
   "outputs": [
    {
     "name": "stdout",
     "output_type": "stream",
     "text": [
      "      Hodges_No      P3no  ... taxonRank                 scientificName\n",
      "0           1.0   10001.0  ...   species       Epimartyria auricrinella\n",
      "1           3.0   70001.0  ...   species  Dyseriocrania griseocapitella\n",
      "2           5.0   70003.0  ...   species      Eriocrania semipurpurella\n",
      "3          31.0  110011.0  ...   species        Korscheltellus gracilis\n",
      "4          18.0  110016.0  ...   species    Sthenopis argenteomaculatus\n",
      "...         ...       ...  ...       ...                            ...\n",
      "1935    11043.0  933685.0  ...   species               Abagrotis cupida\n",
      "1936    11045.0  933688.0  ...   species       Abagrotis anchocelioides\n",
      "1937    10658.0   34151.0  ...   species               Agrotis stigmosa\n",
      "1938     3412.2  621291.2  ...   species          Dichrorampha aeratana\n",
      "1939     6405.0  910822.0  ...   species          Digrammia gnophosaria\n",
      "\n",
      "[1940 rows x 10 columns]\n"
     ]
    }
   ],
   "source": [
    "filename  = 'listC_Vermont_29March2021.xlsx'\n",
    "file_path = DATA_DIR + filename\n",
    "data      = pd.read_excel(file_path, sheet_name=None)\n",
    "data      = data['Sheet2']\n",
    "data      = data[['Hodges_No', 'P3no', 'group', 'superfamily', 'family', \n",
    "                  'subfamily', 'genus', 'specificEpithet', 'taxonRank',\n",
    "                  'scientificName']]\n",
    "\n",
    "# removing empty entries by checking a specific column\n",
    "for row in data.index:\n",
    "  if pd.isnull(data['scientificName'][row]):\n",
    "    data.drop(row, inplace=True)\n",
    "\n",
    "print(data)\n",
    "\n",
    "data.to_csv('listC_Vermont_29March2021.csv')"
   ]
  },
  {
   "cell_type": "markdown",
   "metadata": {
    "id": "7i3BJA5hMlMa"
   },
   "source": [
    "## 5. Comparing iNat and Maxim's Quebec Moth species list\n",
    "Comparing the two lists to find which species are common in the two lists and which are missing in either of them"
   ]
  },
  {
   "cell_type": "code",
   "execution_count": null,
   "metadata": {
    "id": "iWLYfZtENgXT"
   },
   "outputs": [],
   "source": [
    "iNat_name      = 'Quebec-Lepidop-Species_iNat.csv'\n",
    "quebec_name    = 'quebec_moth_v2.csv'\n",
    "iNat_file      = DATA_DIR + iNat_name\n",
    "quebec_file    = DATA_DIR + quebec_name\n",
    "\n",
    "iNat_data      = pd.read_csv(iNat_file)\n",
    "quebec_data    = pd.read_csv(moth_file)\n",
    "\n",
    "iNat_species   = iNat_data['Scientific_Name']\n",
    "quebec_species = quebec_data['val genus'] + ' ' + quebec_data['name']"
   ]
  },
  {
   "cell_type": "markdown",
   "metadata": {
    "id": "J8PcQWsNOERD"
   },
   "source": [
    "#### A) In iNat, not in quebec list\n",
    "The iNat list is of complete lepidoptera order, hence, it will also contain butterfly species. However, if there is any quebec moth species in iNat but not in maxim list, that would be interesting (because the latter is supposedly a superset of quebec moth species)"
   ]
  },
  {
   "cell_type": "code",
   "execution_count": null,
   "metadata": {
    "id": "pSsWz3rCPDQx"
   },
   "outputs": [],
   "source": [
    "list_not_in_Moth = []\n",
    "for item in iNat_species.index:\n",
    "  if iNat_species[item] not in list(quebec_species):\n",
    "    list_not_in_Moth.append(iNat_species[item])\n",
    "\n",
    "list_not_in_Moth = pd.DataFrame(list_not_in_Moth)\n",
    "list_not_in_Moth.to_csv('IniNat_NotQuebec.csv') "
   ]
  },
  {
   "cell_type": "markdown",
   "metadata": {
    "id": "yKFw9VhUO_1s"
   },
   "source": [
    "#### B) In quebec list, not in iNat\n",
    "This code snippet will find out the species in quebec list which are not spotted on iNat"
   ]
  },
  {
   "cell_type": "code",
   "execution_count": null,
   "metadata": {
    "id": "zjkHD-eYwGRq"
   },
   "outputs": [],
   "source": [
    "list_not_in_iNat = []\n",
    "for item in quebec_species.index:\n",
    "  if quebec_species[item] not in list(iNat_species):\n",
    "    list_not_in_iNat.append(quebec_species[item])\n",
    "\n",
    "list_not_in_iNat = pd.DataFrame(list_not_in_iNat)\n",
    "list_not_in_iNat.to_csv('InQuebec_NotiNat.csv')"
   ]
  },
  {
   "cell_type": "markdown",
   "metadata": {
    "id": "f7jwp-WqOr9u"
   },
   "source": [
    "## 5. Fetch Data\n",
    "Saving images from iNat"
   ]
  },
  {
   "cell_type": "code",
   "execution_count": null,
   "metadata": {
    "colab": {
     "base_uri": "https://localhost:8080/"
    },
    "id": "Hnajosx4OxgL",
    "outputId": "5ac61565-d5da-4d00-d0cb-677ecba69f0f"
   },
   "outputs": [
    {
     "name": "stdout",
     "output_type": "stream",
     "text": [
      "[48662, 58583, 55641, 47802, 57463, 59675, 58523, 81663, 47919, 67691, 145659, 56832, 1063932, 55626, 143274, 48548, 120217, 81677, 143728, 127460, 119013, 154446, 49133, 81681, 219746, 130017, 211009, 120214, 121183, 60839, 229817, 205300, 143518, 142993, 47916, 58576, 49716, 208521, 337467, 81665, 81687, 81656, 205231, 58531, 127457, 736797, 223997, 143445, 198813, 84428, 201281, 47980, 153076, 233010, 154582, 128242, 58586, 119492, 1081323, 224075, 198812, 82379, 143118, 205197, 143867, 219124, 212435, 226649, 119953, 121236, 127133, 133447, 220826, 63128, 81657, 154353, 211012, 68262, 143009, 144107, 81582, 232156, 212430, 84662, 126276, 58484, 143517, 143121, 82153, 81680, 56776, 118901, 177320, 143112, 233838, 213838, 217190, 131673, 205204, 215211, 227466, 217970, 82225, 82204, 211100, 213514, 143446, 129226, 213826, 119063, 217054, 122259, 121534, 54064, 48094, 228855, 117452, 218900, 81679, 124181, 606580, 233677, 321779, 226646, 129572, 205213, 211007, 204699, 219856, 231396, 220107, 204701, 232160, 118531, 228854, 126765, 205235, 208112, 119937, 203442, 216805, 147309, 176096, 81559, 127564, 212429, 176927, 124179, 120033, 59185, 223986, 209405, 205238, 790921, 205067, 212575, 218840, 134081, 50072, 81674, 142990, 226944, 129223, 176355, 220615, 134078, 216266, 122261, 126207, 228482, 201344, 224098, 124183, 223981, 502385, 205233, 227514, 228344, 118490, 231732, 228421, 1103556, 216430, 213515, 230882, 220230, 82201, 58578, 143000, 119340, 227085, 216258, 223974, 232245, 126970, 358549, 63752, 133620, 81676, 743191, 217792, 1120872, 223977, 209787, 52943, 58606, 215227, 61910, 225424, 198821, 217769, 84950, 213992, 217673, 214673, 143316, 58514, 228263, 219632, 68330, 226910, 179726, 224142, 58579, 203458, 215774, 176926, 233933, 205241, 84038, 146749, 58513, 221969, 214671, 217189, 222551, 219906, 177209, 218844, 127618, 227603, 223996, 228259, 178403, 217053, 220232, 219719, 153980, 54068, 212439, 52906, 119789, 143735, 212353, 233424, 205194, 212455, 48549, 323781, 60607, 126153, 216383, 68269, 146935, 216257, 205237, 121612, 146963, 233423, 130821, 177605, 214967, 154436, 213541, 214077, 120275, 122375, 233934, 133966, 154057, 143002, 198800, 205195, 58603, 233578, 132881, 122381, 205208, 205065, 122716, 52904, 219826, 83841, 81584, 199999, 58473, 58580, 220014, 212740, 212433, 232135, 52900, 58469, 626665, 146991, 215194, 179339, 205228, 220433, 58541, 205868, 223983, 118513, 227897, 133630, 153961, 205202, 143485, 223985, 223564, 227082, 453090, 222265, 130010, 212345, 173571, 203451, 81692, 55638, 213990, 1051025, 205036, 233945, 136548, 146797, 47914, 219735, 216824, 213510, 118503, 223984, 231255, 160791, 467853, 177929, 141531, 212473, 59199, 174131, 127169, 219965, 363117, 225663, 219854, 201403, 214840, 220825, 212459, 203463, 207991, 212434, 229147, 143610, 511573, 232547, 221595, 207523, 228347, 218297, 209400, 222171, 214968, 143525, 126737, 82279, 219750, 214842, 214162, 823767, 493492, 149017, 219334, 143126, 228262, 62424, 50955, 143654, 126905, 224243, 218931, 84023, 205199, 203132, 143030, 229931, 214157, 222724, 84333, 81672, 143008, 143105, 220434, 235767, 226924, 479512, 148590, 496625, 62978, 128950, 231731, 228372, 218924, 205240, 232076, 205211, 119066, 220974, 231244, 176358, 752190, 453394, 219749, 233796, 223680, 81689, 203342, 231422, 226889, 130350, 213859, 215210, 227083, 143475, 58575, 199870, 205196, 216313, 133631, 54900, 459419, 212334, 224402, 58475, 205181, 322025, 226901, 144067, 231256, 129576, 214078, 212339, 47719, 203831, 213839, 219751, 128241, 204014, 58550, 143027, 226634, 133770, 216097, 224976, 58534, 228481, 143110, 217686, 142998, 221519, 208032, 606575, 218487, 232147, 219935, 174129, 229082, 209713, 606573, 213535, 218436, 226640, 212316, 126204, 226334, 453413, 194027, 216806, 133346, 470566, 205227, 212293, 224993, 205216, 58539, 226933, 216316, 179727, 201343, 219346, 218326, 204089, 232759, 216303, 147941, 201345, 790905, 58543, 154592, 143010, 211181, 129149, 219341, 215208, 82210, 222285, 214141, 224004, 143031, 126293, 205234, 130785, 143097, 228261, 143012, 63750, 624408, 217368, 231412, 213110, 203462, 143615, 228332, 258493, 58481, 68264, 143015, 216431, 201234, 221268, 214076, 324766, 205193, 146599, 230800, 220233, 143128, 947590, 233784, 217223, 148460, 1122498, 143282, 146750, 321469, 700910, 201277, 143005, 224970, 147308, 219028, 132736, 222550, 143114, 226639, 213498, 146625, 201280, 155234, 221048, 205209, 143108, 219237, 223544, 227086, 791094, 223979, 212364, 129222, 174566, 228634, 142639, 225811, 224099, 214034, 221608, 153302, 200929, 211619, 233575, 132227, 212340, 219343, 224175, 213846, 231254, 221438, 81670, 223994, 226923, 143727, 225661, 232895, 223978, 119550, 219979, 143024, 223554, 207977, 84470, 215271, 118556, 143201, 233867, 231393, 224262, 208118, 511586, 218139, 47153, 204862, 214085, 233970, 130003, 215615, 453612, 154823, 212737, 198811, 214138, 346133, 148907, 81729, 220481, 215289, 81685, 124167, 232363, 218838, 146633, 222619, 129668, 606578, 224204, 227421, 212450, 216738, 227599, 129428, 229513, 58564, 205206, 321593, 211036, 58506, 212436, 205212, 221450, 228632, 230608, 222553, 118486, 205229, 126640, 143119, 332646, 213841, 232592, 220997, 143659, 212326, 343393, 205865, 227098, 230771, 147093, 182582, 143449, 176925, 143107, 366772, 178262, 132415, 215780, 219848, 216317, 233930, 180712, 324008, 354722, 146980, 341437, 122382, 174367, 81590, 239024, 142246, 231265, 126217, 205198, 221586, 213863, 143123, 216123, 224312, 219629, 198777, 214079, 143450, 220088, 213866, 194598, 511560, 511559, 226888, 143196, 222180, 214027, 143028, 221605, 226303, 217191, 212369, 198803, 220755, 143452, 429136, 219747, 211288, 81580, 143476, 217331, 925697, 231405, 220089, 228422, 58563, 221607, 58468, 215390, 219229, 118788, 226941, 215899, 216277, 417048, 143520, 218845, 320965, 224914, 320836, 219914, 215896, 210604, 214025, 203461, 1005685, 176448, 230796, 219347, 59300, 58750, 453585, 511561, 224557, 218160, 214136, 217496, 84602, 220229, 119939, 84024, 322875, 135260, 226635, 219631, 876933, 129426, 216308, 324364, 366796, 218835, 232152, 143651, 216429, 212456, 233743, 232071, 143096, 225200, 231076, 224258, 143323, 226021, 216019, 219126, 226345, 55655, 224167, 230446, 128555, 116682, 176496, 198805, 124184, 345722, 219942, 81907, 212378, 127431, 213470, 143094, 213834, 205302, 214033, 216281, 311618, 218720, 213861, 783716, 220228, 118789, 228893, 176162, 364095, 228865, 228486, 453634, 222554, 231267, 222705, 220758, 789688, 61240, 453419, 357353, 1123149, 127492, 133625, 216291, 321014, 321675, 220910, 143484, 212342, 224259, 224002, 213573, 81683, 216524, 143019, 146968, 220372, 220829, 233590, 215226, 205301, 144075, 212729, 212437, 205214, 232077, 58532, 452653, 132789, 221364, 234598, 70071, 126106, 218930, 212880, 361086, 453035, 142981, 208320, 143849, 50391, 82269, 176368, 205236, 148908, 212344, 227478, 236380, 233797, 203455, 224919, 217498, 324639, 217991, 217680, 228846, 212738, 417068, 215352, 217766, 1127244, 322722, 230795, 224556, 143043, 224154, 219351, 212445, 219296, 219976, 542167, 220757, 214015, 790278, 143382, 212341, 201836, 128790, 231734, 213414, 176089, 335071, 226045, 345642, 237438, 205826, 179728, 233914, 143109, 511682, 233739, 228903, 453089, 230671, 334374, 153304, 226927, 212512, 143613, 196742, 222102, 213825, 222579, 61413, 218445, 154469, 789210, 230605, 58509, 215901, 219051, 233736, 218324, 208119, 127016, 230887, 213570, 143608, 215474, 319853, 160790, 233950, 212376, 212736, 320060, 84000, 203454, 213744, 237629, 221596, 219768, 217767, 230886, 224089, 227476, 322119, 226968, 205167, 205230, 216151, 218382, 128517, 48505, 228419, 233801, 177197, 212190, 212458, 210609, 122254, 764892, 116681, 178547, 218479, 226350, 218536, 225241, 221972, 233798, 203337, 143093, 143125, 215215, 224003, 232126, 320609, 233839, 453193, 220082, 233786, 213494, 120001, 219421, 470559, 227741, 342865, 201818, 151770, 143523, 511563, 523602, 739302, 172873, 324838, 222004, 228488, 213865, 217898, 133627, 221967, 178579, 117369, 453076, 417150, 214672, 231269, 118492, 81967, 143098, 84733, 319692, 126616, 1074458, 511564, 325987, 207983, 142999, 145534, 143277, 128785, 226926, 212333, 212449, 218153, 208117, 217988, 226046, 220995, 214160, 230884, 417041, 52902, 118860, 228742, 233997, 213559, 148355, 146886, 214030, 453191, 176124, 318534, 226848, 469222, 203452, 212500, 217674, 216315, 224953, 453395, 201342, 222552, 226925, 233943, 453606, 221181, 1046020, 208110, 453609, 225105, 232244, 228844, 143023, 220023, 230625, 214153, 236263, 219940, 212335, 212330, 132468, 416859, 218424, 212165, 452444, 221215, 212733, 215900, 218489, 49881, 143275, 358321, 230661, 1095337, 232546, 233799, 230799, 227864, 210396, 82381, 520398, 224155, 322697, 211006, 216255, 344948, 231407, 226277, 428548, 216809, 219800, 215212, 135318, 214856, 213576, 226949, 233938, 232916, 322378, 214143, 212457, 212743, 228495, 205203, 237421, 468756, 1106113, 453179, 212368, 213856, 230666, 345629, 226847, 203304, 216309, 61505, 218378, 366507, 176356, 203850, 154228, 218836, 217982, 194599, 220672, 231268, 125475, 205864, 222696, 216296, 215886, 226422, 213844, 418552, 417098, 1127180, 213572, 229085, 227866, 143474, 219745, 218446, 226307, 143734, 212327, 225206, 216096, 453470, 903936, 221336, 214132, 214161, 215883, 213809, 214081, 143278, 1019820, 153443, 213476, 324275, 234911, 228420, 220756, 212356, 177214, 58561, 230798, 219205, 362823, 225660, 212329, 146889, 58495, 229119, 416883, 453460, 143737, 214372, 234951, 173103, 205226, 146946, 217304, 215303, 218379, 228487, 52043, 568906, 63751, 143526, 233794, 219169, 127657, 58478, 218381, 219748, 372156, 218208, 222701, 219997, 213842, 226287, 61503, 333907, 225368, 226266, 321277, 511569, 627021, 212454, 148025, 220021, 527048, 215905, 226641, 228897, 126350, 233789, 228810, 321473, 227683, 218385, 1127183, 212349, 56644, 741890, 453604, 226285, 226652, 453145, 142995, 143856, 453633, 121823, 227937, 143103, 233840, 219943, 220108, 50269, 219957, 212189, 226023, 213565, 230676, 219342, 219382, 213851, 338579, 219846, 212398, 229679, 319034, 222178, 52924, 127303, 126118, 214195, 362534, 209022, 233221, 226946, 222238, 58518, 233944, 212313, 233231, 58508, 143729, 233233, 214855, 235550, 214567, 633628, 232114, 345620, 217393, 227480, 225989, 416916, 134049, 58604, 325918, 422704, 504841, 220335, 705346, 143101, 967275, 231147, 58536, 470558, 217188, 220759, 228908, 218919, 219293, 226879, 231261, 213603, 219966, 146645, 218389, 213853, 63028, 223156, 222174, 143586, 219805, 144071, 219338, 222587, 220671, 143441, 213109, 144069, 219345, 212423, 177215, 226309, 226636, 224984, 1019818, 221609, 453309, 238382, 176367, 362737, 153944, 230748, 225106, 205064, 126162, 143585, 215243, 143127, 220084, 219582, 205201, 121030, 325989, 221970, 226929, 217983, 211037, 217344, 219337, 222685, 367260, 229536, 233581, 453216, 226339, 193994, 233744, 367948, 213836, 222706, 225183, 232340, 233941, 220664, 453219, 221437, 370614, 226302, 227512, 324298, 214676, 52925, 214092, 229847, 232159, 606565, 126982, 236379, 345532, 215893, 219798, 233790, 213561, 216803, 213500, 225987, 212170, 130108, 221597, 50881, 232767, 317685, 324583, 213411, 219925, 213532, 147992, 417111, 219585, 225579, 232096, 367836, 218328, 118930, 221600, 219991, 83860, 362536, 224256, 217376, 232017, 324767, 226047, 604352, 222173, 322142, 212927, 216739, 511704, 416884, 229086, 219340, 208064, 198816, 217397, 226091, 61359, 453352, 223989, 214031, 213574, 232151, 215888, 218483, 320167, 214082, 221602, 232122, 1005686, 227054, 54135, 202789, 227084, 355701, 223551, 237166, 791095, 362845, 198808, 216608, 126992, 228845, 511710, 554773, 367092, 122356, 143649, 226335, 366333, 217643, 214133, 362671, 232087, 216265, 217904, 176112, 214137, 1117376, 63123, 227941, 219831, 452689, 416977, 219327, 214954, 51781, 922200, 361325, 215887, 479293, 127399, 213496, 229528, 143104, 867782, 227053, 492199, 814277, 370960, 128787, 332221, 198802, 205304, 178144, 219847, 553057, 213568, 224990, 341440, 416937, 228423, 511562, 230369, 829623, 219335, 226934, 606561, 311245, 518299, 212876, 1054582, 230019, 223550, 229087, 143280, 226913, 471816, 218163, 226290, 216149, 173917, 416989, 229180, 225207, 876930, 219992, 223992, 126530, 416866, 1145772, 232337, 63747, 221479, 217902, 324291, 330744, 222158, 226338, 818745, 508175, 233741, 222177, 212443, 58519, 221439, 219939, 238637, 233802, 213625, 705347, 212579, 453046, 417009, 221214, 221973, 227953, 218376, 416978, 219286, 196525, 212438, 780659, 212373, 229846, 321799, 1109554, 198801, 221445, 872740, 224153, 217318, 231755, 578759, 560490, 50272, 231797, 453375, 357388, 343382, 1121618, 416980, 334971, 224264, 1058592, 229526, 511630, 453412, 218383, 230623, 215898, 215903, 215885, 232123, 213567, 213575, 58527, 212747, 452639, 232155, 453017, 217901, 896100, 453104, 220737, 453008, 215499, 452517, 224261, 908118, 174226, 886162, 212739, 450971, 216384, 58510, 213720, 217671, 229685, 216299, 50275, 146624, 225557, 224987, 50931, 933227, 233968, 219469, 47981, 223545, 218837, 228850, 453149, 453528, 226301, 371064, 320279, 220379, 222703, 143730, 233783, 235634, 233737, 232080, 224426, 233949, 453465, 173866, 221971, 475614, 452601, 219928, 219322, 227341, 213629, 453379, 453138, 213850, 417078, 417151, 322391, 527073, 219294, 606570, 606563, 223559, 121029, 58505, 213577, 212929, 312361, 216287, 477285, 453075, 143272, 342688, 143999, 212380, 219628, 220506, 418695, 215948, 319051, 490524, 225609, 215290, 237488, 511557, 56529, 1094731, 118558, 205215, 226948, 453554, 215294, 216737, 219789, 320099, 217687, 238000, 321778, 202586, 177210, 232055, 211257, 123834, 212441, 219434, 58511, 470556, 127018, 218843, 153450, 341388, 224924, 453021, 232082, 60774, 212499, 417028, 490118, 218444, 218384, 233837, 232919, 233932, 212442, 217187, 222288, 220027, 321468, 465557, 227477, 232121, 212877, 219788, 143117, 226650, 212331, 228260, 233851, 361091, 218152, 214841, 213569, 937295, 212879, 225224, 198807, 214211, 229530, 454839, 219714, 335072, 325757, 222172, 218176, 218793, 222429, 509745, 342593, 216736, 224989, 452679, 227307, 173096, 217611, 219298, 453310, 324650, 234625, 502636, 219797, 214193, 212872, 68244, 317913, 81693, 220661, 218145, 216305, 224555, 217374, 358471, 231266, 417038, 355976, 511602, 501079, 416983, 220034, 453544]\n"
     ]
    }
   ],
   "source": [
    "iNat_name      = 'Quebec-Lepidop-Species_iNat.csv'\n",
    "iNat_file      = DATA_DIR + iNat_name\n",
    "\n",
    "iNat_data      = pd.read_csv(iNat_file)\n",
    "# print(iNat_data)\n",
    "\n",
    "iNat_species   = list(iNat_data['iNat_TaxonID'])\n",
    "# iNat_species   = list(iNat_data['Scientific_Name'])\n",
    "\n",
    "print(iNat_species)\n",
    "\n",
    "data = get_observations(\n",
    "    # taxon_name=iNat_species[:2],\n",
    "    taxon_id=iNat_species[0],\n",
    "    photos=True,\n",
    "    geo=True,\n",
    "    geoprivacy='open',\n",
    "    quality_grade='research')\n"
   ]
  },
  {
   "cell_type": "code",
   "execution_count": null,
   "metadata": {
    "colab": {
     "base_uri": "https://localhost:8080/",
     "height": 1000
    },
    "id": "cOE7S02Mazu3",
    "outputId": "9cb8ce06-2b5b-493f-b601-cd6fbe7fb391"
   },
   "outputs": [
    {
     "name": "stdout",
     "output_type": "stream",
     "text": [
      "48662\n",
      "25\n",
      "58583\n",
      "25\n",
      "55641\n"
     ]
    },
    {
     "name": "stderr",
     "output_type": "stream",
     "text": [
      "Could not parse timestamp: Sun Jul 14 2019 14:59:23 GMT+0100 (GMT+1): Unknown string format: Sun Jul 14 2019 14:59:23 GMT+0100 (GMT+1)\n",
      "Could not parse timestamp: Sat Aug 15 2020 10:50:23 GMT+0200 (GMT+2): Unknown string format: Sat Aug 15 2020 10:50:23 GMT+0200 (GMT+2)\n"
     ]
    },
    {
     "name": "stdout",
     "output_type": "stream",
     "text": [
      "25\n",
      "47802\n"
     ]
    },
    {
     "name": "stderr",
     "output_type": "stream",
     "text": [
      "Could not parse timestamp: Sun Aug 08 2010 18:43:14 GMT+0400 (GMT+4): Unknown string format: Sun Aug 08 2010 18:43:14 GMT+0400 (GMT+4)\n"
     ]
    },
    {
     "name": "stdout",
     "output_type": "stream",
     "text": [
      "25\n",
      "57463\n"
     ]
    },
    {
     "name": "stderr",
     "output_type": "stream",
     "text": [
      "Could not parse timestamp: 2010/05/26 EST: Unknown string format: 2010/05/26 EST\n"
     ]
    },
    {
     "name": "stdout",
     "output_type": "stream",
     "text": [
      "21\n",
      "59675\n",
      "25\n",
      "58523\n"
     ]
    },
    {
     "name": "stderr",
     "output_type": "stream",
     "text": [
      "Could not parse timestamp: Sat Mar 27 2021 13:21:56 GMT -0400 (EDT): Unknown string format: Sat Mar 27 2021 13:21:56 GMT -0400 (EDT)\n"
     ]
    },
    {
     "name": "stdout",
     "output_type": "stream",
     "text": [
      "25\n",
      "81663\n"
     ]
    },
    {
     "name": "stderr",
     "output_type": "stream",
     "text": [
      "Could not parse timestamp: Mon Mar 29 2021 13:28:39 GMT -0400 (EDT): Unknown string format: Mon Mar 29 2021 13:28:39 GMT -0400 (EDT)\n",
      "Could not parse timestamp: Sun Mar 28 2021 15:42:24 GMT -0500 (CDT): Unknown string format: Sun Mar 28 2021 15:42:24 GMT -0500 (CDT)\n"
     ]
    },
    {
     "name": "stdout",
     "output_type": "stream",
     "text": [
      "25\n",
      "47919\n",
      "25\n",
      "67691\n",
      "25\n",
      "145659\n",
      "25\n",
      "56832\n"
     ]
    },
    {
     "name": "stderr",
     "output_type": "stream",
     "text": [
      "Could not parse timestamp: Tue Mar 23 2021 13:00:23 GMT -0400 (EDT): Unknown string format: Tue Mar 23 2021 13:00:23 GMT -0400 (EDT)\n"
     ]
    },
    {
     "name": "stdout",
     "output_type": "stream",
     "text": [
      "25\n",
      "1063932\n",
      "6\n",
      "55626\n"
     ]
    },
    {
     "name": "stderr",
     "output_type": "stream",
     "text": [
      "Could not parse timestamp: Mon Mar 29 2021 14:02:34 GMT+0800 (GMT+8): Unknown string format: Mon Mar 29 2021 14:02:34 GMT+0800 (GMT+8)\n",
      "Could not parse timestamp: Sun Mar 28 2021 10:09:16 GMT+1300 (GMT+13): Unknown string format: Sun Mar 28 2021 10:09:16 GMT+1300 (GMT+13)\n",
      "Could not parse timestamp: Mon Mar 29 2021 14:53:46 GMT+1100 (GMT+11): Unknown string format: Mon Mar 29 2021 14:53:46 GMT+1100 (GMT+11)\n"
     ]
    },
    {
     "name": "stdout",
     "output_type": "stream",
     "text": [
      "25\n",
      "143274\n"
     ]
    },
    {
     "name": "stderr",
     "output_type": "stream",
     "text": [
      "Could not parse timestamp: 2019/07/12 1:30: AM EDT: Unknown string format: 2019/07/12 1:30: AM EDT\n"
     ]
    },
    {
     "name": "stdout",
     "output_type": "stream",
     "text": [
      "10\n",
      "48548\n"
     ]
    },
    {
     "name": "stderr",
     "output_type": "stream",
     "text": [
      "Could not parse timestamp: Thu Aug 22 2019 14:12:47 GMT -0500 (CDT): Unknown string format: Thu Aug 22 2019 14:12:47 GMT -0500 (CDT)\n"
     ]
    },
    {
     "name": "stdout",
     "output_type": "stream",
     "text": [
      "25\n",
      "120217\n",
      "25\n",
      "81677\n",
      "25\n",
      "143728\n",
      "15\n",
      "127460\n",
      "25\n",
      "119013\n",
      "25\n",
      "154446\n",
      "14\n",
      "49133\n"
     ]
    },
    {
     "name": "stderr",
     "output_type": "stream",
     "text": [
      "Could not parse timestamp: Sun Mar 15 2020 11:36:49 GMT+0100 (GMT+1): Unknown string format: Sun Mar 15 2020 11:36:49 GMT+0100 (GMT+1)\n",
      "Could not parse timestamp: Tue Mar 23 2021 09:43:08 GMT+0100 (GMT+1): Unknown string format: Tue Mar 23 2021 09:43:08 GMT+0100 (GMT+1)\n",
      "Could not parse timestamp: Mon Mar 29 2021 12:16:43 GMT+0100 (GMT+1): Unknown string format: Mon Mar 29 2021 12:16:43 GMT+0100 (GMT+1)\n",
      "Could not parse timestamp: Mon Mar 29 2021 15:26:55 GMT +0200 (GMT+2): Unknown string format: Mon Mar 29 2021 15:26:55 GMT +0200 (GMT+2)\n"
     ]
    },
    {
     "name": "stdout",
     "output_type": "stream",
     "text": [
      "25\n",
      "81681\n",
      "25\n",
      "219746\n",
      "3\n",
      "130017\n",
      "7\n",
      "211009\n",
      "3\n",
      "120214\n",
      "6\n",
      "121183\n",
      "25\n",
      "60839\n",
      "25\n",
      "229817\n",
      "9\n",
      "205300\n",
      "3\n",
      "143518\n",
      "24\n",
      "142993\n",
      "7\n",
      "47916\n",
      "25\n",
      "58576\n",
      "21\n",
      "49716\n",
      "19\n",
      "208521\n",
      "2\n",
      "337467\n",
      "3\n",
      "81665\n",
      "25\n",
      "81687\n"
     ]
    },
    {
     "name": "stderr",
     "output_type": "stream",
     "text": [
      "Could not parse timestamp: Fri Mar 26 2021 16:32:05 GMT+0100 (GMT+1): Unknown string format: Fri Mar 26 2021 16:32:05 GMT+0100 (GMT+1)\n",
      "Could not parse timestamp: Fri Mar 26 2021 14:02:57 GMT+0100 (GMT+1): Unknown string format: Fri Mar 26 2021 14:02:57 GMT+0100 (GMT+1)\n",
      "Could not parse timestamp: Wed Mar 24 2021 20:54:24 GMT+0100 (GMT+1): Unknown string format: Wed Mar 24 2021 20:54:24 GMT+0100 (GMT+1)\n"
     ]
    },
    {
     "name": "stdout",
     "output_type": "stream",
     "text": [
      "25\n",
      "81656\n"
     ]
    },
    {
     "name": "stderr",
     "output_type": "stream",
     "text": [
      "Could not parse timestamp: 2019/07/12 1:30: AM EDT: Unknown string format: 2019/07/12 1:30: AM EDT\n"
     ]
    },
    {
     "name": "stdout",
     "output_type": "stream",
     "text": [
      "13\n",
      "205231\n"
     ]
    },
    {
     "name": "stderr",
     "output_type": "stream",
     "text": [
      "Could not parse timestamp: Mon Aug 17 2020 00:56:06 GMT+0100 (GMT+1): Unknown string format: Mon Aug 17 2020 00:56:06 GMT+0100 (GMT+1)\n"
     ]
    },
    {
     "name": "stdout",
     "output_type": "stream",
     "text": [
      "13\n",
      "58531\n",
      "25\n",
      "127457\n",
      "21\n",
      "736797\n",
      "18\n",
      "223997\n",
      "1\n",
      "143445\n",
      "10\n",
      "198813\n"
     ]
    },
    {
     "name": "stderr",
     "output_type": "stream",
     "text": [
      "Could not parse timestamp: Sat Mar 20 2021 13:48:59 GMT -0400 (EDT): Unknown string format: Sat Mar 20 2021 13:48:59 GMT -0400 (EDT)\n"
     ]
    },
    {
     "name": "stdout",
     "output_type": "stream",
     "text": [
      "12\n",
      "84428\n",
      "12\n",
      "201281\n"
     ]
    },
    {
     "name": "stderr",
     "output_type": "stream",
     "text": [
      "Could not parse timestamp: 2019/07/12 1:30: AM EDT: Unknown string format: 2019/07/12 1:30: AM EDT\n"
     ]
    },
    {
     "name": "stdout",
     "output_type": "stream",
     "text": [
      "10\n",
      "47980\n",
      "25\n",
      "153076\n",
      "9\n",
      "233010\n",
      "4\n",
      "154582\n",
      "10\n",
      "128242\n",
      "14\n",
      "58586\n",
      "25\n",
      "119492\n",
      "5\n",
      "1081323\n",
      "18\n",
      "224075\n",
      "3\n",
      "198812\n",
      "25\n",
      "82379\n",
      "25\n",
      "143118\n",
      "13\n",
      "205197\n",
      "15\n",
      "143867\n"
     ]
    },
    {
     "name": "stderr",
     "output_type": "stream",
     "text": [
      "Could not parse timestamp: 2019/07/12 1:30: AM EDT: Unknown string format: 2019/07/12 1:30: AM EDT\n"
     ]
    },
    {
     "name": "stdout",
     "output_type": "stream",
     "text": [
      "8\n",
      "219124\n",
      "1\n",
      "212435\n"
     ]
    },
    {
     "ename": "HTTPError",
     "evalue": "ignored",
     "output_type": "error",
     "traceback": [
      "\u001b[0;31m---------------------------------------------------------------------------\u001b[0m",
      "\u001b[0;31mHTTPError\u001b[0m                                 Traceback (most recent call last)",
      "\u001b[0;32m<ipython-input-19-4c66fc0d7b72>\u001b[0m in \u001b[0;36m<module>\u001b[0;34m()\u001b[0m\n\u001b[1;32m     11\u001b[0m     \u001b[0mgeo\u001b[0m\u001b[0;34m=\u001b[0m\u001b[0;32mTrue\u001b[0m\u001b[0;34m,\u001b[0m\u001b[0;34m\u001b[0m\u001b[0;34m\u001b[0m\u001b[0m\n\u001b[1;32m     12\u001b[0m     \u001b[0mgeoprivacy\u001b[0m\u001b[0;34m=\u001b[0m\u001b[0;34m'open'\u001b[0m\u001b[0;34m,\u001b[0m\u001b[0;34m\u001b[0m\u001b[0;34m\u001b[0m\u001b[0m\n\u001b[0;32m---> 13\u001b[0;31m     quality_grade='research',)\n\u001b[0m\u001b[1;32m     14\u001b[0m \u001b[0;34m\u001b[0m\u001b[0m\n\u001b[1;32m     15\u001b[0m   \u001b[0mtotal_count\u001b[0m \u001b[0;34m=\u001b[0m \u001b[0mdata\u001b[0m\u001b[0;34m[\u001b[0m\u001b[0;34m'total_results'\u001b[0m\u001b[0;34m]\u001b[0m\u001b[0;34m\u001b[0m\u001b[0;34m\u001b[0m\u001b[0m\n",
      "\u001b[0;32m/usr/local/lib/python3.7/dist-packages/forge/_revision.py\u001b[0m in \u001b[0;36minner\u001b[0;34m(*args, **kwargs)\u001b[0m\n\u001b[1;32m    326\u001b[0m                 \u001b[0;31m# pylint: disable=E1102, not-callable\u001b[0m\u001b[0;34m\u001b[0m\u001b[0;34m\u001b[0m\u001b[0;34m\u001b[0m\u001b[0m\n\u001b[1;32m    327\u001b[0m                 \u001b[0mmapped\u001b[0m \u001b[0;34m=\u001b[0m \u001b[0minner\u001b[0m\u001b[0;34m.\u001b[0m\u001b[0m__mapper__\u001b[0m\u001b[0;34m(\u001b[0m\u001b[0;34m*\u001b[0m\u001b[0margs\u001b[0m\u001b[0;34m,\u001b[0m \u001b[0;34m**\u001b[0m\u001b[0mkwargs\u001b[0m\u001b[0;34m)\u001b[0m\u001b[0;34m\u001b[0m\u001b[0;34m\u001b[0m\u001b[0m\n\u001b[0;32m--> 328\u001b[0;31m                 \u001b[0;32mreturn\u001b[0m \u001b[0mcallable\u001b[0m\u001b[0;34m(\u001b[0m\u001b[0;34m*\u001b[0m\u001b[0mmapped\u001b[0m\u001b[0;34m.\u001b[0m\u001b[0margs\u001b[0m\u001b[0;34m,\u001b[0m \u001b[0;34m**\u001b[0m\u001b[0mmapped\u001b[0m\u001b[0;34m.\u001b[0m\u001b[0mkwargs\u001b[0m\u001b[0;34m)\u001b[0m\u001b[0;34m\u001b[0m\u001b[0;34m\u001b[0m\u001b[0m\n\u001b[0m\u001b[1;32m    329\u001b[0m \u001b[0;34m\u001b[0m\u001b[0m\n\u001b[1;32m    330\u001b[0m         \u001b[0mnext_\u001b[0m\u001b[0;34m.\u001b[0m\u001b[0mvalidate\u001b[0m\u001b[0;34m(\u001b[0m\u001b[0;34m)\u001b[0m\u001b[0;34m\u001b[0m\u001b[0;34m\u001b[0m\u001b[0m\n",
      "\u001b[0;32m/usr/local/lib/python3.7/dist-packages/pyinaturalist/node_api.py\u001b[0m in \u001b[0;36mget_observations\u001b[0;34m(user_agent, **params)\u001b[0m\n\u001b[1;32m    267\u001b[0m     \u001b[0mvalidate_multiple_choice_param\u001b[0m\u001b[0;34m(\u001b[0m\u001b[0mparams\u001b[0m\u001b[0;34m,\u001b[0m \u001b[0;34m'order_by'\u001b[0m\u001b[0;34m,\u001b[0m \u001b[0mNODE_OBS_ORDER_BY_PROPERTIES\u001b[0m\u001b[0;34m)\u001b[0m\u001b[0;34m\u001b[0m\u001b[0;34m\u001b[0m\u001b[0m\n\u001b[1;32m    268\u001b[0m     \u001b[0mr\u001b[0m \u001b[0;34m=\u001b[0m \u001b[0mnode_api_get\u001b[0m\u001b[0;34m(\u001b[0m\u001b[0;34m'observations'\u001b[0m\u001b[0;34m,\u001b[0m \u001b[0mparams\u001b[0m\u001b[0;34m=\u001b[0m\u001b[0mparams\u001b[0m\u001b[0;34m,\u001b[0m \u001b[0muser_agent\u001b[0m\u001b[0;34m=\u001b[0m\u001b[0muser_agent\u001b[0m\u001b[0;34m)\u001b[0m\u001b[0;34m\u001b[0m\u001b[0;34m\u001b[0m\u001b[0m\n\u001b[0;32m--> 269\u001b[0;31m     \u001b[0mr\u001b[0m\u001b[0;34m.\u001b[0m\u001b[0mraise_for_status\u001b[0m\u001b[0;34m(\u001b[0m\u001b[0;34m)\u001b[0m\u001b[0;34m\u001b[0m\u001b[0;34m\u001b[0m\u001b[0m\n\u001b[0m\u001b[1;32m    270\u001b[0m \u001b[0;34m\u001b[0m\u001b[0m\n\u001b[1;32m    271\u001b[0m     \u001b[0mobservations\u001b[0m \u001b[0;34m=\u001b[0m \u001b[0mr\u001b[0m\u001b[0;34m.\u001b[0m\u001b[0mjson\u001b[0m\u001b[0;34m(\u001b[0m\u001b[0;34m)\u001b[0m\u001b[0;34m\u001b[0m\u001b[0;34m\u001b[0m\u001b[0m\n",
      "\u001b[0;32m/usr/local/lib/python3.7/dist-packages/requests/models.py\u001b[0m in \u001b[0;36mraise_for_status\u001b[0;34m(self)\u001b[0m\n\u001b[1;32m    941\u001b[0m \u001b[0;34m\u001b[0m\u001b[0m\n\u001b[1;32m    942\u001b[0m         \u001b[0;32mif\u001b[0m \u001b[0mhttp_error_msg\u001b[0m\u001b[0;34m:\u001b[0m\u001b[0;34m\u001b[0m\u001b[0;34m\u001b[0m\u001b[0m\n\u001b[0;32m--> 943\u001b[0;31m             \u001b[0;32mraise\u001b[0m \u001b[0mHTTPError\u001b[0m\u001b[0;34m(\u001b[0m\u001b[0mhttp_error_msg\u001b[0m\u001b[0;34m,\u001b[0m \u001b[0mresponse\u001b[0m\u001b[0;34m=\u001b[0m\u001b[0mself\u001b[0m\u001b[0;34m)\u001b[0m\u001b[0;34m\u001b[0m\u001b[0;34m\u001b[0m\u001b[0m\n\u001b[0m\u001b[1;32m    944\u001b[0m \u001b[0;34m\u001b[0m\u001b[0m\n\u001b[1;32m    945\u001b[0m     \u001b[0;32mdef\u001b[0m \u001b[0mclose\u001b[0m\u001b[0;34m(\u001b[0m\u001b[0mself\u001b[0m\u001b[0;34m)\u001b[0m\u001b[0;34m:\u001b[0m\u001b[0;34m\u001b[0m\u001b[0;34m\u001b[0m\u001b[0m\n",
      "\u001b[0;31mHTTPError\u001b[0m: 429 Client Error: Too Many Requests for url: https://api.inaturalist.org/v1/observations?quality_grade=research&taxon_id=212435&geo=true&photos=true&geoprivacy=open&only_id=false"
     ]
    }
   ],
   "source": [
    "PER_PAGE  = 200\n",
    "MAX_PAGES = 25   # allows for max 5000 observations to be fetched\n",
    "import math\n",
    "\n",
    "for id in iNat_species:\n",
    "  \n",
    "  print(id)\n",
    "  data = get_observations(\n",
    "    taxon_id=id,\n",
    "    photos=True,\n",
    "    geo=True,\n",
    "    geoprivacy='open',\n",
    "    quality_grade='research',)\n",
    "  \n",
    "  total_count = data['total_results']\n",
    "  no_pages    = total_count/PER_PAGE\n",
    "  no_pages    = math.floor(min(no_pages, MAX_PAGES))\n",
    "\n",
    "  print(no_pages)"
   ]
  },
  {
   "cell_type": "code",
   "execution_count": null,
   "metadata": {
    "colab": {
     "base_uri": "https://localhost:8080/"
    },
    "id": "xiPP94iLcFbH",
    "outputId": "e4f9ddc2-3dbb-4d62-c09f-f019b3bcff8a"
   },
   "outputs": [
    {
     "name": "stdout",
     "output_type": "stream",
     "text": [
      "dict_keys(['total_results', 'page', 'per_page', 'results'])\n",
      "1\n"
     ]
    }
   ],
   "source": [
    "print(data.keys())\n",
    "print(data['page'])"
   ]
  },
  {
   "cell_type": "markdown",
   "metadata": {
    "id": "Dp_GamcBE-XV"
   },
   "source": [
    "Getting iNat taxon ids for species in quebec list"
   ]
  },
  {
   "cell_type": "code",
   "execution_count": null,
   "metadata": {
    "colab": {
     "base_uri": "https://localhost:8080/"
    },
    "id": "3n04fvEwAy3b",
    "outputId": "1da01325-5d90-45e3-a1d3-f034205aa11c"
   },
   "outputs": [
    {
     "name": "stdout",
     "output_type": "stream",
     "text": [
      "0            Epimartyria auricrinella\n",
      "1       Dyseriocrania griseocapitella\n",
      "2           Eriocrania semipurpurella\n",
      "3              Gazoryctra hyperboreus\n",
      "4               Gazoryctra novigannus\n",
      "                    ...              \n",
      "2876                Abagrotis placida\n",
      "2877              Abagrotis alternata\n",
      "2878          Abagrotis brunneipennis\n",
      "2879                 Abagrotis cupida\n",
      "2880         Abagrotis anchocelioides\n",
      "Length: 2881, dtype: object\n"
     ]
    }
   ],
   "source": [
    "quebec_name    = 'quebec_moth_v2.csv'\n",
    "quebec_file    = DATA_DIR + quebec_name\n",
    "quebec_data    = pd.read_csv(quebec_file)\n",
    "\n",
    "quebec_species = quebec_data['val genus'] + ' ' + quebec_data['name']\n",
    "print(quebec_species)"
   ]
  },
  {
   "cell_type": "code",
   "execution_count": null,
   "metadata": {
    "id": "YznavGo3Cj8b"
   },
   "outputs": [],
   "source": [
    "def get_iNat_id(species_list):\n",
    "  '''\n",
    "  given a list of species name, this function returns the unique iNat taxon ID\n",
    "  '''\n",
    "  id_list = []\n",
    "\n",
    "  for item in species_list.index:\n",
    "    species_name = species_list[item]\n",
    "    data         = get_taxa(q=species_name, rank='species', per_page=200)\n",
    "\n",
    "    if data['total_results']==0:\n",
    "      id_list.append('None')\n",
    "    else:\n",
    "      id_list.append(data['results'][0]['id'])\n",
    "      \n",
    "  return id_list"
   ]
  },
  {
   "cell_type": "code",
   "execution_count": null,
   "metadata": {
    "id": "eS6InL38PBdW"
   },
   "outputs": [],
   "source": [
    "print(get_iNat_id(quebec_species))"
   ]
  },
  {
   "cell_type": "markdown",
   "metadata": {
    "id": "KIPOd5R_G-HB"
   },
   "source": [
    "### Miscellaneous - Not to Run"
   ]
  },
  {
   "cell_type": "code",
   "execution_count": null,
   "metadata": {
    "colab": {
     "base_uri": "https://localhost:8080/"
    },
    "id": "vTwKj3-VNSL6",
    "outputId": "42999904-43c0-4298-e8a7-32f0ce5d69be"
   },
   "outputs": [
    {
     "name": "stdout",
     "output_type": "stream",
     "text": [
      "1824\n"
     ]
    }
   ],
   "source": [
    "print(len(hist))"
   ]
  },
  {
   "cell_type": "code",
   "execution_count": null,
   "metadata": {
    "colab": {
     "base_uri": "https://localhost:8080/"
    },
    "id": "qFAG9msZvxB6",
    "outputId": "b435493c-5804-4003-df7e-386316e9c356"
   },
   "outputs": [
    {
     "name": "stdout",
     "output_type": "stream",
     "text": [
      "Great Lakes Basin 57637\n",
      "New England-Acadian forests 128777\n",
      "Northeast & Mid-Atlantic States 96557\n",
      "Labrador 132047\n",
      "Northeastern United States 64492\n",
      "Gulf of St. Lawrence 134488\n",
      "Maritimes Provinces of Canada 82171\n",
      "Maritimes Provinces of Canada 82180\n",
      "New England 52339\n",
      "Experimenting with polygons 154600\n",
      "North America 97394\n",
      "United States 1\n",
      "Canada 6712\n",
      "Québec 13336\n",
      "Newfoundland and Labrador 7289\n",
      "New Brunswick 7587\n",
      "Maine 17\n",
      "Nord-du-Québec 49209\n",
      "Division No. 10 49165\n",
      "Sept-Rivières--Caniapiscau 49211\n"
     ]
    }
   ],
   "source": [
    "id_list = []\n",
    "for p in response['results']['community']:\n",
    "  id_list.append(p['id'])\n",
    "  print(p['name'], p['id'])\n",
    "\n",
    "for p in response['results']['standard']:\n",
    "  id_list.append(p['id'])\n",
    "  print(p['name'], p['id'])"
   ]
  },
  {
   "cell_type": "code",
   "execution_count": null,
   "metadata": {
    "id": "b5QecQG6IGPe"
   },
   "outputs": [],
   "source": [
    "QUEBEC_BOX = (62.350899, -64.170174, 45.083101, -78.449810)       # lat/long coordinates for bounding box for quebec\n",
    "response   = get_places_nearby(*QUEBEC_BOX)\n",
    "print(response)"
   ]
  },
  {
   "cell_type": "code",
   "execution_count": null,
   "metadata": {
    "colab": {
     "base_uri": "https://localhost:8080/"
    },
    "id": "yhgxFC8THAxm",
    "outputId": "6be4e5e7-18b5-49b0-83e4-848188119205"
   },
   "outputs": [
    {
     "name": "stdout",
     "output_type": "stream",
     "text": [
      "{'A': [0, 'Aditya'], 'B': [1, 'Suman']}\n"
     ]
    }
   ],
   "source": [
    "a = {\n",
    "    'A': [0, 'Aditya'],\n",
    "    'B': [1, 'Suman']\n",
    "}\n",
    "\n",
    "print(a)"
   ]
  },
  {
   "cell_type": "code",
   "execution_count": null,
   "metadata": {
    "colab": {
     "base_uri": "https://localhost:8080/"
    },
    "id": "_Bm4ZPMLjg1c",
    "outputId": "5f8b5af4-e8a2-4e8b-c628-a8e83304d06b"
   },
   "outputs": [
    {
     "name": "stdout",
     "output_type": "stream",
     "text": [
      "{'A': [0, 'Aditya'], 'B': [2, 'Suman']}\n"
     ]
    }
   ],
   "source": [
    "a['B'][0] += 1\n",
    "print(a)\n"
   ]
  },
  {
   "cell_type": "code",
   "execution_count": null,
   "metadata": {
    "id": "Jy7zc4cFjiwz"
   },
   "outputs": [],
   "source": []
  }
 ],
 "metadata": {
  "colab": {
   "collapsed_sections": [],
   "name": "iNaturalist_Data.ipynb",
   "provenance": [],
   "toc_visible": true
  },
  "kernelspec": {
   "display_name": "Python 3",
   "language": "python",
   "name": "python3"
  },
  "language_info": {
   "codemirror_mode": {
    "name": "ipython",
    "version": 3
   },
   "file_extension": ".py",
   "mimetype": "text/x-python",
   "name": "python",
   "nbconvert_exporter": "python",
   "pygments_lexer": "ipython3",
   "version": "3.7.4"
  }
 },
 "nbformat": 4,
 "nbformat_minor": 4
}
