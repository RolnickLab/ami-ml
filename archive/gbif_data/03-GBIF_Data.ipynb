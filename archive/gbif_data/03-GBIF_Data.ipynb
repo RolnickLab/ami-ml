{
 "cells": [
  {
   "cell_type": "code",
   "execution_count": null,
   "metadata": {
    "colab": {
     "base_uri": "https://localhost:8080/"
    },
    "id": "QVkdDsri4CI3",
    "outputId": "ad65dd6a-a77d-441b-f72a-143b9d249a4a"
   },
   "outputs": [
    {
     "name": "stdout",
     "output_type": "stream",
     "text": [
      "Requirement already satisfied: pygbif in /usr/local/lib/python3.7/dist-packages (0.5.0)\n",
      "Requirement already satisfied: geojson-rewind in /usr/local/lib/python3.7/dist-packages (from pygbif) (1.0.1)\n",
      "Requirement already satisfied: geomet in /usr/local/lib/python3.7/dist-packages (from pygbif) (0.3.0)\n",
      "Requirement already satisfied: requests>2.7 in /usr/local/lib/python3.7/dist-packages (from pygbif) (2.23.0)\n",
      "Requirement already satisfied: matplotlib in /usr/local/lib/python3.7/dist-packages (from pygbif) (3.2.2)\n",
      "Requirement already satisfied: appdirs>=1.4.3 in /usr/local/lib/python3.7/dist-packages (from pygbif) (1.4.4)\n",
      "Requirement already satisfied: requests-cache in /usr/local/lib/python3.7/dist-packages (from pygbif) (0.6.4)\n",
      "Requirement already satisfied: six in /usr/local/lib/python3.7/dist-packages (from geomet->pygbif) (1.15.0)\n",
      "Requirement already satisfied: click in /usr/local/lib/python3.7/dist-packages (from geomet->pygbif) (7.1.2)\n",
      "Requirement already satisfied: urllib3!=1.25.0,!=1.25.1,<1.26,>=1.21.1 in /usr/local/lib/python3.7/dist-packages (from requests>2.7->pygbif) (1.24.3)\n",
      "Requirement already satisfied: certifi>=2017.4.17 in /usr/local/lib/python3.7/dist-packages (from requests>2.7->pygbif) (2021.5.30)\n",
      "Requirement already satisfied: idna<3,>=2.5 in /usr/local/lib/python3.7/dist-packages (from requests>2.7->pygbif) (2.10)\n",
      "Requirement already satisfied: chardet<4,>=3.0.2 in /usr/local/lib/python3.7/dist-packages (from requests>2.7->pygbif) (3.0.4)\n",
      "Requirement already satisfied: numpy>=1.11 in /usr/local/lib/python3.7/dist-packages (from matplotlib->pygbif) (1.19.5)\n",
      "Requirement already satisfied: python-dateutil>=2.1 in /usr/local/lib/python3.7/dist-packages (from matplotlib->pygbif) (2.8.1)\n",
      "Requirement already satisfied: pyparsing!=2.0.4,!=2.1.2,!=2.1.6,>=2.0.1 in /usr/local/lib/python3.7/dist-packages (from matplotlib->pygbif) (2.4.7)\n",
      "Requirement already satisfied: cycler>=0.10 in /usr/local/lib/python3.7/dist-packages (from matplotlib->pygbif) (0.10.0)\n",
      "Requirement already satisfied: kiwisolver>=1.0.1 in /usr/local/lib/python3.7/dist-packages (from matplotlib->pygbif) (1.3.1)\n",
      "Requirement already satisfied: itsdangerous in /usr/local/lib/python3.7/dist-packages (from requests-cache->pygbif) (1.1.0)\n",
      "Requirement already satisfied: url-normalize>=1.4 in /usr/local/lib/python3.7/dist-packages (from requests-cache->pygbif) (1.4.3)\n"
     ]
    }
   ],
   "source": [
    "'''\n",
    "Author.      : Aditya Jain\n",
    "Date Started : 25th March, 2021\n",
    "About        : This script scraps data from GBIF for a given list of moth species\n",
    "'''\n",
    "\n",
    "!pip install pygbif"
   ]
  },
  {
   "cell_type": "code",
   "execution_count": null,
   "metadata": {
    "id": "8QzeW9qmH2s7"
   },
   "outputs": [],
   "source": [
    "from pygbif import occurrences as occ\n",
    "from pygbif import species as species_api\n",
    "import pandas as pd\n",
    "import os\n",
    "import tqdm\n",
    "import urllib\n",
    "import json\n",
    "import time\n",
    "import math\n",
    "import plotly.express as px\n",
    "\n",
    "DATA_DIR       = \"/content/drive/My Drive/Data/\"\n",
    "WRITE_DIR      = DATA_DIR + \"iNat_adult/\"\n",
    "INat_KEY       = \"50c9509d-22c7-4a22-a47d-8c48425ef4a7\"   # iNat key to fetch data from GBIF\n",
    "LIMIT_DOWN     = 300                                      # GBIF API parameter for max results per page\n",
    "MAX_DATA_SP    = 1200                                     # max. no of images to download for a species\n",
    "\n",
    "moth_species   = 'listX_GlobalMothList_14April2021.csv'\n",
    "file           = DATA_DIR + moth_species\n",
    "moth_data      = pd.read_csv(file)"
   ]
  },
  {
   "cell_type": "markdown",
   "metadata": {
    "id": "u-ieIntFVsIJ"
   },
   "source": [
    "## Downloading Data from GBIF"
   ]
  },
  {
   "cell_type": "code",
   "execution_count": null,
   "metadata": {
    "id": "XFU8ot53rS2o"
   },
   "outputs": [],
   "source": [
    "def inat_metadata_gbif(data):\n",
    "  '''\n",
    "  this function returns the relevant gbif metadata for an iNat observation\n",
    "  '''\n",
    "  fields    = ['decimalLatitude', 'decimalLongitude',\n",
    "            'order', 'family', 'genus', 'species', 'acceptedScientificName',\n",
    "            'year', 'month', 'day',\n",
    "            'datasetName', 'taxonID', 'acceptedTaxonKey', 'lifeStage']\n",
    "\n",
    "  meta_data = {}\n",
    "\n",
    "  for field in fields:\n",
    "    if field in data.keys():\n",
    "      meta_data[field] = data[field]\n",
    "    else:\n",
    "      meta_data[field] = ''\n",
    "\n",
    "  return meta_data"
   ]
  },
  {
   "cell_type": "code",
   "execution_count": null,
   "metadata": {
    "colab": {
     "base_uri": "https://localhost:8080/"
    },
    "id": "TzbfbgRrvmbB",
    "outputId": "7fb4f25b-1ca3-4b83-8985-aa64448aae9c"
   },
   "outputs": [
    {
     "name": "stdout",
     "output_type": "stream",
     "text": [
      "Downloading for:  Parornix preciosella\n",
      "Time taken to download data for  Parornix preciosella  is -  1 sec for  0  images\n",
      "Downloading for:  Parornix quadripunctella\n",
      "Time taken to download data for  Parornix quadripunctella  is -  1 sec for  0  images\n",
      "Downloading for:  Parornix vicinella\n",
      "Downloading for:  Micrurapteryx salicifoliella\n",
      "Time taken to download data for  Micrurapteryx salicifoliella  is -  1 sec for  0  images\n",
      "Downloading for:  Micrurapteryx occulta\n",
      "Time taken to download data for  Micrurapteryx occulta  is -  2 sec for  1  images\n",
      "Downloading for:  Parectopa lespedezaefoliella\n",
      "Time taken to download data for  Parectopa lespedezaefoliella  is -  2 sec for  2  images\n",
      "Downloading for:  Parectopa pennsylvaniella\n",
      "Time taken to download data for  Parectopa pennsylvaniella  is -  1 sec for  0  images\n",
      "Downloading for:  Parectopa plantaginisella\n",
      "Time taken to download data for  Parectopa plantaginisella  is -  3 sec for  8  images\n",
      "Downloading for:  Parectopa robiniella\n",
      "Time taken to download data for  Parectopa robiniella  is -  5 sec for  7  images\n",
      "Downloading for:  Neurobathra strigifinitella\n",
      "Time taken to download data for  Neurobathra strigifinitella  is -  7 sec for  18  images\n",
      "Downloading for:  Ocnerostoma piniariella\n",
      "Downloading for:  Ocnerostoma strobivorum\n",
      "Time taken to download data for  Ocnerostoma strobivorum  is -  1 sec for  0  images\n",
      "Downloading for:  Swammerdamia caesiella\n",
      "Time taken to download data for  Swammerdamia caesiella  is -  6 sec for  18  images\n",
      "Downloading for:  Swammerdamia pyrella\n",
      "Time taken to download data for  Swammerdamia pyrella  is -  4 sec for  10  images\n",
      "Downloading for:  Paraswammerdamia conspersella\n",
      "Downloading for:  Paraswammerdamia lapponica\n",
      "Downloading for:  Yponomeuta cagnagella\n",
      "Time taken to download data for  Yponomeuta cagnagella  is -  9 sec for  25  images\n",
      "Downloading for:  Zelleria celastrusella\n",
      "Downloading for:  Zelleria haimbachi\n",
      "Time taken to download data for  Zelleria haimbachi  is -  4 sec for  8  images\n",
      "Downloading for:  Euhyponomeutoides gracilariella\n",
      "Time taken to download data for  Euhyponomeutoides gracilariella  is -  1 sec for  0  images\n",
      "Downloading for:  Ypsolopha canariella\n",
      "Time taken to download data for  Ypsolopha canariella  is -  6 sec for  19  images\n",
      "Downloading for:  Ypsolopha dentella\n"
     ]
    }
   ],
   "source": [
    "taxon_key          = list(moth_data['taxon key'])              # list of taxon keys\n",
    "species_name       = list(moth_data['scientific name'])        # list of species name that is searched\n",
    "gbif_species_name  = list(moth_data['gbif scientific name'])   # list of species name returned by gbif [can be different from above or -1]\n",
    "columns            = ['taxon key', 'species name', 'gbif species name', 'count']\n",
    "#count_list         = pd.DataFrame(columns = columns)         # uncomment if downloading data from scratch       \n",
    "\n",
    "### this snippet is run ONLY is training is resuming from some point ####\n",
    "start              = 300\n",
    "end                = 500\n",
    "taxon_key          = taxon_key[start:end]\n",
    "species_name       = species_name[start:end]\n",
    "gbif_species_name  = gbif_species_name[start:end]\n",
    "count_list         = pd.read_csv(WRITE_DIR + 'iNat_datacount.csv')         # keeps the count of data downloaded for each species: key, name, name, count                            \n",
    "##########################################################################\n",
    "\n",
    "for i in range(len(taxon_key)):\n",
    "  print('Downloading for: ', species_name[i])\n",
    "  begin   = time.time()\n",
    "  if taxon_key[i] == -1:          # taxa not there on GBIF\n",
    "    count_list = count_list.append(pd.DataFrame([[-1, species_name[i], -1, -1]],\n",
    "                                                columns=columns), ignore_index=True)\n",
    "  else:\n",
    "    data        = occ.search(taxonKey = taxon_key[i], datasetKey = INat_KEY, limit=1)\n",
    "    total_count = data['count']   \n",
    "\n",
    "    if total_count==0:            # no data for the species on iNat\n",
    "      count_list = count_list.append(pd.DataFrame([[taxon_key[i], species_name[i], gbif_species_name[i], 0]],\n",
    "                                                columns=columns), ignore_index=True)\n",
    "    \n",
    "    else:\n",
    "      image_count = 0                                   # images downloaded for every species\n",
    "      max_count   = min(total_count, MAX_DATA_SP)\n",
    "      total_pag   = math.ceil(max_count/LIMIT_DOWN)     # total pages to be fetched with max 300 entries each\n",
    "      offset      = 0\n",
    "\n",
    "      family  = data['results'][0]['family']\n",
    "      genus   = data['results'][0]['genus']  \n",
    "      species = data['results'][0]['species']\n",
    "\n",
    "      m_data  = {}                                 # dictionary variable to store metadata\n",
    "      write_loc = WRITE_DIR + family + \"/\" + genus + \"/\" + species \n",
    "\n",
    "      try:    \n",
    "        os.makedirs(write_loc)                     # creating hierarchical structure for image storage \n",
    "      except:\n",
    "        pass\n",
    "\n",
    "      for j in range(total_pag):\n",
    "        data       = occ.search(taxonKey = taxon_key[i], datasetKey = INat_KEY, \n",
    "                               limit=LIMIT_DOWN, offset=offset)\n",
    "        \n",
    "        tot_points = len(data['results'])\n",
    "\n",
    "        for k in range(tot_points):                     \n",
    "          if data['results'][k]['media'] and 'lifeStage' in data['results'][k].keys():\n",
    "            if data['results'][k]['lifeStage']=='Adult':            \n",
    "              gbifid   = data['results'][k]['gbifID'] \n",
    "              image_url   = data['results'][k]['media'][0]['identifier']\n",
    "            \n",
    "              try:\n",
    "                urllib.request.urlretrieve(image_url, write_loc + '/' + gbifid + '.jpg')\n",
    "                image_count += 1              \n",
    "                meta_data      = inat_metadata_gbif(data['results'][k])   # fetching metadata\n",
    "                m_data[gbifid] = meta_data\n",
    "              except:\n",
    "                pass     \n",
    "\n",
    "        offset += LIMIT_DOWN\n",
    "\n",
    "      with open(write_loc + '/' + 'metadata.txt', 'w') as outfile:\n",
    "              json.dump(m_data, outfile)       \n",
    "\n",
    "      count_list = count_list.append(pd.DataFrame([[taxon_key[i], species_name[i], \n",
    "                         gbif_species_name[i], image_count]],\n",
    "                                                columns=columns), ignore_index=True)\n",
    "      \n",
    "      end = time.time()\n",
    "      print('Time taken to download data for ', gbif_species_name[i], ' is - ', \n",
    "            round(end-begin), 'sec for ', image_count, ' images')\n",
    "\n",
    "  count_list.to_csv(WRITE_DIR + 'iNat_datacount.csv', index=False)\n",
    "      \n",
    "print(count_list)\n",
    "\n",
    "    "
   ]
  },
  {
   "cell_type": "code",
   "execution_count": null,
   "metadata": {
    "colab": {
     "base_uri": "https://localhost:8080/"
    },
    "id": "yfmVmtP0KrCe",
    "outputId": "2ab921f7-445a-499c-85a7-4089ec5c1d02"
   },
   "outputs": [
    {
     "name": "stdout",
     "output_type": "stream",
     "text": [
      "      taxon key  ... count\n",
      "0       1939759  ...    12\n",
      "1       1731862  ...    44\n",
      "2       1731826  ...    25\n",
      "3       1731824  ...     0\n",
      "4       1731847  ...     5\n",
      "...         ...  ...   ...\n",
      "3246    1798419  ...    10\n",
      "3247    1765962  ...    54\n",
      "3248    1789504  ...     0\n",
      "3249    5111568  ...   284\n",
      "3250    1738829  ...     2\n",
      "\n",
      "[3251 rows x 4 columns]\n"
     ]
    }
   ],
   "source": [
    "count_list         = pd.read_csv(WRITE_DIR + 'iNat_datacount.csv')         # keeps the count of data downloaded for each species: key, name, name, count                            \n",
    "print(count_list)\n",
    "# count_list         = count_list.iloc[:-8]\n",
    "# count_list.to_csv(WRITE_DIR + 'iNat_datacount.csv', index=False)\n"
   ]
  },
  {
   "cell_type": "markdown",
   "metadata": {
    "id": "_6dkxtY_NNRu"
   },
   "source": [
    "## Adding the iNat numbers to global species list"
   ]
  },
  {
   "cell_type": "code",
   "execution_count": null,
   "metadata": {
    "id": "ixvAl8MENMed"
   },
   "outputs": [],
   "source": [
    "count_list    = pd.read_csv(WRITE_DIR + 'iNat_datacount.csv')         # keeps the count of data downloaded for each species: key, name, name, count                            \n",
    "count         = pd.DataFrame(count_list['count'])\n",
    "count.rename(columns={'count': 'iNaturalist count'}, inplace=True)\n",
    "\n",
    "new_moth_data = pd.concat([moth_data, count], axis=1)\n",
    "new_moth_data.to_csv(DATA_DIR + 'listX_GlobalMothList_14April2021.csv', index=False)             "
   ]
  },
  {
   "cell_type": "markdown",
   "metadata": {
    "id": "shUamv1VHQn8"
   },
   "source": [
    "## Count statistics\n",
    "The below code calculates the count statistics for the fetched iNaturalist data for various taxa ranks"
   ]
  },
  {
   "cell_type": "code",
   "execution_count": null,
   "metadata": {
    "id": "O24TUEFqNF95"
   },
   "outputs": [],
   "source": [
    "def count_stat(moth_data):\n",
    "  '''\n",
    "  this function returns count statistics for various taxa ranks given a moth\n",
    "  data file\n",
    "  '''\n",
    "  species   = {}    # dictionary to store species count\n",
    "  genus     = {}    # dictionary to store genus count\n",
    "  family    = {}    # dictionary to store family count\n",
    "  tot_count = 0     # total number of images in the dataset\n",
    "\n",
    "  for indx in moth_data.index:\n",
    "    count = moth_data['iNaturalist count'][indx]\n",
    "    if count!=0 and count!=-1:\n",
    "\n",
    "      if moth_data['scientific name'][indx] not in species.keys():\n",
    "        species[moth_data['scientific name'][indx]] = count\n",
    "      else:\n",
    "        species[moth_data['scientific name'][indx]] += count\n",
    "\n",
    "      if moth_data['genus'][indx] not in genus.keys():\n",
    "        genus[moth_data['genus'][indx]] = count\n",
    "      else:\n",
    "        genus[moth_data['genus'][indx]] += count\n",
    "\n",
    "      if moth_data['family'][indx] not in family.keys():\n",
    "        family[moth_data['family'][indx]] = count\n",
    "      else:\n",
    "        family[moth_data['family'][indx]] += count\n",
    "\n",
    "      tot_count += count\n",
    "\n",
    "  print('The total number of images in the set is: ', tot_count)\n",
    "  print('Total family, genus and species respectively: ', len(family), len(genus), len(species))\n",
    "\n",
    "  return species, genus, family, tot_count"
   ]
  },
  {
   "cell_type": "code",
   "execution_count": null,
   "metadata": {
    "colab": {
     "base_uri": "https://localhost:8080/"
    },
    "id": "2QVQG1o1Mt89",
    "outputId": "a2f73e20-9c19-4b31-ed4d-8146958a5f53"
   },
   "outputs": [
    {
     "name": "stdout",
     "output_type": "stream",
     "text": [
      "The total number of images in the set is:  501731\n",
      "Total family, genus and species respectively:  69 905 2537\n"
     ]
    }
   ],
   "source": [
    "species, genus, family, total_count = count_stat(moth_data)"
   ]
  },
  {
   "cell_type": "code",
   "execution_count": null,
   "metadata": {
    "id": "bJKqcgryQI6E"
   },
   "outputs": [],
   "source": [
    "# saving the counts as a file to the disk\n",
    "species_df = pd.DataFrame.from_dict(species.items())\n",
    "species_df.columns = ['species name', 'count']\n",
    "species_df.to_csv(WRITE_DIR + 'species-count.csv', index=False)\n",
    "\n",
    "genus_df = pd.DataFrame.from_dict(genus.items())\n",
    "genus_df.columns = ['genus name', 'count']\n",
    "genus_df.to_csv(WRITE_DIR + 'genus-count.csv', index=False)\n",
    "\n",
    "family_df = pd.DataFrame.from_dict(family.items())\n",
    "family_df.columns = ['family name', 'count']\n",
    "family_df.to_csv(WRITE_DIR + 'family-count.csv', index=False)"
   ]
  },
  {
   "cell_type": "markdown",
   "metadata": {
    "id": "p_a3rKdnYw1S"
   },
   "source": [
    "## Plotting"
   ]
  },
  {
   "cell_type": "code",
   "execution_count": null,
   "metadata": {
    "id": "8yNvo6MeYy8U"
   },
   "outputs": [],
   "source": [
    "species_count = pd.read_csv(WRITE_DIR + 'species-count.csv')['count']\n",
    "genus_count   = pd.read_csv(WRITE_DIR + 'genus-count.csv')['count']\n",
    "family_count  = pd.read_csv(WRITE_DIR + 'family-count.csv')['count']"
   ]
  },
  {
   "cell_type": "code",
   "execution_count": null,
   "metadata": {
    "colab": {
     "base_uri": "https://localhost:8080/",
     "height": 542
    },
    "id": "rp1B-nc9comR",
    "outputId": "ff301cea-c1a9-47df-ef5b-8d7a7567b1f7"
   },
   "outputs": [
    {
     "data": {
      "text/html": [
       "<html>\n",
       "<head><meta charset=\"utf-8\" /></head>\n",
       "<body>\n",
       "    <div>\n",
       "            <script src=\"https://cdnjs.cloudflare.com/ajax/libs/mathjax/2.7.5/MathJax.js?config=TeX-AMS-MML_SVG\"></script><script type=\"text/javascript\">if (window.MathJax) {MathJax.Hub.Config({SVG: {font: \"STIX-Web\"}});}</script>\n",
       "                <script type=\"text/javascript\">window.PlotlyConfig = {MathJaxConfig: 'local'};</script>\n",
       "        <script src=\"https://cdn.plot.ly/plotly-latest.min.js\"></script>    \n",
       "            <div id=\"876500ec-6f4a-40d1-be90-415e53b5e118\" class=\"plotly-graph-div\" style=\"height:525px; width:100%;\"></div>\n",
       "            <script type=\"text/javascript\">\n",
       "                \n",
       "                    window.PLOTLYENV=window.PLOTLYENV || {};\n",
       "                    \n",
       "                if (document.getElementById(\"876500ec-6f4a-40d1-be90-415e53b5e118\")) {\n",
       "                    Plotly.newPlot(\n",
       "                        '876500ec-6f4a-40d1-be90-415e53b5e118',\n",
       "                        [{\"alignmentgroup\": \"True\", \"customdata\": [[12], [44], [25], [5], [5], [17], [90], [546], [71], [146], [14], [53], [46], [45], [2], [7], [1], [35], [45], [10], [9], [3], [43], [19], [2], [4], [11], [50], [6], [1], [2], [4], [20], [25], [1], [63], [1], [16], [19], [1], [2], [61], [17], [5], [7], [2], [8], [6], [5], [12], [1], [5], [5], [257], [1], [3], [25], [3], [10], [1], [21], [4], [8], [48], [24], [14], [25], [3], [13], [16], [1], [2], [3], [5], [3], [42], [458], [1115], [1], [3], [2], [71], [361], [155], [7], [1], [6], [1], [9], [7], [2], [4], [8], [2], [8], [2], [30], [2], [43], [4], [3], [7], [162], [8], [60], [7], [89], [58], [9], [88], [83], [11], [20], [36], [1], [55], [147], [1], [10], [1], [8], [28], [1], [4], [4], [10], [1], [17], [6], [8], [1], [7], [1], [7], [4], [2], [1], [1], [16], [4], [46], [1], [2], [4], [8], [6], [65], [10], [17], [3], [58], [1], [43], [347], [4], [60], [2], [4], [1], [11], [26], [36], [40], [3], [44], [3], [25], [16], [19], [910], [55], [274], [8], [93], [26], [18], [4], [17], [1], [103], [66], [1], [1], [2], [2], [31], [5], [13], [27], [15], [34], [53], [60], [80], [7], [15], [8], [2], [18], [78], [4], [1], [2], [1], [1], [1], [1], [1], [34], [12], [2], [1], [25], [318], [42], [19], [11], [196], [34], [2], [34], [298], [38], [1], [70], [1109], [19], [42], [190], [19], [45], [14], [6], [4], [31], [2], [201], [159], [3], [7], [19], [2], [7], [5], [1133], [2], [46], [2], [8], [97], [193], [161], [44], [17], [108], [78], [798], [5], [4], [3], [66], [70], [7], [631], [34], [14], [52], [19], [109], [168], [2], [16], [91], [65], [44], [15], [1], [26], [279], [133], [15], [48], [13], [36], [252], [54], [9], [263], [11], [47], [70], [151], [105], [2], [1], [26], [692], [20], [20], [64], [5], [1], [4], [61], [26], [43], [3], [8], [7], [2], [456], [225], [1], [3], [2], [50], [20], [112], [34], [21], [3], [38], [28], [10], [3], [13], [8], [11], [150], [45], [122], [33], [401], [25], [13], [2], [30], [2], [55], [1], [29], [14], [38], [97], [78], [12], [4], [6], [60], [8], [138], [15], [100], [5], [233], [11], [1], [7], [1], [4], [54], [10], [3], [133], [13], [78], [2], [16], [9], [6], [1], [24], [17], [1], [2], [1], [5], [4], [7], [225], [73], [19], [3], [2], [30], [21], [50], [4], [7], [2], [1], [1], [1], [5], [8], [3], [411], [9], [1], [83], [5], [5], [1], [1], [2], [8], [4], [3], [3], [82], [3], [1], [39], [9], [11], [5], [3], [1], [2], [3], [1], [3], [11], [20], [82], [6], [2], [1], [2], [6], [2], [3], [1], [4], [9], [5], [1], [7], [8], [1], [2], [97], [59], [61], [13], [1], [2], [7], [46], [6], [7], [2], [1], [6], [259], [1], [2], [1], [46], [1], [2], [3], [146], [19], [11], [3], [1], [80], [13], [9], [12], [16], [2], [225], [2], [121], [144], [2], [93], [1], [168], [164], [29], [7], [1], [30], [1], [15], [259], [1], [3], [1], [3], [1], [16], [1155], [7], [1], [13], [15], [39], [15], [27], [2], [11], [369], [82], [4], [5], [6], [92], [58], [536], [56], [235], [121], [96], [1], [291], [1], [31], [49], [47], [3], [5], [11], [2], [74], [3], [2], [2], [19], [8], [82], [37], [96], [74], [45], [6], [146], [52], [11], [1], [10], [53], [22], [11], [32], [1], [109], [60], [12], [86], [1], [6], [9], [5], [58], [15], [2], [84], [4], [3], [3], [3], [9], [23], [36], [49], [15], [35], [30], [22], [1], [1], [3], [8], [11], [1], [32], [3], [1], [13], [71], [175], [10], [3], [228], [310], [48], [1040], [21], [219], [10], [10], [1], [186], [70], [685], [226], [275], [25], [20], [192], [120], [1115], [3], [138], [391], [119], [170], [170], [93], [233], [121], [2], [591], [24], [2], [1], [244], [3], [290], [165], [15], [18], [59], [471], [382], [1], [1], [16], [8], [42], [551], [172], [4], [358], [1127], [1], [375], [63], [52], [320], [457], [6], [809], [3], [5], [54], [188], [12], [38], [14], [3], [3], [577], [699], [195], [59], [647], [304], [50], [478], [299], [21], [40], [34], [34], [2], [30], [256], [3], [10], [118], [116], [1], [2], [1], [737], [59], [19], [151], [34], [38], [11], [1], [7], [134], [34], [14], [25], [1], [1], [5], [4], [43], [67], [81], [37], [92], [13], [1], [3], [38], [3], [18], [24], [6], [24], [1], [12], [1], [18], [3], [38], [13], [25], [279], [2], [153], [22], [9], [3], [19], [2], [5], [1], [1], [1], [213], [3], [1], [170], [151], [47], [99], [73], [1], [87], [79], [20], [28], [5], [2], [2], [141], [126], [13], [25], [6], [7], [2], [7], [7], [5], [23], [62], [33], [2], [9], [2], [10], [4], [24], [1], [11], [7], [19], [103], [3], [1], [6], [2], [31], [4], [6], [2], [298], [204], [204], [144], [28], [19], [1], [30], [2], [4], [4], [74], [45], [256], [64], [207], [264], [6], [345], [15], [331], [31], [2], [308], [14], [20], [35], [460], [31], [132], [4], [35], [10], [28], [52], [16], [34], [18], [21], [33], [17], [190], [1], [105], [39], [67], [2], [14], [9], [1], [8], [1], [26], [10], [9], [6], [4], [36], [45], [5], [7], [8], [1], [1], [26], [27], [8], [64], [48], [31], [46], [4], [4], [3], [6], [3], [1], [2], [18], [103], [24], [42], [2], [24], [6], [7], [4], [5], [6], [11], [1], [163], [42], [1], [9], [11], [3], [1], [15], [1], [189], [36], [9], [79], [12], [18], [33], [5], [1], [2], [29], [19], [3], [10], [3], [197], [1], [8], [80], [750], [1077], [239], [382], [45], [728], [96], [50], [721], [42], [111], [20], [43], [36], [116], [114], [164], [758], [33], [84], [11], [7], [105], [517], [3], [1], [9], [1], [4], [6], [1], [3], [6], [9], [13], [203], [15], [24], [3], [53], [80], [53], [26], [348], [91], [151], [24], [189], [60], [1039], [649], [11], [395], [791], [370], [504], [133], [1095], [1123], [950], [321], [422], [90], [1141], [17], [3], [6], [1054], [495], [435], [1154], [112], [154], [9], [415], [99], [244], [888], [178], [58], [324], [1114], [237], [27], [2], [2], [52], [40], [4], [363], [104], [7], [3], [51], [73], [21], [9], [42], [35], [8], [22], [7], [3], [2], [2], [2], [4], [15], [13], [71], [414], [138], [50], [265], [44], [23], [1161], [32], [15], [2], [33], [6], [17], [9], [42], [50], [5], [20], [33], [5], [27], [1], [138], [33], [35], [59], [96], [14], [10], [3], [15], [20], [47], [55], [46], [2], [29], [171], [5], [44], [2], [5], [57], [8], [98], [36], [2], [11], [79], [129], [812], [19], [426], [160], [1101], [1], [476], [144], [580], [1], [538], [33], [398], [197], [383], [53], [6], [21], [24], [101], [230], [1082], [7], [1081], [5], [1], [74], [14], [6], [256], [368], [1085], [45], [15], [6], [3], [2], [23], [5], [193], [722], [21], [149], [374], [899], [301], [5], [5], [109], [466], [134], [10], [1], [6], [752], [142], [437], [793], [158], [241], [13], [435], [28], [1029], [19], [32], [96], [1], [343], [305], [240], [183], [55], [63], [25], [605], [448], [71], [439], [16], [357], [72], [58], [443], [820], [161], [60], [541], [38], [417], [200], [130], [22], [192], [1086], [5], [6], [558], [243], [795], [789], [219], [4], [151], [1128], [1151], [228], [168], [449], [965], [5], [10], [960], [9], [423], [1], [1121], [21], [260], [107], [16], [135], [214], [136], [453], [296], [414], [1159], [48], [10], [5], [2], [27], [821], [11], [4], [28], [33], [1072], [59], [139], [1132], [263], [1], [1], [246], [13], [395], [509], [129], [17], [510], [1], [44], [1013], [35], [14], [1], [197], [38], [895], [232], [885], [236], [1145], [632], [168], [938], [1061], [1164], [1177], [824], [762], [298], [1120], [253], [65], [1152], [750], [520], [6], [1156], [36], [1145], [1167], [1174], [1146], [1187], [417], [914], [967], [1152], [561], [643], [1146], [459], [113], [1133], [24], [440], [29], [114], [136], [794], [1110], [746], [1145], [1136], [88], [1147], [1152], [512], [19], [164], [1162], [68], [1173], [243], [1171], [633], [1082], [493], [680], [1119], [18], [58], [1153], [613], [1156], [1047], [1178], [1159], [345], [454], [507], [1], [637], [17], [276], [34], [759], [21], [70], [140], [186], [30], [66], [22], [16], [552], [99], [99], [32], [875], [75], [159], [344], [62], [3], [68], [7], [22], [9], [1], [28], [187], [663], [679], [142], [210], [143], [13], [1], [2], [427], [236], [80], [43], [93], [396], [629], [210], [11], [253], [41], [47], [11], [1], [11], [1049], [594], [1150], [10], [764], [1], [1130], [29], [1088], [978], [18], [124], [292], [214], [106], [227], [1136], [538], [644], [715], [710], [776], [27], [15], [3], [13], [960], [8], [2], [1], [23], [18], [13], [1], [1], [2], [25], [16], [1], [2], [1], [3], [7], [2], [20], [1], [6], [8], [2], [21], [2], [3], [8], [95], [24], [237], [1113], [33], [402], [125], [535], [280], [567], [88], [725], [885], [225], [405], [1174], [1132], [864], [1163], [296], [72], [4], [1132], [11], [76], [6], [28], [8], [383], [4], [43], [152], [4], [994], [15], [339], [329], [1110], [1108], [310], [33], [222], [14], [612], [1126], [94], [602], [704], [97], [143], [186], [2], [6], [6], [37], [50], [65], [96], [74], [19], [6], [13], [44], [27], [1166], [242], [534], [341], [67], [63], [187], [4], [89], [101], [37], [56], [81], [173], [6], [560], [386], [1], [46], [136], [444], [310], [15], [26], [69], [196], [60], [130], [11], [314], [142], [97], [18], [936], [1108], [340], [2], [1111], [1115], [4], [214], [15], [475], [136], [1131], [142], [4], [819], [71], [652], [723], [554], [135], [188], [594], [466], [364], [97], [23], [495], [299], [131], [65], [19], [242], [23], [446], [43], [18], [195], [92], [20], [5], [52], [148], [224], [681], [1176], [1165], [501], [42], [215], [17], [193], [21], [135], [124], [944], [123], [46], [7], [30], [20], [8], [6], [128], [30], [257], [456], [236], [724], [276], [124], [364], [628], [353], [154], [145], [580], [1187], [173], [366], [1104], [28], [77], [499], [1105], [887], [967], [315], [1165], [1135], [1142], [218], [1014], [83], [167], [3], [349], [900], [74], [277], [539], [1147], [97], [57], [369], [319], [214], [147], [244], [386], [23], [17], [25], [688], [158], [1148], [446], [718], [578], [362], [501], [216], [552], [456], [361], [272], [617], [535], [85], [1120], [6], [398], [197], [101], [142], [42], [42], [35], [40], [80], [109], [1185], [18], [7], [47], [29], [229], [53], [40], [24], [1154], [1101], [1186], [521], [486], [652], [479], [1145], [665], [249], [397], [21], [812], [349], [468], [11], [718], [88], [145], [345], [2], [332], [1158], [8], [350], [44], [521], [1], [64], [35], [439], [32], [54], [1177], [1169], [1166], [1161], [7], [78], [1167], [1], [1119], [183], [592], [642], [1196], [1146], [1146], [1180], [1160], [1083], [75], [1188], [1171], [1159], [1161], [23], [1157], [320], [45], [90], [92], [96], [24], [878], [1081], [221], [54], [625], [5], [341], [20], [24], [20], [116], [29], [184], [1026], [91], [21], [290], [87], [151], [164], [230], [256], [571], [45], [990], [778], [66], [261], [324], [340], [29], [1090], [1132], [1121], [624], [227], [396], [1116], [385], [623], [400], [358], [500], [27], [22], [57], [151], [180], [1099], [104], [228], [73], [1100], [7], [14], [1163], [53], [2], [269], [1053], [58], [383], [9], [44], [57], [1], [15], [21], [41], [36], [29], [111], [8], [395], [103], [263], [141], [105], [117], [305], [1160], [247], [508], [178], [70], [77], [137], [32], [81], [125], [73], [151], [177], [101], [665], [1119], [59], [242], [1078], [415], [129], [170], [70], [32], [406], [356], [666], [102], [36], [85], [87], [833], [28], [322], [93], [73], [215], [43], [70], [99], [450], [65], [205], [324], [763], [270], [2], [81], [95], [514], [1111], [18], [345], [584], [178], [1128], [183], [1128], [249], [179], [62], [571], [37], [18], [7], [12], [88], [68], [7], [24], [3], [187], [93], [509], [300], [120], [1100], [1079], [950], [474], [110], [320], [10], [97], [255], [13], [97], [56], [7], [229], [17], [28], [322], [339], [101], [25], [266], [20], [176], [161], [477], [288], [1023], [509], [498], [282], [363], [93], [223], [77], [8], [1143], [122], [13], [83], [85], [208], [13], [8], [53], [779], [2], [41], [131], [87], [56], [3], [3], [10], [7], [15], [2], [425], [5], [1], [2], [3], [764], [90], [295], [31], [189], [99], [436], [146], [1055], [576], [1121], [266], [138], [909], [838], [12], [775], [8], [1093], [529], [171], [440], [648], [1148], [82], [558], [273], [383], [1167], [20], [238], [81], [627], [76], [59], [188], [40], [221], [7], [278], [409], [349], [34], [252], [9], [304], [131], [224], [223], [98], [20], [80], [29], [196], [30], [236], [197], [22], [357], [7], [127], [283], [62], [62], [1140], [10], [15], [991], [574], [157], [884], [500], [6], [32], [4], [1116], [203], [135], [32], [1162], [409], [16], [224], [198], [54], [76], [400], [12], [134], [125], [339], [79], [424], [57], [4], [1], [30], [31], [15], [6], [120], [17], [2], [75], [2], [10], [24], [1144], [1135], [552], [1167], [87], [60], [549], [294], [201], [852], [8], [444], [1128], [551], [172], [30], [17], [68], [1121], [155], [11], [21], [665], [440], [247], [2], [9], [52], [1012], [152], [371], [597], [547], [1133], [72], [550], [569], [410], [1000], [1121], [494], [72], [343], [263], [879], [1087], [674], [12], [159], [102], [37], [223], [136], [1], [450], [119], [11], [3], [608], [420], [595], [529], [493], [87], [37], [9], [2], [3], [22], [4], [29], [94], [47], [12], [27], [331], [3], [127], [37], [5], [675], [18], [133], [103], [27], [439], [25], [1], [15], [4], [238], [3], [303], [29], [33], [22], [4], [103], [226], [34], [123], [113], [115], [51], [17], [52], [18], [8], [7], [3], [128], [171], [161], [153], [4], [193], [6], [245], [4], [196], [66], [105], [65], [4], [40], [57], [423], [2], [85], [14], [77], [51], [362], [190], [137], [85], [176], [96], [55], [88], [81], [6], [14], [66], [272], [21], [31], [196], [9], [21], [178], [82], [158], [30], [76], [112], [212], [99], [72], [106], [6], [32], [6], [81], [224], [19], [161], [118], [14], [4], [11], [2], [1], [8], [73], [129], [33], [124], [84], [52], [36], [1], [31], [98], [1], [148], [331], [43], [78], [106], [15], [31], [2], [2], [26], [15], [161], [899], [23], [232], [97], [233], [24], [69], [18], [4], [420], [93], [365], [275], [83], [4], [151], [15], [16], [291], [88], [24], [2], [9], [56], [108], [11], [11], [14], [3], [134], [18], [234], [72], [14], [901], [319], [233], [147], [373], [229], [308], [310], [363], [1147], [10], [10], [550], [13], [8], [330], [103], [8], [5], [6], [90], [841], [217], [20], [69], [19], [84], [12], [121], [150], [124], [19], [23], [290], [24], [5], [57], [1], [5], [21], [3], [98], [16], [34], [11], [347], [503], [1119], [5], [26], [34], [40], [10], [131], [35], [26], [24], [125], [120], [5], [2], [4], [3], [3], [57], [5], [9], [5], [10], [1138], [159], [346], [145], [5], [33], [93], [44], [18], [65], [356], [263], [270], [1103], [1067], [1], [50], [20], [339], [156], [2], [1], [288], [16], [127], [17], [1], [2], [5], [18], [4], [3], [11], [2], [1], [3], [4], [178], [56], [39], [1], [24], [51], [80], [5], [6], [1], [85], [9], [10], [3], [58], [964], [70], [46], [1000], [66], [6], [139], [518], [6], [43], [11], [1136], [1132], [3], [36], [4], [15], [281], [19], [148], [13], [16], [16], [134], [2], [1], [1164], [1022], [217], [149], [352], [100], [349], [699], [91], [81], [65], [262], [81], [1161], [579], [267], [42], [27], [135], [71], [75], [1141], [251], [1], [4], [18], [1], [4], [1], [2], [23], [1], [2], [2], [1], [8], [453], [27], [462], [47], [14], [45], [4], [3], [6], [12], [71], [2], [17], [2], [8], [1], [1], [362], [8], [2], [93], [181], [32], [129], [7], [9], [47], [28], [1], [1], [74], [146], [2], [2], [14], [3], [7], [51], [3], [1], [3], [62], [37], [363], [81], [491], [3], [52], [42], [8], [128], [411], [854], [561], [262], [1119], [187], [217], [94], [1155], [923], [1133], [5], [113], [6], [874], [211], [62], [55], [1169], [1156], [197], [128], [206], [321], [87], [4], [157], [103], [96], [27], [1069], [1002], [92], [5], [1011], [10], [54], [284], [2]], \"hoverlabel\": {\"namelength\": 0}, \"hovertemplate\": \"count=%{customdata[0]}\", \"legendgroup\": \"\", \"marker\": {\"color\": \"#636efa\"}, \"name\": \"\", \"notched\": false, \"offsetgroup\": \"\", \"orientation\": \"v\", \"showlegend\": false, \"type\": \"box\", \"x0\": \" \", \"xaxis\": \"x\", \"y\": [12, 44, 25, 5, 5, 17, 90, 546, 71, 146, 14, 53, 46, 45, 2, 7, 1, 35, 45, 10, 9, 3, 43, 19, 2, 4, 11, 50, 6, 1, 2, 4, 20, 25, 1, 63, 1, 16, 19, 1, 2, 61, 17, 5, 7, 2, 8, 6, 5, 12, 1, 5, 5, 257, 1, 3, 25, 3, 10, 1, 21, 4, 8, 48, 24, 14, 25, 3, 13, 16, 1, 2, 3, 5, 3, 42, 458, 1115, 1, 3, 2, 71, 361, 155, 7, 1, 6, 1, 9, 7, 2, 4, 8, 2, 8, 2, 30, 2, 43, 4, 3, 7, 162, 8, 60, 7, 89, 58, 9, 88, 83, 11, 20, 36, 1, 55, 147, 1, 10, 1, 8, 28, 1, 4, 4, 10, 1, 17, 6, 8, 1, 7, 1, 7, 4, 2, 1, 1, 16, 4, 46, 1, 2, 4, 8, 6, 65, 10, 17, 3, 58, 1, 43, 347, 4, 60, 2, 4, 1, 11, 26, 36, 40, 3, 44, 3, 25, 16, 19, 910, 55, 274, 8, 93, 26, 18, 4, 17, 1, 103, 66, 1, 1, 2, 2, 31, 5, 13, 27, 15, 34, 53, 60, 80, 7, 15, 8, 2, 18, 78, 4, 1, 2, 1, 1, 1, 1, 1, 34, 12, 2, 1, 25, 318, 42, 19, 11, 196, 34, 2, 34, 298, 38, 1, 70, 1109, 19, 42, 190, 19, 45, 14, 6, 4, 31, 2, 201, 159, 3, 7, 19, 2, 7, 5, 1133, 2, 46, 2, 8, 97, 193, 161, 44, 17, 108, 78, 798, 5, 4, 3, 66, 70, 7, 631, 34, 14, 52, 19, 109, 168, 2, 16, 91, 65, 44, 15, 1, 26, 279, 133, 15, 48, 13, 36, 252, 54, 9, 263, 11, 47, 70, 151, 105, 2, 1, 26, 692, 20, 20, 64, 5, 1, 4, 61, 26, 43, 3, 8, 7, 2, 456, 225, 1, 3, 2, 50, 20, 112, 34, 21, 3, 38, 28, 10, 3, 13, 8, 11, 150, 45, 122, 33, 401, 25, 13, 2, 30, 2, 55, 1, 29, 14, 38, 97, 78, 12, 4, 6, 60, 8, 138, 15, 100, 5, 233, 11, 1, 7, 1, 4, 54, 10, 3, 133, 13, 78, 2, 16, 9, 6, 1, 24, 17, 1, 2, 1, 5, 4, 7, 225, 73, 19, 3, 2, 30, 21, 50, 4, 7, 2, 1, 1, 1, 5, 8, 3, 411, 9, 1, 83, 5, 5, 1, 1, 2, 8, 4, 3, 3, 82, 3, 1, 39, 9, 11, 5, 3, 1, 2, 3, 1, 3, 11, 20, 82, 6, 2, 1, 2, 6, 2, 3, 1, 4, 9, 5, 1, 7, 8, 1, 2, 97, 59, 61, 13, 1, 2, 7, 46, 6, 7, 2, 1, 6, 259, 1, 2, 1, 46, 1, 2, 3, 146, 19, 11, 3, 1, 80, 13, 9, 12, 16, 2, 225, 2, 121, 144, 2, 93, 1, 168, 164, 29, 7, 1, 30, 1, 15, 259, 1, 3, 1, 3, 1, 16, 1155, 7, 1, 13, 15, 39, 15, 27, 2, 11, 369, 82, 4, 5, 6, 92, 58, 536, 56, 235, 121, 96, 1, 291, 1, 31, 49, 47, 3, 5, 11, 2, 74, 3, 2, 2, 19, 8, 82, 37, 96, 74, 45, 6, 146, 52, 11, 1, 10, 53, 22, 11, 32, 1, 109, 60, 12, 86, 1, 6, 9, 5, 58, 15, 2, 84, 4, 3, 3, 3, 9, 23, 36, 49, 15, 35, 30, 22, 1, 1, 3, 8, 11, 1, 32, 3, 1, 13, 71, 175, 10, 3, 228, 310, 48, 1040, 21, 219, 10, 10, 1, 186, 70, 685, 226, 275, 25, 20, 192, 120, 1115, 3, 138, 391, 119, 170, 170, 93, 233, 121, 2, 591, 24, 2, 1, 244, 3, 290, 165, 15, 18, 59, 471, 382, 1, 1, 16, 8, 42, 551, 172, 4, 358, 1127, 1, 375, 63, 52, 320, 457, 6, 809, 3, 5, 54, 188, 12, 38, 14, 3, 3, 577, 699, 195, 59, 647, 304, 50, 478, 299, 21, 40, 34, 34, 2, 30, 256, 3, 10, 118, 116, 1, 2, 1, 737, 59, 19, 151, 34, 38, 11, 1, 7, 134, 34, 14, 25, 1, 1, 5, 4, 43, 67, 81, 37, 92, 13, 1, 3, 38, 3, 18, 24, 6, 24, 1, 12, 1, 18, 3, 38, 13, 25, 279, 2, 153, 22, 9, 3, 19, 2, 5, 1, 1, 1, 213, 3, 1, 170, 151, 47, 99, 73, 1, 87, 79, 20, 28, 5, 2, 2, 141, 126, 13, 25, 6, 7, 2, 7, 7, 5, 23, 62, 33, 2, 9, 2, 10, 4, 24, 1, 11, 7, 19, 103, 3, 1, 6, 2, 31, 4, 6, 2, 298, 204, 204, 144, 28, 19, 1, 30, 2, 4, 4, 74, 45, 256, 64, 207, 264, 6, 345, 15, 331, 31, 2, 308, 14, 20, 35, 460, 31, 132, 4, 35, 10, 28, 52, 16, 34, 18, 21, 33, 17, 190, 1, 105, 39, 67, 2, 14, 9, 1, 8, 1, 26, 10, 9, 6, 4, 36, 45, 5, 7, 8, 1, 1, 26, 27, 8, 64, 48, 31, 46, 4, 4, 3, 6, 3, 1, 2, 18, 103, 24, 42, 2, 24, 6, 7, 4, 5, 6, 11, 1, 163, 42, 1, 9, 11, 3, 1, 15, 1, 189, 36, 9, 79, 12, 18, 33, 5, 1, 2, 29, 19, 3, 10, 3, 197, 1, 8, 80, 750, 1077, 239, 382, 45, 728, 96, 50, 721, 42, 111, 20, 43, 36, 116, 114, 164, 758, 33, 84, 11, 7, 105, 517, 3, 1, 9, 1, 4, 6, 1, 3, 6, 9, 13, 203, 15, 24, 3, 53, 80, 53, 26, 348, 91, 151, 24, 189, 60, 1039, 649, 11, 395, 791, 370, 504, 133, 1095, 1123, 950, 321, 422, 90, 1141, 17, 3, 6, 1054, 495, 435, 1154, 112, 154, 9, 415, 99, 244, 888, 178, 58, 324, 1114, 237, 27, 2, 2, 52, 40, 4, 363, 104, 7, 3, 51, 73, 21, 9, 42, 35, 8, 22, 7, 3, 2, 2, 2, 4, 15, 13, 71, 414, 138, 50, 265, 44, 23, 1161, 32, 15, 2, 33, 6, 17, 9, 42, 50, 5, 20, 33, 5, 27, 1, 138, 33, 35, 59, 96, 14, 10, 3, 15, 20, 47, 55, 46, 2, 29, 171, 5, 44, 2, 5, 57, 8, 98, 36, 2, 11, 79, 129, 812, 19, 426, 160, 1101, 1, 476, 144, 580, 1, 538, 33, 398, 197, 383, 53, 6, 21, 24, 101, 230, 1082, 7, 1081, 5, 1, 74, 14, 6, 256, 368, 1085, 45, 15, 6, 3, 2, 23, 5, 193, 722, 21, 149, 374, 899, 301, 5, 5, 109, 466, 134, 10, 1, 6, 752, 142, 437, 793, 158, 241, 13, 435, 28, 1029, 19, 32, 96, 1, 343, 305, 240, 183, 55, 63, 25, 605, 448, 71, 439, 16, 357, 72, 58, 443, 820, 161, 60, 541, 38, 417, 200, 130, 22, 192, 1086, 5, 6, 558, 243, 795, 789, 219, 4, 151, 1128, 1151, 228, 168, 449, 965, 5, 10, 960, 9, 423, 1, 1121, 21, 260, 107, 16, 135, 214, 136, 453, 296, 414, 1159, 48, 10, 5, 2, 27, 821, 11, 4, 28, 33, 1072, 59, 139, 1132, 263, 1, 1, 246, 13, 395, 509, 129, 17, 510, 1, 44, 1013, 35, 14, 1, 197, 38, 895, 232, 885, 236, 1145, 632, 168, 938, 1061, 1164, 1177, 824, 762, 298, 1120, 253, 65, 1152, 750, 520, 6, 1156, 36, 1145, 1167, 1174, 1146, 1187, 417, 914, 967, 1152, 561, 643, 1146, 459, 113, 1133, 24, 440, 29, 114, 136, 794, 1110, 746, 1145, 1136, 88, 1147, 1152, 512, 19, 164, 1162, 68, 1173, 243, 1171, 633, 1082, 493, 680, 1119, 18, 58, 1153, 613, 1156, 1047, 1178, 1159, 345, 454, 507, 1, 637, 17, 276, 34, 759, 21, 70, 140, 186, 30, 66, 22, 16, 552, 99, 99, 32, 875, 75, 159, 344, 62, 3, 68, 7, 22, 9, 1, 28, 187, 663, 679, 142, 210, 143, 13, 1, 2, 427, 236, 80, 43, 93, 396, 629, 210, 11, 253, 41, 47, 11, 1, 11, 1049, 594, 1150, 10, 764, 1, 1130, 29, 1088, 978, 18, 124, 292, 214, 106, 227, 1136, 538, 644, 715, 710, 776, 27, 15, 3, 13, 960, 8, 2, 1, 23, 18, 13, 1, 1, 2, 25, 16, 1, 2, 1, 3, 7, 2, 20, 1, 6, 8, 2, 21, 2, 3, 8, 95, 24, 237, 1113, 33, 402, 125, 535, 280, 567, 88, 725, 885, 225, 405, 1174, 1132, 864, 1163, 296, 72, 4, 1132, 11, 76, 6, 28, 8, 383, 4, 43, 152, 4, 994, 15, 339, 329, 1110, 1108, 310, 33, 222, 14, 612, 1126, 94, 602, 704, 97, 143, 186, 2, 6, 6, 37, 50, 65, 96, 74, 19, 6, 13, 44, 27, 1166, 242, 534, 341, 67, 63, 187, 4, 89, 101, 37, 56, 81, 173, 6, 560, 386, 1, 46, 136, 444, 310, 15, 26, 69, 196, 60, 130, 11, 314, 142, 97, 18, 936, 1108, 340, 2, 1111, 1115, 4, 214, 15, 475, 136, 1131, 142, 4, 819, 71, 652, 723, 554, 135, 188, 594, 466, 364, 97, 23, 495, 299, 131, 65, 19, 242, 23, 446, 43, 18, 195, 92, 20, 5, 52, 148, 224, 681, 1176, 1165, 501, 42, 215, 17, 193, 21, 135, 124, 944, 123, 46, 7, 30, 20, 8, 6, 128, 30, 257, 456, 236, 724, 276, 124, 364, 628, 353, 154, 145, 580, 1187, 173, 366, 1104, 28, 77, 499, 1105, 887, 967, 315, 1165, 1135, 1142, 218, 1014, 83, 167, 3, 349, 900, 74, 277, 539, 1147, 97, 57, 369, 319, 214, 147, 244, 386, 23, 17, 25, 688, 158, 1148, 446, 718, 578, 362, 501, 216, 552, 456, 361, 272, 617, 535, 85, 1120, 6, 398, 197, 101, 142, 42, 42, 35, 40, 80, 109, 1185, 18, 7, 47, 29, 229, 53, 40, 24, 1154, 1101, 1186, 521, 486, 652, 479, 1145, 665, 249, 397, 21, 812, 349, 468, 11, 718, 88, 145, 345, 2, 332, 1158, 8, 350, 44, 521, 1, 64, 35, 439, 32, 54, 1177, 1169, 1166, 1161, 7, 78, 1167, 1, 1119, 183, 592, 642, 1196, 1146, 1146, 1180, 1160, 1083, 75, 1188, 1171, 1159, 1161, 23, 1157, 320, 45, 90, 92, 96, 24, 878, 1081, 221, 54, 625, 5, 341, 20, 24, 20, 116, 29, 184, 1026, 91, 21, 290, 87, 151, 164, 230, 256, 571, 45, 990, 778, 66, 261, 324, 340, 29, 1090, 1132, 1121, 624, 227, 396, 1116, 385, 623, 400, 358, 500, 27, 22, 57, 151, 180, 1099, 104, 228, 73, 1100, 7, 14, 1163, 53, 2, 269, 1053, 58, 383, 9, 44, 57, 1, 15, 21, 41, 36, 29, 111, 8, 395, 103, 263, 141, 105, 117, 305, 1160, 247, 508, 178, 70, 77, 137, 32, 81, 125, 73, 151, 177, 101, 665, 1119, 59, 242, 1078, 415, 129, 170, 70, 32, 406, 356, 666, 102, 36, 85, 87, 833, 28, 322, 93, 73, 215, 43, 70, 99, 450, 65, 205, 324, 763, 270, 2, 81, 95, 514, 1111, 18, 345, 584, 178, 1128, 183, 1128, 249, 179, 62, 571, 37, 18, 7, 12, 88, 68, 7, 24, 3, 187, 93, 509, 300, 120, 1100, 1079, 950, 474, 110, 320, 10, 97, 255, 13, 97, 56, 7, 229, 17, 28, 322, 339, 101, 25, 266, 20, 176, 161, 477, 288, 1023, 509, 498, 282, 363, 93, 223, 77, 8, 1143, 122, 13, 83, 85, 208, 13, 8, 53, 779, 2, 41, 131, 87, 56, 3, 3, 10, 7, 15, 2, 425, 5, 1, 2, 3, 764, 90, 295, 31, 189, 99, 436, 146, 1055, 576, 1121, 266, 138, 909, 838, 12, 775, 8, 1093, 529, 171, 440, 648, 1148, 82, 558, 273, 383, 1167, 20, 238, 81, 627, 76, 59, 188, 40, 221, 7, 278, 409, 349, 34, 252, 9, 304, 131, 224, 223, 98, 20, 80, 29, 196, 30, 236, 197, 22, 357, 7, 127, 283, 62, 62, 1140, 10, 15, 991, 574, 157, 884, 500, 6, 32, 4, 1116, 203, 135, 32, 1162, 409, 16, 224, 198, 54, 76, 400, 12, 134, 125, 339, 79, 424, 57, 4, 1, 30, 31, 15, 6, 120, 17, 2, 75, 2, 10, 24, 1144, 1135, 552, 1167, 87, 60, 549, 294, 201, 852, 8, 444, 1128, 551, 172, 30, 17, 68, 1121, 155, 11, 21, 665, 440, 247, 2, 9, 52, 1012, 152, 371, 597, 547, 1133, 72, 550, 569, 410, 1000, 1121, 494, 72, 343, 263, 879, 1087, 674, 12, 159, 102, 37, 223, 136, 1, 450, 119, 11, 3, 608, 420, 595, 529, 493, 87, 37, 9, 2, 3, 22, 4, 29, 94, 47, 12, 27, 331, 3, 127, 37, 5, 675, 18, 133, 103, 27, 439, 25, 1, 15, 4, 238, 3, 303, 29, 33, 22, 4, 103, 226, 34, 123, 113, 115, 51, 17, 52, 18, 8, 7, 3, 128, 171, 161, 153, 4, 193, 6, 245, 4, 196, 66, 105, 65, 4, 40, 57, 423, 2, 85, 14, 77, 51, 362, 190, 137, 85, 176, 96, 55, 88, 81, 6, 14, 66, 272, 21, 31, 196, 9, 21, 178, 82, 158, 30, 76, 112, 212, 99, 72, 106, 6, 32, 6, 81, 224, 19, 161, 118, 14, 4, 11, 2, 1, 8, 73, 129, 33, 124, 84, 52, 36, 1, 31, 98, 1, 148, 331, 43, 78, 106, 15, 31, 2, 2, 26, 15, 161, 899, 23, 232, 97, 233, 24, 69, 18, 4, 420, 93, 365, 275, 83, 4, 151, 15, 16, 291, 88, 24, 2, 9, 56, 108, 11, 11, 14, 3, 134, 18, 234, 72, 14, 901, 319, 233, 147, 373, 229, 308, 310, 363, 1147, 10, 10, 550, 13, 8, 330, 103, 8, 5, 6, 90, 841, 217, 20, 69, 19, 84, 12, 121, 150, 124, 19, 23, 290, 24, 5, 57, 1, 5, 21, 3, 98, 16, 34, 11, 347, 503, 1119, 5, 26, 34, 40, 10, 131, 35, 26, 24, 125, 120, 5, 2, 4, 3, 3, 57, 5, 9, 5, 10, 1138, 159, 346, 145, 5, 33, 93, 44, 18, 65, 356, 263, 270, 1103, 1067, 1, 50, 20, 339, 156, 2, 1, 288, 16, 127, 17, 1, 2, 5, 18, 4, 3, 11, 2, 1, 3, 4, 178, 56, 39, 1, 24, 51, 80, 5, 6, 1, 85, 9, 10, 3, 58, 964, 70, 46, 1000, 66, 6, 139, 518, 6, 43, 11, 1136, 1132, 3, 36, 4, 15, 281, 19, 148, 13, 16, 16, 134, 2, 1, 1164, 1022, 217, 149, 352, 100, 349, 699, 91, 81, 65, 262, 81, 1161, 579, 267, 42, 27, 135, 71, 75, 1141, 251, 1, 4, 18, 1, 4, 1, 2, 23, 1, 2, 2, 1, 8, 453, 27, 462, 47, 14, 45, 4, 3, 6, 12, 71, 2, 17, 2, 8, 1, 1, 362, 8, 2, 93, 181, 32, 129, 7, 9, 47, 28, 1, 1, 74, 146, 2, 2, 14, 3, 7, 51, 3, 1, 3, 62, 37, 363, 81, 491, 3, 52, 42, 8, 128, 411, 854, 561, 262, 1119, 187, 217, 94, 1155, 923, 1133, 5, 113, 6, 874, 211, 62, 55, 1169, 1156, 197, 128, 206, 321, 87, 4, 157, 103, 96, 27, 1069, 1002, 92, 5, 1011, 10, 54, 284, 2], \"y0\": \" \", \"yaxis\": \"y\"}],\n",
       "                        {\"boxmode\": \"group\", \"legend\": {\"tracegroupgap\": 0}, \"template\": {\"data\": {\"bar\": [{\"error_x\": {\"color\": \"#2a3f5f\"}, \"error_y\": {\"color\": \"#2a3f5f\"}, \"marker\": {\"line\": {\"color\": \"#E5ECF6\", \"width\": 0.5}}, \"type\": \"bar\"}], \"barpolar\": [{\"marker\": {\"line\": {\"color\": \"#E5ECF6\", \"width\": 0.5}}, \"type\": \"barpolar\"}], \"carpet\": [{\"aaxis\": {\"endlinecolor\": \"#2a3f5f\", \"gridcolor\": \"white\", \"linecolor\": \"white\", \"minorgridcolor\": \"white\", \"startlinecolor\": \"#2a3f5f\"}, \"baxis\": {\"endlinecolor\": \"#2a3f5f\", \"gridcolor\": \"white\", \"linecolor\": \"white\", \"minorgridcolor\": \"white\", \"startlinecolor\": \"#2a3f5f\"}, \"type\": \"carpet\"}], \"choropleth\": [{\"colorbar\": {\"outlinewidth\": 0, \"ticks\": \"\"}, \"type\": \"choropleth\"}], \"contour\": [{\"colorbar\": {\"outlinewidth\": 0, \"ticks\": \"\"}, \"colorscale\": [[0.0, \"#0d0887\"], [0.1111111111111111, \"#46039f\"], [0.2222222222222222, \"#7201a8\"], [0.3333333333333333, \"#9c179e\"], [0.4444444444444444, \"#bd3786\"], [0.5555555555555556, \"#d8576b\"], [0.6666666666666666, \"#ed7953\"], [0.7777777777777778, \"#fb9f3a\"], [0.8888888888888888, \"#fdca26\"], [1.0, \"#f0f921\"]], \"type\": \"contour\"}], \"contourcarpet\": [{\"colorbar\": {\"outlinewidth\": 0, \"ticks\": \"\"}, \"type\": \"contourcarpet\"}], \"heatmap\": [{\"colorbar\": {\"outlinewidth\": 0, \"ticks\": \"\"}, \"colorscale\": [[0.0, \"#0d0887\"], [0.1111111111111111, \"#46039f\"], [0.2222222222222222, \"#7201a8\"], [0.3333333333333333, \"#9c179e\"], [0.4444444444444444, \"#bd3786\"], [0.5555555555555556, \"#d8576b\"], [0.6666666666666666, \"#ed7953\"], [0.7777777777777778, \"#fb9f3a\"], [0.8888888888888888, \"#fdca26\"], [1.0, \"#f0f921\"]], \"type\": \"heatmap\"}], \"heatmapgl\": [{\"colorbar\": {\"outlinewidth\": 0, \"ticks\": \"\"}, \"colorscale\": [[0.0, \"#0d0887\"], [0.1111111111111111, \"#46039f\"], [0.2222222222222222, \"#7201a8\"], [0.3333333333333333, \"#9c179e\"], [0.4444444444444444, \"#bd3786\"], [0.5555555555555556, \"#d8576b\"], [0.6666666666666666, \"#ed7953\"], [0.7777777777777778, \"#fb9f3a\"], [0.8888888888888888, \"#fdca26\"], [1.0, \"#f0f921\"]], \"type\": \"heatmapgl\"}], \"histogram\": [{\"marker\": {\"colorbar\": {\"outlinewidth\": 0, \"ticks\": \"\"}}, \"type\": \"histogram\"}], \"histogram2d\": [{\"colorbar\": {\"outlinewidth\": 0, \"ticks\": \"\"}, \"colorscale\": [[0.0, \"#0d0887\"], [0.1111111111111111, \"#46039f\"], [0.2222222222222222, \"#7201a8\"], [0.3333333333333333, \"#9c179e\"], [0.4444444444444444, \"#bd3786\"], [0.5555555555555556, \"#d8576b\"], [0.6666666666666666, \"#ed7953\"], [0.7777777777777778, \"#fb9f3a\"], [0.8888888888888888, \"#fdca26\"], [1.0, \"#f0f921\"]], \"type\": \"histogram2d\"}], \"histogram2dcontour\": [{\"colorbar\": {\"outlinewidth\": 0, \"ticks\": \"\"}, \"colorscale\": [[0.0, \"#0d0887\"], [0.1111111111111111, \"#46039f\"], [0.2222222222222222, \"#7201a8\"], [0.3333333333333333, \"#9c179e\"], [0.4444444444444444, \"#bd3786\"], [0.5555555555555556, \"#d8576b\"], [0.6666666666666666, \"#ed7953\"], [0.7777777777777778, \"#fb9f3a\"], [0.8888888888888888, \"#fdca26\"], [1.0, \"#f0f921\"]], \"type\": \"histogram2dcontour\"}], \"mesh3d\": [{\"colorbar\": {\"outlinewidth\": 0, \"ticks\": \"\"}, \"type\": \"mesh3d\"}], \"parcoords\": [{\"line\": {\"colorbar\": {\"outlinewidth\": 0, \"ticks\": \"\"}}, \"type\": \"parcoords\"}], \"pie\": [{\"automargin\": true, \"type\": \"pie\"}], \"scatter\": [{\"marker\": {\"colorbar\": {\"outlinewidth\": 0, \"ticks\": \"\"}}, \"type\": \"scatter\"}], \"scatter3d\": [{\"line\": {\"colorbar\": {\"outlinewidth\": 0, \"ticks\": \"\"}}, \"marker\": {\"colorbar\": {\"outlinewidth\": 0, \"ticks\": \"\"}}, \"type\": \"scatter3d\"}], \"scattercarpet\": [{\"marker\": {\"colorbar\": {\"outlinewidth\": 0, \"ticks\": \"\"}}, \"type\": \"scattercarpet\"}], \"scattergeo\": [{\"marker\": {\"colorbar\": {\"outlinewidth\": 0, \"ticks\": \"\"}}, \"type\": \"scattergeo\"}], \"scattergl\": [{\"marker\": {\"colorbar\": {\"outlinewidth\": 0, \"ticks\": \"\"}}, \"type\": \"scattergl\"}], \"scattermapbox\": [{\"marker\": {\"colorbar\": {\"outlinewidth\": 0, \"ticks\": \"\"}}, \"type\": \"scattermapbox\"}], \"scatterpolar\": [{\"marker\": {\"colorbar\": {\"outlinewidth\": 0, \"ticks\": \"\"}}, \"type\": \"scatterpolar\"}], \"scatterpolargl\": [{\"marker\": {\"colorbar\": {\"outlinewidth\": 0, \"ticks\": \"\"}}, \"type\": \"scatterpolargl\"}], \"scatterternary\": [{\"marker\": {\"colorbar\": {\"outlinewidth\": 0, \"ticks\": \"\"}}, \"type\": \"scatterternary\"}], \"surface\": [{\"colorbar\": {\"outlinewidth\": 0, \"ticks\": \"\"}, \"colorscale\": [[0.0, \"#0d0887\"], [0.1111111111111111, \"#46039f\"], [0.2222222222222222, \"#7201a8\"], [0.3333333333333333, \"#9c179e\"], [0.4444444444444444, \"#bd3786\"], [0.5555555555555556, \"#d8576b\"], [0.6666666666666666, \"#ed7953\"], [0.7777777777777778, \"#fb9f3a\"], [0.8888888888888888, \"#fdca26\"], [1.0, \"#f0f921\"]], \"type\": \"surface\"}], \"table\": [{\"cells\": {\"fill\": {\"color\": \"#EBF0F8\"}, \"line\": {\"color\": \"white\"}}, \"header\": {\"fill\": {\"color\": \"#C8D4E3\"}, \"line\": {\"color\": \"white\"}}, \"type\": \"table\"}]}, \"layout\": {\"annotationdefaults\": {\"arrowcolor\": \"#2a3f5f\", \"arrowhead\": 0, \"arrowwidth\": 1}, \"coloraxis\": {\"colorbar\": {\"outlinewidth\": 0, \"ticks\": \"\"}}, \"colorscale\": {\"diverging\": [[0, \"#8e0152\"], [0.1, \"#c51b7d\"], [0.2, \"#de77ae\"], [0.3, \"#f1b6da\"], [0.4, \"#fde0ef\"], [0.5, \"#f7f7f7\"], [0.6, \"#e6f5d0\"], [0.7, \"#b8e186\"], [0.8, \"#7fbc41\"], [0.9, \"#4d9221\"], [1, \"#276419\"]], \"sequential\": [[0.0, \"#0d0887\"], [0.1111111111111111, \"#46039f\"], [0.2222222222222222, \"#7201a8\"], [0.3333333333333333, \"#9c179e\"], [0.4444444444444444, \"#bd3786\"], [0.5555555555555556, \"#d8576b\"], [0.6666666666666666, \"#ed7953\"], [0.7777777777777778, \"#fb9f3a\"], [0.8888888888888888, \"#fdca26\"], [1.0, \"#f0f921\"]], \"sequentialminus\": [[0.0, \"#0d0887\"], [0.1111111111111111, \"#46039f\"], [0.2222222222222222, \"#7201a8\"], [0.3333333333333333, \"#9c179e\"], [0.4444444444444444, \"#bd3786\"], [0.5555555555555556, \"#d8576b\"], [0.6666666666666666, \"#ed7953\"], [0.7777777777777778, \"#fb9f3a\"], [0.8888888888888888, \"#fdca26\"], [1.0, \"#f0f921\"]]}, \"colorway\": [\"#636efa\", \"#EF553B\", \"#00cc96\", \"#ab63fa\", \"#FFA15A\", \"#19d3f3\", \"#FF6692\", \"#B6E880\", \"#FF97FF\", \"#FECB52\"], \"font\": {\"color\": \"#2a3f5f\"}, \"geo\": {\"bgcolor\": \"white\", \"lakecolor\": \"white\", \"landcolor\": \"#E5ECF6\", \"showlakes\": true, \"showland\": true, \"subunitcolor\": \"white\"}, \"hoverlabel\": {\"align\": \"left\"}, \"hovermode\": \"closest\", \"mapbox\": {\"style\": \"light\"}, \"paper_bgcolor\": \"white\", \"plot_bgcolor\": \"#E5ECF6\", \"polar\": {\"angularaxis\": {\"gridcolor\": \"white\", \"linecolor\": \"white\", \"ticks\": \"\"}, \"bgcolor\": \"#E5ECF6\", \"radialaxis\": {\"gridcolor\": \"white\", \"linecolor\": \"white\", \"ticks\": \"\"}}, \"scene\": {\"xaxis\": {\"backgroundcolor\": \"#E5ECF6\", \"gridcolor\": \"white\", \"gridwidth\": 2, \"linecolor\": \"white\", \"showbackground\": true, \"ticks\": \"\", \"zerolinecolor\": \"white\"}, \"yaxis\": {\"backgroundcolor\": \"#E5ECF6\", \"gridcolor\": \"white\", \"gridwidth\": 2, \"linecolor\": \"white\", \"showbackground\": true, \"ticks\": \"\", \"zerolinecolor\": \"white\"}, \"zaxis\": {\"backgroundcolor\": \"#E5ECF6\", \"gridcolor\": \"white\", \"gridwidth\": 2, \"linecolor\": \"white\", \"showbackground\": true, \"ticks\": \"\", \"zerolinecolor\": \"white\"}}, \"shapedefaults\": {\"line\": {\"color\": \"#2a3f5f\"}}, \"ternary\": {\"aaxis\": {\"gridcolor\": \"white\", \"linecolor\": \"white\", \"ticks\": \"\"}, \"baxis\": {\"gridcolor\": \"white\", \"linecolor\": \"white\", \"ticks\": \"\"}, \"bgcolor\": \"#E5ECF6\", \"caxis\": {\"gridcolor\": \"white\", \"linecolor\": \"white\", \"ticks\": \"\"}}, \"title\": {\"x\": 0.05}, \"xaxis\": {\"automargin\": true, \"gridcolor\": \"white\", \"linecolor\": \"white\", \"ticks\": \"\", \"title\": {\"standoff\": 15}, \"zerolinecolor\": \"white\", \"zerolinewidth\": 2}, \"yaxis\": {\"automargin\": true, \"gridcolor\": \"white\", \"linecolor\": \"white\", \"ticks\": \"\", \"title\": {\"standoff\": 15}, \"zerolinecolor\": \"white\", \"zerolinewidth\": 2}}}, \"title\": {\"text\": \"Data Distribution at Species Level\"}, \"xaxis\": {\"anchor\": \"y\", \"domain\": [0.0, 1.0]}, \"yaxis\": {\"anchor\": \"x\", \"domain\": [0.0, 1.0], \"title\": {\"text\": \"image count\"}}},\n",
       "                        {\"responsive\": true}\n",
       "                    ).then(function(){\n",
       "                            \n",
       "var gd = document.getElementById('876500ec-6f4a-40d1-be90-415e53b5e118');\n",
       "var x = new MutationObserver(function (mutations, observer) {{\n",
       "        var display = window.getComputedStyle(gd).display;\n",
       "        if (!display || display === 'none') {{\n",
       "            console.log([gd, 'removed!']);\n",
       "            Plotly.purge(gd);\n",
       "            observer.disconnect();\n",
       "        }}\n",
       "}});\n",
       "\n",
       "// Listen for the removal of the full notebook cells\n",
       "var notebookContainer = gd.closest('#notebook-container');\n",
       "if (notebookContainer) {{\n",
       "    x.observe(notebookContainer, {childList: true});\n",
       "}}\n",
       "\n",
       "// Listen for the clearing of the current output cell\n",
       "var outputEl = gd.closest('.output');\n",
       "if (outputEl) {{\n",
       "    x.observe(outputEl, {childList: true});\n",
       "}}\n",
       "\n",
       "                        })\n",
       "                };\n",
       "                \n",
       "            </script>\n",
       "        </div>\n",
       "</body>\n",
       "</html>"
      ]
     },
     "metadata": {
      "tags": []
     },
     "output_type": "display_data"
    }
   ],
   "source": [
    "# species plot\n",
    "fig = px.box(species_count, y='count',\n",
    "             title='Data Distribution at Species Level')\n",
    "fig.update_layout(\n",
    "    yaxis_title='image count',\n",
    ")\n",
    "fig.show()"
   ]
  },
  {
   "cell_type": "code",
   "execution_count": null,
   "metadata": {
    "colab": {
     "base_uri": "https://localhost:8080/",
     "height": 542
    },
    "id": "6VCEBJa-frhm",
    "outputId": "88fd3655-ea24-4e9d-a8f3-f5e12b3d8959"
   },
   "outputs": [
    {
     "data": {
      "text/html": [
       "<html>\n",
       "<head><meta charset=\"utf-8\" /></head>\n",
       "<body>\n",
       "    <div>\n",
       "            <script src=\"https://cdnjs.cloudflare.com/ajax/libs/mathjax/2.7.5/MathJax.js?config=TeX-AMS-MML_SVG\"></script><script type=\"text/javascript\">if (window.MathJax) {MathJax.Hub.Config({SVG: {font: \"STIX-Web\"}});}</script>\n",
       "                <script type=\"text/javascript\">window.PlotlyConfig = {MathJaxConfig: 'local'};</script>\n",
       "        <script src=\"https://cdn.plot.ly/plotly-latest.min.js\"></script>    \n",
       "            <div id=\"2366142a-9cf6-4ec2-b8fe-0c19d518d5dd\" class=\"plotly-graph-div\" style=\"height:525px; width:100%;\"></div>\n",
       "            <script type=\"text/javascript\">\n",
       "                \n",
       "                    window.PLOTLYENV=window.PLOTLYENV || {};\n",
       "                    \n",
       "                if (document.getElementById(\"2366142a-9cf6-4ec2-b8fe-0c19d518d5dd\")) {\n",
       "                    Plotly.newPlot(\n",
       "                        '2366142a-9cf6-4ec2-b8fe-0c19d518d5dd',\n",
       "                        [{\"alignmentgroup\": \"True\", \"hoverlabel\": {\"namelength\": 0}, \"hovertemplate\": \"count=%{y}\", \"legendgroup\": \"\", \"marker\": {\"color\": \"#636efa\"}, \"name\": \"\", \"notched\": false, \"offsetgroup\": \"\", \"orientation\": \"v\", \"showlegend\": false, \"type\": \"box\", \"x0\": \" \", \"xaxis\": \"x\", \"y\": [12, 44, 25, 5, 22, 636, 231, 443, 1, 63, 17, 20, 2, 106, 17, 11, 257, 1, 32, 36, 8, 86, 25, 3, 32, 3, 5, 3, 42, 458, 1115, 1, 3, 2, 71, 878, 41, 4, 20, 30, 45, 7, 7, 393, 88, 83, 11, 20, 36, 1, 55, 147, 67, 18, 125, 75, 551, 26, 76, 75, 16, 1351, 145, 565, 78, 4, 8, 46, 346, 42, 30, 409, 34, 2, 371, 1179, 19, 42, 190, 19, 491, 9, 5, 1133, 2, 46, 2, 234, 193, 161, 61, 108, 85, 798, 9, 3, 66, 70, 7, 631, 34, 595, 27, 279, 245, 315, 391, 258, 1, 26, 692, 104, 5, 5, 61, 26, 61, 2, 456, 225, 1, 3, 2, 182, 150, 19, 1372, 115, 5, 233, 12, 7, 1, 4, 54, 159, 78, 2, 16, 9, 52, 5, 11, 225, 73, 22, 2, 51, 50, 4, 10, 536, 8, 7, 88, 1, 39, 9, 11, 18, 31, 82, 277, 13, 1, 55, 6, 9, 7, 259, 1, 2, 365, 227, 121, 144, 2, 93, 1, 168, 200, 1, 30, 283, 17, 1155, 54, 14, 54, 42, 2, 11, 369, 86, 5, 6, 150, 2299, 110, 72, 93, 318, 35, 52, 58, 4, 85, 175, 10, 3, 586, 2743, 25, 2098, 2672, 382, 2, 16, 2638, 63, 52, 320, 457, 1355, 1530, 1479, 360, 34, 34, 301, 118, 119, 1, 737, 59, 261, 134, 34, 1327, 170, 371, 87, 576, 108, 50, 26, 106, 980, 920, 352, 1247, 171, 10, 96, 123, 404, 14, 155, 21, 1, 61, 628, 43, 91, 16, 189, 36, 151, 5, 2180, 239, 382, 45, 728, 146, 763, 111, 63, 36, 230, 164, 758, 1068, 27, 186, 26, 590, 24, 249, 1039, 1055, 791, 370, 504, 133, 1095, 1123, 950, 812, 422, 90, 1164, 6, 1054, 495, 435, 1154, 1033, 2562, 237, 594, 285, 6, 15, 13, 71, 414, 188, 265, 67, 1161, 47, 2, 33, 6, 17, 9, 42, 55, 20, 33, 33, 375, 10, 3, 15, 168, 2, 29, 171, 5, 44, 7, 57, 8, 98, 49, 79, 2647, 1, 1791, 33, 978, 53, 6, 21, 24, 331, 1082, 7, 1081, 5, 75, 14, 6, 256, 1498, 26, 23, 198, 850, 21, 523, 899, 4008, 28, 1176, 649, 240, 183, 55, 63, 25, 605, 519, 455, 357, 72, 58, 443, 820, 2130, 192, 1097, 558, 243, 795, 1008, 155, 1128, 1151, 228, 617, 1949, 685, 1, 1121, 281, 107, 365, 589, 296, 414, 2072, 76, 1072, 59, 1258, 1132, 511, 3085, 197, 38, 1127, 885, 236, 1777, 168, 938, 1061, 3165, 1060, 1120, 253, 65, 1152, 1276, 1156, 36, 1145, 1167, 1174, 1146, 1604, 914, 3274, 561, 1789, 2312, 136, 794, 1856, 2369, 1147, 1152, 512, 183, 2403, 3129, 493, 680, 1119, 18, 1824, 1156, 3384, 345, 454, 1472, 2060, 32, 875, 75, 159, 406, 325, 663, 679, 508, 3, 427, 316, 532, 839, 11, 2007, 1160, 764, 1, 1159, 1088, 978, 648, 333, 1136, 538, 1359, 710, 776, 1571, 1113, 33, 402, 125, 815, 567, 813, 885, 1148, 1579, 1132, 864, 1163, 296, 1724, 195, 1352, 329, 1110, 1108, 310, 33, 222, 14, 612, 1126, 94, 602, 704, 97, 143, 3772, 1579, 310, 110, 196, 60, 141, 314, 2326, 1108, 342, 1111, 1115, 233, 611, 1131, 146, 890, 1375, 554, 135, 1248, 461, 23, 495, 1573, 25, 424, 681, 1176, 1666, 42, 215, 210, 21, 259, 1067, 245, 287, 2180, 1135, 725, 1360, 366, 1209, 499, 1105, 1854, 315, 1165, 1135, 1142, 218, 1616, 900, 351, 539, 1301, 1293, 1297, 1148, 1742, 362, 501, 1585, 889, 2341, 243, 42, 117, 189, 1185, 18, 429, 3441, 521, 486, 652, 1624, 665, 249, 418, 2646, 1845, 1015, 1702, 1169, 1166, 1246, 1167, 1, 2536, 1196, 1146, 2302, 2340, 1158, 1188, 1171, 1159, 3886, 1081, 1639, 1026, 804, 1102, 990, 778, 1020, 1090, 2253, 624, 227, 5418, 228, 73, 1100, 21, 1163, 53, 2, 269, 1053, 58, 383, 9, 117, 21, 106, 111, 8, 498, 263, 363, 305, 1160, 10585, 763, 270, 178, 1625, 18, 345, 584, 178, 1128, 183, 3242, 300, 120, 1100, 2029, 584, 330, 97, 371, 283, 229, 45, 1053, 196, 161, 477, 288, 1023, 509, 498, 645, 93, 223, 77, 8, 1728, 779, 793, 764, 605, 99, 436, 146, 1631, 1387, 138, 1759, 783, 1622, 611, 648, 1148, 913, 10381, 574, 1041, 2028, 1587, 552, 400, 12, 598, 79, 424, 394, 2279, 552, 1254, 60, 1044, 852, 452, 1679, 172, 30, 85, 1121, 187, 2579, 1515, 1133, 72, 1119, 2531, 2051, 1087, 686, 521, 137, 450, 119, 11, 611, 420, 595, 1022, 87, 2229, 238, 3, 303, 29, 33, 26, 103, 383, 113, 115, 68, 78, 10, 128, 171, 161, 153, 197, 255, 2461, 373, 257, 178, 82, 158, 1837, 120, 621, 78, 106, 46, 30, 15, 161, 922, 329, 233, 24, 69, 22, 513, 365, 362, 151, 15, 307, 88, 24, 11, 56, 119, 11, 14, 3, 1373, 319, 380, 373, 1210, 1147, 583, 8, 542, 1147, 386, 124, 356, 63, 5, 21, 151, 11, 347, 1622, 860, 17, 1874, 5, 33, 93, 62, 65, 619, 270, 1103, 1138, 339, 156, 2, 1038, 2151, 1925, 1132, 58, 448, 13, 32, 134, 2, 1, 2186, 217, 149, 452, 349, 790, 81, 408, 3809, 8, 480, 509, 59, 117, 8, 1, 2, 2, 363, 81, 42, 8, 411, 854, 94, 124, 874, 211, 62, 1169, 197, 128, 206, 321, 157, 1069, 1011, 10, 54], \"y0\": \" \", \"yaxis\": \"y\"}],\n",
       "                        {\"boxmode\": \"group\", \"legend\": {\"tracegroupgap\": 0}, \"template\": {\"data\": {\"bar\": [{\"error_x\": {\"color\": \"#2a3f5f\"}, \"error_y\": {\"color\": \"#2a3f5f\"}, \"marker\": {\"line\": {\"color\": \"#E5ECF6\", \"width\": 0.5}}, \"type\": \"bar\"}], \"barpolar\": [{\"marker\": {\"line\": {\"color\": \"#E5ECF6\", \"width\": 0.5}}, \"type\": \"barpolar\"}], \"carpet\": [{\"aaxis\": {\"endlinecolor\": \"#2a3f5f\", \"gridcolor\": \"white\", \"linecolor\": \"white\", \"minorgridcolor\": \"white\", \"startlinecolor\": \"#2a3f5f\"}, \"baxis\": {\"endlinecolor\": \"#2a3f5f\", \"gridcolor\": \"white\", \"linecolor\": \"white\", \"minorgridcolor\": \"white\", \"startlinecolor\": \"#2a3f5f\"}, \"type\": \"carpet\"}], \"choropleth\": [{\"colorbar\": {\"outlinewidth\": 0, \"ticks\": \"\"}, \"type\": \"choropleth\"}], \"contour\": [{\"colorbar\": {\"outlinewidth\": 0, \"ticks\": \"\"}, \"colorscale\": [[0.0, \"#0d0887\"], [0.1111111111111111, \"#46039f\"], [0.2222222222222222, \"#7201a8\"], [0.3333333333333333, \"#9c179e\"], [0.4444444444444444, \"#bd3786\"], [0.5555555555555556, \"#d8576b\"], [0.6666666666666666, \"#ed7953\"], [0.7777777777777778, \"#fb9f3a\"], [0.8888888888888888, \"#fdca26\"], [1.0, \"#f0f921\"]], \"type\": \"contour\"}], \"contourcarpet\": [{\"colorbar\": {\"outlinewidth\": 0, \"ticks\": \"\"}, \"type\": \"contourcarpet\"}], \"heatmap\": [{\"colorbar\": {\"outlinewidth\": 0, \"ticks\": \"\"}, \"colorscale\": [[0.0, \"#0d0887\"], [0.1111111111111111, \"#46039f\"], [0.2222222222222222, \"#7201a8\"], [0.3333333333333333, \"#9c179e\"], [0.4444444444444444, \"#bd3786\"], [0.5555555555555556, \"#d8576b\"], [0.6666666666666666, \"#ed7953\"], [0.7777777777777778, \"#fb9f3a\"], [0.8888888888888888, \"#fdca26\"], [1.0, \"#f0f921\"]], \"type\": \"heatmap\"}], \"heatmapgl\": [{\"colorbar\": {\"outlinewidth\": 0, \"ticks\": \"\"}, \"colorscale\": [[0.0, \"#0d0887\"], [0.1111111111111111, \"#46039f\"], [0.2222222222222222, \"#7201a8\"], [0.3333333333333333, \"#9c179e\"], [0.4444444444444444, \"#bd3786\"], [0.5555555555555556, \"#d8576b\"], [0.6666666666666666, \"#ed7953\"], [0.7777777777777778, \"#fb9f3a\"], [0.8888888888888888, \"#fdca26\"], [1.0, \"#f0f921\"]], \"type\": \"heatmapgl\"}], \"histogram\": [{\"marker\": {\"colorbar\": {\"outlinewidth\": 0, \"ticks\": \"\"}}, \"type\": \"histogram\"}], \"histogram2d\": [{\"colorbar\": {\"outlinewidth\": 0, \"ticks\": \"\"}, \"colorscale\": [[0.0, \"#0d0887\"], [0.1111111111111111, \"#46039f\"], [0.2222222222222222, \"#7201a8\"], [0.3333333333333333, \"#9c179e\"], [0.4444444444444444, \"#bd3786\"], [0.5555555555555556, \"#d8576b\"], [0.6666666666666666, \"#ed7953\"], [0.7777777777777778, \"#fb9f3a\"], [0.8888888888888888, \"#fdca26\"], [1.0, \"#f0f921\"]], \"type\": \"histogram2d\"}], \"histogram2dcontour\": [{\"colorbar\": {\"outlinewidth\": 0, \"ticks\": \"\"}, \"colorscale\": [[0.0, \"#0d0887\"], [0.1111111111111111, \"#46039f\"], [0.2222222222222222, \"#7201a8\"], [0.3333333333333333, \"#9c179e\"], [0.4444444444444444, \"#bd3786\"], [0.5555555555555556, \"#d8576b\"], [0.6666666666666666, \"#ed7953\"], [0.7777777777777778, \"#fb9f3a\"], [0.8888888888888888, \"#fdca26\"], [1.0, \"#f0f921\"]], \"type\": \"histogram2dcontour\"}], \"mesh3d\": [{\"colorbar\": {\"outlinewidth\": 0, \"ticks\": \"\"}, \"type\": \"mesh3d\"}], \"parcoords\": [{\"line\": {\"colorbar\": {\"outlinewidth\": 0, \"ticks\": \"\"}}, \"type\": \"parcoords\"}], \"pie\": [{\"automargin\": true, \"type\": \"pie\"}], \"scatter\": [{\"marker\": {\"colorbar\": {\"outlinewidth\": 0, \"ticks\": \"\"}}, \"type\": \"scatter\"}], \"scatter3d\": [{\"line\": {\"colorbar\": {\"outlinewidth\": 0, \"ticks\": \"\"}}, \"marker\": {\"colorbar\": {\"outlinewidth\": 0, \"ticks\": \"\"}}, \"type\": \"scatter3d\"}], \"scattercarpet\": [{\"marker\": {\"colorbar\": {\"outlinewidth\": 0, \"ticks\": \"\"}}, \"type\": \"scattercarpet\"}], \"scattergeo\": [{\"marker\": {\"colorbar\": {\"outlinewidth\": 0, \"ticks\": \"\"}}, \"type\": \"scattergeo\"}], \"scattergl\": [{\"marker\": {\"colorbar\": {\"outlinewidth\": 0, \"ticks\": \"\"}}, \"type\": \"scattergl\"}], \"scattermapbox\": [{\"marker\": {\"colorbar\": {\"outlinewidth\": 0, \"ticks\": \"\"}}, \"type\": \"scattermapbox\"}], \"scatterpolar\": [{\"marker\": {\"colorbar\": {\"outlinewidth\": 0, \"ticks\": \"\"}}, \"type\": \"scatterpolar\"}], \"scatterpolargl\": [{\"marker\": {\"colorbar\": {\"outlinewidth\": 0, \"ticks\": \"\"}}, \"type\": \"scatterpolargl\"}], \"scatterternary\": [{\"marker\": {\"colorbar\": {\"outlinewidth\": 0, \"ticks\": \"\"}}, \"type\": \"scatterternary\"}], \"surface\": [{\"colorbar\": {\"outlinewidth\": 0, \"ticks\": \"\"}, \"colorscale\": [[0.0, \"#0d0887\"], [0.1111111111111111, \"#46039f\"], [0.2222222222222222, \"#7201a8\"], [0.3333333333333333, \"#9c179e\"], [0.4444444444444444, \"#bd3786\"], [0.5555555555555556, \"#d8576b\"], [0.6666666666666666, \"#ed7953\"], [0.7777777777777778, \"#fb9f3a\"], [0.8888888888888888, \"#fdca26\"], [1.0, \"#f0f921\"]], \"type\": \"surface\"}], \"table\": [{\"cells\": {\"fill\": {\"color\": \"#EBF0F8\"}, \"line\": {\"color\": \"white\"}}, \"header\": {\"fill\": {\"color\": \"#C8D4E3\"}, \"line\": {\"color\": \"white\"}}, \"type\": \"table\"}]}, \"layout\": {\"annotationdefaults\": {\"arrowcolor\": \"#2a3f5f\", \"arrowhead\": 0, \"arrowwidth\": 1}, \"coloraxis\": {\"colorbar\": {\"outlinewidth\": 0, \"ticks\": \"\"}}, \"colorscale\": {\"diverging\": [[0, \"#8e0152\"], [0.1, \"#c51b7d\"], [0.2, \"#de77ae\"], [0.3, \"#f1b6da\"], [0.4, \"#fde0ef\"], [0.5, \"#f7f7f7\"], [0.6, \"#e6f5d0\"], [0.7, \"#b8e186\"], [0.8, \"#7fbc41\"], [0.9, \"#4d9221\"], [1, \"#276419\"]], \"sequential\": [[0.0, \"#0d0887\"], [0.1111111111111111, \"#46039f\"], [0.2222222222222222, \"#7201a8\"], [0.3333333333333333, \"#9c179e\"], [0.4444444444444444, \"#bd3786\"], [0.5555555555555556, \"#d8576b\"], [0.6666666666666666, \"#ed7953\"], [0.7777777777777778, \"#fb9f3a\"], [0.8888888888888888, \"#fdca26\"], [1.0, \"#f0f921\"]], \"sequentialminus\": [[0.0, \"#0d0887\"], [0.1111111111111111, \"#46039f\"], [0.2222222222222222, \"#7201a8\"], [0.3333333333333333, \"#9c179e\"], [0.4444444444444444, \"#bd3786\"], [0.5555555555555556, \"#d8576b\"], [0.6666666666666666, \"#ed7953\"], [0.7777777777777778, \"#fb9f3a\"], [0.8888888888888888, \"#fdca26\"], [1.0, \"#f0f921\"]]}, \"colorway\": [\"#636efa\", \"#EF553B\", \"#00cc96\", \"#ab63fa\", \"#FFA15A\", \"#19d3f3\", \"#FF6692\", \"#B6E880\", \"#FF97FF\", \"#FECB52\"], \"font\": {\"color\": \"#2a3f5f\"}, \"geo\": {\"bgcolor\": \"white\", \"lakecolor\": \"white\", \"landcolor\": \"#E5ECF6\", \"showlakes\": true, \"showland\": true, \"subunitcolor\": \"white\"}, \"hoverlabel\": {\"align\": \"left\"}, \"hovermode\": \"closest\", \"mapbox\": {\"style\": \"light\"}, \"paper_bgcolor\": \"white\", \"plot_bgcolor\": \"#E5ECF6\", \"polar\": {\"angularaxis\": {\"gridcolor\": \"white\", \"linecolor\": \"white\", \"ticks\": \"\"}, \"bgcolor\": \"#E5ECF6\", \"radialaxis\": {\"gridcolor\": \"white\", \"linecolor\": \"white\", \"ticks\": \"\"}}, \"scene\": {\"xaxis\": {\"backgroundcolor\": \"#E5ECF6\", \"gridcolor\": \"white\", \"gridwidth\": 2, \"linecolor\": \"white\", \"showbackground\": true, \"ticks\": \"\", \"zerolinecolor\": \"white\"}, \"yaxis\": {\"backgroundcolor\": \"#E5ECF6\", \"gridcolor\": \"white\", \"gridwidth\": 2, \"linecolor\": \"white\", \"showbackground\": true, \"ticks\": \"\", \"zerolinecolor\": \"white\"}, \"zaxis\": {\"backgroundcolor\": \"#E5ECF6\", \"gridcolor\": \"white\", \"gridwidth\": 2, \"linecolor\": \"white\", \"showbackground\": true, \"ticks\": \"\", \"zerolinecolor\": \"white\"}}, \"shapedefaults\": {\"line\": {\"color\": \"#2a3f5f\"}}, \"ternary\": {\"aaxis\": {\"gridcolor\": \"white\", \"linecolor\": \"white\", \"ticks\": \"\"}, \"baxis\": {\"gridcolor\": \"white\", \"linecolor\": \"white\", \"ticks\": \"\"}, \"bgcolor\": \"#E5ECF6\", \"caxis\": {\"gridcolor\": \"white\", \"linecolor\": \"white\", \"ticks\": \"\"}}, \"title\": {\"x\": 0.05}, \"xaxis\": {\"automargin\": true, \"gridcolor\": \"white\", \"linecolor\": \"white\", \"ticks\": \"\", \"title\": {\"standoff\": 15}, \"zerolinecolor\": \"white\", \"zerolinewidth\": 2}, \"yaxis\": {\"automargin\": true, \"gridcolor\": \"white\", \"linecolor\": \"white\", \"ticks\": \"\", \"title\": {\"standoff\": 15}, \"zerolinecolor\": \"white\", \"zerolinewidth\": 2}}}, \"title\": {\"text\": \"Data Distribution at Genus Level\"}, \"xaxis\": {\"anchor\": \"y\", \"domain\": [0.0, 1.0]}, \"yaxis\": {\"anchor\": \"x\", \"domain\": [0.0, 1.0], \"title\": {\"text\": \"image count\"}}},\n",
       "                        {\"responsive\": true}\n",
       "                    ).then(function(){\n",
       "                            \n",
       "var gd = document.getElementById('2366142a-9cf6-4ec2-b8fe-0c19d518d5dd');\n",
       "var x = new MutationObserver(function (mutations, observer) {{\n",
       "        var display = window.getComputedStyle(gd).display;\n",
       "        if (!display || display === 'none') {{\n",
       "            console.log([gd, 'removed!']);\n",
       "            Plotly.purge(gd);\n",
       "            observer.disconnect();\n",
       "        }}\n",
       "}});\n",
       "\n",
       "// Listen for the removal of the full notebook cells\n",
       "var notebookContainer = gd.closest('#notebook-container');\n",
       "if (notebookContainer) {{\n",
       "    x.observe(notebookContainer, {childList: true});\n",
       "}}\n",
       "\n",
       "// Listen for the clearing of the current output cell\n",
       "var outputEl = gd.closest('.output');\n",
       "if (outputEl) {{\n",
       "    x.observe(outputEl, {childList: true});\n",
       "}}\n",
       "\n",
       "                        })\n",
       "                };\n",
       "                \n",
       "            </script>\n",
       "        </div>\n",
       "</body>\n",
       "</html>"
      ]
     },
     "metadata": {
      "tags": []
     },
     "output_type": "display_data"
    }
   ],
   "source": [
    "# genus plot\n",
    "fig = px.box(genus_count, y='count',\n",
    "             title='Data Distribution at Genus Level')\n",
    "fig.update_layout(\n",
    "    yaxis_title='image count',\n",
    ")\n",
    "fig.show()"
   ]
  },
  {
   "cell_type": "code",
   "execution_count": null,
   "metadata": {
    "colab": {
     "base_uri": "https://localhost:8080/",
     "height": 542
    },
    "id": "BUHFCl50fsDL",
    "outputId": "5fb41cf7-0fbd-43e4-85c0-f1a158fcc42b"
   },
   "outputs": [
    {
     "data": {
      "text/html": [
       "<html>\n",
       "<head><meta charset=\"utf-8\" /></head>\n",
       "<body>\n",
       "    <div>\n",
       "            <script src=\"https://cdnjs.cloudflare.com/ajax/libs/mathjax/2.7.5/MathJax.js?config=TeX-AMS-MML_SVG\"></script><script type=\"text/javascript\">if (window.MathJax) {MathJax.Hub.Config({SVG: {font: \"STIX-Web\"}});}</script>\n",
       "                <script type=\"text/javascript\">window.PlotlyConfig = {MathJaxConfig: 'local'};</script>\n",
       "        <script src=\"https://cdn.plot.ly/plotly-latest.min.js\"></script>    \n",
       "            <div id=\"6cbab452-1ef8-49cd-a653-19ea15142af4\" class=\"plotly-graph-div\" style=\"height:525px; width:100%;\"></div>\n",
       "            <script type=\"text/javascript\">\n",
       "                \n",
       "                    window.PLOTLYENV=window.PLOTLYENV || {};\n",
       "                    \n",
       "                if (document.getElementById(\"6cbab452-1ef8-49cd-a653-19ea15142af4\")) {\n",
       "                    Plotly.newPlot(\n",
       "                        '6cbab452-1ef8-49cd-a653-19ea15142af4',\n",
       "                        [{\"alignmentgroup\": \"True\", \"hoverlabel\": {\"namelength\": 0}, \"hovertemplate\": \"count=%{y}\", \"legendgroup\": \"\", \"marker\": {\"color\": \"#636efa\"}, \"name\": \"\", \"notched\": false, \"offsetgroup\": \"\", \"orientation\": \"v\", \"showlegend\": false, \"type\": \"box\", \"x0\": \" \", \"xaxis\": \"x\", \"y\": [12, 74, 889, 652, 17, 11, 258, 76, 94, 60, 3, 1625, 3, 1939, 67, 3549, 475, 371, 1198, 251, 491, 14, 1133, 2, 46, 2, 649, 108, 1703, 2933, 841, 3617, 142, 277, 14, 61, 276, 2, 365, 227, 2269, 68, 42, 2, 11, 616, 33307, 1637, 2669, 6973, 1031, 812, 13020, 48023, 235, 5131, 5286, 1373, 65, 9950, 31205, 799, 87403, 16667, 90031, 1011, 1981, 115224, 363], \"y0\": \" \", \"yaxis\": \"y\"}],\n",
       "                        {\"boxmode\": \"group\", \"legend\": {\"tracegroupgap\": 0}, \"template\": {\"data\": {\"bar\": [{\"error_x\": {\"color\": \"#2a3f5f\"}, \"error_y\": {\"color\": \"#2a3f5f\"}, \"marker\": {\"line\": {\"color\": \"#E5ECF6\", \"width\": 0.5}}, \"type\": \"bar\"}], \"barpolar\": [{\"marker\": {\"line\": {\"color\": \"#E5ECF6\", \"width\": 0.5}}, \"type\": \"barpolar\"}], \"carpet\": [{\"aaxis\": {\"endlinecolor\": \"#2a3f5f\", \"gridcolor\": \"white\", \"linecolor\": \"white\", \"minorgridcolor\": \"white\", \"startlinecolor\": \"#2a3f5f\"}, \"baxis\": {\"endlinecolor\": \"#2a3f5f\", \"gridcolor\": \"white\", \"linecolor\": \"white\", \"minorgridcolor\": \"white\", \"startlinecolor\": \"#2a3f5f\"}, \"type\": \"carpet\"}], \"choropleth\": [{\"colorbar\": {\"outlinewidth\": 0, \"ticks\": \"\"}, \"type\": \"choropleth\"}], \"contour\": [{\"colorbar\": {\"outlinewidth\": 0, \"ticks\": \"\"}, \"colorscale\": [[0.0, \"#0d0887\"], [0.1111111111111111, \"#46039f\"], [0.2222222222222222, \"#7201a8\"], [0.3333333333333333, \"#9c179e\"], [0.4444444444444444, \"#bd3786\"], [0.5555555555555556, \"#d8576b\"], [0.6666666666666666, \"#ed7953\"], [0.7777777777777778, \"#fb9f3a\"], [0.8888888888888888, \"#fdca26\"], [1.0, \"#f0f921\"]], \"type\": \"contour\"}], \"contourcarpet\": [{\"colorbar\": {\"outlinewidth\": 0, \"ticks\": \"\"}, \"type\": \"contourcarpet\"}], \"heatmap\": [{\"colorbar\": {\"outlinewidth\": 0, \"ticks\": \"\"}, \"colorscale\": [[0.0, \"#0d0887\"], [0.1111111111111111, \"#46039f\"], [0.2222222222222222, \"#7201a8\"], [0.3333333333333333, \"#9c179e\"], [0.4444444444444444, \"#bd3786\"], [0.5555555555555556, \"#d8576b\"], [0.6666666666666666, \"#ed7953\"], [0.7777777777777778, \"#fb9f3a\"], [0.8888888888888888, \"#fdca26\"], [1.0, \"#f0f921\"]], \"type\": \"heatmap\"}], \"heatmapgl\": [{\"colorbar\": {\"outlinewidth\": 0, \"ticks\": \"\"}, \"colorscale\": [[0.0, \"#0d0887\"], [0.1111111111111111, \"#46039f\"], [0.2222222222222222, \"#7201a8\"], [0.3333333333333333, \"#9c179e\"], [0.4444444444444444, \"#bd3786\"], [0.5555555555555556, \"#d8576b\"], [0.6666666666666666, \"#ed7953\"], [0.7777777777777778, \"#fb9f3a\"], [0.8888888888888888, \"#fdca26\"], [1.0, \"#f0f921\"]], \"type\": \"heatmapgl\"}], \"histogram\": [{\"marker\": {\"colorbar\": {\"outlinewidth\": 0, \"ticks\": \"\"}}, \"type\": \"histogram\"}], \"histogram2d\": [{\"colorbar\": {\"outlinewidth\": 0, \"ticks\": \"\"}, \"colorscale\": [[0.0, \"#0d0887\"], [0.1111111111111111, \"#46039f\"], [0.2222222222222222, \"#7201a8\"], [0.3333333333333333, \"#9c179e\"], [0.4444444444444444, \"#bd3786\"], [0.5555555555555556, \"#d8576b\"], [0.6666666666666666, \"#ed7953\"], [0.7777777777777778, \"#fb9f3a\"], [0.8888888888888888, \"#fdca26\"], [1.0, \"#f0f921\"]], \"type\": \"histogram2d\"}], \"histogram2dcontour\": [{\"colorbar\": {\"outlinewidth\": 0, \"ticks\": \"\"}, \"colorscale\": [[0.0, \"#0d0887\"], [0.1111111111111111, \"#46039f\"], [0.2222222222222222, \"#7201a8\"], [0.3333333333333333, \"#9c179e\"], [0.4444444444444444, \"#bd3786\"], [0.5555555555555556, \"#d8576b\"], [0.6666666666666666, \"#ed7953\"], [0.7777777777777778, \"#fb9f3a\"], [0.8888888888888888, \"#fdca26\"], [1.0, \"#f0f921\"]], \"type\": \"histogram2dcontour\"}], \"mesh3d\": [{\"colorbar\": {\"outlinewidth\": 0, \"ticks\": \"\"}, \"type\": \"mesh3d\"}], \"parcoords\": [{\"line\": {\"colorbar\": {\"outlinewidth\": 0, \"ticks\": \"\"}}, \"type\": \"parcoords\"}], \"pie\": [{\"automargin\": true, \"type\": \"pie\"}], \"scatter\": [{\"marker\": {\"colorbar\": {\"outlinewidth\": 0, \"ticks\": \"\"}}, \"type\": \"scatter\"}], \"scatter3d\": [{\"line\": {\"colorbar\": {\"outlinewidth\": 0, \"ticks\": \"\"}}, \"marker\": {\"colorbar\": {\"outlinewidth\": 0, \"ticks\": \"\"}}, \"type\": \"scatter3d\"}], \"scattercarpet\": [{\"marker\": {\"colorbar\": {\"outlinewidth\": 0, \"ticks\": \"\"}}, \"type\": \"scattercarpet\"}], \"scattergeo\": [{\"marker\": {\"colorbar\": {\"outlinewidth\": 0, \"ticks\": \"\"}}, \"type\": \"scattergeo\"}], \"scattergl\": [{\"marker\": {\"colorbar\": {\"outlinewidth\": 0, \"ticks\": \"\"}}, \"type\": \"scattergl\"}], \"scattermapbox\": [{\"marker\": {\"colorbar\": {\"outlinewidth\": 0, \"ticks\": \"\"}}, \"type\": \"scattermapbox\"}], \"scatterpolar\": [{\"marker\": {\"colorbar\": {\"outlinewidth\": 0, \"ticks\": \"\"}}, \"type\": \"scatterpolar\"}], \"scatterpolargl\": [{\"marker\": {\"colorbar\": {\"outlinewidth\": 0, \"ticks\": \"\"}}, \"type\": \"scatterpolargl\"}], \"scatterternary\": [{\"marker\": {\"colorbar\": {\"outlinewidth\": 0, \"ticks\": \"\"}}, \"type\": \"scatterternary\"}], \"surface\": [{\"colorbar\": {\"outlinewidth\": 0, \"ticks\": \"\"}, \"colorscale\": [[0.0, \"#0d0887\"], [0.1111111111111111, \"#46039f\"], [0.2222222222222222, \"#7201a8\"], [0.3333333333333333, \"#9c179e\"], [0.4444444444444444, \"#bd3786\"], [0.5555555555555556, \"#d8576b\"], [0.6666666666666666, \"#ed7953\"], [0.7777777777777778, \"#fb9f3a\"], [0.8888888888888888, \"#fdca26\"], [1.0, \"#f0f921\"]], \"type\": \"surface\"}], \"table\": [{\"cells\": {\"fill\": {\"color\": \"#EBF0F8\"}, \"line\": {\"color\": \"white\"}}, \"header\": {\"fill\": {\"color\": \"#C8D4E3\"}, \"line\": {\"color\": \"white\"}}, \"type\": \"table\"}]}, \"layout\": {\"annotationdefaults\": {\"arrowcolor\": \"#2a3f5f\", \"arrowhead\": 0, \"arrowwidth\": 1}, \"coloraxis\": {\"colorbar\": {\"outlinewidth\": 0, \"ticks\": \"\"}}, \"colorscale\": {\"diverging\": [[0, \"#8e0152\"], [0.1, \"#c51b7d\"], [0.2, \"#de77ae\"], [0.3, \"#f1b6da\"], [0.4, \"#fde0ef\"], [0.5, \"#f7f7f7\"], [0.6, \"#e6f5d0\"], [0.7, \"#b8e186\"], [0.8, \"#7fbc41\"], [0.9, \"#4d9221\"], [1, \"#276419\"]], \"sequential\": [[0.0, \"#0d0887\"], [0.1111111111111111, \"#46039f\"], [0.2222222222222222, \"#7201a8\"], [0.3333333333333333, \"#9c179e\"], [0.4444444444444444, \"#bd3786\"], [0.5555555555555556, \"#d8576b\"], [0.6666666666666666, \"#ed7953\"], [0.7777777777777778, \"#fb9f3a\"], [0.8888888888888888, \"#fdca26\"], [1.0, \"#f0f921\"]], \"sequentialminus\": [[0.0, \"#0d0887\"], [0.1111111111111111, \"#46039f\"], [0.2222222222222222, \"#7201a8\"], [0.3333333333333333, \"#9c179e\"], [0.4444444444444444, \"#bd3786\"], [0.5555555555555556, \"#d8576b\"], [0.6666666666666666, \"#ed7953\"], [0.7777777777777778, \"#fb9f3a\"], [0.8888888888888888, \"#fdca26\"], [1.0, \"#f0f921\"]]}, \"colorway\": [\"#636efa\", \"#EF553B\", \"#00cc96\", \"#ab63fa\", \"#FFA15A\", \"#19d3f3\", \"#FF6692\", \"#B6E880\", \"#FF97FF\", \"#FECB52\"], \"font\": {\"color\": \"#2a3f5f\"}, \"geo\": {\"bgcolor\": \"white\", \"lakecolor\": \"white\", \"landcolor\": \"#E5ECF6\", \"showlakes\": true, \"showland\": true, \"subunitcolor\": \"white\"}, \"hoverlabel\": {\"align\": \"left\"}, \"hovermode\": \"closest\", \"mapbox\": {\"style\": \"light\"}, \"paper_bgcolor\": \"white\", \"plot_bgcolor\": \"#E5ECF6\", \"polar\": {\"angularaxis\": {\"gridcolor\": \"white\", \"linecolor\": \"white\", \"ticks\": \"\"}, \"bgcolor\": \"#E5ECF6\", \"radialaxis\": {\"gridcolor\": \"white\", \"linecolor\": \"white\", \"ticks\": \"\"}}, \"scene\": {\"xaxis\": {\"backgroundcolor\": \"#E5ECF6\", \"gridcolor\": \"white\", \"gridwidth\": 2, \"linecolor\": \"white\", \"showbackground\": true, \"ticks\": \"\", \"zerolinecolor\": \"white\"}, \"yaxis\": {\"backgroundcolor\": \"#E5ECF6\", \"gridcolor\": \"white\", \"gridwidth\": 2, \"linecolor\": \"white\", \"showbackground\": true, \"ticks\": \"\", \"zerolinecolor\": \"white\"}, \"zaxis\": {\"backgroundcolor\": \"#E5ECF6\", \"gridcolor\": \"white\", \"gridwidth\": 2, \"linecolor\": \"white\", \"showbackground\": true, \"ticks\": \"\", \"zerolinecolor\": \"white\"}}, \"shapedefaults\": {\"line\": {\"color\": \"#2a3f5f\"}}, \"ternary\": {\"aaxis\": {\"gridcolor\": \"white\", \"linecolor\": \"white\", \"ticks\": \"\"}, \"baxis\": {\"gridcolor\": \"white\", \"linecolor\": \"white\", \"ticks\": \"\"}, \"bgcolor\": \"#E5ECF6\", \"caxis\": {\"gridcolor\": \"white\", \"linecolor\": \"white\", \"ticks\": \"\"}}, \"title\": {\"x\": 0.05}, \"xaxis\": {\"automargin\": true, \"gridcolor\": \"white\", \"linecolor\": \"white\", \"ticks\": \"\", \"title\": {\"standoff\": 15}, \"zerolinecolor\": \"white\", \"zerolinewidth\": 2}, \"yaxis\": {\"automargin\": true, \"gridcolor\": \"white\", \"linecolor\": \"white\", \"ticks\": \"\", \"title\": {\"standoff\": 15}, \"zerolinecolor\": \"white\", \"zerolinewidth\": 2}}}, \"title\": {\"text\": \"Data Distribution at Family Level\"}, \"xaxis\": {\"anchor\": \"y\", \"domain\": [0.0, 1.0]}, \"yaxis\": {\"anchor\": \"x\", \"domain\": [0.0, 1.0], \"title\": {\"text\": \"image count\"}}},\n",
       "                        {\"responsive\": true}\n",
       "                    ).then(function(){\n",
       "                            \n",
       "var gd = document.getElementById('6cbab452-1ef8-49cd-a653-19ea15142af4');\n",
       "var x = new MutationObserver(function (mutations, observer) {{\n",
       "        var display = window.getComputedStyle(gd).display;\n",
       "        if (!display || display === 'none') {{\n",
       "            console.log([gd, 'removed!']);\n",
       "            Plotly.purge(gd);\n",
       "            observer.disconnect();\n",
       "        }}\n",
       "}});\n",
       "\n",
       "// Listen for the removal of the full notebook cells\n",
       "var notebookContainer = gd.closest('#notebook-container');\n",
       "if (notebookContainer) {{\n",
       "    x.observe(notebookContainer, {childList: true});\n",
       "}}\n",
       "\n",
       "// Listen for the clearing of the current output cell\n",
       "var outputEl = gd.closest('.output');\n",
       "if (outputEl) {{\n",
       "    x.observe(outputEl, {childList: true});\n",
       "}}\n",
       "\n",
       "                        })\n",
       "                };\n",
       "                \n",
       "            </script>\n",
       "        </div>\n",
       "</body>\n",
       "</html>"
      ]
     },
     "metadata": {
      "tags": []
     },
     "output_type": "display_data"
    }
   ],
   "source": [
    "# family plot\n",
    "fig = px.box(family_count, y='count',\n",
    "             title='Data Distribution at Family Level')\n",
    "fig.update_layout(\n",
    "    yaxis_title='image count',\n",
    ")\n",
    "fig.show()"
   ]
  },
  {
   "cell_type": "markdown",
   "metadata": {
    "id": "pmjIPIKFl0uz"
   },
   "source": [
    "Plotting the original data distribution at species level"
   ]
  },
  {
   "cell_type": "code",
   "execution_count": null,
   "metadata": {
    "colab": {
     "base_uri": "https://localhost:8080/",
     "height": 542
    },
    "id": "4uzWbE87lubT",
    "outputId": "31f0f9aa-6a80-49aa-bc3f-19e12fe2bb47"
   },
   "outputs": [
    {
     "data": {
      "text/html": [
       "<html>\n",
       "<head><meta charset=\"utf-8\" /></head>\n",
       "<body>\n",
       "    <div>\n",
       "            <script src=\"https://cdnjs.cloudflare.com/ajax/libs/mathjax/2.7.5/MathJax.js?config=TeX-AMS-MML_SVG\"></script><script type=\"text/javascript\">if (window.MathJax) {MathJax.Hub.Config({SVG: {font: \"STIX-Web\"}});}</script>\n",
       "                <script type=\"text/javascript\">window.PlotlyConfig = {MathJaxConfig: 'local'};</script>\n",
       "        <script src=\"https://cdn.plot.ly/plotly-latest.min.js\"></script>    \n",
       "            <div id=\"87625e8d-43f2-48aa-ab4b-083397043410\" class=\"plotly-graph-div\" style=\"height:525px; width:100%;\"></div>\n",
       "            <script type=\"text/javascript\">\n",
       "                \n",
       "                    window.PLOTLYENV=window.PLOTLYENV || {};\n",
       "                    \n",
       "                if (document.getElementById(\"87625e8d-43f2-48aa-ab4b-083397043410\")) {\n",
       "                    Plotly.newPlot(\n",
       "                        '87625e8d-43f2-48aa-ab4b-083397043410',\n",
       "                        [{\"alignmentgroup\": \"True\", \"hoverlabel\": {\"namelength\": 0}, \"hovertemplate\": \"2=%{y}\", \"legendgroup\": \"\", \"marker\": {\"color\": \"#636efa\"}, \"name\": \"\", \"notched\": false, \"offsetgroup\": \"\", \"orientation\": \"v\", \"showlegend\": false, \"type\": \"box\", \"x0\": \" \", \"xaxis\": \"x\", \"y\": [13, 58, 26, 0, 5, 5, 17, 92, 575, 77, 154, 15, 0, 56, 47, 49, 2, 7, 0, 1, 35, 45, 10, 10, 0, 0, 3, 43, 20, 2, 4, 0, 0, 12, 50, 6, 1, 0, 2, 0, 4, 24, 25, 0, 1, 64, 1, 18, 22, 1, 2, 0, 61, 0, 17, 5, 7, 0, 2, 8, 6, 0, 0, 7, 13, 1, 6, 5, 0, 265, 1, 3, 25, 3, 0, 0, 0, 10, 0, 1, 0, 21, 4, 0, 8, 54, 28, 14, 33, 5, 0, 16, 0, 16, 1, 2, 4, 5, 8, 53, 477, 1327, 1, 4, 2, 110, 427, 197, 0, 9, 1, 9, 1, 11, 0, 9, 3, 5, 10, 3, 9, 2, 0, 37, 0, 0, 0, 2, 48, 0, 6, 3, 8, 174, 10, 89, 18, 92, 66, 11, 0, 0, 98, 112, 14, 28, 53, 3, 85, 183, 1, 0, 0, 0, 0, 12, 0, 1, 8, 0, 0, 37, 1, 0, 0, 4, 0, 0, 4, 0, 0, 0, 11, 1, 22, 6, 0, 0, 0, 9, 1, 7, 1, 8, 4, 2, 1, 0, 1, 17, 0, 0, 0, 0, 4, 47, 0, 1, 0, 0, 2, 0, 4, 0, 0, 0, 0, 8, 0, 6, 0, 67, 10, 17, 0, 0, 0, 3, 60, 1, 44, 0, 364, 6, 60, 0, 0, 0, 2, 4, 1, 11, 34, 37, 40, 4, 47, 4, 29, 20, 20, 953, 57, 287, 0, 8, 96, 29, 18, 0, 4, 0, 0, 25, 1, 123, 88, 4, 1, 5, 3, 0, 0, 34, 6, 22, 0, 39, 15, 49, 0, 0, 0, 63, 81, 87, 8, 24, 8, 3, 36, 83, 4, 1, 0, 0, 0, 0, 0, 2, 1, 0, 0, 1, 1, 1, 1, 0, 35, 13, 2, 1, 32, 336, 72, 0, 0, 25, 11, 0, 0, 202, 0, 39, 2, 36, 314, 0, 40, 1, 0, 0, 0, 78, 3273, 19, 0, 44, 0, 0, 1, 205, 13, 23, 0, 53, 0, 1, 18, 11, 0, 4, 33, 2, 213, 0, 0, 188, 0, 4, 32, 19, 2, 0, 8, 5, 9120, 3, 57, 2, 8, 100, 231, 201, 0, 49, 19, 149, 109, 948, 6, 4, 6, 0, 78, 81, 0, 10, 646, 43, 0, 15, 65, 24, 119, 0, 180, 3, 0, 16, 116, 0, 78, 70, 0, 17, 0, 0, 1, 27, 0, 333, 147, 16, 50, 13, 41, 263, 59, 0, 0, 9, 0, 0, 0, 0, 0, 286, 12, 69, 79, 175, 121, 2, 2, 48, 811, 34, 30, 112, 5, 0, 0, 1, 6, 0, 81, 1, 52, 54, 4, 12, 0, 12, 0, 3, 522, 279, 1, 4, 5, 67, 28, 151, 45, 23, 0, 4, 40, 31, 10, 3, 14, 12, 16, 214, 54, 252, 74, 0, 459, 28, 15, 2, 0, 35, 2, 67, 2, 33, 16, 49, 109, 88, 12, 9, 0, 0, 6, 77, 10, 152, 20, 0, 118, 7, 263, 14, 1, 0, 11, 3, 6, 60, 16, 2, 7, 155, 21, 81, 0, 0, 0, 0, 0, 0, 8, 27, 15, 13, 1, 29, 0, 0, 19, 0, 0, 0, 0, 0, 1, 5, 1, 7, 6, 0, 49, 304, 86, 0, 0, 20, 4, 0, 0, 0, 0, 0, 5, 0, 36, 31, 57, 0, 4, 0, 12, 2, 2, 0, 2, 9, 6, 0, 0, 0, 8, 5, 0, 557, 0, 0, 11, 2, 112, 5, 5, 3, 0, 0, 0, 0, 0, 0, 2, 2, 0, 0, 0, 0, 0, 0, 0, 10, 0, 0, 0, 4, 5, 0, 4, 90, 0, 0, 0, 0, 0, 0, 0, 3, 0, 0, 0, 3, 0, 40, 0, 10, 0, 0, 0, 0, 0, 0, 16, 5, 0, 7, 4, 0, 0, 0, 0, 0, 0, 0, 0, 3, 0, 0, 0, 0, 0, 2, 0, 13, 0, 0, 1, 1, 0, 0, 0, 0, 1, 0, 0, 4, 14, 25, 91, 0, 0, 1, 6, 0, 0, 0, 0, 0, 0, 0, 0, 2, 0, 0, 0, 1, 0, 0, 0, 0, 2, 0, 0, 0, 0, 0, 6, 0, 0, 0, 0, 2, 0, 3, 1, 5, 0, 0, 0, 0, 9, 6, 0, 0, 0, 0, 0, 0, 0, 1, 0, 0, 0, 0, 0, 0, 0, 0, 0, 0, 0, 0, 8, 0, 0, 0, 0, 16, 0, 0, 0, 0, 0, 0, 0, 2, 2, 0, 0, 0, 0, 0, 111, 61, 64, 14, 0, 0, 3, 3, 0, 7, 0, 1, 0, 0, 52, 8, 0, 0, 10, 4, 1, 6, 0, 294, 0, 1, 0, 0, 3, 1, 52, 1, 2, 3, 0, 178, 21, 11, 3, 3, 88, 13, 0, 11, 13, 26, 2, 241, 2, 0, 142, 0, 150, 0, 0, 0, 0, 0, 2, 0, 98, 1, 182, 177, 0, 29, 8, 0, 1, 33, 1, 20, 271, 2, 3, 1, 3, 0, 0, 2, 22, 0, 1967, 7, 1, 15, 19, 41, 21, 30, 0, 5, 0, 0, 14, 0, 376, 88, 5, 6, 6, 96, 60, 571, 59, 260, 137, 98, 1, 0, 304, 1, 39, 0, 82, 47, 3, 5, 0, 11, 2, 81, 5, 2, 2, 21, 8, 88, 0, 40, 132, 92, 69, 7, 0, 166, 52, 14, 1, 10, 68, 25, 11, 32, 0, 1, 117, 61, 0, 16, 102, 2, 0, 6, 11, 5, 82, 20, 2, 91, 5, 3, 6, 3, 0, 0, 9, 23, 39, 52, 15, 0, 38, 0, 39, 25, 1, 1, 1, 0, 3, 8, 0, 11, 1, 41, 0, 3, 1, 0, 19, 80, 0, 186, 10, 3, 296, 348, 51, 1482, 21, 278, 27, 10, 1, 211, 79, 772, 266, 308, 31, 22, 217, 168, 0, 2434, 3, 153, 410, 133, 179, 184, 97, 251, 0, 130, 2, 634, 24, 2, 4, 265, 4, 320, 177, 18, 18, 64, 495, 416, 1, 2, 16, 0, 8, 47, 584, 196, 4, 386, 1508, 1, 417, 74, 59, 383, 568, 6, 947, 4, 5, 60, 206, 14, 49, 17, 3, 4, 603, 762, 213, 74, 799, 336, 52, 565, 0, 0, 406, 0, 27, 41, 42, 59, 2, 42, 278, 5, 10, 0, 158, 124, 0, 0, 1, 0, 2, 0, 0, 0, 0, 0, 0, 1, 816, 105, 19, 153, 41, 0, 0, 0, 40, 17, 0, 1, 0, 8, 142, 37, 19, 32, 0, 3, 0, 0, 0, 1, 7, 7, 43, 74, 93, 43, 0, 100, 14, 1, 8, 42, 6, 25, 27, 1, 0, 7, 0, 25, 1, 17, 1, 0, 22, 3, 0, 45, 18, 28, 342, 0, 3, 164, 28, 9, 3, 0, 0, 27, 2, 9, 1, 0, 0, 0, 1, 0, 0, 2, 229, 0, 4, 0, 0, 1, 0, 0, 0, 197, 182, 48, 114, 83, 2, 94, 90, 22, 32, 6, 3, 7, 181, 153, 15, 28, 9, 10, 2, 7, 8, 5, 24, 65, 59, 2, 9, 3, 0, 0, 16, 5, 49, 0, 1, 11, 11, 19, 114, 3, 1, 4, 6, 2, 35, 8, 0, 8, 3, 346, 232, 226, 164, 32, 25, 0, 1, 37, 3, 4, 2, 6, 84, 51, 322, 88, 257, 300, 8, 383, 20, 371, 42, 3, 334, 17, 29, 46, 508, 40, 0, 158, 7, 39, 0, 13, 28, 62, 18, 36, 0, 24, 24, 37, 23, 214, 3, 119, 41, 73, 2, 18, 0, 12, 1, 9, 2, 30, 14, 9, 0, 10, 4, 47, 67, 6, 0, 0, 10, 11, 1, 1, 30, 46, 10, 68, 52, 0, 35, 0, 53, 4, 4, 6, 6, 3, 1, 0, 2, 0, 18, 116, 27, 0, 46, 0, 2, 0, 0, 28, 14, 0, 10, 4, 5, 8, 14, 1, 174, 44, 2, 11, 15, 3, 1, 0, 18, 1, 0, 206, 46, 9, 108, 20, 18, 39, 6, 1, 0, 0, 0, 2, 0, 0, 30, 24, 4, 1, 11, 4, 209, 1, 0, 8, 0, 0, 88, 855, 0, 1759, 315, 438, 56, 763, 109, 51, 799, 47, 120, 21, 44, 40, 121, 125, 176, 787, 35, 89, 13, 7, 113, 556, 4, 1, 10, 1, 4, 6, 1, 3, 6, 9, 13, 223, 16, 27, 3, 56, 1, 82, 67, 27, 410, 112, 169, 27, 222, 75, 1197, 702, 11, 494, 927, 392, 572, 174, 1428, 1234, 1006, 351, 493, 106, 1313, 26, 0, 3, 0, 6, 1190, 588, 533, 2267, 139, 218, 12, 436, 116, 292, 982, 193, 69, 374, 1935, 291, 48, 2, 2, 52, 62, 7, 448, 0, 154, 10, 3, 62, 76, 25, 11, 47, 41, 10, 24, 0, 1, 7, 3, 0, 2, 0, 0, 0, 2, 2, 4, 19, 0, 13, 84, 0, 487, 153, 98, 0, 294, 0, 86, 25, 1702, 33, 19, 3, 49, 7, 0, 17, 10, 46, 82, 6, 0, 0, 22, 4, 0, 38, 7, 33, 1, 149, 42, 76, 94, 105, 16, 15, 0, 0, 3, 0, 0, 0, 0, 17, 21, 53, 60, 53, 0, 0, 2, 30, 206, 6, 44, 0, 2, 7, 168, 9, 128, 0, 40, 2, 16, 88, 135, 901, 22, 516, 169, 1577, 2, 515, 162, 618, 1, 577, 35, 434, 253, 422, 59, 6, 22, 40, 115, 257, 2084, 14, 1538, 7, 1, 0, 80, 21, 7, 366, 466, 3578, 55, 24, 8, 4, 2, 26, 5, 0, 0, 216, 0, 0, 946, 37, 198, 466, 1005, 310, 5, 6, 128, 490, 143, 12, 1, 0, 8, 0, 859, 151, 520, 2833, 361, 256, 13, 486, 31, 1227, 27, 38, 133, 1, 0, 395, 468, 281, 217, 62, 63, 0, 31, 659, 517, 84, 471, 22, 0, 426, 79, 73, 469, 891, 184, 72, 602, 47, 550, 218, 141, 35, 215, 4150, 0, 4, 0, 6, 0, 0, 652, 252, 942, 860, 231, 4, 155, 1914, 4697, 258, 178, 489, 1024, 6, 11, 1077, 15, 476, 1, 3223, 1, 23, 298, 120, 18, 183, 344, 149, 0, 0, 482, 314, 442, 1470, 51, 11, 9, 2, 29, 883, 11, 5, 30, 42, 1512, 63, 0, 141, 1421, 271, 1, 0, 0, 1, 277, 15, 430, 552, 137, 21, 535, 0, 1, 46, 1076, 39, 15, 3, 231, 46, 941, 251, 946, 244, 1999, 660, 179, 973, 1630, 4557, 5444, 875, 817, 311, 1350, 280, 74, 5102, 818, 549, 8, 4466, 36, 4632, 9397, 8929, 1180, 2923, 430, 944, 1008, 1389, 587, 673, 2762, 471, 117, 1211, 31, 462, 34, 117, 139, 870, 1169, 768, 2626, 1791, 105, 1989, 1443, 528, 19, 178, 4051, 71, 4531, 251, 1795, 643, 1109, 520, 730, 1151, 19, 63, 2749, 719, 2203, 1091, 1938, 9157, 381, 522, 523, 2, 644, 18, 283, 35, 826, 24, 71, 142, 188, 31, 75, 22, 16, 576, 99, 109, 32, 910, 93, 169, 352, 72, 4, 71, 7, 22, 14, 1, 29, 196, 684, 740, 140, 237, 144, 14, 0, 0, 1, 0, 2, 446, 249, 84, 45, 94, 412, 649, 223, 19, 264, 45, 49, 13, 0, 1, 0, 12, 1105, 641, 2043, 10, 805, 0, 0, 1, 2530, 28, 3682, 1088, 18, 133, 327, 220, 113, 236, 1463, 549, 0, 654, 735, 799, 837, 28, 16, 3, 12, 987, 9, 2, 3, 0, 23, 20, 13, 1, 1, 2, 0, 28, 17, 1, 2, 1, 3, 7, 2, 22, 1, 0, 6, 8, 2, 22, 0, 2, 3, 12, 97, 28, 255, 1166, 41, 430, 128, 572, 0, 301, 578, 103, 816, 945, 233, 430, 0, 2174, 2614, 871, 3058, 315, 80, 4, 3891, 14, 88, 6, 26, 7, 381, 4, 0, 45, 163, 4, 1108, 16, 363, 381, 1485, 2274, 331, 34, 206, 13, 580, 2255, 97, 665, 650, 101, 170, 191, 2, 13, 1, 6, 41, 54, 69, 100, 83, 22, 8, 16, 0, 44, 27, 2931, 251, 600, 389, 0, 87, 65, 227, 4, 94, 114, 43, 60, 142, 212, 7, 604, 490, 1, 0, 51, 160, 493, 307, 17, 26, 74, 218, 71, 145, 15, 0, 323, 158, 100, 21, 1074, 1615, 358, 2, 2295, 1413, 4, 230, 18, 660, 153, 2007, 146, 4, 957, 73, 646, 761, 571, 157, 209, 677, 498, 383, 103, 1, 25, 0, 0, 0, 527, 314, 142, 74, 23, 270, 25, 567, 46, 19, 210, 108, 24, 6, 69, 153, 240, 747, 4156, 1567, 516, 43, 228, 21, 200, 34, 138, 146, 974, 129, 51, 20, 0, 31, 30, 11, 7, 137, 35, 283, 483, 257, 759, 335, 149, 448, 672, 378, 168, 162, 666, 2234, 258, 384, 1151, 31, 72, 518, 1851, 926, 1050, 330, 2555, 1620, 3747, 278, 1046, 100, 177, 3, 361, 0, 941, 74, 282, 564, 1725, 99, 62, 402, 332, 225, 156, 252, 416, 39, 21, 36, 715, 203, 3273, 464, 778, 617, 377, 592, 261, 591, 508, 440, 304, 645, 593, 95, 1319, 7, 421, 207, 118, 160, 50, 40, 37, 39, 91, 120, 9636, 21, 5, 51, 30, 224, 67, 43, 0, 23, 1374, 1147, 4936, 535, 499, 688, 567, 3017, 757, 258, 439, 22, 0, 860, 379, 496, 11, 834, 93, 172, 356, 2, 350, 1380, 9, 365, 75, 650, 1, 63, 36, 505, 32, 60, 3609, 5707, 6459, 2051, 8, 78, 14307, 1, 1452, 188, 662, 672, 4451, 1216, 8226, 6873, 3906, 1608, 87, 6333, 4027, 4005, 3640, 22, 4680, 426, 109, 135, 105, 117, 0, 31, 980, 0, 1220, 279, 61, 689, 18, 382, 28, 25, 20, 154, 39, 202, 1223, 96, 27, 308, 108, 208, 178, 247, 287, 655, 50, 1256, 890, 70, 296, 340, 394, 48, 1457, 2265, 2613, 774, 249, 430, 1832, 415, 653, 445, 367, 561, 34, 22, 66, 162, 187, 8008, 106, 229, 83, 1576, 8, 14, 1685, 66, 2, 283, 1713, 59, 423, 10, 43, 90, 3, 1, 17, 21, 61, 44, 32, 114, 9, 443, 122, 320, 201, 136, 162, 322, 5112, 260, 538, 188, 76, 77, 146, 32, 88, 137, 76, 162, 198, 100, 692, 1253, 60, 253, 1104, 425, 135, 175, 74, 33, 422, 369, 688, 110, 37, 92, 90, 889, 34, 349, 99, 83, 228, 47, 76, 113, 486, 68, 213, 331, 844, 257, 2, 92, 109, 565, 1558, 19, 356, 649, 185, 1795, 193, 1905, 289, 210, 71, 612, 43, 20, 16, 14, 107, 85, 17, 39, 3, 229, 118, 553, 394, 126, 2065, 1428, 1026, 519, 117, 356, 11, 104, 307, 23, 104, 72, 7, 255, 22, 30, 327, 368, 110, 43, 294, 20, 182, 170, 502, 343, 1348, 542, 538, 290, 381, 104, 238, 82, 8, 1522, 131, 15, 89, 86, 224, 13, 9, 53, 816, 2, 45, 140, 0, 98, 57, 0, 4, 3, 13, 8, 15, 2, 442, 5, 1, 2, 4, 829, 98, 312, 37, 188, 103, 479, 164, 1665, 617, 1868, 280, 148, 0, 970, 910, 14, 833, 11, 1206, 581, 192, 476, 702, 1587, 86, 607, 333, 396, 4845, 25, 0, 257, 83, 658, 86, 64, 197, 44, 241, 9, 287, 442, 367, 45, 287, 14, 316, 155, 252, 242, 104, 20, 112, 50, 0, 260, 0, 40, 261, 224, 23, 374, 8, 139, 294, 65, 78, 1164, 13, 16, 1052, 618, 159, 991, 512, 6, 35, 4, 1145, 209, 138, 33, 2387, 421, 20, 261, 214, 59, 88, 417, 12, 143, 132, 366, 80, 436, 57, 5, 1, 33, 33, 15, 6, 127, 17, 2, 78, 2, 10, 24, 1383, 2023, 584, 2548, 91, 61, 582, 347, 213, 912, 37, 484, 2029, 580, 185, 29, 21, 82, 2641, 178, 12, 22, 0, 676, 506, 270, 3, 10, 63, 1105, 162, 384, 654, 577, 2266, 86, 615, 629, 432, 1413, 3232, 607, 84, 374, 275, 1041, 3865, 748, 12, 161, 110, 38, 233, 164, 0, 3, 582, 134, 13, 3, 660, 452, 631, 561, 544, 95, 38, 0, 12, 2, 0, 10, 7, 25, 6, 32, 112, 51, 14, 33, 345, 5, 132, 45, 6, 706, 0, 19, 139, 105, 29, 2, 484, 25, 1, 19, 4, 253, 3, 322, 30, 40, 23, 7, 104, 0, 0, 0, 230, 46, 128, 117, 117, 60, 17, 52, 20, 10, 0, 14, 3, 0, 136, 0, 0, 0, 191, 174, 167, 4, 209, 7, 256, 4, 200, 66, 115, 76, 8, 43, 57, 449, 5, 90, 14, 79, 55, 383, 206, 158, 102, 0, 193, 125, 60, 91, 88, 0, 11, 18, 68, 280, 24, 32, 194, 8, 22, 182, 81, 169, 31, 85, 110, 208, 98, 68, 105, 6, 25, 7, 82, 226, 19, 164, 114, 19, 4, 11, 2, 1, 0, 8, 70, 137, 34, 131, 83, 57, 27, 1, 28, 155, 2, 116, 319, 40, 106, 116, 17, 35, 3, 3, 40, 15, 170, 2351, 23, 284, 97, 241, 24, 70, 18, 6, 434, 93, 1, 0, 411, 281, 93, 4, 162, 16, 16, 298, 88, 24, 2, 9, 59, 0, 108, 12, 8, 16, 3, 166, 25, 247, 74, 14, 890, 353, 0, 241, 210, 430, 231, 355, 351, 404, 1408, 10, 12, 513, 15, 10, 343, 115, 8, 5, 6, 94, 857, 204, 22, 72, 19, 87, 13, 136, 160, 136, 22, 26, 301, 29, 6, 57, 4, 6, 21, 1, 4, 106, 17, 38, 18, 348, 513, 5732, 5, 29, 38, 50, 11, 137, 39, 27, 37, 158, 130, 5, 2, 0, 0, 4, 0, 3, 0, 0, 3, 0, 67, 6, 12, 6, 11, 2450, 169, 359, 171, 11, 48, 96, 56, 20, 78, 0, 400, 315, 302, 1227, 2180, 1, 61, 22, 358, 165, 2, 1, 306, 0, 18, 140, 19, 1, 2, 0, 0, 5, 19, 0, 0, 4, 5, 11, 5, 2, 3, 4, 188, 66, 44, 1, 27, 53, 91, 5, 9, 1, 89, 9, 11, 4, 65, 1022, 80, 53, 1084, 73, 6, 157, 559, 7, 0, 44, 14, 3435, 1516, 3, 41, 6, 23, 295, 23, 149, 15, 18, 18, 165, 2, 7, 7730, 1037, 229, 151, 359, 108, 358, 724, 99, 90, 64, 278, 90, 1265, 638, 291, 48, 34, 146, 93, 104, 1485, 347, 1, 4, 0, 18, 5, 10, 0, 1, 2, 27, 1, 2, 0, 2, 1, 11, 590, 27, 495, 53, 17, 69, 6, 3, 6, 19, 96, 0, 2, 32, 2, 8, 1, 1, 448, 10, 0, 0, 2, 98, 215, 31, 0, 147, 25, 0, 10, 0, 0, 0, 0, 0, 48, 31, 1, 1, 80, 155, 0, 3, 2, 18, 0, 3, 10, 60, 5, 2, 1, 3, 63, 40, 437, 89, 490, 3, 0, 53, 105, 13, 138, 465, 934, 597, 258, 1170, 230, 229, 98, 4414, 988, 2062, 6, 120, 8, 989, 0, 217, 83, 95, 4967, 1738, 237, 156, 229, 346, 96, 4, 188, 146, 100, 39, 2345, 1031, 109, 10, 1333, 10, 59, 4, 364, 3], \"y0\": \" \", \"yaxis\": \"y\"}],\n",
       "                        {\"boxmode\": \"group\", \"legend\": {\"tracegroupgap\": 0}, \"template\": {\"data\": {\"bar\": [{\"error_x\": {\"color\": \"#2a3f5f\"}, \"error_y\": {\"color\": \"#2a3f5f\"}, \"marker\": {\"line\": {\"color\": \"#E5ECF6\", \"width\": 0.5}}, \"type\": \"bar\"}], \"barpolar\": [{\"marker\": {\"line\": {\"color\": \"#E5ECF6\", \"width\": 0.5}}, \"type\": \"barpolar\"}], \"carpet\": [{\"aaxis\": {\"endlinecolor\": \"#2a3f5f\", \"gridcolor\": \"white\", \"linecolor\": \"white\", \"minorgridcolor\": \"white\", \"startlinecolor\": \"#2a3f5f\"}, \"baxis\": {\"endlinecolor\": \"#2a3f5f\", \"gridcolor\": \"white\", \"linecolor\": \"white\", \"minorgridcolor\": \"white\", \"startlinecolor\": \"#2a3f5f\"}, \"type\": \"carpet\"}], \"choropleth\": [{\"colorbar\": {\"outlinewidth\": 0, \"ticks\": \"\"}, \"type\": \"choropleth\"}], \"contour\": [{\"colorbar\": {\"outlinewidth\": 0, \"ticks\": \"\"}, \"colorscale\": [[0.0, \"#0d0887\"], [0.1111111111111111, \"#46039f\"], [0.2222222222222222, \"#7201a8\"], [0.3333333333333333, \"#9c179e\"], [0.4444444444444444, \"#bd3786\"], [0.5555555555555556, \"#d8576b\"], [0.6666666666666666, \"#ed7953\"], [0.7777777777777778, \"#fb9f3a\"], [0.8888888888888888, \"#fdca26\"], [1.0, \"#f0f921\"]], \"type\": \"contour\"}], \"contourcarpet\": [{\"colorbar\": {\"outlinewidth\": 0, \"ticks\": \"\"}, \"type\": \"contourcarpet\"}], \"heatmap\": [{\"colorbar\": {\"outlinewidth\": 0, \"ticks\": \"\"}, \"colorscale\": [[0.0, \"#0d0887\"], [0.1111111111111111, \"#46039f\"], [0.2222222222222222, \"#7201a8\"], [0.3333333333333333, \"#9c179e\"], [0.4444444444444444, \"#bd3786\"], [0.5555555555555556, \"#d8576b\"], [0.6666666666666666, \"#ed7953\"], [0.7777777777777778, \"#fb9f3a\"], [0.8888888888888888, \"#fdca26\"], [1.0, \"#f0f921\"]], \"type\": \"heatmap\"}], \"heatmapgl\": [{\"colorbar\": {\"outlinewidth\": 0, \"ticks\": \"\"}, \"colorscale\": [[0.0, \"#0d0887\"], [0.1111111111111111, \"#46039f\"], [0.2222222222222222, \"#7201a8\"], [0.3333333333333333, \"#9c179e\"], [0.4444444444444444, \"#bd3786\"], [0.5555555555555556, \"#d8576b\"], [0.6666666666666666, \"#ed7953\"], [0.7777777777777778, \"#fb9f3a\"], [0.8888888888888888, \"#fdca26\"], [1.0, \"#f0f921\"]], \"type\": \"heatmapgl\"}], \"histogram\": [{\"marker\": {\"colorbar\": {\"outlinewidth\": 0, \"ticks\": \"\"}}, \"type\": \"histogram\"}], \"histogram2d\": [{\"colorbar\": {\"outlinewidth\": 0, \"ticks\": \"\"}, \"colorscale\": [[0.0, \"#0d0887\"], [0.1111111111111111, \"#46039f\"], [0.2222222222222222, \"#7201a8\"], [0.3333333333333333, \"#9c179e\"], [0.4444444444444444, \"#bd3786\"], [0.5555555555555556, \"#d8576b\"], [0.6666666666666666, \"#ed7953\"], [0.7777777777777778, \"#fb9f3a\"], [0.8888888888888888, \"#fdca26\"], [1.0, \"#f0f921\"]], \"type\": \"histogram2d\"}], \"histogram2dcontour\": [{\"colorbar\": {\"outlinewidth\": 0, \"ticks\": \"\"}, \"colorscale\": [[0.0, \"#0d0887\"], [0.1111111111111111, \"#46039f\"], [0.2222222222222222, \"#7201a8\"], [0.3333333333333333, \"#9c179e\"], [0.4444444444444444, \"#bd3786\"], [0.5555555555555556, \"#d8576b\"], [0.6666666666666666, \"#ed7953\"], [0.7777777777777778, \"#fb9f3a\"], [0.8888888888888888, \"#fdca26\"], [1.0, \"#f0f921\"]], \"type\": \"histogram2dcontour\"}], \"mesh3d\": [{\"colorbar\": {\"outlinewidth\": 0, \"ticks\": \"\"}, \"type\": \"mesh3d\"}], \"parcoords\": [{\"line\": {\"colorbar\": {\"outlinewidth\": 0, \"ticks\": \"\"}}, \"type\": \"parcoords\"}], \"pie\": [{\"automargin\": true, \"type\": \"pie\"}], \"scatter\": [{\"marker\": {\"colorbar\": {\"outlinewidth\": 0, \"ticks\": \"\"}}, \"type\": \"scatter\"}], \"scatter3d\": [{\"line\": {\"colorbar\": {\"outlinewidth\": 0, \"ticks\": \"\"}}, \"marker\": {\"colorbar\": {\"outlinewidth\": 0, \"ticks\": \"\"}}, \"type\": \"scatter3d\"}], \"scattercarpet\": [{\"marker\": {\"colorbar\": {\"outlinewidth\": 0, \"ticks\": \"\"}}, \"type\": \"scattercarpet\"}], \"scattergeo\": [{\"marker\": {\"colorbar\": {\"outlinewidth\": 0, \"ticks\": \"\"}}, \"type\": \"scattergeo\"}], \"scattergl\": [{\"marker\": {\"colorbar\": {\"outlinewidth\": 0, \"ticks\": \"\"}}, \"type\": \"scattergl\"}], \"scattermapbox\": [{\"marker\": {\"colorbar\": {\"outlinewidth\": 0, \"ticks\": \"\"}}, \"type\": \"scattermapbox\"}], \"scatterpolar\": [{\"marker\": {\"colorbar\": {\"outlinewidth\": 0, \"ticks\": \"\"}}, \"type\": \"scatterpolar\"}], \"scatterpolargl\": [{\"marker\": {\"colorbar\": {\"outlinewidth\": 0, \"ticks\": \"\"}}, \"type\": \"scatterpolargl\"}], \"scatterternary\": [{\"marker\": {\"colorbar\": {\"outlinewidth\": 0, \"ticks\": \"\"}}, \"type\": \"scatterternary\"}], \"surface\": [{\"colorbar\": {\"outlinewidth\": 0, \"ticks\": \"\"}, \"colorscale\": [[0.0, \"#0d0887\"], [0.1111111111111111, \"#46039f\"], [0.2222222222222222, \"#7201a8\"], [0.3333333333333333, \"#9c179e\"], [0.4444444444444444, \"#bd3786\"], [0.5555555555555556, \"#d8576b\"], [0.6666666666666666, \"#ed7953\"], [0.7777777777777778, \"#fb9f3a\"], [0.8888888888888888, \"#fdca26\"], [1.0, \"#f0f921\"]], \"type\": \"surface\"}], \"table\": [{\"cells\": {\"fill\": {\"color\": \"#EBF0F8\"}, \"line\": {\"color\": \"white\"}}, \"header\": {\"fill\": {\"color\": \"#C8D4E3\"}, \"line\": {\"color\": \"white\"}}, \"type\": \"table\"}]}, \"layout\": {\"annotationdefaults\": {\"arrowcolor\": \"#2a3f5f\", \"arrowhead\": 0, \"arrowwidth\": 1}, \"coloraxis\": {\"colorbar\": {\"outlinewidth\": 0, \"ticks\": \"\"}}, \"colorscale\": {\"diverging\": [[0, \"#8e0152\"], [0.1, \"#c51b7d\"], [0.2, \"#de77ae\"], [0.3, \"#f1b6da\"], [0.4, \"#fde0ef\"], [0.5, \"#f7f7f7\"], [0.6, \"#e6f5d0\"], [0.7, \"#b8e186\"], [0.8, \"#7fbc41\"], [0.9, \"#4d9221\"], [1, \"#276419\"]], \"sequential\": [[0.0, \"#0d0887\"], [0.1111111111111111, \"#46039f\"], [0.2222222222222222, \"#7201a8\"], [0.3333333333333333, \"#9c179e\"], [0.4444444444444444, \"#bd3786\"], [0.5555555555555556, \"#d8576b\"], [0.6666666666666666, \"#ed7953\"], [0.7777777777777778, \"#fb9f3a\"], [0.8888888888888888, \"#fdca26\"], [1.0, \"#f0f921\"]], \"sequentialminus\": [[0.0, \"#0d0887\"], [0.1111111111111111, \"#46039f\"], [0.2222222222222222, \"#7201a8\"], [0.3333333333333333, \"#9c179e\"], [0.4444444444444444, \"#bd3786\"], [0.5555555555555556, \"#d8576b\"], [0.6666666666666666, \"#ed7953\"], [0.7777777777777778, \"#fb9f3a\"], [0.8888888888888888, \"#fdca26\"], [1.0, \"#f0f921\"]]}, \"colorway\": [\"#636efa\", \"#EF553B\", \"#00cc96\", \"#ab63fa\", \"#FFA15A\", \"#19d3f3\", \"#FF6692\", \"#B6E880\", \"#FF97FF\", \"#FECB52\"], \"font\": {\"color\": \"#2a3f5f\"}, \"geo\": {\"bgcolor\": \"white\", \"lakecolor\": \"white\", \"landcolor\": \"#E5ECF6\", \"showlakes\": true, \"showland\": true, \"subunitcolor\": \"white\"}, \"hoverlabel\": {\"align\": \"left\"}, \"hovermode\": \"closest\", \"mapbox\": {\"style\": \"light\"}, \"paper_bgcolor\": \"white\", \"plot_bgcolor\": \"#E5ECF6\", \"polar\": {\"angularaxis\": {\"gridcolor\": \"white\", \"linecolor\": \"white\", \"ticks\": \"\"}, \"bgcolor\": \"#E5ECF6\", \"radialaxis\": {\"gridcolor\": \"white\", \"linecolor\": \"white\", \"ticks\": \"\"}}, \"scene\": {\"xaxis\": {\"backgroundcolor\": \"#E5ECF6\", \"gridcolor\": \"white\", \"gridwidth\": 2, \"linecolor\": \"white\", \"showbackground\": true, \"ticks\": \"\", \"zerolinecolor\": \"white\"}, \"yaxis\": {\"backgroundcolor\": \"#E5ECF6\", \"gridcolor\": \"white\", \"gridwidth\": 2, \"linecolor\": \"white\", \"showbackground\": true, \"ticks\": \"\", \"zerolinecolor\": \"white\"}, \"zaxis\": {\"backgroundcolor\": \"#E5ECF6\", \"gridcolor\": \"white\", \"gridwidth\": 2, \"linecolor\": \"white\", \"showbackground\": true, \"ticks\": \"\", \"zerolinecolor\": \"white\"}}, \"shapedefaults\": {\"line\": {\"color\": \"#2a3f5f\"}}, \"ternary\": {\"aaxis\": {\"gridcolor\": \"white\", \"linecolor\": \"white\", \"ticks\": \"\"}, \"baxis\": {\"gridcolor\": \"white\", \"linecolor\": \"white\", \"ticks\": \"\"}, \"bgcolor\": \"#E5ECF6\", \"caxis\": {\"gridcolor\": \"white\", \"linecolor\": \"white\", \"ticks\": \"\"}}, \"title\": {\"x\": 0.05}, \"xaxis\": {\"automargin\": true, \"gridcolor\": \"white\", \"linecolor\": \"white\", \"ticks\": \"\", \"title\": {\"standoff\": 15}, \"zerolinecolor\": \"white\", \"zerolinewidth\": 2}, \"yaxis\": {\"automargin\": true, \"gridcolor\": \"white\", \"linecolor\": \"white\", \"ticks\": \"\", \"title\": {\"standoff\": 15}, \"zerolinecolor\": \"white\", \"zerolinewidth\": 2}}}, \"title\": {\"text\": \"Original Data Distribution on GBIF at Species Level\"}, \"xaxis\": {\"anchor\": \"y\", \"domain\": [0.0, 1.0]}, \"yaxis\": {\"anchor\": \"x\", \"domain\": [0.0, 1.0], \"title\": {\"text\": \"image count\"}}},\n",
       "                        {\"responsive\": true}\n",
       "                    ).then(function(){\n",
       "                            \n",
       "var gd = document.getElementById('87625e8d-43f2-48aa-ab4b-083397043410');\n",
       "var x = new MutationObserver(function (mutations, observer) {{\n",
       "        var display = window.getComputedStyle(gd).display;\n",
       "        if (!display || display === 'none') {{\n",
       "            console.log([gd, 'removed!']);\n",
       "            Plotly.purge(gd);\n",
       "            observer.disconnect();\n",
       "        }}\n",
       "}});\n",
       "\n",
       "// Listen for the removal of the full notebook cells\n",
       "var notebookContainer = gd.closest('#notebook-container');\n",
       "if (notebookContainer) {{\n",
       "    x.observe(notebookContainer, {childList: true});\n",
       "}}\n",
       "\n",
       "// Listen for the clearing of the current output cell\n",
       "var outputEl = gd.closest('.output');\n",
       "if (outputEl) {{\n",
       "    x.observe(outputEl, {childList: true});\n",
       "}}\n",
       "\n",
       "                        })\n",
       "                };\n",
       "                \n",
       "            </script>\n",
       "        </div>\n",
       "</body>\n",
       "</html>"
      ]
     },
     "metadata": {
      "tags": []
     },
     "output_type": "display_data"
    }
   ],
   "source": [
    "species_count = pd.read_csv(WRITE_DIR + 'iNat_totalcount_onGBIF.csv')['2']\n",
    "# species plot\n",
    "fig = px.box(species_count, y='2',\n",
    "             title='Original Data Distribution on GBIF at Species Level')\n",
    "fig.update_layout(\n",
    "    yaxis_title='image count',\n",
    ")\n",
    "fig.show()"
   ]
  },
  {
   "cell_type": "markdown",
   "metadata": {
    "id": "HAHiwkLv5abZ"
   },
   "source": [
    "## Important Macromoth Families to Train\n",
    "First fetching data for macromoths families to be trained on priority"
   ]
  },
  {
   "cell_type": "code",
   "execution_count": null,
   "metadata": {
    "id": "-FLGaflP5qVf"
   },
   "outputs": [],
   "source": [
    "family_macrom    = ['Apatelodidae', 'Bombycidae', 'Cossidae', \n",
    "                   'Drepanidae', 'Erebidae', 'Geometridae', 'Hepialidae', \n",
    "                   'Lasiocampidae', 'Limacodidae', 'Notodontidae',\n",
    "                  'Saturniidae', 'Sesiidae', 'Sphingidae', 'Uraniidae', 'Zygaenidae']\n",
    "\n",
    "### the below code is used to check if the desired families/subfamilies exist in our dataset ###\n",
    "# family_list      = set(moth_data['family'])\n",
    "# subfamily_list   = set(moth_data['subfamily'])\n",
    "\n",
    "# for item in family_macrom:\n",
    "#   if item not in family_list:\n",
    "#     print(item)\n",
    "\n",
    "# for item in subfamily_macrom:\n",
    "#   if item not in subfamily_list:\n",
    "#     print(item)\n",
    "\n",
    "macromoth_data = moth_data    # copying from original file\n",
    "indx_list      = []           # these row indices are not required\n",
    "\n",
    "for indx in macromoth_data.index:\n",
    "  if macromoth_data['family'][indx] not in family_macrom:\n",
    "    indx_list.append(indx)\n",
    "\n",
    "macromoth_data = macromoth_data.drop(indx_list)\n",
    "macromoth_data.to_csv(WRITE_DIR + 'MacroMothList_21April2021.csv', index=False)"
   ]
  },
  {
   "cell_type": "code",
   "execution_count": null,
   "metadata": {
    "colab": {
     "base_uri": "https://localhost:8080/"
    },
    "id": "-eL56sEuKl1n",
    "outputId": "7dbcd940-a54c-419e-9ca7-3e90e2d9a801"
   },
   "outputs": [
    {
     "name": "stdout",
     "output_type": "stream",
     "text": [
      "The total number of images in the set is:  261109\n",
      "Total family, genus and species respectively:  15 300 735\n"
     ]
    }
   ],
   "source": [
    "# reading when already saved\n",
    "macromoth_species   = 'MacroMothList_21April2021.csv'\n",
    "file                = WRITE_DIR + macromoth_species\n",
    "macromoth_data      = pd.read_csv(file)\n",
    "\n",
    "species, genus, family, total_count = count_stat(macromoth_data)"
   ]
  },
  {
   "cell_type": "code",
   "execution_count": null,
   "metadata": {
    "id": "kLkDgMbtUBDC"
   },
   "outputs": [],
   "source": [
    "species_df         = pd.DataFrame.from_dict(species.items())\n",
    "species_df.columns = ['species name', 'count']\n",
    "\n",
    "genus_df           = pd.DataFrame.from_dict(genus.items())\n",
    "genus_df.columns   = ['genus name', 'count']\n",
    "\n",
    "family_df          = pd.DataFrame.from_dict(family.items())\n",
    "family_df.columns  = ['family name', 'count']\n",
    "\n",
    "species_count      = species_df['count']\n",
    "genus_count        = genus_df['count']\n",
    "family_count       = family_df['count']"
   ]
  },
  {
   "cell_type": "code",
   "execution_count": null,
   "metadata": {
    "colab": {
     "base_uri": "https://localhost:8080/",
     "height": 1000
    },
    "id": "IqcyH-C9US_c",
    "outputId": "27ab0557-8ef1-40a8-b2c7-779ae334dfde"
   },
   "outputs": [
    {
     "data": {
      "text/html": [
       "<html>\n",
       "<head><meta charset=\"utf-8\" /></head>\n",
       "<body>\n",
       "    <div>\n",
       "            <script src=\"https://cdnjs.cloudflare.com/ajax/libs/mathjax/2.7.5/MathJax.js?config=TeX-AMS-MML_SVG\"></script><script type=\"text/javascript\">if (window.MathJax) {MathJax.Hub.Config({SVG: {font: \"STIX-Web\"}});}</script>\n",
       "                <script type=\"text/javascript\">window.PlotlyConfig = {MathJaxConfig: 'local'};</script>\n",
       "        <script src=\"https://cdn.plot.ly/plotly-latest.min.js\"></script>    \n",
       "            <div id=\"0910e2bc-728a-491c-a4b2-56fd7ceaafe8\" class=\"plotly-graph-div\" style=\"height:525px; width:100%;\"></div>\n",
       "            <script type=\"text/javascript\">\n",
       "                \n",
       "                    window.PLOTLYENV=window.PLOTLYENV || {};\n",
       "                    \n",
       "                if (document.getElementById(\"0910e2bc-728a-491c-a4b2-56fd7ceaafe8\")) {\n",
       "                    Plotly.newPlot(\n",
       "                        '0910e2bc-728a-491c-a4b2-56fd7ceaafe8',\n",
       "                        [{\"alignmentgroup\": \"True\", \"hoverlabel\": {\"namelength\": 0}, \"hovertemplate\": \"count=%{y}\", \"legendgroup\": \"\", \"marker\": {\"color\": \"#636efa\"}, \"name\": \"\", \"notched\": false, \"offsetgroup\": \"\", \"orientation\": \"v\", \"showlegend\": false, \"type\": \"box\", \"x0\": \" \", \"xaxis\": \"x\", \"y\": [5, 17, 90, 546, 71, 146, 14, 728, 96, 50, 721, 42, 111, 20, 43, 36, 116, 114, 164, 758, 33, 84, 11, 7, 105, 517, 3, 1, 9, 1, 4, 6, 1, 3, 6, 9, 13, 203, 15, 24, 3, 53, 80, 53, 26, 348, 91, 151, 24, 189, 60, 1039, 649, 11, 395, 791, 370, 504, 133, 1095, 1123, 950, 895, 232, 885, 236, 1145, 632, 168, 938, 1061, 1164, 1177, 824, 762, 298, 1120, 253, 65, 1152, 750, 520, 6, 1156, 36, 1145, 1167, 1174, 1146, 1187, 417, 914, 967, 1152, 561, 643, 1146, 459, 113, 1133, 24, 440, 29, 114, 136, 794, 1110, 746, 1145, 1136, 88, 1147, 1152, 512, 19, 164, 1162, 68, 1173, 243, 1171, 633, 1082, 493, 680, 1119, 18, 58, 1153, 613, 1156, 1047, 1178, 1159, 345, 454, 507, 1, 637, 17, 276, 34, 759, 21, 70, 140, 186, 30, 66, 22, 16, 552, 99, 99, 32, 875, 75, 159, 344, 62, 3, 68, 7, 22, 9, 1, 28, 187, 663, 679, 142, 210, 143, 13, 1, 2, 427, 236, 80, 43, 93, 396, 629, 210, 11, 253, 41, 47, 11, 1, 11, 1049, 594, 1150, 10, 764, 1, 1130, 29, 1088, 978, 18, 124, 292, 214, 106, 227, 1136, 538, 644, 715, 710, 776, 27, 15, 3, 13, 960, 8, 2, 1, 23, 18, 13, 1, 1, 2, 25, 16, 1, 2, 1, 3, 7, 2, 20, 1, 6, 8, 2, 21, 2, 3, 8, 95, 24, 237, 1113, 33, 402, 125, 535, 280, 567, 88, 725, 885, 225, 405, 1174, 1132, 864, 1163, 296, 72, 4, 1132, 11, 76, 6, 28, 8, 383, 4, 43, 152, 4, 994, 15, 339, 329, 1110, 1108, 310, 33, 222, 14, 612, 1126, 94, 602, 704, 97, 143, 186, 2, 6, 6, 37, 50, 65, 96, 74, 19, 6, 13, 44, 27, 1166, 242, 534, 341, 67, 63, 187, 4, 89, 101, 37, 56, 81, 173, 6, 560, 386, 1, 46, 136, 444, 310, 15, 26, 69, 196, 60, 130, 11, 314, 142, 97, 18, 936, 1108, 340, 2, 1111, 1115, 4, 214, 15, 475, 136, 1131, 142, 4, 819, 71, 652, 723, 554, 135, 188, 594, 466, 364, 97, 23, 495, 299, 131, 65, 19, 242, 23, 446, 43, 18, 195, 92, 20, 5, 52, 148, 224, 681, 1176, 1165, 501, 42, 215, 17, 193, 21, 135, 124, 944, 123, 46, 7, 30, 20, 8, 6, 128, 30, 257, 456, 236, 724, 276, 124, 364, 628, 353, 154, 145, 580, 1187, 173, 366, 1104, 28, 77, 499, 1105, 887, 967, 315, 1165, 1135, 1142, 218, 1014, 83, 167, 3, 349, 900, 74, 277, 539, 1147, 97, 57, 369, 319, 214, 147, 244, 386, 23, 17, 25, 688, 158, 1148, 446, 718, 578, 362, 501, 216, 552, 456, 361, 272, 617, 535, 85, 1120, 6, 398, 197, 101, 142, 42, 42, 35, 40, 80, 109, 1185, 18, 7, 47, 29, 229, 53, 40, 24, 1154, 1101, 1186, 521, 486, 652, 479, 1145, 665, 249, 397, 21, 812, 349, 468, 11, 718, 88, 145, 345, 2, 332, 1158, 8, 350, 44, 521, 1, 64, 35, 439, 32, 54, 1177, 1169, 1166, 1161, 7, 78, 1167, 1, 1119, 183, 592, 642, 1196, 1146, 1146, 1180, 1160, 1083, 75, 1188, 1171, 1159, 1161, 23, 1157, 320, 45, 90, 92, 96, 24, 878, 1081, 221, 54, 625, 5, 341, 20, 24, 20, 116, 29, 184, 1026, 91, 21, 290, 87, 151, 164, 230, 256, 571, 45, 990, 778, 66, 261, 324, 340, 29, 1090, 1132, 1121, 624, 227, 396, 1116, 385, 623, 400, 358, 500, 27, 22, 57, 151, 180, 1099, 104, 228, 73, 1100, 7, 14, 1163, 53, 2, 269, 1053, 58, 383, 9, 44, 57, 1, 15, 21, 41, 36, 29, 111, 8, 395, 103, 263, 141, 105, 117, 305, 1160, 247, 508, 178, 70, 77, 137, 32, 81, 125, 73, 151, 177, 101, 665, 1119, 59, 242, 1078, 415, 129, 170, 70, 32, 406, 356, 666, 102, 36, 85, 87, 833, 28, 322, 93, 73, 215, 43, 70, 99, 450, 65, 205, 324, 763, 270, 2, 81, 95, 514, 1111, 18, 345, 584, 178, 1128, 183, 1128, 249, 179, 62, 571, 37, 18, 7, 12, 88, 68, 7, 24, 3, 187, 93, 509, 300, 120, 1100, 1079, 950, 37, 81, 94, 1155, 923, 1133, 5, 113, 6, 874, 211, 62, 55, 1169, 1156, 197, 128, 206, 321, 87, 4, 157], \"y0\": \" \", \"yaxis\": \"y\"}],\n",
       "                        {\"boxmode\": \"group\", \"legend\": {\"tracegroupgap\": 0}, \"template\": {\"data\": {\"bar\": [{\"error_x\": {\"color\": \"#2a3f5f\"}, \"error_y\": {\"color\": \"#2a3f5f\"}, \"marker\": {\"line\": {\"color\": \"#E5ECF6\", \"width\": 0.5}}, \"type\": \"bar\"}], \"barpolar\": [{\"marker\": {\"line\": {\"color\": \"#E5ECF6\", \"width\": 0.5}}, \"type\": \"barpolar\"}], \"carpet\": [{\"aaxis\": {\"endlinecolor\": \"#2a3f5f\", \"gridcolor\": \"white\", \"linecolor\": \"white\", \"minorgridcolor\": \"white\", \"startlinecolor\": \"#2a3f5f\"}, \"baxis\": {\"endlinecolor\": \"#2a3f5f\", \"gridcolor\": \"white\", \"linecolor\": \"white\", \"minorgridcolor\": \"white\", \"startlinecolor\": \"#2a3f5f\"}, \"type\": \"carpet\"}], \"choropleth\": [{\"colorbar\": {\"outlinewidth\": 0, \"ticks\": \"\"}, \"type\": \"choropleth\"}], \"contour\": [{\"colorbar\": {\"outlinewidth\": 0, \"ticks\": \"\"}, \"colorscale\": [[0.0, \"#0d0887\"], [0.1111111111111111, \"#46039f\"], [0.2222222222222222, \"#7201a8\"], [0.3333333333333333, \"#9c179e\"], [0.4444444444444444, \"#bd3786\"], [0.5555555555555556, \"#d8576b\"], [0.6666666666666666, \"#ed7953\"], [0.7777777777777778, \"#fb9f3a\"], [0.8888888888888888, \"#fdca26\"], [1.0, \"#f0f921\"]], \"type\": \"contour\"}], \"contourcarpet\": [{\"colorbar\": {\"outlinewidth\": 0, \"ticks\": \"\"}, \"type\": \"contourcarpet\"}], \"heatmap\": [{\"colorbar\": {\"outlinewidth\": 0, \"ticks\": \"\"}, \"colorscale\": [[0.0, \"#0d0887\"], [0.1111111111111111, \"#46039f\"], [0.2222222222222222, \"#7201a8\"], [0.3333333333333333, \"#9c179e\"], [0.4444444444444444, \"#bd3786\"], [0.5555555555555556, \"#d8576b\"], [0.6666666666666666, \"#ed7953\"], [0.7777777777777778, \"#fb9f3a\"], [0.8888888888888888, \"#fdca26\"], [1.0, \"#f0f921\"]], \"type\": \"heatmap\"}], \"heatmapgl\": [{\"colorbar\": {\"outlinewidth\": 0, \"ticks\": \"\"}, \"colorscale\": [[0.0, \"#0d0887\"], [0.1111111111111111, \"#46039f\"], [0.2222222222222222, \"#7201a8\"], [0.3333333333333333, \"#9c179e\"], [0.4444444444444444, \"#bd3786\"], [0.5555555555555556, \"#d8576b\"], [0.6666666666666666, \"#ed7953\"], [0.7777777777777778, \"#fb9f3a\"], [0.8888888888888888, \"#fdca26\"], [1.0, \"#f0f921\"]], \"type\": \"heatmapgl\"}], \"histogram\": [{\"marker\": {\"colorbar\": {\"outlinewidth\": 0, \"ticks\": \"\"}}, \"type\": \"histogram\"}], \"histogram2d\": [{\"colorbar\": {\"outlinewidth\": 0, \"ticks\": \"\"}, \"colorscale\": [[0.0, \"#0d0887\"], [0.1111111111111111, \"#46039f\"], [0.2222222222222222, \"#7201a8\"], [0.3333333333333333, \"#9c179e\"], [0.4444444444444444, \"#bd3786\"], [0.5555555555555556, \"#d8576b\"], [0.6666666666666666, \"#ed7953\"], [0.7777777777777778, \"#fb9f3a\"], [0.8888888888888888, \"#fdca26\"], [1.0, \"#f0f921\"]], \"type\": \"histogram2d\"}], \"histogram2dcontour\": [{\"colorbar\": {\"outlinewidth\": 0, \"ticks\": \"\"}, \"colorscale\": [[0.0, \"#0d0887\"], [0.1111111111111111, \"#46039f\"], [0.2222222222222222, \"#7201a8\"], [0.3333333333333333, \"#9c179e\"], [0.4444444444444444, \"#bd3786\"], [0.5555555555555556, \"#d8576b\"], [0.6666666666666666, \"#ed7953\"], [0.7777777777777778, \"#fb9f3a\"], [0.8888888888888888, \"#fdca26\"], [1.0, \"#f0f921\"]], \"type\": \"histogram2dcontour\"}], \"mesh3d\": [{\"colorbar\": {\"outlinewidth\": 0, \"ticks\": \"\"}, \"type\": \"mesh3d\"}], \"parcoords\": [{\"line\": {\"colorbar\": {\"outlinewidth\": 0, \"ticks\": \"\"}}, \"type\": \"parcoords\"}], \"pie\": [{\"automargin\": true, \"type\": \"pie\"}], \"scatter\": [{\"marker\": {\"colorbar\": {\"outlinewidth\": 0, \"ticks\": \"\"}}, \"type\": \"scatter\"}], \"scatter3d\": [{\"line\": {\"colorbar\": {\"outlinewidth\": 0, \"ticks\": \"\"}}, \"marker\": {\"colorbar\": {\"outlinewidth\": 0, \"ticks\": \"\"}}, \"type\": \"scatter3d\"}], \"scattercarpet\": [{\"marker\": {\"colorbar\": {\"outlinewidth\": 0, \"ticks\": \"\"}}, \"type\": \"scattercarpet\"}], \"scattergeo\": [{\"marker\": {\"colorbar\": {\"outlinewidth\": 0, \"ticks\": \"\"}}, \"type\": \"scattergeo\"}], \"scattergl\": [{\"marker\": {\"colorbar\": {\"outlinewidth\": 0, \"ticks\": \"\"}}, \"type\": \"scattergl\"}], \"scattermapbox\": [{\"marker\": {\"colorbar\": {\"outlinewidth\": 0, \"ticks\": \"\"}}, \"type\": \"scattermapbox\"}], \"scatterpolar\": [{\"marker\": {\"colorbar\": {\"outlinewidth\": 0, \"ticks\": \"\"}}, \"type\": \"scatterpolar\"}], \"scatterpolargl\": [{\"marker\": {\"colorbar\": {\"outlinewidth\": 0, \"ticks\": \"\"}}, \"type\": \"scatterpolargl\"}], \"scatterternary\": [{\"marker\": {\"colorbar\": {\"outlinewidth\": 0, \"ticks\": \"\"}}, \"type\": \"scatterternary\"}], \"surface\": [{\"colorbar\": {\"outlinewidth\": 0, \"ticks\": \"\"}, \"colorscale\": [[0.0, \"#0d0887\"], [0.1111111111111111, \"#46039f\"], [0.2222222222222222, \"#7201a8\"], [0.3333333333333333, \"#9c179e\"], [0.4444444444444444, \"#bd3786\"], [0.5555555555555556, \"#d8576b\"], [0.6666666666666666, \"#ed7953\"], [0.7777777777777778, \"#fb9f3a\"], [0.8888888888888888, \"#fdca26\"], [1.0, \"#f0f921\"]], \"type\": \"surface\"}], \"table\": [{\"cells\": {\"fill\": {\"color\": \"#EBF0F8\"}, \"line\": {\"color\": \"white\"}}, \"header\": {\"fill\": {\"color\": \"#C8D4E3\"}, \"line\": {\"color\": \"white\"}}, \"type\": \"table\"}]}, \"layout\": {\"annotationdefaults\": {\"arrowcolor\": \"#2a3f5f\", \"arrowhead\": 0, \"arrowwidth\": 1}, \"coloraxis\": {\"colorbar\": {\"outlinewidth\": 0, \"ticks\": \"\"}}, \"colorscale\": {\"diverging\": [[0, \"#8e0152\"], [0.1, \"#c51b7d\"], [0.2, \"#de77ae\"], [0.3, \"#f1b6da\"], [0.4, \"#fde0ef\"], [0.5, \"#f7f7f7\"], [0.6, \"#e6f5d0\"], [0.7, \"#b8e186\"], [0.8, \"#7fbc41\"], [0.9, \"#4d9221\"], [1, \"#276419\"]], \"sequential\": [[0.0, \"#0d0887\"], [0.1111111111111111, \"#46039f\"], [0.2222222222222222, \"#7201a8\"], [0.3333333333333333, \"#9c179e\"], [0.4444444444444444, \"#bd3786\"], [0.5555555555555556, \"#d8576b\"], [0.6666666666666666, \"#ed7953\"], [0.7777777777777778, \"#fb9f3a\"], [0.8888888888888888, \"#fdca26\"], [1.0, \"#f0f921\"]], \"sequentialminus\": [[0.0, \"#0d0887\"], [0.1111111111111111, \"#46039f\"], [0.2222222222222222, \"#7201a8\"], [0.3333333333333333, \"#9c179e\"], [0.4444444444444444, \"#bd3786\"], [0.5555555555555556, \"#d8576b\"], [0.6666666666666666, \"#ed7953\"], [0.7777777777777778, \"#fb9f3a\"], [0.8888888888888888, \"#fdca26\"], [1.0, \"#f0f921\"]]}, \"colorway\": [\"#636efa\", \"#EF553B\", \"#00cc96\", \"#ab63fa\", \"#FFA15A\", \"#19d3f3\", \"#FF6692\", \"#B6E880\", \"#FF97FF\", \"#FECB52\"], \"font\": {\"color\": \"#2a3f5f\"}, \"geo\": {\"bgcolor\": \"white\", \"lakecolor\": \"white\", \"landcolor\": \"#E5ECF6\", \"showlakes\": true, \"showland\": true, \"subunitcolor\": \"white\"}, \"hoverlabel\": {\"align\": \"left\"}, \"hovermode\": \"closest\", \"mapbox\": {\"style\": \"light\"}, \"paper_bgcolor\": \"white\", \"plot_bgcolor\": \"#E5ECF6\", \"polar\": {\"angularaxis\": {\"gridcolor\": \"white\", \"linecolor\": \"white\", \"ticks\": \"\"}, \"bgcolor\": \"#E5ECF6\", \"radialaxis\": {\"gridcolor\": \"white\", \"linecolor\": \"white\", \"ticks\": \"\"}}, \"scene\": {\"xaxis\": {\"backgroundcolor\": \"#E5ECF6\", \"gridcolor\": \"white\", \"gridwidth\": 2, \"linecolor\": \"white\", \"showbackground\": true, \"ticks\": \"\", \"zerolinecolor\": \"white\"}, \"yaxis\": {\"backgroundcolor\": \"#E5ECF6\", \"gridcolor\": \"white\", \"gridwidth\": 2, \"linecolor\": \"white\", \"showbackground\": true, \"ticks\": \"\", \"zerolinecolor\": \"white\"}, \"zaxis\": {\"backgroundcolor\": \"#E5ECF6\", \"gridcolor\": \"white\", \"gridwidth\": 2, \"linecolor\": \"white\", \"showbackground\": true, \"ticks\": \"\", \"zerolinecolor\": \"white\"}}, \"shapedefaults\": {\"line\": {\"color\": \"#2a3f5f\"}}, \"ternary\": {\"aaxis\": {\"gridcolor\": \"white\", \"linecolor\": \"white\", \"ticks\": \"\"}, \"baxis\": {\"gridcolor\": \"white\", \"linecolor\": \"white\", \"ticks\": \"\"}, \"bgcolor\": \"#E5ECF6\", \"caxis\": {\"gridcolor\": \"white\", \"linecolor\": \"white\", \"ticks\": \"\"}}, \"title\": {\"x\": 0.05}, \"xaxis\": {\"automargin\": true, \"gridcolor\": \"white\", \"linecolor\": \"white\", \"ticks\": \"\", \"title\": {\"standoff\": 15}, \"zerolinecolor\": \"white\", \"zerolinewidth\": 2}, \"yaxis\": {\"automargin\": true, \"gridcolor\": \"white\", \"linecolor\": \"white\", \"ticks\": \"\", \"title\": {\"standoff\": 15}, \"zerolinecolor\": \"white\", \"zerolinewidth\": 2}}}, \"title\": {\"text\": \"Data Distribution at Species Level\"}, \"xaxis\": {\"anchor\": \"y\", \"domain\": [0.0, 1.0]}, \"yaxis\": {\"anchor\": \"x\", \"domain\": [0.0, 1.0], \"title\": {\"text\": \"image count\"}}},\n",
       "                        {\"responsive\": true}\n",
       "                    ).then(function(){\n",
       "                            \n",
       "var gd = document.getElementById('0910e2bc-728a-491c-a4b2-56fd7ceaafe8');\n",
       "var x = new MutationObserver(function (mutations, observer) {{\n",
       "        var display = window.getComputedStyle(gd).display;\n",
       "        if (!display || display === 'none') {{\n",
       "            console.log([gd, 'removed!']);\n",
       "            Plotly.purge(gd);\n",
       "            observer.disconnect();\n",
       "        }}\n",
       "}});\n",
       "\n",
       "// Listen for the removal of the full notebook cells\n",
       "var notebookContainer = gd.closest('#notebook-container');\n",
       "if (notebookContainer) {{\n",
       "    x.observe(notebookContainer, {childList: true});\n",
       "}}\n",
       "\n",
       "// Listen for the clearing of the current output cell\n",
       "var outputEl = gd.closest('.output');\n",
       "if (outputEl) {{\n",
       "    x.observe(outputEl, {childList: true});\n",
       "}}\n",
       "\n",
       "                        })\n",
       "                };\n",
       "                \n",
       "            </script>\n",
       "        </div>\n",
       "</body>\n",
       "</html>"
      ]
     },
     "metadata": {
      "tags": []
     },
     "output_type": "display_data"
    },
    {
     "data": {
      "text/html": [
       "<html>\n",
       "<head><meta charset=\"utf-8\" /></head>\n",
       "<body>\n",
       "    <div>\n",
       "            <script src=\"https://cdnjs.cloudflare.com/ajax/libs/mathjax/2.7.5/MathJax.js?config=TeX-AMS-MML_SVG\"></script><script type=\"text/javascript\">if (window.MathJax) {MathJax.Hub.Config({SVG: {font: \"STIX-Web\"}});}</script>\n",
       "                <script type=\"text/javascript\">window.PlotlyConfig = {MathJaxConfig: 'local'};</script>\n",
       "        <script src=\"https://cdn.plot.ly/plotly-latest.min.js\"></script>    \n",
       "            <div id=\"17a574dc-ff4c-430f-bc20-87de974fc401\" class=\"plotly-graph-div\" style=\"height:525px; width:100%;\"></div>\n",
       "            <script type=\"text/javascript\">\n",
       "                \n",
       "                    window.PLOTLYENV=window.PLOTLYENV || {};\n",
       "                    \n",
       "                if (document.getElementById(\"17a574dc-ff4c-430f-bc20-87de974fc401\")) {\n",
       "                    Plotly.newPlot(\n",
       "                        '17a574dc-ff4c-430f-bc20-87de974fc401',\n",
       "                        [{\"alignmentgroup\": \"True\", \"hoverlabel\": {\"namelength\": 0}, \"hovertemplate\": \"count=%{y}\", \"legendgroup\": \"\", \"marker\": {\"color\": \"#636efa\"}, \"name\": \"\", \"notched\": false, \"offsetgroup\": \"\", \"orientation\": \"v\", \"showlegend\": false, \"type\": \"box\", \"x0\": \" \", \"xaxis\": \"x\", \"y\": [22, 636, 231, 728, 146, 763, 111, 63, 36, 230, 164, 758, 1068, 27, 186, 26, 590, 24, 249, 1039, 1055, 791, 370, 504, 133, 1095, 1123, 950, 1127, 885, 236, 1777, 168, 938, 1061, 3165, 1060, 1120, 253, 65, 1152, 1276, 1156, 36, 1145, 1167, 1174, 1146, 1604, 914, 3274, 561, 1789, 2312, 136, 794, 1856, 2369, 1147, 1152, 512, 183, 2403, 3129, 493, 680, 1119, 18, 1824, 1156, 3384, 345, 454, 1472, 2060, 32, 875, 75, 159, 406, 325, 663, 679, 508, 3, 427, 316, 532, 839, 11, 2007, 1160, 764, 1, 1159, 1088, 978, 648, 333, 1136, 538, 1359, 710, 776, 1571, 1113, 33, 402, 125, 815, 567, 813, 885, 1148, 1579, 1132, 864, 1163, 296, 1724, 195, 1352, 329, 1110, 1108, 310, 33, 222, 14, 612, 1126, 94, 602, 704, 97, 143, 3772, 1579, 310, 110, 196, 60, 141, 314, 2326, 1108, 342, 1111, 1115, 233, 611, 1131, 146, 890, 1375, 554, 135, 1248, 461, 23, 495, 1573, 25, 424, 681, 1176, 1666, 42, 215, 210, 21, 259, 1067, 245, 287, 2180, 1135, 725, 1360, 366, 1209, 499, 1105, 1854, 315, 1165, 1135, 1142, 218, 1616, 900, 351, 539, 1301, 1293, 1297, 1148, 1742, 362, 501, 1585, 889, 2341, 243, 42, 117, 189, 1185, 18, 429, 3441, 521, 486, 652, 1624, 665, 249, 418, 2646, 1845, 1015, 1702, 1169, 1166, 1246, 1167, 1, 2536, 1196, 1146, 2302, 2340, 1158, 1188, 1171, 1159, 3886, 1081, 1639, 1026, 804, 1102, 990, 778, 1020, 1090, 2253, 624, 227, 5418, 228, 73, 1100, 21, 1163, 53, 2, 269, 1053, 58, 383, 9, 117, 21, 106, 111, 8, 498, 263, 363, 305, 1160, 10585, 763, 270, 178, 1625, 18, 345, 584, 178, 1128, 183, 3242, 300, 120, 1100, 2029, 81, 94, 124, 874, 211, 62, 1169, 197, 128, 206, 321, 157], \"y0\": \" \", \"yaxis\": \"y\"}],\n",
       "                        {\"boxmode\": \"group\", \"legend\": {\"tracegroupgap\": 0}, \"template\": {\"data\": {\"bar\": [{\"error_x\": {\"color\": \"#2a3f5f\"}, \"error_y\": {\"color\": \"#2a3f5f\"}, \"marker\": {\"line\": {\"color\": \"#E5ECF6\", \"width\": 0.5}}, \"type\": \"bar\"}], \"barpolar\": [{\"marker\": {\"line\": {\"color\": \"#E5ECF6\", \"width\": 0.5}}, \"type\": \"barpolar\"}], \"carpet\": [{\"aaxis\": {\"endlinecolor\": \"#2a3f5f\", \"gridcolor\": \"white\", \"linecolor\": \"white\", \"minorgridcolor\": \"white\", \"startlinecolor\": \"#2a3f5f\"}, \"baxis\": {\"endlinecolor\": \"#2a3f5f\", \"gridcolor\": \"white\", \"linecolor\": \"white\", \"minorgridcolor\": \"white\", \"startlinecolor\": \"#2a3f5f\"}, \"type\": \"carpet\"}], \"choropleth\": [{\"colorbar\": {\"outlinewidth\": 0, \"ticks\": \"\"}, \"type\": \"choropleth\"}], \"contour\": [{\"colorbar\": {\"outlinewidth\": 0, \"ticks\": \"\"}, \"colorscale\": [[0.0, \"#0d0887\"], [0.1111111111111111, \"#46039f\"], [0.2222222222222222, \"#7201a8\"], [0.3333333333333333, \"#9c179e\"], [0.4444444444444444, \"#bd3786\"], [0.5555555555555556, \"#d8576b\"], [0.6666666666666666, \"#ed7953\"], [0.7777777777777778, \"#fb9f3a\"], [0.8888888888888888, \"#fdca26\"], [1.0, \"#f0f921\"]], \"type\": \"contour\"}], \"contourcarpet\": [{\"colorbar\": {\"outlinewidth\": 0, \"ticks\": \"\"}, \"type\": \"contourcarpet\"}], \"heatmap\": [{\"colorbar\": {\"outlinewidth\": 0, \"ticks\": \"\"}, \"colorscale\": [[0.0, \"#0d0887\"], [0.1111111111111111, \"#46039f\"], [0.2222222222222222, \"#7201a8\"], [0.3333333333333333, \"#9c179e\"], [0.4444444444444444, \"#bd3786\"], [0.5555555555555556, \"#d8576b\"], [0.6666666666666666, \"#ed7953\"], [0.7777777777777778, \"#fb9f3a\"], [0.8888888888888888, \"#fdca26\"], [1.0, \"#f0f921\"]], \"type\": \"heatmap\"}], \"heatmapgl\": [{\"colorbar\": {\"outlinewidth\": 0, \"ticks\": \"\"}, \"colorscale\": [[0.0, \"#0d0887\"], [0.1111111111111111, \"#46039f\"], [0.2222222222222222, \"#7201a8\"], [0.3333333333333333, \"#9c179e\"], [0.4444444444444444, \"#bd3786\"], [0.5555555555555556, \"#d8576b\"], [0.6666666666666666, \"#ed7953\"], [0.7777777777777778, \"#fb9f3a\"], [0.8888888888888888, \"#fdca26\"], [1.0, \"#f0f921\"]], \"type\": \"heatmapgl\"}], \"histogram\": [{\"marker\": {\"colorbar\": {\"outlinewidth\": 0, \"ticks\": \"\"}}, \"type\": \"histogram\"}], \"histogram2d\": [{\"colorbar\": {\"outlinewidth\": 0, \"ticks\": \"\"}, \"colorscale\": [[0.0, \"#0d0887\"], [0.1111111111111111, \"#46039f\"], [0.2222222222222222, \"#7201a8\"], [0.3333333333333333, \"#9c179e\"], [0.4444444444444444, \"#bd3786\"], [0.5555555555555556, \"#d8576b\"], [0.6666666666666666, \"#ed7953\"], [0.7777777777777778, \"#fb9f3a\"], [0.8888888888888888, \"#fdca26\"], [1.0, \"#f0f921\"]], \"type\": \"histogram2d\"}], \"histogram2dcontour\": [{\"colorbar\": {\"outlinewidth\": 0, \"ticks\": \"\"}, \"colorscale\": [[0.0, \"#0d0887\"], [0.1111111111111111, \"#46039f\"], [0.2222222222222222, \"#7201a8\"], [0.3333333333333333, \"#9c179e\"], [0.4444444444444444, \"#bd3786\"], [0.5555555555555556, \"#d8576b\"], [0.6666666666666666, \"#ed7953\"], [0.7777777777777778, \"#fb9f3a\"], [0.8888888888888888, \"#fdca26\"], [1.0, \"#f0f921\"]], \"type\": \"histogram2dcontour\"}], \"mesh3d\": [{\"colorbar\": {\"outlinewidth\": 0, \"ticks\": \"\"}, \"type\": \"mesh3d\"}], \"parcoords\": [{\"line\": {\"colorbar\": {\"outlinewidth\": 0, \"ticks\": \"\"}}, \"type\": \"parcoords\"}], \"pie\": [{\"automargin\": true, \"type\": \"pie\"}], \"scatter\": [{\"marker\": {\"colorbar\": {\"outlinewidth\": 0, \"ticks\": \"\"}}, \"type\": \"scatter\"}], \"scatter3d\": [{\"line\": {\"colorbar\": {\"outlinewidth\": 0, \"ticks\": \"\"}}, \"marker\": {\"colorbar\": {\"outlinewidth\": 0, \"ticks\": \"\"}}, \"type\": \"scatter3d\"}], \"scattercarpet\": [{\"marker\": {\"colorbar\": {\"outlinewidth\": 0, \"ticks\": \"\"}}, \"type\": \"scattercarpet\"}], \"scattergeo\": [{\"marker\": {\"colorbar\": {\"outlinewidth\": 0, \"ticks\": \"\"}}, \"type\": \"scattergeo\"}], \"scattergl\": [{\"marker\": {\"colorbar\": {\"outlinewidth\": 0, \"ticks\": \"\"}}, \"type\": \"scattergl\"}], \"scattermapbox\": [{\"marker\": {\"colorbar\": {\"outlinewidth\": 0, \"ticks\": \"\"}}, \"type\": \"scattermapbox\"}], \"scatterpolar\": [{\"marker\": {\"colorbar\": {\"outlinewidth\": 0, \"ticks\": \"\"}}, \"type\": \"scatterpolar\"}], \"scatterpolargl\": [{\"marker\": {\"colorbar\": {\"outlinewidth\": 0, \"ticks\": \"\"}}, \"type\": \"scatterpolargl\"}], \"scatterternary\": [{\"marker\": {\"colorbar\": {\"outlinewidth\": 0, \"ticks\": \"\"}}, \"type\": \"scatterternary\"}], \"surface\": [{\"colorbar\": {\"outlinewidth\": 0, \"ticks\": \"\"}, \"colorscale\": [[0.0, \"#0d0887\"], [0.1111111111111111, \"#46039f\"], [0.2222222222222222, \"#7201a8\"], [0.3333333333333333, \"#9c179e\"], [0.4444444444444444, \"#bd3786\"], [0.5555555555555556, \"#d8576b\"], [0.6666666666666666, \"#ed7953\"], [0.7777777777777778, \"#fb9f3a\"], [0.8888888888888888, \"#fdca26\"], [1.0, \"#f0f921\"]], \"type\": \"surface\"}], \"table\": [{\"cells\": {\"fill\": {\"color\": \"#EBF0F8\"}, \"line\": {\"color\": \"white\"}}, \"header\": {\"fill\": {\"color\": \"#C8D4E3\"}, \"line\": {\"color\": \"white\"}}, \"type\": \"table\"}]}, \"layout\": {\"annotationdefaults\": {\"arrowcolor\": \"#2a3f5f\", \"arrowhead\": 0, \"arrowwidth\": 1}, \"coloraxis\": {\"colorbar\": {\"outlinewidth\": 0, \"ticks\": \"\"}}, \"colorscale\": {\"diverging\": [[0, \"#8e0152\"], [0.1, \"#c51b7d\"], [0.2, \"#de77ae\"], [0.3, \"#f1b6da\"], [0.4, \"#fde0ef\"], [0.5, \"#f7f7f7\"], [0.6, \"#e6f5d0\"], [0.7, \"#b8e186\"], [0.8, \"#7fbc41\"], [0.9, \"#4d9221\"], [1, \"#276419\"]], \"sequential\": [[0.0, \"#0d0887\"], [0.1111111111111111, \"#46039f\"], [0.2222222222222222, \"#7201a8\"], [0.3333333333333333, \"#9c179e\"], [0.4444444444444444, \"#bd3786\"], [0.5555555555555556, \"#d8576b\"], [0.6666666666666666, \"#ed7953\"], [0.7777777777777778, \"#fb9f3a\"], [0.8888888888888888, \"#fdca26\"], [1.0, \"#f0f921\"]], \"sequentialminus\": [[0.0, \"#0d0887\"], [0.1111111111111111, \"#46039f\"], [0.2222222222222222, \"#7201a8\"], [0.3333333333333333, \"#9c179e\"], [0.4444444444444444, \"#bd3786\"], [0.5555555555555556, \"#d8576b\"], [0.6666666666666666, \"#ed7953\"], [0.7777777777777778, \"#fb9f3a\"], [0.8888888888888888, \"#fdca26\"], [1.0, \"#f0f921\"]]}, \"colorway\": [\"#636efa\", \"#EF553B\", \"#00cc96\", \"#ab63fa\", \"#FFA15A\", \"#19d3f3\", \"#FF6692\", \"#B6E880\", \"#FF97FF\", \"#FECB52\"], \"font\": {\"color\": \"#2a3f5f\"}, \"geo\": {\"bgcolor\": \"white\", \"lakecolor\": \"white\", \"landcolor\": \"#E5ECF6\", \"showlakes\": true, \"showland\": true, \"subunitcolor\": \"white\"}, \"hoverlabel\": {\"align\": \"left\"}, \"hovermode\": \"closest\", \"mapbox\": {\"style\": \"light\"}, \"paper_bgcolor\": \"white\", \"plot_bgcolor\": \"#E5ECF6\", \"polar\": {\"angularaxis\": {\"gridcolor\": \"white\", \"linecolor\": \"white\", \"ticks\": \"\"}, \"bgcolor\": \"#E5ECF6\", \"radialaxis\": {\"gridcolor\": \"white\", \"linecolor\": \"white\", \"ticks\": \"\"}}, \"scene\": {\"xaxis\": {\"backgroundcolor\": \"#E5ECF6\", \"gridcolor\": \"white\", \"gridwidth\": 2, \"linecolor\": \"white\", \"showbackground\": true, \"ticks\": \"\", \"zerolinecolor\": \"white\"}, \"yaxis\": {\"backgroundcolor\": \"#E5ECF6\", \"gridcolor\": \"white\", \"gridwidth\": 2, \"linecolor\": \"white\", \"showbackground\": true, \"ticks\": \"\", \"zerolinecolor\": \"white\"}, \"zaxis\": {\"backgroundcolor\": \"#E5ECF6\", \"gridcolor\": \"white\", \"gridwidth\": 2, \"linecolor\": \"white\", \"showbackground\": true, \"ticks\": \"\", \"zerolinecolor\": \"white\"}}, \"shapedefaults\": {\"line\": {\"color\": \"#2a3f5f\"}}, \"ternary\": {\"aaxis\": {\"gridcolor\": \"white\", \"linecolor\": \"white\", \"ticks\": \"\"}, \"baxis\": {\"gridcolor\": \"white\", \"linecolor\": \"white\", \"ticks\": \"\"}, \"bgcolor\": \"#E5ECF6\", \"caxis\": {\"gridcolor\": \"white\", \"linecolor\": \"white\", \"ticks\": \"\"}}, \"title\": {\"x\": 0.05}, \"xaxis\": {\"automargin\": true, \"gridcolor\": \"white\", \"linecolor\": \"white\", \"ticks\": \"\", \"title\": {\"standoff\": 15}, \"zerolinecolor\": \"white\", \"zerolinewidth\": 2}, \"yaxis\": {\"automargin\": true, \"gridcolor\": \"white\", \"linecolor\": \"white\", \"ticks\": \"\", \"title\": {\"standoff\": 15}, \"zerolinecolor\": \"white\", \"zerolinewidth\": 2}}}, \"title\": {\"text\": \"Data Distribution at Genus Level\"}, \"xaxis\": {\"anchor\": \"y\", \"domain\": [0.0, 1.0]}, \"yaxis\": {\"anchor\": \"x\", \"domain\": [0.0, 1.0], \"title\": {\"text\": \"image count\"}}},\n",
       "                        {\"responsive\": true}\n",
       "                    ).then(function(){\n",
       "                            \n",
       "var gd = document.getElementById('17a574dc-ff4c-430f-bc20-87de974fc401');\n",
       "var x = new MutationObserver(function (mutations, observer) {{\n",
       "        var display = window.getComputedStyle(gd).display;\n",
       "        if (!display || display === 'none') {{\n",
       "            console.log([gd, 'removed!']);\n",
       "            Plotly.purge(gd);\n",
       "            observer.disconnect();\n",
       "        }}\n",
       "}});\n",
       "\n",
       "// Listen for the removal of the full notebook cells\n",
       "var notebookContainer = gd.closest('#notebook-container');\n",
       "if (notebookContainer) {{\n",
       "    x.observe(notebookContainer, {childList: true});\n",
       "}}\n",
       "\n",
       "// Listen for the clearing of the current output cell\n",
       "var outputEl = gd.closest('.output');\n",
       "if (outputEl) {{\n",
       "    x.observe(outputEl, {childList: true});\n",
       "}}\n",
       "\n",
       "                        })\n",
       "                };\n",
       "                \n",
       "            </script>\n",
       "        </div>\n",
       "</body>\n",
       "</html>"
      ]
     },
     "metadata": {
      "tags": []
     },
     "output_type": "display_data"
    },
    {
     "data": {
      "text/html": [
       "<html>\n",
       "<head><meta charset=\"utf-8\" /></head>\n",
       "<body>\n",
       "    <div>\n",
       "            <script src=\"https://cdnjs.cloudflare.com/ajax/libs/mathjax/2.7.5/MathJax.js?config=TeX-AMS-MML_SVG\"></script><script type=\"text/javascript\">if (window.MathJax) {MathJax.Hub.Config({SVG: {font: \"STIX-Web\"}});}</script>\n",
       "                <script type=\"text/javascript\">window.PlotlyConfig = {MathJaxConfig: 'local'};</script>\n",
       "        <script src=\"https://cdn.plot.ly/plotly-latest.min.js\"></script>    \n",
       "            <div id=\"419f5c35-3e7a-42c9-90f5-e27c96ca03e3\" class=\"plotly-graph-div\" style=\"height:525px; width:100%;\"></div>\n",
       "            <script type=\"text/javascript\">\n",
       "                \n",
       "                    window.PLOTLYENV=window.PLOTLYENV || {};\n",
       "                    \n",
       "                if (document.getElementById(\"419f5c35-3e7a-42c9-90f5-e27c96ca03e3\")) {\n",
       "                    Plotly.newPlot(\n",
       "                        '419f5c35-3e7a-42c9-90f5-e27c96ca03e3',\n",
       "                        [{\"alignmentgroup\": \"True\", \"hoverlabel\": {\"namelength\": 0}, \"hovertemplate\": \"count=%{y}\", \"legendgroup\": \"\", \"marker\": {\"color\": \"#636efa\"}, \"name\": \"\", \"notched\": false, \"offsetgroup\": \"\", \"orientation\": \"v\", \"showlegend\": false, \"type\": \"box\", \"x0\": \" \", \"xaxis\": \"x\", \"y\": [889, 1637, 2669, 6973, 1031, 5131, 5286, 1373, 65, 9950, 31205, 799, 87403, 16667, 90031], \"y0\": \" \", \"yaxis\": \"y\"}],\n",
       "                        {\"boxmode\": \"group\", \"legend\": {\"tracegroupgap\": 0}, \"template\": {\"data\": {\"bar\": [{\"error_x\": {\"color\": \"#2a3f5f\"}, \"error_y\": {\"color\": \"#2a3f5f\"}, \"marker\": {\"line\": {\"color\": \"#E5ECF6\", \"width\": 0.5}}, \"type\": \"bar\"}], \"barpolar\": [{\"marker\": {\"line\": {\"color\": \"#E5ECF6\", \"width\": 0.5}}, \"type\": \"barpolar\"}], \"carpet\": [{\"aaxis\": {\"endlinecolor\": \"#2a3f5f\", \"gridcolor\": \"white\", \"linecolor\": \"white\", \"minorgridcolor\": \"white\", \"startlinecolor\": \"#2a3f5f\"}, \"baxis\": {\"endlinecolor\": \"#2a3f5f\", \"gridcolor\": \"white\", \"linecolor\": \"white\", \"minorgridcolor\": \"white\", \"startlinecolor\": \"#2a3f5f\"}, \"type\": \"carpet\"}], \"choropleth\": [{\"colorbar\": {\"outlinewidth\": 0, \"ticks\": \"\"}, \"type\": \"choropleth\"}], \"contour\": [{\"colorbar\": {\"outlinewidth\": 0, \"ticks\": \"\"}, \"colorscale\": [[0.0, \"#0d0887\"], [0.1111111111111111, \"#46039f\"], [0.2222222222222222, \"#7201a8\"], [0.3333333333333333, \"#9c179e\"], [0.4444444444444444, \"#bd3786\"], [0.5555555555555556, \"#d8576b\"], [0.6666666666666666, \"#ed7953\"], [0.7777777777777778, \"#fb9f3a\"], [0.8888888888888888, \"#fdca26\"], [1.0, \"#f0f921\"]], \"type\": \"contour\"}], \"contourcarpet\": [{\"colorbar\": {\"outlinewidth\": 0, \"ticks\": \"\"}, \"type\": \"contourcarpet\"}], \"heatmap\": [{\"colorbar\": {\"outlinewidth\": 0, \"ticks\": \"\"}, \"colorscale\": [[0.0, \"#0d0887\"], [0.1111111111111111, \"#46039f\"], [0.2222222222222222, \"#7201a8\"], [0.3333333333333333, \"#9c179e\"], [0.4444444444444444, \"#bd3786\"], [0.5555555555555556, \"#d8576b\"], [0.6666666666666666, \"#ed7953\"], [0.7777777777777778, \"#fb9f3a\"], [0.8888888888888888, \"#fdca26\"], [1.0, \"#f0f921\"]], \"type\": \"heatmap\"}], \"heatmapgl\": [{\"colorbar\": {\"outlinewidth\": 0, \"ticks\": \"\"}, \"colorscale\": [[0.0, \"#0d0887\"], [0.1111111111111111, \"#46039f\"], [0.2222222222222222, \"#7201a8\"], [0.3333333333333333, \"#9c179e\"], [0.4444444444444444, \"#bd3786\"], [0.5555555555555556, \"#d8576b\"], [0.6666666666666666, \"#ed7953\"], [0.7777777777777778, \"#fb9f3a\"], [0.8888888888888888, \"#fdca26\"], [1.0, \"#f0f921\"]], \"type\": \"heatmapgl\"}], \"histogram\": [{\"marker\": {\"colorbar\": {\"outlinewidth\": 0, \"ticks\": \"\"}}, \"type\": \"histogram\"}], \"histogram2d\": [{\"colorbar\": {\"outlinewidth\": 0, \"ticks\": \"\"}, \"colorscale\": [[0.0, \"#0d0887\"], [0.1111111111111111, \"#46039f\"], [0.2222222222222222, \"#7201a8\"], [0.3333333333333333, \"#9c179e\"], [0.4444444444444444, \"#bd3786\"], [0.5555555555555556, \"#d8576b\"], [0.6666666666666666, \"#ed7953\"], [0.7777777777777778, \"#fb9f3a\"], [0.8888888888888888, \"#fdca26\"], [1.0, \"#f0f921\"]], \"type\": \"histogram2d\"}], \"histogram2dcontour\": [{\"colorbar\": {\"outlinewidth\": 0, \"ticks\": \"\"}, \"colorscale\": [[0.0, \"#0d0887\"], [0.1111111111111111, \"#46039f\"], [0.2222222222222222, \"#7201a8\"], [0.3333333333333333, \"#9c179e\"], [0.4444444444444444, \"#bd3786\"], [0.5555555555555556, \"#d8576b\"], [0.6666666666666666, \"#ed7953\"], [0.7777777777777778, \"#fb9f3a\"], [0.8888888888888888, \"#fdca26\"], [1.0, \"#f0f921\"]], \"type\": \"histogram2dcontour\"}], \"mesh3d\": [{\"colorbar\": {\"outlinewidth\": 0, \"ticks\": \"\"}, \"type\": \"mesh3d\"}], \"parcoords\": [{\"line\": {\"colorbar\": {\"outlinewidth\": 0, \"ticks\": \"\"}}, \"type\": \"parcoords\"}], \"pie\": [{\"automargin\": true, \"type\": \"pie\"}], \"scatter\": [{\"marker\": {\"colorbar\": {\"outlinewidth\": 0, \"ticks\": \"\"}}, \"type\": \"scatter\"}], \"scatter3d\": [{\"line\": {\"colorbar\": {\"outlinewidth\": 0, \"ticks\": \"\"}}, \"marker\": {\"colorbar\": {\"outlinewidth\": 0, \"ticks\": \"\"}}, \"type\": \"scatter3d\"}], \"scattercarpet\": [{\"marker\": {\"colorbar\": {\"outlinewidth\": 0, \"ticks\": \"\"}}, \"type\": \"scattercarpet\"}], \"scattergeo\": [{\"marker\": {\"colorbar\": {\"outlinewidth\": 0, \"ticks\": \"\"}}, \"type\": \"scattergeo\"}], \"scattergl\": [{\"marker\": {\"colorbar\": {\"outlinewidth\": 0, \"ticks\": \"\"}}, \"type\": \"scattergl\"}], \"scattermapbox\": [{\"marker\": {\"colorbar\": {\"outlinewidth\": 0, \"ticks\": \"\"}}, \"type\": \"scattermapbox\"}], \"scatterpolar\": [{\"marker\": {\"colorbar\": {\"outlinewidth\": 0, \"ticks\": \"\"}}, \"type\": \"scatterpolar\"}], \"scatterpolargl\": [{\"marker\": {\"colorbar\": {\"outlinewidth\": 0, \"ticks\": \"\"}}, \"type\": \"scatterpolargl\"}], \"scatterternary\": [{\"marker\": {\"colorbar\": {\"outlinewidth\": 0, \"ticks\": \"\"}}, \"type\": \"scatterternary\"}], \"surface\": [{\"colorbar\": {\"outlinewidth\": 0, \"ticks\": \"\"}, \"colorscale\": [[0.0, \"#0d0887\"], [0.1111111111111111, \"#46039f\"], [0.2222222222222222, \"#7201a8\"], [0.3333333333333333, \"#9c179e\"], [0.4444444444444444, \"#bd3786\"], [0.5555555555555556, \"#d8576b\"], [0.6666666666666666, \"#ed7953\"], [0.7777777777777778, \"#fb9f3a\"], [0.8888888888888888, \"#fdca26\"], [1.0, \"#f0f921\"]], \"type\": \"surface\"}], \"table\": [{\"cells\": {\"fill\": {\"color\": \"#EBF0F8\"}, \"line\": {\"color\": \"white\"}}, \"header\": {\"fill\": {\"color\": \"#C8D4E3\"}, \"line\": {\"color\": \"white\"}}, \"type\": \"table\"}]}, \"layout\": {\"annotationdefaults\": {\"arrowcolor\": \"#2a3f5f\", \"arrowhead\": 0, \"arrowwidth\": 1}, \"coloraxis\": {\"colorbar\": {\"outlinewidth\": 0, \"ticks\": \"\"}}, \"colorscale\": {\"diverging\": [[0, \"#8e0152\"], [0.1, \"#c51b7d\"], [0.2, \"#de77ae\"], [0.3, \"#f1b6da\"], [0.4, \"#fde0ef\"], [0.5, \"#f7f7f7\"], [0.6, \"#e6f5d0\"], [0.7, \"#b8e186\"], [0.8, \"#7fbc41\"], [0.9, \"#4d9221\"], [1, \"#276419\"]], \"sequential\": [[0.0, \"#0d0887\"], [0.1111111111111111, \"#46039f\"], [0.2222222222222222, \"#7201a8\"], [0.3333333333333333, \"#9c179e\"], [0.4444444444444444, \"#bd3786\"], [0.5555555555555556, \"#d8576b\"], [0.6666666666666666, \"#ed7953\"], [0.7777777777777778, \"#fb9f3a\"], [0.8888888888888888, \"#fdca26\"], [1.0, \"#f0f921\"]], \"sequentialminus\": [[0.0, \"#0d0887\"], [0.1111111111111111, \"#46039f\"], [0.2222222222222222, \"#7201a8\"], [0.3333333333333333, \"#9c179e\"], [0.4444444444444444, \"#bd3786\"], [0.5555555555555556, \"#d8576b\"], [0.6666666666666666, \"#ed7953\"], [0.7777777777777778, \"#fb9f3a\"], [0.8888888888888888, \"#fdca26\"], [1.0, \"#f0f921\"]]}, \"colorway\": [\"#636efa\", \"#EF553B\", \"#00cc96\", \"#ab63fa\", \"#FFA15A\", \"#19d3f3\", \"#FF6692\", \"#B6E880\", \"#FF97FF\", \"#FECB52\"], \"font\": {\"color\": \"#2a3f5f\"}, \"geo\": {\"bgcolor\": \"white\", \"lakecolor\": \"white\", \"landcolor\": \"#E5ECF6\", \"showlakes\": true, \"showland\": true, \"subunitcolor\": \"white\"}, \"hoverlabel\": {\"align\": \"left\"}, \"hovermode\": \"closest\", \"mapbox\": {\"style\": \"light\"}, \"paper_bgcolor\": \"white\", \"plot_bgcolor\": \"#E5ECF6\", \"polar\": {\"angularaxis\": {\"gridcolor\": \"white\", \"linecolor\": \"white\", \"ticks\": \"\"}, \"bgcolor\": \"#E5ECF6\", \"radialaxis\": {\"gridcolor\": \"white\", \"linecolor\": \"white\", \"ticks\": \"\"}}, \"scene\": {\"xaxis\": {\"backgroundcolor\": \"#E5ECF6\", \"gridcolor\": \"white\", \"gridwidth\": 2, \"linecolor\": \"white\", \"showbackground\": true, \"ticks\": \"\", \"zerolinecolor\": \"white\"}, \"yaxis\": {\"backgroundcolor\": \"#E5ECF6\", \"gridcolor\": \"white\", \"gridwidth\": 2, \"linecolor\": \"white\", \"showbackground\": true, \"ticks\": \"\", \"zerolinecolor\": \"white\"}, \"zaxis\": {\"backgroundcolor\": \"#E5ECF6\", \"gridcolor\": \"white\", \"gridwidth\": 2, \"linecolor\": \"white\", \"showbackground\": true, \"ticks\": \"\", \"zerolinecolor\": \"white\"}}, \"shapedefaults\": {\"line\": {\"color\": \"#2a3f5f\"}}, \"ternary\": {\"aaxis\": {\"gridcolor\": \"white\", \"linecolor\": \"white\", \"ticks\": \"\"}, \"baxis\": {\"gridcolor\": \"white\", \"linecolor\": \"white\", \"ticks\": \"\"}, \"bgcolor\": \"#E5ECF6\", \"caxis\": {\"gridcolor\": \"white\", \"linecolor\": \"white\", \"ticks\": \"\"}}, \"title\": {\"x\": 0.05}, \"xaxis\": {\"automargin\": true, \"gridcolor\": \"white\", \"linecolor\": \"white\", \"ticks\": \"\", \"title\": {\"standoff\": 15}, \"zerolinecolor\": \"white\", \"zerolinewidth\": 2}, \"yaxis\": {\"automargin\": true, \"gridcolor\": \"white\", \"linecolor\": \"white\", \"ticks\": \"\", \"title\": {\"standoff\": 15}, \"zerolinecolor\": \"white\", \"zerolinewidth\": 2}}}, \"title\": {\"text\": \"Data Distribution at Family Level\"}, \"xaxis\": {\"anchor\": \"y\", \"domain\": [0.0, 1.0]}, \"yaxis\": {\"anchor\": \"x\", \"domain\": [0.0, 1.0], \"title\": {\"text\": \"image count\"}}},\n",
       "                        {\"responsive\": true}\n",
       "                    ).then(function(){\n",
       "                            \n",
       "var gd = document.getElementById('419f5c35-3e7a-42c9-90f5-e27c96ca03e3');\n",
       "var x = new MutationObserver(function (mutations, observer) {{\n",
       "        var display = window.getComputedStyle(gd).display;\n",
       "        if (!display || display === 'none') {{\n",
       "            console.log([gd, 'removed!']);\n",
       "            Plotly.purge(gd);\n",
       "            observer.disconnect();\n",
       "        }}\n",
       "}});\n",
       "\n",
       "// Listen for the removal of the full notebook cells\n",
       "var notebookContainer = gd.closest('#notebook-container');\n",
       "if (notebookContainer) {{\n",
       "    x.observe(notebookContainer, {childList: true});\n",
       "}}\n",
       "\n",
       "// Listen for the clearing of the current output cell\n",
       "var outputEl = gd.closest('.output');\n",
       "if (outputEl) {{\n",
       "    x.observe(outputEl, {childList: true});\n",
       "}}\n",
       "\n",
       "                        })\n",
       "                };\n",
       "                \n",
       "            </script>\n",
       "        </div>\n",
       "</body>\n",
       "</html>"
      ]
     },
     "metadata": {
      "tags": []
     },
     "output_type": "display_data"
    }
   ],
   "source": [
    "# species plot\n",
    "fig = px.box(species_count, y='count',\n",
    "             title='Data Distribution at Species Level')\n",
    "fig.update_layout(\n",
    "    yaxis_title='image count',\n",
    ")\n",
    "fig.show()\n",
    "\n",
    "# genus plot\n",
    "fig = px.box(genus_count, y='count',\n",
    "             title='Data Distribution at Genus Level')\n",
    "fig.update_layout(\n",
    "    yaxis_title='image count',\n",
    ")\n",
    "fig.show()\n",
    "\n",
    "# family plot\n",
    "fig = px.box(family_count, y='count',\n",
    "             title='Data Distribution at Family Level')\n",
    "fig.update_layout(\n",
    "    yaxis_title='image count',\n",
    ")\n",
    "fig.show()"
   ]
  },
  {
   "cell_type": "markdown",
   "metadata": {
    "id": "dKbb7y_YH4fD"
   },
   "source": [
    "## Miscellaneous - Not to Run\n",
    "\n"
   ]
  },
  {
   "cell_type": "markdown",
   "metadata": {
    "id": "EbReOkO-ekW9"
   },
   "source": [
    "### Zipping files so that they can be downloaded "
   ]
  },
  {
   "cell_type": "code",
   "execution_count": null,
   "metadata": {
    "id": "Xd19n9rceTR4"
   },
   "outputs": [],
   "source": [
    "!zip -r drive/MyDrive/Data/iNat_data.zip drive/MyDrive/Data/iNat/Apatelodidae/"
   ]
  },
  {
   "cell_type": "code",
   "execution_count": null,
   "metadata": {
    "id": "U4m4pO3riNMB"
   },
   "outputs": [],
   "source": [
    "# this updates the existing zip file\n",
    "!zip -u -r drive/MyDrive/Data/iNat_data.zip drive/MyDrive/Data/iNat/Cossidae/ drive/MyDrive/Data/iNat/Drepanidae/ drive/MyDrive/Data/iNat/Erebidae/ "
   ]
  },
  {
   "cell_type": "code",
   "execution_count": null,
   "metadata": {
    "id": "hLTtAJD2OsNI"
   },
   "outputs": [],
   "source": [
    "file = open(WRITE_DIR + 'countdata.txt')\n",
    "file = json.load(file)\n",
    "file"
   ]
  },
  {
   "cell_type": "code",
   "execution_count": null,
   "metadata": {
    "colab": {
     "base_uri": "https://localhost:8080/",
     "height": 130
    },
    "id": "t4jiFhT5zE7M",
    "outputId": "ee493a5a-b9a3-42d6-d03d-cbaedd2e22c6"
   },
   "outputs": [
    {
     "ename": "SyntaxError",
     "evalue": "ignored",
     "output_type": "error",
     "traceback": [
      "\u001b[0;36m  File \u001b[0;32m\"<ipython-input-40-f81509da6f06>\"\u001b[0;36m, line \u001b[0;32m2\u001b[0m\n\u001b[0;31m    data = occ.download(user = \"adityajain07\", 'taxonKey = 1939759')\u001b[0m\n\u001b[0m                                              ^\u001b[0m\n\u001b[0;31mSyntaxError\u001b[0m\u001b[0;31m:\u001b[0m positional argument follows keyword argument\n"
     ]
    }
   ],
   "source": [
    "# data = occ.search(taxonKey=1939759, datasetKey=INat_KEY)\n",
    "data = occ.download(user = \"adityajain07\", 'taxonKey = 1939759')\n",
    "print(data)"
   ]
  },
  {
   "cell_type": "code",
   "execution_count": null,
   "metadata": {
    "id": "Rnz9ae_nznOP"
   },
   "outputs": [],
   "source": [
    "print(json.dumps(data['results'][0], indent=3))"
   ]
  },
  {
   "cell_type": "code",
   "execution_count": null,
   "metadata": {
    "colab": {
     "base_uri": "https://localhost:8080/"
    },
    "id": "UQz2Bs6nrvtZ",
    "outputId": "285e8153-4497-452f-ec24-ca68599d76e3"
   },
   "outputs": [
    {
     "name": "stdout",
     "output_type": "stream",
     "text": [
      "dict_keys(['offset', 'limit', 'endOfRecords', 'count', 'results', 'facets'])\n",
      "101193\n",
      "False 300\n",
      "{'key': 2005401077, 'datasetKey': '50c9509d-22c7-4a22-a47d-8c48425ef4a7', 'publishingOrgKey': '28eb1a3f-1c15-4a95-931a-4af90ecb574d', 'installationKey': '997448a8-f762-11e1-a439-00145eb45e9a', 'publishingCountry': 'US', 'protocol': 'DWC_ARCHIVE', 'lastCrawled': '2021-03-28T07:49:20.828+00:00', 'lastParsed': '2021-03-28T09:45:55.128+00:00', 'crawlId': 257, 'hostingOrganizationKey': '28eb1a3f-1c15-4a95-931a-4af90ecb574d', 'extensions': {}, 'basisOfRecord': 'HUMAN_OBSERVATION', 'occurrenceStatus': 'PRESENT', 'taxonKey': 7207515, 'kingdomKey': 1, 'phylumKey': 54, 'classKey': 216, 'orderKey': 797, 'familyKey': 7017, 'genusKey': 5133087, 'speciesKey': 5133088, 'acceptedTaxonKey': 7207515, 'scientificName': 'Danaus plexippus plexippus', 'acceptedScientificName': 'Danaus plexippus plexippus', 'kingdom': 'Animalia', 'phylum': 'Arthropoda', 'order': 'Lepidoptera', 'family': 'Nymphalidae', 'genus': 'Danaus', 'species': 'Danaus plexippus', 'genericName': 'Danaus', 'specificEpithet': 'plexippus', 'infraspecificEpithet': 'plexippus', 'taxonRank': 'SUBSPECIES', 'taxonomicStatus': 'ACCEPTED', 'dateIdentified': '2015-10-23T00:22:31', 'decimalLongitude': -99.555449, 'decimalLatitude': 18.908245, 'coordinateUncertaintyInMeters': 30615.0, 'stateProvince': 'México', 'year': 2015, 'month': 10, 'day': 11, 'eventDate': '2015-10-11T00:00:00', 'issues': ['COORDINATE_ROUNDED', 'GEODETIC_DATUM_ASSUMED_WGS84', 'INSTITUTION_MATCH_NONE', 'COLLECTION_MATCH_NONE'], 'modified': '2021-01-20T23:26:12.000+00:00', 'lastInterpreted': '2021-03-28T09:45:55.128+00:00', 'references': 'https://www.inaturalist.org/observations/2284333', 'license': 'http://creativecommons.org/licenses/by-nc/4.0/legalcode', 'identifiers': [], 'media': [], 'facts': [], 'relations': [], 'gadm': {'level0': {'gid': 'MEX', 'name': 'Mexico'}, 'level1': {'gid': 'MEX.15_1', 'name': 'México'}, 'level2': {'gid': 'MEX.15.89_1', 'name': 'Tenancingo'}}, 'isInCluster': False, 'geodeticDatum': 'WGS84', 'class': 'Insecta', 'countryCode': 'MX', 'recordedByIDs': [], 'identifiedByIDs': [], 'country': 'Mexico', 'rightsHolder': 'Zabdiel Peralta', 'identifier': '2284333', 'http://unknown.org/nick': 'negronahual', 'informationWithheld': 'Coordinate uncertainty increased to 30615m to protect threatened taxon', 'verbatimEventDate': '2015/10/11', 'datasetName': 'iNaturalist research-grade observations', 'gbifID': '2005401077', 'collectionCode': 'Observations', 'verbatimLocality': 'México, MX', 'occurrenceID': 'http://conabio.inaturalist.org/observations/2284333', 'taxonID': '235550', 'catalogNumber': '2284333', 'recordedBy': 'Zabdiel Peralta', 'http://unknown.org/occurrenceDetails': 'http://conabio.inaturalist.org/observations/2284333', 'institutionCode': 'iNaturalist', 'rights': '© Zabdiel Peralta some rights reserved', 'identifiedBy': 'Hugo Álvarez-García', 'identificationID': '4192476'}\n",
      "dict_keys(['key', 'datasetKey', 'publishingOrgKey', 'installationKey', 'publishingCountry', 'protocol', 'lastCrawled', 'lastParsed', 'crawlId', 'hostingOrganizationKey', 'extensions', 'basisOfRecord', 'occurrenceStatus', 'taxonKey', 'kingdomKey', 'phylumKey', 'classKey', 'orderKey', 'familyKey', 'genusKey', 'speciesKey', 'acceptedTaxonKey', 'scientificName', 'acceptedScientificName', 'kingdom', 'phylum', 'order', 'family', 'genus', 'species', 'genericName', 'specificEpithet', 'infraspecificEpithet', 'taxonRank', 'taxonomicStatus', 'dateIdentified', 'decimalLongitude', 'decimalLatitude', 'coordinateUncertaintyInMeters', 'stateProvince', 'year', 'month', 'day', 'eventDate', 'issues', 'modified', 'lastInterpreted', 'references', 'license', 'identifiers', 'media', 'facts', 'relations', 'gadm', 'isInCluster', 'geodeticDatum', 'class', 'countryCode', 'recordedByIDs', 'identifiedByIDs', 'country', 'rightsHolder', 'identifier', 'http://unknown.org/nick', 'informationWithheld', 'verbatimEventDate', 'datasetName', 'gbifID', 'collectionCode', 'verbatimLocality', 'occurrenceID', 'taxonID', 'catalogNumber', 'recordedBy', 'http://unknown.org/occurrenceDetails', 'institutionCode', 'rights', 'occurrenceRemarks', 'identifiedBy', 'identificationID'])\n"
     ]
    }
   ],
   "source": [
    "print(data.keys())\n",
    "print(data['count'])\n",
    "print(data['endOfRecords'], data['limit'])\n",
    "print(data['results'][2])\n",
    "print(data['results'][0].keys())"
   ]
  },
  {
   "cell_type": "code",
   "execution_count": null,
   "metadata": {
    "id": "Hh-a-Whl4Vql"
   },
   "outputs": [],
   "source": [
    "from pygbif import occurrences as occ\n",
    "from pygbif import species\n",
    "\n",
    "iNat_KEY = \"50c9509d-22c7-4a22-a47d-8c48425ef4a7\"\n",
    "test = occ.search(q='Danaus plexippus', datasetKey=iNat_KEY)\n",
    "# test = occ.download_list(user = \"adityajain07\", taxonKey = 5133088)\n",
    "# test['count']\n",
    "# result = species.name_suggest(q='Danaus plexippus')"
   ]
  },
  {
   "cell_type": "code",
   "execution_count": null,
   "metadata": {
    "colab": {
     "base_uri": "https://localhost:8080/"
    },
    "id": "copig8i26veL",
    "outputId": "6b9a49ce-17e2-4931-c620-597c2cbb0f8f"
   },
   "outputs": [
    {
     "name": "stdout",
     "output_type": "stream",
     "text": [
      "dict_keys(['offset', 'limit', 'endOfRecords', 'count', 'results', 'facets'])\n",
      "101193\n"
     ]
    },
    {
     "data": {
      "text/plain": [
       "('test.jpg', <http.client.HTTPMessage at 0x7f681d8f7750>)"
      ]
     },
     "execution_count": 5,
     "metadata": {
      "tags": []
     },
     "output_type": "execute_result"
    }
   ],
   "source": [
    "import urllib\n",
    "print(test.keys())\n",
    "print(test['count'])\n",
    "# test['endOfRecords']\n",
    "image_link = test['results'][299]['media'][0]['identifier']\n",
    "\n",
    "urllib.request.urlretrieve(image_link, 'test.jpg')"
   ]
  },
  {
   "cell_type": "code",
   "execution_count": null,
   "metadata": {
    "id": "CM1HKIOv6JDa"
   },
   "outputs": [],
   "source": []
  }
 ],
 "metadata": {
  "colab": {
   "collapsed_sections": [],
   "name": "GBIF_Data.ipynb",
   "provenance": [],
   "toc_visible": true
  },
  "kernelspec": {
   "display_name": "Python 3",
   "language": "python",
   "name": "python3"
  },
  "language_info": {
   "codemirror_mode": {
    "name": "ipython",
    "version": 3
   },
   "file_extension": ".py",
   "mimetype": "text/x-python",
   "name": "python",
   "nbconvert_exporter": "python",
   "pygments_lexer": "ipython3",
   "version": "3.7.4"
  }
 },
 "nbformat": 4,
 "nbformat_minor": 4
}
