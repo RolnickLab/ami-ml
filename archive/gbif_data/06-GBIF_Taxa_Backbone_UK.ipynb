{
 "cells": [
  {
   "cell_type": "code",
   "execution_count": 1,
   "metadata": {},
   "outputs": [
    {
     "data": {
      "text/plain": [
       "'\\nAuthor.      : Aditya Jain\\nDate Started : May 9, 2022\\nAbout        : This script fetches unique IDs for UK moth species from GBIF database\\n'"
      ]
     },
     "execution_count": 1,
     "metadata": {},
     "output_type": "execute_result"
    }
   ],
   "source": [
    "\"\"\"\n",
    "Author.      : Aditya Jain\n",
    "Date Started : May 9, 2022\n",
    "About        : This script fetches unique IDs for UK moth species from GBIF database\n",
    "\"\"\"\n"
   ]
  },
  {
   "cell_type": "code",
   "execution_count": 2,
   "metadata": {
    "id": "qsYGHMo34CWR"
   },
   "outputs": [],
   "source": [
    "from pygbif import occurrences as occ\n",
    "from pygbif import species as species_api\n",
    "import pandas as pd\n",
    "import os\n",
    "import tqdm\n",
    "import urllib\n",
    "import json\n",
    "import time\n",
    "\n",
    "data_dir   = '/home/mila/a/aditya.jain/mothAI/other_species_lists/'"
   ]
  },
  {
   "cell_type": "code",
   "execution_count": 3,
   "metadata": {
    "id": "zPTloCcM5eX-"
   },
   "outputs": [],
   "source": [
    "def get_gbif_key_backbone(name, place):\n",
    "    \"\"\" given a species name, this function returns the unique gbif key and other \n",
    "        attributes using backbone API\n",
    "    \"\"\"\n",
    "    \n",
    "    # default values\n",
    "    taxon_key      = [-1]\n",
    "    order          = ['NA']\n",
    "    family         = ['NA']\n",
    "    genus          = ['NA']    \n",
    "    search_species = [name]\n",
    "    gbif_species   = ['NA']     # the name returned on search, can be different from the search\n",
    "    confidence     = ['']\n",
    "    status         = ['NA']\n",
    "    match_type     = ['NONE']\n",
    "    place          = [place]\n",
    "\n",
    "    data = species_api.name_backbone(name=name, strict=True, rank='species')\n",
    "\n",
    "    if data['matchType'] == 'NONE':\n",
    "        confidence    = [data['confidence']]\n",
    "    else:\n",
    "        taxon_key     = [data['usageKey']]\n",
    "        order         = [data['order']]\n",
    "        family        = [data['family']]\n",
    "        genus         = [data['genus']]\n",
    "        confidence    = [data['confidence']]\n",
    "        gbif_species  = [data['species']]\n",
    "        status        = [data['status']]\n",
    "        match_type    = [data['matchType']]\n",
    "  \n",
    "    df = pd.DataFrame(list(zip(taxon_key, order, family, genus,\n",
    "                               search_species, gbif_species, confidence,\n",
    "                               status, match_type, place)),\n",
    "                    columns =['taxon_key_guid', 'order_name', 'family_name',\n",
    "                              'genus_name', 'search_species_name', 'gbif_species_name',\n",
    "                              'confidence', 'status', 'match_type', 'source'])\n",
    "    return df\n"
   ]
  },
  {
   "cell_type": "markdown",
   "metadata": {
    "id": "9O1ZizdQ5J_D"
   },
   "source": [
    "#### Get the list of macro-moth species from the list\n"
   ]
  },
  {
   "cell_type": "code",
   "execution_count": 4,
   "metadata": {},
   "outputs": [],
   "source": [
    "uk_species       = 'uksi_moths_3-5-22.csv'\n",
    "file             = data_dir + uk_species\n",
    "uk_data          = pd.read_csv(file, index_col=False)\n",
    "uk_macro_species = []\n",
    "\n",
    "moth_families = ['Cossidae', 'Drepanidae', 'Endromidae', 'Erebidae',\n",
    "                 'Geometridae', 'Hepialidae', 'Lasiocampidae', 'Limacodidae',\n",
    "                 'Noctuidae', 'Nolidae', 'Notodontidae', 'Saturniidae', \n",
    "                 'Sesiidae', 'Sphingidae', 'Zygaenidae']\n",
    "\n",
    "for indx in uk_data.index:\n",
    "    if uk_data['taxon_rank'][indx]=='Species' and uk_data['preferred'][indx]==True \\\n",
    "    and uk_data['family_taxon'][indx] in moth_families:\n",
    "        uk_macro_species.append(uk_data['preferred_taxon'][indx])"
   ]
  },
  {
   "cell_type": "code",
   "execution_count": 5,
   "metadata": {
    "id": "S1ileUht1MFO"
   },
   "outputs": [],
   "source": [
    "data_final = pd.DataFrame(columns =['taxon_key_guid', 'order_name', 'family_name',\n",
    "                              'genus_name', 'search_species_name', 'gbif_species_name',\n",
    "                              'confidence', 'status', 'match_type', 'source'], dtype=object)\n",
    "for name in uk_macro_species:\n",
    "    data       = get_gbif_key_backbone(name, 'uksi_09May2022')\n",
    "    data_final = data_final.append(data, ignore_index = True)\n",
    "    \n",
    "data_final.to_csv(data_dir + 'UK-MacroMoth-List_09May2022.csv', index=False)  "
   ]
  },
  {
   "cell_type": "markdown",
   "metadata": {
    "id": "VSYEm90cEFWr"
   },
   "source": [
    "## Count no. of not-found entries"
   ]
  },
  {
   "cell_type": "code",
   "execution_count": 6,
   "metadata": {
    "colab": {
     "base_uri": "https://localhost:8080/"
    },
    "id": "Wvs2TTDx0CxA",
    "outputId": "17dd1fd9-6a35-4520-dc75-be5c3988cf38"
   },
   "outputs": [
    {
     "name": "stdout",
     "output_type": "stream",
     "text": [
      "1\n",
      "['Ectropis sp.']\n"
     ]
    }
   ],
   "source": [
    "uk_species  = 'UK-MacroMoth-List_09May2022.csv'\n",
    "file        = data_dir + uk_species\n",
    "uk_data     = pd.read_csv(file) \n",
    "count           = 0\n",
    "no_search       = []\n",
    "\n",
    "for indx in uk_data.index:\n",
    "    if uk_data['taxon_key_guid'][indx] == -1:\n",
    "        count += 1\n",
    "        no_search.append(uk_data['search_species_name'][indx])\n",
    "\n",
    "print(count)\n",
    "print(no_search)\n",
    "# no_search = pd.DataFrame(no_search)\n",
    "# no_search.to_csv(DATA_DIR + 'not-found_7April2021.csv', index=False)"
   ]
  },
  {
   "cell_type": "code",
   "execution_count": null,
   "metadata": {},
   "outputs": [],
   "source": []
  }
 ],
 "metadata": {
  "colab": {
   "collapsed_sections": [],
   "name": "GBIF_Taxa_Backbone.ipynb",
   "provenance": [],
   "toc_visible": true
  },
  "kernelspec": {
   "display_name": "Python 3 (milamoth)",
   "language": "python",
   "name": "milamoth"
  },
  "language_info": {
   "codemirror_mode": {
    "name": "ipython",
    "version": 3
   },
   "file_extension": ".py",
   "mimetype": "text/x-python",
   "name": "python",
   "nbconvert_exporter": "python",
   "pygments_lexer": "ipython3",
   "version": "3.7.10"
  }
 },
 "nbformat": 4,
 "nbformat_minor": 4
}
