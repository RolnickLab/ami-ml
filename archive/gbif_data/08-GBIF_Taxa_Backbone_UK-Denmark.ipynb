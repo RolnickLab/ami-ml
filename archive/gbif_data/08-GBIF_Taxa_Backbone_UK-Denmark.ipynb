{
 "cells": [
  {
   "cell_type": "code",
   "execution_count": 34,
   "metadata": {},
   "outputs": [
    {
     "data": {
      "text/plain": [
       "'\\nAuthor.      : Aditya Jain\\nDate Started : July 9, 2022\\nAbout        : This script fetches unique IDs for UK and Denmark moth species from GBIF database\\n               and builds a consolidated database\\n'"
      ]
     },
     "execution_count": 34,
     "metadata": {},
     "output_type": "execute_result"
    }
   ],
   "source": [
    "\"\"\"\n",
    "Author.      : Aditya Jain\n",
    "Date Started : July 9, 2022\n",
    "About        : This script fetches unique IDs for UK and Denmark moth species from GBIF database\n",
    "               and builds a consolidated database\n",
    "\"\"\"\n"
   ]
  },
  {
   "cell_type": "code",
   "execution_count": 35,
   "metadata": {
    "id": "qsYGHMo34CWR"
   },
   "outputs": [],
   "source": [
    "from pygbif import occurrences as occ\n",
    "from pygbif import species as species_api\n",
    "import pandas as pd\n",
    "import os\n",
    "import tqdm\n",
    "import urllib\n",
    "import json\n",
    "import time\n",
    "\n",
    "data_dir              = '/home/mila/a/aditya.jain/mothAI/species_lists/'\n",
    "uk_species_list       = 'uksi_moths_3-5-22.csv'\n",
    "denmark_species_list  = 'Denmark_Original_Moths-only_Dec22.csv'\n",
    "uk_save_name          = 'UK_Moth-List_25Apr2023.csv'\n",
    "denmark_save_name     = 'Denmark_Moth-List_25Apr2023.csv'\n",
    "combined_save_name    = 'UK-Denmark_Moth-List_25Apr2023.csv'"
   ]
  },
  {
   "cell_type": "code",
   "execution_count": 24,
   "metadata": {
    "id": "zPTloCcM5eX-"
   },
   "outputs": [],
   "source": [
    "def get_gbif_key_backbone(name, place):\n",
    "    \"\"\" given a species name, this function returns the unique gbif key and other \n",
    "        attributes using backbone API\n",
    "    \"\"\"\n",
    "    \n",
    "    # default values\n",
    "    acc_taxon_key  = [-1]\n",
    "    order          = ['NotAvail']\n",
    "    family         = ['NotAvail']\n",
    "    genus          = ['NotAvail']    \n",
    "    search_species = [name]\n",
    "    gbif_species   = ['NotAvail']     # the name returned on search, can be different from the search\n",
    "    status         = ['NotAvail']\n",
    "    rank           = ['NotAvail']\n",
    "    place          = [place]\n",
    "\n",
    "    data = species_api.name_backbone(name=name, strict=True, rank='species')\n",
    "    \n",
    "    # add entries to the fields\n",
    "    confidence = [data['confidence']]\n",
    "    match_type = [data['matchType']]\n",
    "    if 'order' in data.keys():\n",
    "        order = [data['order']]\n",
    "    if 'family' in data.keys():\n",
    "        family = [data['family']]\n",
    "    if 'genus' in data.keys():\n",
    "        genus = [data['genus']]  \n",
    "    if 'status' in data.keys():\n",
    "        status = [data['status']]\n",
    "    if 'rank' in data.keys():\n",
    "        rank = [data['rank']]\n",
    "        \n",
    "    if data['matchType'] != 'NONE' and data['matchType'] != 'HIGHERRANK':\n",
    "        gbif_species  = [data['species']]        \n",
    "        if 'acceptedUsageKey' in data.keys():\n",
    "            acc_taxon_key  = [data['acceptedUsageKey']]\n",
    "        else:\n",
    "            acc_taxon_key  = [data['usageKey']]\n",
    "  \n",
    "    df = pd.DataFrame(list(zip(acc_taxon_key, order, family, genus,\n",
    "                               search_species, gbif_species, confidence,\n",
    "                               status, match_type, rank, place)),\n",
    "                    columns =['accepted_taxon_key', 'order_name', 'family_name',\n",
    "                              'genus_name', 'search_species_name', 'gbif_species_name',\n",
    "                              'confidence', 'status', 'match_type', 'rank', 'source'])\n",
    "    return df\n"
   ]
  },
  {
   "cell_type": "markdown",
   "metadata": {
    "id": "9O1ZizdQ5J_D"
   },
   "source": [
    "### Finding keys for UK moth list\n"
   ]
  },
  {
   "cell_type": "code",
   "execution_count": 25,
   "metadata": {},
   "outputs": [],
   "source": [
    "file             = data_dir + uk_species_list\n",
    "uk_data          = pd.read_csv(file, index_col=False)\n",
    "uk_species       = []\n",
    "\n",
    "for indx in uk_data.index:\n",
    "    if uk_data['taxon_rank'][indx]=='Species' and uk_data['preferred'][indx]==True:\n",
    "        uk_species.append(uk_data['preferred_taxon'][indx])"
   ]
  },
  {
   "cell_type": "code",
   "execution_count": 26,
   "metadata": {
    "id": "S1ileUht1MFO"
   },
   "outputs": [],
   "source": [
    "data_final = pd.DataFrame(columns =['accepted_taxon_key', 'order_name', 'family_name',\n",
    "                              'genus_name', 'search_species_name', 'gbif_species_name',\n",
    "                              'confidence', 'status', 'match_type', 'rank', 'source'], dtype=object)\n",
    "for name in uk_species:\n",
    "    data       = get_gbif_key_backbone(name, 'uksi_09May2022')\n",
    "    data_final = pd.concat([data_final, data], ignore_index=True)\n",
    "    \n",
    "data_final.to_csv(data_dir + uk_save_name, index=False)  "
   ]
  },
  {
   "cell_type": "markdown",
   "metadata": {},
   "source": [
    "#### Counting the number of not-found entries"
   ]
  },
  {
   "cell_type": "code",
   "execution_count": 27,
   "metadata": {},
   "outputs": [
    {
     "name": "stdout",
     "output_type": "stream",
     "text": [
      "The count of not found species for UK: 10\n"
     ]
    }
   ],
   "source": [
    "count = 0\n",
    "\n",
    "for indx in data_final.index:\n",
    "    if data_final['accepted_taxon_key'][indx] == -1:\n",
    "        count += 1\n",
    "\n",
    "print(f'The count of not found species for UK: {count}')        "
   ]
  },
  {
   "cell_type": "markdown",
   "metadata": {},
   "source": [
    "### Finding keys for Denmark moth list\n"
   ]
  },
  {
   "cell_type": "code",
   "execution_count": 28,
   "metadata": {},
   "outputs": [],
   "source": [
    "file             = data_dir + denmark_species_list\n",
    "denmark_data     = pd.read_csv(file, index_col=False)\n",
    "denmark_species  = []\n",
    "\n",
    "for indx in denmark_data.index:\n",
    "    denmark_species.append(denmark_data['species_name'][indx])"
   ]
  },
  {
   "cell_type": "code",
   "execution_count": 29,
   "metadata": {},
   "outputs": [],
   "source": [
    "data_final = pd.DataFrame(columns =['accepted_taxon_key', 'order_name', 'family_name',\n",
    "                              'genus_name', 'search_species_name', 'gbif_species_name',\n",
    "                              'confidence', 'status', 'match_type', 'rank', 'source'], dtype=object)\n",
    "for name in denmark_species:\n",
    "    data       = get_gbif_key_backbone(name, 'denmark_Dec2022')\n",
    "    data_final = pd.concat([data_final, data], ignore_index=True)\n",
    "    \n",
    "data_final.to_csv(data_dir + denmark_save_name, index=False)  "
   ]
  },
  {
   "cell_type": "markdown",
   "metadata": {},
   "source": [
    "#### Counting the number of not-found entries"
   ]
  },
  {
   "cell_type": "code",
   "execution_count": 30,
   "metadata": {},
   "outputs": [
    {
     "name": "stdout",
     "output_type": "stream",
     "text": [
      "The count of not found species for Denmark: 78\n"
     ]
    }
   ],
   "source": [
    "count = 0\n",
    "\n",
    "for indx in data_final.index:\n",
    "    if data_final['accepted_taxon_key'][indx] == -1:\n",
    "        count += 1\n",
    "\n",
    "print(f'The count of not found species for Denmark: {count}')        "
   ]
  },
  {
   "cell_type": "markdown",
   "metadata": {},
   "source": [
    "### Combining UK and Denmark list\n"
   ]
  },
  {
   "cell_type": "code",
   "execution_count": 39,
   "metadata": {},
   "outputs": [],
   "source": [
    "uk_data       = pd.read_csv(data_dir + uk_save_name, index_col=False)\n",
    "denmark_data  = pd.read_csv(data_dir + denmark_save_name, index_col=False)\n",
    "data_combined = pd.DataFrame(columns =['accepted_taxon_key', 'order_name', 'family_name',\n",
    "                              'genus_name', 'search_species_name', 'gbif_species_name',\n",
    "                              'confidence', 'status', 'match_type', 'rank', 'source'], dtype=object)\n",
    "\n",
    "uk_total       = 0     # count of total uk species\n",
    "denmark_unique = 0     # count of unique denmark species\n",
    "denmark_uk_com = 0     # count of overlapping denmark-uk species"
   ]
  },
  {
   "cell_type": "code",
   "execution_count": 40,
   "metadata": {},
   "outputs": [
    {
     "name": "stderr",
     "output_type": "stream",
     "text": [
      "/tmp/ipykernel_11384/944810487.py:7: FutureWarning: The frame.append method is deprecated and will be removed from pandas in a future version. Use pandas.concat instead.\n",
      "  data_combined = data_combined.append(row, ignore_index=True)\n",
      "/tmp/ipykernel_11384/944810487.py:4: FutureWarning: The frame.append method is deprecated and will be removed from pandas in a future version. Use pandas.concat instead.\n",
      "  data_combined = data_combined.append(row, ignore_index=True)\n"
     ]
    },
    {
     "name": "stdout",
     "output_type": "stream",
     "text": [
      "Total unique UK moth species: 2641\n"
     ]
    }
   ],
   "source": [
    "# add all valid UK entries\n",
    "for _, row in uk_data.iterrows():\n",
    "    if row['accepted_taxon_key']==-1:  \n",
    "        data_combined = data_combined.append(row, ignore_index=True)\n",
    "        uk_total += 1\n",
    "    elif row['accepted_taxon_key']!=-1 and row['accepted_taxon_key'] not in data_combined['accepted_taxon_key'].tolist():\n",
    "        data_combined = data_combined.append(row, ignore_index=True)\n",
    "        uk_total += 1\n",
    "    else:\n",
    "        pass\n",
    "        \n",
    "print(f'Total unique UK moth species: {uk_total}')"
   ]
  },
  {
   "cell_type": "code",
   "execution_count": 38,
   "metadata": {},
   "outputs": [
    {
     "name": "stderr",
     "output_type": "stream",
     "text": [
      "/tmp/ipykernel_11384/3303080763.py:9: FutureWarning: The frame.append method is deprecated and will be removed from pandas in a future version. Use pandas.concat instead.\n",
      "  data_combined = data_combined.append(row, ignore_index=True)\n",
      "/tmp/ipykernel_11384/3303080763.py:12: FutureWarning: The frame.append method is deprecated and will be removed from pandas in a future version. Use pandas.concat instead.\n",
      "  data_combined = data_combined.append(row, ignore_index=True)\n"
     ]
    },
    {
     "name": "stdout",
     "output_type": "stream",
     "text": [
      "Total found Denmark species: 2424\n",
      "Total unique Denmark species: 376\n",
      "Total unique UK species: 583\n",
      "Total common UK and Denmark species: 2048\n",
      "Total found combined UK and Denmark species: 3007\n",
      "Total UK and Denmark species, including not found: 3024\n"
     ]
    }
   ],
   "source": [
    "# add all valid Denmark entries\n",
    "for _, row in denmark_data.iterrows():\n",
    "    if row['accepted_taxon_key']!=-1:\n",
    "        if row['accepted_taxon_key'] in data_combined['accepted_taxon_key'].tolist():\n",
    "            idx = data_combined.index[data_combined['accepted_taxon_key']==row['accepted_taxon_key']].tolist()[0]\n",
    "            data_combined['source'][idx] = data_combined['source'][idx] + ' ' +  row['source']\n",
    "            denmark_uk_com += 1\n",
    "        else:\n",
    "            data_combined = data_combined.append(row, ignore_index=True)\n",
    "            denmark_unique += 1\n",
    "    else:\n",
    "        data_combined = data_combined.append(row, ignore_index=True)\n",
    "        denmark_uk_com += 1\n",
    "            \n",
    "print(f'Total found Denmark species: {denmark_uk_com + denmark_unique}')\n",
    "print(f'Total unique Denmark species: {denmark_unique}')\n",
    "print(f'Total unique UK species: {uk_total - denmark_uk_com}')\n",
    "print(f'Total common UK and Denmark species: {denmark_uk_com}')\n",
    "print(f'Total found combined UK and Denmark species: {denmark_unique + uk_total}')\n",
    "print(f'Total UK and Denmark species, including not found: {len(data_combined)}')\n",
    "\n",
    "data_combined.to_csv(data_dir + combined_save_name, index=False)  "
   ]
  },
  {
   "cell_type": "code",
   "execution_count": 10,
   "metadata": {},
   "outputs": [
    {
     "data": {
      "text/html": [
       "<div>\n",
       "<style scoped>\n",
       "    .dataframe tbody tr th:only-of-type {\n",
       "        vertical-align: middle;\n",
       "    }\n",
       "\n",
       "    .dataframe tbody tr th {\n",
       "        vertical-align: top;\n",
       "    }\n",
       "\n",
       "    .dataframe thead th {\n",
       "        text-align: right;\n",
       "    }\n",
       "</style>\n",
       "<table border=\"1\" class=\"dataframe\">\n",
       "  <thead>\n",
       "    <tr style=\"text-align: right;\">\n",
       "      <th></th>\n",
       "      <th>accepted_taxon_key</th>\n",
       "      <th>order_name</th>\n",
       "      <th>family_name</th>\n",
       "      <th>genus_name</th>\n",
       "      <th>search_species_name</th>\n",
       "      <th>gbif_species_name</th>\n",
       "      <th>confidence</th>\n",
       "      <th>status</th>\n",
       "      <th>match_type</th>\n",
       "      <th>source</th>\n",
       "    </tr>\n",
       "  </thead>\n",
       "  <tbody>\n",
       "    <tr>\n",
       "      <th>0</th>\n",
       "      <td>1845962</td>\n",
       "      <td>Lepidoptera</td>\n",
       "      <td>Autostichidae</td>\n",
       "      <td>Oegoconia</td>\n",
       "      <td>Oegoconia quadripuncta</td>\n",
       "      <td>Oegoconia quadripuncta</td>\n",
       "      <td>99</td>\n",
       "      <td>ACCEPTED</td>\n",
       "      <td>EXACT</td>\n",
       "      <td>uksi_09May2022 denmark_Dec2022</td>\n",
       "    </tr>\n",
       "    <tr>\n",
       "      <th>1</th>\n",
       "      <td>10055273</td>\n",
       "      <td>Lepidoptera</td>\n",
       "      <td>Tineidae</td>\n",
       "      <td>Oinophila</td>\n",
       "      <td>Oinophila v-flava</td>\n",
       "      <td>Oinophila v-flava</td>\n",
       "      <td>99</td>\n",
       "      <td>ACCEPTED</td>\n",
       "      <td>EXACT</td>\n",
       "      <td>uksi_09May2022</td>\n",
       "    </tr>\n",
       "    <tr>\n",
       "      <th>2</th>\n",
       "      <td>1742185</td>\n",
       "      <td>Lepidoptera</td>\n",
       "      <td>Tortricidae</td>\n",
       "      <td>Olethreutes</td>\n",
       "      <td>Olethreutes arcuella</td>\n",
       "      <td>Olethreutes arcuella</td>\n",
       "      <td>99</td>\n",
       "      <td>ACCEPTED</td>\n",
       "      <td>EXACT</td>\n",
       "      <td>uksi_09May2022 denmark_Dec2022</td>\n",
       "    </tr>\n",
       "    <tr>\n",
       "      <th>3</th>\n",
       "      <td>1741545</td>\n",
       "      <td>Lepidoptera</td>\n",
       "      <td>Tortricidae</td>\n",
       "      <td>Olindia</td>\n",
       "      <td>Olindia schumacherana</td>\n",
       "      <td>Olindia schumacherana</td>\n",
       "      <td>99</td>\n",
       "      <td>ACCEPTED</td>\n",
       "      <td>EXACT</td>\n",
       "      <td>uksi_09May2022 denmark_Dec2022</td>\n",
       "    </tr>\n",
       "    <tr>\n",
       "      <th>4</th>\n",
       "      <td>1875120</td>\n",
       "      <td>Lepidoptera</td>\n",
       "      <td>Pyralidae</td>\n",
       "      <td>Oncocera</td>\n",
       "      <td>Oncocera semirubella</td>\n",
       "      <td>Oncocera semirubella</td>\n",
       "      <td>99</td>\n",
       "      <td>ACCEPTED</td>\n",
       "      <td>EXACT</td>\n",
       "      <td>uksi_09May2022 denmark_Dec2022</td>\n",
       "    </tr>\n",
       "    <tr>\n",
       "      <th>...</th>\n",
       "      <td>...</td>\n",
       "      <td>...</td>\n",
       "      <td>...</td>\n",
       "      <td>...</td>\n",
       "      <td>...</td>\n",
       "      <td>...</td>\n",
       "      <td>...</td>\n",
       "      <td>...</td>\n",
       "      <td>...</td>\n",
       "      <td>...</td>\n",
       "    </tr>\n",
       "    <tr>\n",
       "      <th>3019</th>\n",
       "      <td>1882158</td>\n",
       "      <td>Lepidoptera</td>\n",
       "      <td>Crambidae</td>\n",
       "      <td>Loxostege</td>\n",
       "      <td>Loxostege turbidalis Tr.</td>\n",
       "      <td>Loxostege turbidalis</td>\n",
       "      <td>99</td>\n",
       "      <td>ACCEPTED</td>\n",
       "      <td>EXACT</td>\n",
       "      <td>denmark_Dec2022</td>\n",
       "    </tr>\n",
       "    <tr>\n",
       "      <th>3020</th>\n",
       "      <td>1892242</td>\n",
       "      <td>Lepidoptera</td>\n",
       "      <td>Crambidae</td>\n",
       "      <td>Ecpyrrhorrhoe</td>\n",
       "      <td>Ecpyrrhorrhoe rubiginalis Hb.</td>\n",
       "      <td>Ecpyrrhorrhoe rubiginalis</td>\n",
       "      <td>99</td>\n",
       "      <td>ACCEPTED</td>\n",
       "      <td>EXACT</td>\n",
       "      <td>denmark_Dec2022</td>\n",
       "    </tr>\n",
       "    <tr>\n",
       "      <th>3021</th>\n",
       "      <td>1890699</td>\n",
       "      <td>Lepidoptera</td>\n",
       "      <td>Crambidae</td>\n",
       "      <td>Pyrausta</td>\n",
       "      <td>Pyrausta porphyralis D.&amp; S.</td>\n",
       "      <td>Pyrausta porphyralis</td>\n",
       "      <td>98</td>\n",
       "      <td>ACCEPTED</td>\n",
       "      <td>EXACT</td>\n",
       "      <td>denmark_Dec2022</td>\n",
       "    </tr>\n",
       "    <tr>\n",
       "      <th>3022</th>\n",
       "      <td>10937370</td>\n",
       "      <td>Lepidoptera</td>\n",
       "      <td>Crambidae</td>\n",
       "      <td>Anania</td>\n",
       "      <td>Phlyctaenia stachydalis Germ.</td>\n",
       "      <td>Anania stachydalis</td>\n",
       "      <td>98</td>\n",
       "      <td>SYNONYM</td>\n",
       "      <td>EXACT</td>\n",
       "      <td>denmark_Dec2022</td>\n",
       "    </tr>\n",
       "    <tr>\n",
       "      <th>3023</th>\n",
       "      <td>1886320</td>\n",
       "      <td>Lepidoptera</td>\n",
       "      <td>Crambidae</td>\n",
       "      <td>Ostrinia</td>\n",
       "      <td>Ostrinia palustralis Hb.</td>\n",
       "      <td>Ostrinia palustralis</td>\n",
       "      <td>99</td>\n",
       "      <td>ACCEPTED</td>\n",
       "      <td>EXACT</td>\n",
       "      <td>denmark_Dec2022</td>\n",
       "    </tr>\n",
       "  </tbody>\n",
       "</table>\n",
       "<p>3024 rows × 10 columns</p>\n",
       "</div>"
      ],
      "text/plain": [
       "     accepted_taxon_key   order_name    family_name     genus_name  \\\n",
       "0               1845962  Lepidoptera  Autostichidae      Oegoconia   \n",
       "1              10055273  Lepidoptera       Tineidae      Oinophila   \n",
       "2               1742185  Lepidoptera    Tortricidae    Olethreutes   \n",
       "3               1741545  Lepidoptera    Tortricidae        Olindia   \n",
       "4               1875120  Lepidoptera      Pyralidae       Oncocera   \n",
       "...                 ...          ...            ...            ...   \n",
       "3019            1882158  Lepidoptera      Crambidae      Loxostege   \n",
       "3020            1892242  Lepidoptera      Crambidae  Ecpyrrhorrhoe   \n",
       "3021            1890699  Lepidoptera      Crambidae       Pyrausta   \n",
       "3022           10937370  Lepidoptera      Crambidae         Anania   \n",
       "3023            1886320  Lepidoptera      Crambidae       Ostrinia   \n",
       "\n",
       "                search_species_name          gbif_species_name confidence  \\\n",
       "0            Oegoconia quadripuncta     Oegoconia quadripuncta         99   \n",
       "1                 Oinophila v-flava          Oinophila v-flava         99   \n",
       "2              Olethreutes arcuella       Olethreutes arcuella         99   \n",
       "3             Olindia schumacherana      Olindia schumacherana         99   \n",
       "4              Oncocera semirubella       Oncocera semirubella         99   \n",
       "...                             ...                        ...        ...   \n",
       "3019       Loxostege turbidalis Tr.       Loxostege turbidalis         99   \n",
       "3020  Ecpyrrhorrhoe rubiginalis Hb.  Ecpyrrhorrhoe rubiginalis         99   \n",
       "3021    Pyrausta porphyralis D.& S.       Pyrausta porphyralis         98   \n",
       "3022  Phlyctaenia stachydalis Germ.         Anania stachydalis         98   \n",
       "3023       Ostrinia palustralis Hb.       Ostrinia palustralis         99   \n",
       "\n",
       "        status match_type                          source  \n",
       "0     ACCEPTED      EXACT  uksi_09May2022 denmark_Dec2022  \n",
       "1     ACCEPTED      EXACT                  uksi_09May2022  \n",
       "2     ACCEPTED      EXACT  uksi_09May2022 denmark_Dec2022  \n",
       "3     ACCEPTED      EXACT  uksi_09May2022 denmark_Dec2022  \n",
       "4     ACCEPTED      EXACT  uksi_09May2022 denmark_Dec2022  \n",
       "...        ...        ...                             ...  \n",
       "3019  ACCEPTED      EXACT                 denmark_Dec2022  \n",
       "3020  ACCEPTED      EXACT                 denmark_Dec2022  \n",
       "3021  ACCEPTED      EXACT                 denmark_Dec2022  \n",
       "3022   SYNONYM      EXACT                 denmark_Dec2022  \n",
       "3023  ACCEPTED      EXACT                 denmark_Dec2022  \n",
       "\n",
       "[3024 rows x 10 columns]"
      ]
     },
     "execution_count": 10,
     "metadata": {},
     "output_type": "execute_result"
    }
   ],
   "source": [
    "data_combined"
   ]
  },
  {
   "cell_type": "code",
   "execution_count": null,
   "metadata": {},
   "outputs": [],
   "source": []
  }
 ],
 "metadata": {
  "colab": {
   "collapsed_sections": [],
   "name": "GBIF_Taxa_Backbone.ipynb",
   "provenance": [],
   "toc_visible": true
  },
  "kernelspec": {
   "display_name": "Python 3 (milamoth_ai)",
   "language": "python",
   "name": "milamoth_ai"
  },
  "language_info": {
   "codemirror_mode": {
    "name": "ipython",
    "version": 3
   },
   "file_extension": ".py",
   "mimetype": "text/x-python",
   "name": "python",
   "nbconvert_exporter": "python",
   "pygments_lexer": "ipython3",
   "version": "3.9.13"
  }
 },
 "nbformat": 4,
 "nbformat_minor": 4
}
