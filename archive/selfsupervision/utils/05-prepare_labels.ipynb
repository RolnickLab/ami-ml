{
 "cells": [
  {
   "cell_type": "code",
   "execution_count": 1,
   "metadata": {},
   "outputs": [
    {
     "data": {
      "text/plain": [
       "'\\nAuthor        : Aditya Jain\\nDate started  : 17th January, 2022\\nAbout         : This script builds the labels for model training\\n'"
      ]
     },
     "execution_count": 1,
     "metadata": {},
     "output_type": "execute_result"
    }
   ],
   "source": [
    "'''\n",
    "Author        : Aditya Jain\n",
    "Date started  : 17th January, 2022\n",
    "About         : This script builds the labels for model training\n",
    "'''"
   ]
  },
  {
   "cell_type": "markdown",
   "metadata": {},
   "source": [
    "#### Mapping from ILSVRC2012 to PyTorch Labels"
   ]
  },
  {
   "cell_type": "code",
   "execution_count": 2,
   "metadata": {},
   "outputs": [],
   "source": [
    "import pandas as pd\n",
    "import json\n",
    "import numpy as np\n",
    "\n",
    "DATA_DIR           = \"/home/mila/a/aditya.jain/mothAI/selfsupervision/\"\n",
    "ILSVRC_LABEL_FILE  = \"/home/mila/a/aditya.jain/mothAI/selfsupervision/data/imagenet_original_labels.csv\"\n",
    "PYTORCH_LABEL_FILE = \"/home/mila/a/aditya.jain/mothAI/selfsupervision/data/imagenet_class_index.json\""
   ]
  },
  {
   "cell_type": "code",
   "execution_count": 3,
   "metadata": {},
   "outputs": [],
   "source": [
    "ilsvrc_data  = pd.read_csv(ILSVRC_LABEL_FILE)\n",
    "pytorch_data = json.load(open(PYTORCH_LABEL_FILE))\n",
    "temp         = pd.DataFrame(np.zeros(1000), columns=['PyTorch_ID'])\n",
    "final_data   = pd.concat([ilsvrc_data[:1000], temp], axis=1)"
   ]
  },
  {
   "cell_type": "code",
   "execution_count": 52,
   "metadata": {},
   "outputs": [],
   "source": [
    "for i in range(len(pytorch_data.keys())):\n",
    "    key        = str(i)\n",
    "    wnid       = pytorch_data[key][0]    \n",
    "    idx        = final_data[final_data['WNID']==wnid].index.values[0]\n",
    "    final_data.loc[idx, 'PyTorch_ID'] = int(i)\n",
    "\n",
    "final_data.to_csv(DATA_DIR + 'imagenet_modified_labels.csv', index=False)"
   ]
  },
  {
   "cell_type": "markdown",
   "metadata": {},
   "source": [
    "#### Writing txt labels to pandas"
   ]
  },
  {
   "cell_type": "code",
   "execution_count": 21,
   "metadata": {},
   "outputs": [],
   "source": [
    "VAL_GND_TRUTH  = \"/home/mila/a/aditya.jain/mothAI/deeplearning/selfsupervision/ILSVRC2012_devkit_t12/data/ILSVRC2012_validation_ground_truth.txt\"\n",
    "\n",
    "f       = open(VAL_GND_TRUTH, \"r\")\n",
    "no_pts  = 50000\n",
    "data    = []\n",
    "\n",
    "for i in range(no_pts):\n",
    "    data.append(int(f.readline()))\n",
    "    \n",
    "data_df = pd.DataFrame(data, columns=['validation_imagenet_labels'])\n",
    "data_df.to_csv(DATA_DIR + 'validation_imagenet_labels.csv', index=False)"
   ]
  },
  {
   "cell_type": "code",
   "execution_count": 12,
   "metadata": {},
   "outputs": [
    {
     "data": {
      "text/plain": [
       "'n02119789'"
      ]
     },
     "execution_count": 12,
     "metadata": {},
     "output_type": "execute_result"
    }
   ],
   "source": [
    "final_data.loc[0, 'WNID']"
   ]
  },
  {
   "cell_type": "code",
   "execution_count": null,
   "metadata": {},
   "outputs": [],
   "source": []
  }
 ],
 "metadata": {
  "kernelspec": {
   "display_name": "Python 3",
   "language": "python",
   "name": "python3"
  },
  "language_info": {
   "codemirror_mode": {
    "name": "ipython",
    "version": 3
   },
   "file_extension": ".py",
   "mimetype": "text/x-python",
   "name": "python",
   "nbconvert_exporter": "python",
   "pygments_lexer": "ipython3",
   "version": "3.7.4"
  }
 },
 "nbformat": 4,
 "nbformat_minor": 4
}
