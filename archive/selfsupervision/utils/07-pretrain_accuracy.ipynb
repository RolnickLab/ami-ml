{
 "cells": [
  {
   "cell_type": "code",
   "execution_count": 13,
   "metadata": {},
   "outputs": [
    {
     "data": {
      "text/plain": [
       "'\\nAuthor        : Aditya Jain\\nDate started  : 2nd February, 2022\\nAbout         : This script calculates and saves pre-training accuracies for each of the imagenet classes\\n'"
      ]
     },
     "execution_count": 13,
     "metadata": {},
     "output_type": "execute_result"
    }
   ],
   "source": [
    "'''\n",
    "Author        : Aditya Jain\n",
    "Date started  : 2nd February, 2022\n",
    "About         : This script calculates and saves pre-training accuracies for each of the imagenet classes\n",
    "'''"
   ]
  },
  {
   "cell_type": "code",
   "execution_count": 22,
   "metadata": {},
   "outputs": [],
   "source": [
    "import torchvision\n",
    "from torchvision import models\n",
    "from torchvision import datasets\n",
    "from torchvision import transforms, utils\n",
    "from torchvision.transforms import ToTensor\n",
    "from torch.utils.data import Dataset, DataLoader\n",
    "\n",
    "import torch\n",
    "from torch import nn\n",
    "import torch.optim as optim\n",
    "from torchsummary import summary\n",
    "import matplotlib.pyplot as plt\n",
    "import pandas as pd\n",
    "import numpy as np\n",
    "import os\n",
    "import time\n",
    "import datetime\n",
    "import sys\n",
    "sys.path.append(\"..\")\n",
    "\n",
    "from data.imagenetvaldataset import ImagenetValDataset\n",
    "from data.hardexdataset import HardExDataset"
   ]
  },
  {
   "cell_type": "markdown",
   "metadata": {},
   "source": [
    "#### Loading pre-trained ResNet50 Model"
   ]
  },
  {
   "cell_type": "code",
   "execution_count": 15,
   "metadata": {},
   "outputs": [
    {
     "name": "stdout",
     "output_type": "stream",
     "text": [
      "cuda\n"
     ]
    }
   ],
   "source": [
    "device = \"cuda\" if torch.cuda.is_available() else \"cpu\"\n",
    "print(device)\n",
    "\n",
    "model  = models.resnet50(pretrained=True).to(device)"
   ]
  },
  {
   "cell_type": "code",
   "execution_count": 16,
   "metadata": {},
   "outputs": [],
   "source": [
    "image_resize       = 224\n",
    "batch_size         = 1 \n",
    "\n",
    "val_root_dir       = '/network/datasets/imagenet.var/imagenet_torchvision/val/'\n",
    "val_label_list     = '/home/mila/a/aditya.jain/mothAI/selfsupervision/data/validation_imagenet_labels.csv'\n",
    "val_convert_list   = '/home/mila/a/aditya.jain/mothAI/selfsupervision/data/imagenet_modified_labels.csv'\n",
    "\n",
    "transformer        = transforms.Compose([\n",
    "                        transforms.Resize((image_resize, image_resize)),              # resize the image to 224x224 \n",
    "                        transforms.ToTensor(),\n",
    "                        transforms.Normalize(mean=[0.485, 0.456, 0.406], std=[0.229, 0.224, 0.225])\n",
    "                                    ])\n",
    "\n",
    "val_data          = ImagenetValDataset(val_root_dir, val_label_list, val_convert_list, transformer)\n",
    "val_dataloader    = DataLoader(val_data,batch_size=batch_size)"
   ]
  },
  {
   "cell_type": "code",
   "execution_count": 17,
   "metadata": {},
   "outputs": [],
   "source": [
    "class_acc         = {}  # storing the class accuracy data\n",
    "\n",
    "data_loc          = '/home/mila/a/aditya.jain/scratch/selfsupervise_data/hard_examples/'\n",
    "hard_classes      = os.listdir(data_loc)\n",
    "\n",
    "with open(\"/home/mila/a/aditya.jain/mothAI/selfsupervision/data/imagenet_classes.txt\", \"r\") as f:\n",
    "    categories = [s.strip() for s in f.readlines()]"
   ]
  },
  {
   "cell_type": "code",
   "execution_count": 18,
   "metadata": {},
   "outputs": [],
   "source": [
    "model.eval()\n",
    "for image_batch, label_batch in val_dataloader:\n",
    "    \n",
    "    image_batch, label_batch = image_batch.to(device), label_batch.to(device)\n",
    "    prediction               = model(image_batch)    \n",
    "    _, index                 = torch.topk(prediction, 1)\n",
    "    \n",
    "    corr_label   = label_batch.cpu().numpy()[0][0]    # integer label of the true class\n",
    "    corr_class_n = categories[corr_label]             # name of the class\n",
    "    pred_label   = index.cpu().numpy()[0][0]          # integer label of the predicted class\n",
    "    \n",
    "    if corr_class_n not in class_acc.keys():\n",
    "        class_acc[corr_class_n] = {}\n",
    "        class_acc[corr_class_n]['total_correct'] = 0\n",
    "        class_acc[corr_class_n]['total_samples'] = 0\n",
    "        \n",
    "    if corr_label==pred_label:\n",
    "        class_acc[corr_class_n]['total_correct'] += 1\n",
    "        class_acc[corr_class_n]['total_samples'] += 1\n",
    "    else:\n",
    "        class_acc[corr_class_n]['total_samples'] += 1\n",
    "        "
   ]
  },
  {
   "cell_type": "code",
   "execution_count": 23,
   "metadata": {},
   "outputs": [],
   "source": [
    "hard_ex_data    = []     # classes for which we have hard examples\n",
    "nonhard_ex_data = []     # classes for which we don't have hard examples\n",
    "\n",
    "for key in class_acc.keys():\n",
    "    if key in hard_classes:\n",
    "        hard_ex_data.append([categories.index(key), key, round((class_acc[key]['total_correct']/class_acc[key]['total_samples'])*100,2)])\n",
    "    else:\n",
    "        nonhard_ex_data.append([categories.index(key), key, round((class_acc[key]['total_correct']/class_acc[key]['total_samples'])*100,2)])\n",
    "\n",
    "save_dir = '/home/mila/a/aditya.jain/mothAI/selfsupervision/data/'\n",
    "data_df  = pd.DataFrame(hard_ex_data, columns=['PyTorch_ID', 'Name_ID', 'Accuracy'])\n",
    "data_df.to_csv(save_dir + 'pretrain_valacc_hardex.csv', index=False)\n",
    "\n",
    "data_df  = pd.DataFrame(nonhard_ex_data, columns=['PyTorch_ID', 'Name_ID', 'Accuracy'])\n",
    "data_df.to_csv(save_dir + 'pretrain_valacc_nonhardex.csv', index=False)"
   ]
  },
  {
   "cell_type": "code",
   "execution_count": null,
   "metadata": {},
   "outputs": [],
   "source": []
  }
 ],
 "metadata": {
  "kernelspec": {
   "display_name": "Python 3 (milamoth)",
   "language": "python",
   "name": "milamoth"
  },
  "language_info": {
   "codemirror_mode": {
    "name": "ipython",
    "version": 3
   },
   "file_extension": ".py",
   "mimetype": "text/x-python",
   "name": "python",
   "nbconvert_exporter": "python",
   "pygments_lexer": "ipython3",
   "version": "3.7.10"
  }
 },
 "nbformat": 4,
 "nbformat_minor": 4
}
