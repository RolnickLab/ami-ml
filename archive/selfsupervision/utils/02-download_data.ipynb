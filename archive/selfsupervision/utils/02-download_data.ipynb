{
 "cells": [
  {
   "cell_type": "code",
   "execution_count": 1,
   "metadata": {},
   "outputs": [],
   "source": [
    "'''\n",
    "Author        : Aditya Jain\n",
    "Date started  : 30th September, 2021\n",
    "About         : This script is used for fetching videos from youtube\n",
    "'''\n",
    "import os\n",
    "from pytube import YouTube\n",
    "from pytube import Search\n",
    "import json"
   ]
  },
  {
   "cell_type": "markdown",
   "metadata": {},
   "source": [
    "#### Downloading using search"
   ]
  },
  {
   "cell_type": "code",
   "execution_count": 2,
   "metadata": {},
   "outputs": [],
   "source": [
    "title     = 'home decor'\n",
    "no_down   = 19       # number of videos to download for each class\n",
    "\n",
    "s         = Search(title)\n",
    "s_results = s.results\n",
    "\n",
    "directory = '/home/mila/a/aditya.jain/scratch/selfsupervise_data/' + title\n",
    "try:\n",
    "    os.makedirs(directory)\n",
    "except:\n",
    "    pass"
   ]
  },
  {
   "cell_type": "code",
   "execution_count": 3,
   "metadata": {},
   "outputs": [],
   "source": [
    "total_sec = 0\n",
    "vid_cnt   = 0\n",
    "\n",
    "for i in range(len(s_results)):\n",
    "    yt_object = s_results[i]\n",
    "    total_sec += yt_object.length\n",
    "    \n",
    "    try:\n",
    "        yt        = yt_object.streams.filter(only_video=True, file_extension='mp4',res=\"480p\")\n",
    "        yt        = yt.first()\n",
    "        filename  = title + '_' + str(i) + '.mp4'\n",
    "        yt.download(directory, filename)\n",
    "        vid_cnt   += 1\n",
    "    except:\n",
    "        print('Live stream video found!')      "
   ]
  },
  {
   "cell_type": "code",
   "execution_count": 4,
   "metadata": {},
   "outputs": [
    {
     "name": "stdout",
     "output_type": "stream",
     "text": [
      "Total length of video data downloaded in hrs:  5.939444444444445\n"
     ]
    }
   ],
   "source": [
    "print('Total length of video data downloaded in hrs: ', total_sec/3600)\n",
    "data = {'Total video data length in hrs': total_sec/3600,\n",
    "        'Total videos: ': vid_cnt, \n",
    "       'Date': '24 Nov, 2021'}\n",
    "\n",
    "with open(directory + '/' + 'info.json', 'w') as f:\n",
    "    json.dump(data, f)"
   ]
  },
  {
   "cell_type": "markdown",
   "metadata": {},
   "source": [
    "#### Standalone download"
   ]
  },
  {
   "cell_type": "code",
   "execution_count": 38,
   "metadata": {},
   "outputs": [],
   "source": [
    "title   = 'natgeo_wild'\n",
    "yt_link = 'https://www.youtube.com/watch?v=UiFjONQDHNM&ab_channel=FreeDocumentary-Nature'\n",
    "vid_no  = 7\n",
    "\n",
    "directory = '/home/mila/a/aditya.jain/scratch/selfsupervise_data/' + title\n",
    "try:\n",
    "    os.makedirs(directory)\n",
    "except:\n",
    "    pass"
   ]
  },
  {
   "cell_type": "code",
   "execution_count": 39,
   "metadata": {},
   "outputs": [
    {
     "data": {
      "text/plain": [
       "'/home/mila/a/aditya.jain/scratch/selfsupervise_data/natgeo_wild/natgeo_wild_7.mp4'"
      ]
     },
     "execution_count": 39,
     "metadata": {},
     "output_type": "execute_result"
    }
   ],
   "source": [
    "yt = YouTube(yt_link)\n",
    "yt = yt.streams.filter(only_video=True, file_extension='mp4',res=\"480p\")\n",
    "yt = yt.first()\n",
    "\n",
    "filename  = title + '_' + str(vid_no) + '.mp4'\n",
    "yt.download(directory, filename)"
   ]
  },
  {
   "cell_type": "code",
   "execution_count": null,
   "metadata": {},
   "outputs": [],
   "source": []
  }
 ],
 "metadata": {
  "kernelspec": {
   "display_name": "Python 3 (milamoth)",
   "language": "python",
   "name": "milamoth"
  },
  "language_info": {
   "codemirror_mode": {
    "name": "ipython",
    "version": 3
   },
   "file_extension": ".py",
   "mimetype": "text/x-python",
   "name": "python",
   "nbconvert_exporter": "python",
   "pygments_lexer": "ipython3",
   "version": "3.7.10"
  }
 },
 "nbformat": 4,
 "nbformat_minor": 4
}
