{
 "cells": [
  {
   "cell_type": "code",
   "execution_count": 26,
   "metadata": {},
   "outputs": [
    {
     "data": {
      "text/plain": [
       "'\\nAuthor        : Aditya Jain\\nDate started  : 28th January, 2022\\nAbout         : This script prepares files for loading the hard example data\\n'"
      ]
     },
     "execution_count": 26,
     "metadata": {},
     "output_type": "execute_result"
    }
   ],
   "source": [
    "'''\n",
    "Author        : Aditya Jain\n",
    "Date started  : 28th January, 2022\n",
    "About         : This script prepares files for loading the hard example data\n",
    "'''"
   ]
  },
  {
   "cell_type": "code",
   "execution_count": 27,
   "metadata": {},
   "outputs": [],
   "source": [
    "import pandas as pd\n",
    "import json\n",
    "import numpy as np\n",
    "import os\n",
    "\n",
    "DATA_DIR           = '/home/mila/a/aditya.jain/scratch/selfsupervise_data/hard_examples/'\n",
    "TRAINING_DIR       = '/home/mila/a/aditya.jain/mothAI/selfsupervision/data/'\n",
    "PYTORCH_LABEL_FILE = '/home/mila/a/aditya.jain/mothAI/selfsupervision/data/imagenet_class_index.json'\n",
    "LABEL_FILE         = '/home/mila/a/aditya.jain/mothAI/selfsupervision/data/word-to-integer_imagenet.json'\n",
    "\n",
    "with open(\"/home/mila/a/aditya.jain/mothAI/selfsupervision/data/imagenet_classes.txt\", \"r\") as f:\n",
    "    categories = [s.strip() for s in f.readlines()]"
   ]
  },
  {
   "cell_type": "code",
   "execution_count": 28,
   "metadata": {},
   "outputs": [],
   "source": [
    "classes  = os.listdir(DATA_DIR)\n",
    "data     = []\n",
    "labels   = json.load(open(LABEL_FILE))\n",
    "\n",
    "for name in classes:\n",
    "    files = os.listdir(DATA_DIR + name)\n",
    "    for image in files:\n",
    "        data.append([name, categories.index(name), image])"
   ]
  },
  {
   "cell_type": "code",
   "execution_count": 29,
   "metadata": {},
   "outputs": [],
   "source": [
    "data_df = pd.DataFrame(data, columns=['Name_ID', 'PyTorch_ID', 'Filename'])\n",
    "data_df.to_csv(TRAINING_DIR + 'hard_examples_data.csv', index=False)"
   ]
  },
  {
   "cell_type": "code",
   "execution_count": null,
   "metadata": {},
   "outputs": [],
   "source": []
  }
 ],
 "metadata": {
  "kernelspec": {
   "display_name": "Python 3 (milamoth)",
   "language": "python",
   "name": "milamoth"
  },
  "language_info": {
   "codemirror_mode": {
    "name": "ipython",
    "version": 3
   },
   "file_extension": ".py",
   "mimetype": "text/x-python",
   "name": "python",
   "nbconvert_exporter": "python",
   "pygments_lexer": "ipython3",
   "version": "3.7.10"
  }
 },
 "nbformat": 4,
 "nbformat_minor": 4
}
