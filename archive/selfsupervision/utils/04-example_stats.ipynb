{
 "cells": [
  {
   "cell_type": "code",
   "execution_count": 1,
   "metadata": {},
   "outputs": [],
   "source": [
    "'''\n",
    "Author        : Aditya Jain\n",
    "Date started  : 15th November, 2021\n",
    "About         : This script is used for calculating various statistics for the mined examples\n",
    "'''\n",
    "import os\n",
    "import cv2"
   ]
  },
  {
   "cell_type": "markdown",
   "metadata": {},
   "source": [
    "#### Hard examples statistics"
   ]
  },
  {
   "cell_type": "code",
   "execution_count": 3,
   "metadata": {},
   "outputs": [
    {
     "name": "stdout",
     "output_type": "stream",
     "text": [
      "The total number of hard classes are:  331\n",
      "Total number of hard examples:  1124\n"
     ]
    }
   ],
   "source": [
    "data_loc     = '/home/mila/a/aditya.jain/scratch/selfsupervise_data/hard_examples/'\n",
    "hard_classes = os.listdir(data_loc)\n",
    "print('The total number of hard classes are: ', len(hard_classes))\n",
    "tot_ex       = 0\n",
    "\n",
    "for h_class in hard_classes:\n",
    "    example_path = data_loc + h_class\n",
    "    tot_ex       += len(os.listdir(example_path))\n",
    "    \n",
    "print('Total number of hard examples: ', tot_ex)"
   ]
  },
  {
   "cell_type": "markdown",
   "metadata": {},
   "source": [
    "#### Video data statistics"
   ]
  },
  {
   "cell_type": "code",
   "execution_count": 4,
   "metadata": {},
   "outputs": [
    {
     "name": "stdout",
     "output_type": "stream",
     "text": [
      "Total hours in natgeo_wild  : 3.3655009675925927\n",
      "Total hours in sitcom  : 1.8743939143518518\n",
      "Total hours in home_interior  : 3.609511276702628\n",
      "Total hours in travel_blogger  : 2.119870490740741\n",
      "Total hours in travel  : 8.023742079315426\n",
      "Total hours in zoo  : 6.173263246016851\n",
      "Total hours in the big bang theory  : 3.977988099537037\n",
      "Total hours in home decor  : 5.938668723751528\n",
      "Total hours in the dataset:  35.082938798008655\n"
     ]
    }
   ],
   "source": [
    "folders       = ['natgeo_wild', 'sitcom', 'home_interior', 'travel_blogger', \n",
    "                 'travel', 'zoo', 'the big bang theory', 'home decor']\n",
    "root_path     = '/home/mila/a/aditya.jain/scratch/selfsupervise_data/'\n",
    "total_hrs     = 0\n",
    "\n",
    "for folder in folders:\n",
    "    total_frames  = 0\n",
    "    total_sec     = 0\n",
    "    class_path    = root_path + folder\n",
    "    vid_files     = os.listdir(class_path)\n",
    "\n",
    "    for video in vid_files:\n",
    "        if video.lower().endswith('.mp4'):\n",
    "            video_path   = class_path + '/' + video  \n",
    "            vidcap       = cv2.VideoCapture(video_path)\n",
    "        \n",
    "            total_frames += vidcap.get(cv2.CAP_PROP_FRAME_COUNT)                                # total frames\n",
    "            total_sec    += vidcap.get(cv2.CAP_PROP_FRAME_COUNT)/vidcap.get(cv2.CAP_PROP_FPS)   # total seconds\n",
    "        \n",
    "#     print('Total frames in', folder, ' :', total_frames) \n",
    "    print('Total hours in', folder, ' :', total_sec/3600)\n",
    "    total_hrs += total_sec/3600\n",
    "    \n",
    "print('Total hours in the dataset: ', total_hrs)"
   ]
  },
  {
   "cell_type": "markdown",
   "metadata": {},
   "source": [
    "#### Pie Chart\n",
    "The below graph plots pie chart for every hard class"
   ]
  },
  {
   "cell_type": "code",
   "execution_count": 8,
   "metadata": {},
   "outputs": [],
   "source": [
    "import plotly.express as px\n"
   ]
  },
  {
   "cell_type": "code",
   "execution_count": null,
   "metadata": {},
   "outputs": [],
   "source": []
  }
 ],
 "metadata": {
  "kernelspec": {
   "display_name": "Python 3 (milamoth)",
   "language": "python",
   "name": "milamoth"
  },
  "language_info": {
   "codemirror_mode": {
    "name": "ipython",
    "version": 3
   },
   "file_extension": ".py",
   "mimetype": "text/x-python",
   "name": "python",
   "nbconvert_exporter": "python",
   "pygments_lexer": "ipython3",
   "version": "3.7.10"
  }
 },
 "nbformat": 4,
 "nbformat_minor": 4
}
