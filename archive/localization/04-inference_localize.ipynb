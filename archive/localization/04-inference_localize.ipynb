{
 "cells": [
  {
   "cell_type": "code",
   "execution_count": 2,
   "metadata": {},
   "outputs": [
    {
     "name": "stderr",
     "output_type": "stream",
     "text": [
      "/home/mila/a/aditya.jain/.conda/envs/milamoth_ai/lib/python3.9/site-packages/tqdm/auto.py:22: TqdmWarning: IProgress not found. Please update jupyter and ipywidgets. See https://ipywidgets.readthedocs.io/en/stable/user_install.html\n",
      "  from .autonotebook import tqdm as notebook_tqdm\n"
     ]
    }
   ],
   "source": [
    "'''\n",
    "Author       : Aditya Jain\n",
    "Date Started : 18th August, 2021\n",
    "About        : This file does inference on test images for DL-based localization\n",
    "'''\n",
    "import torch\n",
    "import torchvision.models as torchmodels\n",
    "import torchvision\n",
    "import os\n",
    "from torchvision.models.detection.faster_rcnn import FastRCNNPredictor\n",
    "from torchvision import transforms\n",
    "from PIL import Image\n",
    "import json\n",
    "import cv2"
   ]
  },
  {
   "cell_type": "markdown",
   "metadata": {},
   "source": [
    "#### Model Loading"
   ]
  },
  {
   "cell_type": "code",
   "execution_count": 25,
   "metadata": {},
   "outputs": [
    {
     "name": "stdout",
     "output_type": "stream",
     "text": [
      "cuda\n"
     ]
    },
    {
     "data": {
      "text/plain": [
       "<All keys matched successfully>"
      ]
     },
     "execution_count": 25,
     "metadata": {},
     "output_type": "execute_result"
    }
   ],
   "source": [
    "# Get cpu or gpu device for training.\n",
    "device = \"cuda\" if torch.cuda.is_available() else \"cpu\"\n",
    "print(device)\n",
    "\n",
    "# load a model pre-trained pre-trained on COCO\n",
    "model       = torchvision.models.detection.fasterrcnn_resnet50_fpn(pretrained=True)\n",
    "num_classes = 2  # 1 class (person) + background\n",
    "in_features = model.roi_heads.box_predictor.cls_score.in_features\n",
    "model.roi_heads.box_predictor = FastRCNNPredictor(in_features, num_classes)\n",
    "\n",
    "\n",
    "MODEL_PATH  = '/home/mila/a/aditya.jain/logs/v1_localizmodel_2021-08-17-12-06.pt'\n",
    "checkpoint  = torch.load(MODEL_PATH, map_location=device)\n",
    "model.load_state_dict(checkpoint['model_state_dict'])"
   ]
  },
  {
   "cell_type": "code",
   "execution_count": 29,
   "metadata": {},
   "outputs": [],
   "source": [
    "model       = model.to(device)\n",
    "model.eval()\n",
    "\n",
    "DATA_PATH  = '/scratch/Localization/dl_test/orig_resized_images/'\n",
    "SAVE_PATH  = '/scratch/Localization/dl_test/dl_bbox/'\n",
    "SCORE_THR  = 0.99\n",
    "image_list = os.listdir(DATA_PATH)\n",
    "\n",
    "transform  = transforms.Compose([              \n",
    "            transforms.ToTensor()])\n",
    "\n",
    "for img in image_list:\n",
    "    image_path = DATA_PATH + img\n",
    "    image      = transform(Image.open(image_path))\n",
    "    image_pred = torch.unsqueeze(image, 0).to(device)\n",
    "    output     = model(image_pred)\n",
    "    \n",
    "    bboxes     = output[0]['boxes'][output[0]['scores'] > SCORE_THR]\n",
    "    image_cv   = cv2.imread(image_path)\n",
    "    \n",
    "    for box in bboxes:\n",
    "        box_numpy = box.detach().cpu().numpy()        \n",
    "        cv2.rectangle(image_cv,(box_numpy[0], box_numpy[1]),(box_numpy[2], box_numpy[3]),(0,0,255),3)\n",
    "     \n",
    "    cv2.imwrite(SAVE_PATH + img, image_cv)    "
   ]
  },
  {
   "cell_type": "code",
   "execution_count": null,
   "metadata": {},
   "outputs": [],
   "source": []
  },
  {
   "cell_type": "code",
   "execution_count": 3,
   "metadata": {},
   "outputs": [],
   "source": [
    "with open('set2_maxim.json', 'r') as f:\n",
    "    data = json.load(f)"
   ]
  },
  {
   "cell_type": "code",
   "execution_count": 6,
   "metadata": {},
   "outputs": [],
   "source": [
    "with open(\"set2_maxim-kent.json\", \"w\") as write_file:\n",
    "    json.dump(data, write_file, indent=4)"
   ]
  },
  {
   "cell_type": "code",
   "execution_count": null,
   "metadata": {},
   "outputs": [],
   "source": []
  }
 ],
 "metadata": {
  "kernel_info": {
   "name": "newenv"
  },
  "kernelspec": {
   "display_name": "Python 3 (milamoth_ai)",
   "language": "python",
   "name": "milamoth_ai"
  },
  "language_info": {
   "codemirror_mode": {
    "name": "ipython",
    "version": 3
   },
   "file_extension": ".py",
   "mimetype": "text/x-python",
   "name": "python",
   "nbconvert_exporter": "python",
   "pygments_lexer": "ipython3",
   "version": "3.9.13"
  },
  "nteract": {
   "version": "nteract-front-end@1.0.0"
  }
 },
 "nbformat": 4,
 "nbformat_minor": 4
}
