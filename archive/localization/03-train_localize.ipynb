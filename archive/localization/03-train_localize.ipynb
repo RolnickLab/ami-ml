{
 "cells": [
  {
   "cell_type": "code",
   "execution_count": null,
   "metadata": {},
   "outputs": [],
   "source": [
    "'''\n",
    "Author       : Aditya Jain\n",
    "Date Started : 10th August, 2021\n",
    "About        : This is the training file DL-based localization module\n",
    "'''"
   ]
  },
  {
   "cell_type": "markdown",
   "metadata": {},
   "source": [
    "#### Loading Experiment Manager"
   ]
  },
  {
   "cell_type": "code",
   "execution_count": null,
   "metadata": {},
   "outputs": [],
   "source": [
    "from comet_ml import Experiment\n",
    "\n",
    "experiment = Experiment(\n",
    "    api_key='epeaAhyRcHSkn92H4kusmbX8k',\n",
    "    project_name='mothai',\n",
    "    workspace='adityajain07'\n",
    ")\n",
    "\n",
    "experiment.add_tag('DL_Localiz_A1')"
   ]
  },
  {
   "cell_type": "markdown",
   "metadata": {},
   "source": [
    "#### Loading Library"
   ]
  },
  {
   "cell_type": "code",
   "execution_count": null,
   "metadata": {},
   "outputs": [],
   "source": [
    "import torchvision.models as torchmodels\n",
    "import torchvision\n",
    "from torchvision.models.detection.faster_rcnn import FastRCNNPredictor\n",
    "import torch\n",
    "import utils\n",
    "from torch.utils.data import random_split\n",
    "from torch import nn\n",
    "from torchsummary import summary\n",
    "import json\n",
    "import os\n",
    "import numpy as np\n",
    "from torch.utils.data import Dataset, DataLoader\n",
    "from torchvision import transforms, utils\n",
    "import torch.nn.functional as F\n",
    "import torch.optim as optim\n",
    "import datetime\n",
    "import time\n",
    "\n",
    "from localizdataset import LocalizDataset"
   ]
  },
  {
   "cell_type": "markdown",
   "metadata": {},
   "source": [
    "#### Loading Model"
   ]
  },
  {
   "cell_type": "code",
   "execution_count": null,
   "metadata": {},
   "outputs": [],
   "source": [
    "# Get cpu or gpu device for training.\n",
    "device = \"cuda\" if torch.cuda.is_available() else \"cpu\"\n",
    "print(device)\n",
    "\n",
    "# load a model pre-trained pre-trained on COCO\n",
    "model       = torchvision.models.detection.fasterrcnn_resnet50_fpn(pretrained=True)\n",
    "num_classes = 2  # 1 class (person) + background\n",
    "in_features = model.roi_heads.box_predictor.cls_score.in_features\n",
    "model.roi_heads.box_predictor = FastRCNNPredictor(in_features, num_classes)\n",
    "\n",
    "# print(model)\n",
    "# print(summary(model, (3,224,224)))  # keras-type model summary"
   ]
  },
  {
   "cell_type": "markdown",
   "metadata": {},
   "source": [
    "#### Loading Data"
   ]
  },
  {
   "cell_type": "code",
   "execution_count": null,
   "metadata": {},
   "outputs": [],
   "source": [
    "def collate_fn(batch):\n",
    "    return tuple(zip(*batch))"
   ]
  },
  {
   "cell_type": "code",
   "execution_count": null,
   "metadata": {},
   "outputs": [],
   "source": [
    "root_dir    = '/scratch/Localization/'\n",
    "BATCH_SIZE  = 32\n",
    "TRAIN_PER   = 0.85   # percentage of training points in the data\n",
    "NUM_EPOCHS  = 1\n",
    "EARLY_STOP  = 4\n",
    "DTSTR       = datetime.datetime.now()\n",
    "DTSTR       = DTSTR.strftime(\"%Y-%m-%d-%H-%M\")\n",
    "SAVE_PATH   = '/home/mila/a/aditya.jain/logs/v1_localizmodel_' + DTSTR + '.pt'"
   ]
  },
  {
   "cell_type": "code",
   "execution_count": null,
   "metadata": {},
   "outputs": [],
   "source": [
    "transformer        = transforms.Compose([              \n",
    "                        transforms.ToTensor()])\n",
    "data               = LocalizDataset(root_dir, transformer)\n",
    "train_size         = int(TRAIN_PER*len(data))\n",
    "val_size           = len(data)-train_size\n",
    "\n",
    "train_set, val_set = random_split(data, [train_size, val_size])\n",
    "train_dataloader   = DataLoader(train_set,batch_size=BATCH_SIZE, shuffle=True, collate_fn=collate_fn)\n",
    "val_dataloader     = DataLoader(val_set,batch_size=BATCH_SIZE, shuffle=True, collate_fn=collate_fn)"
   ]
  },
  {
   "cell_type": "markdown",
   "metadata": {},
   "source": [
    "#### Loading Loss function and Optimizer"
   ]
  },
  {
   "cell_type": "code",
   "execution_count": null,
   "metadata": {},
   "outputs": [],
   "source": [
    "optimizer = torch.optim.SGD(model.parameters(), lr=0.001, momentum=0.9)"
   ]
  },
  {
   "cell_type": "markdown",
   "metadata": {},
   "source": [
    "#### Model Training"
   ]
  },
  {
   "cell_type": "code",
   "execution_count": null,
   "metadata": {},
   "outputs": [],
   "source": [
    "model.train()\n",
    "lowest_val_loss = 100000000\n",
    "early_stp_count = 0\n",
    "\n",
    "for epoch in range(num_epochs):\n",
    "    train_loss = 0\n",
    "    val_loss   = 0\n",
    "    \n",
    "    for image_batch, label_batch in train_dataloader:        \n",
    "        output       = model(image_batch,label_batch)   \n",
    "        total_loss   = sum(loss for loss in output.values())\n",
    "        train_loss   += total_loss.item()\n",
    "        \n",
    "        optimizer.zero_grad()\n",
    "        total_loss.backward()\n",
    "        optimizer.step()\n",
    "          \n",
    "    for image_batch, label_batch in val_dataloader:        \n",
    "        output       = model(image_batch,label_batch)   \n",
    "        total_loss   = sum(loss for loss in output.values())\n",
    "        val_loss     += total_loss.item()        \n",
    "        \n",
    "    if val_loss<lowest_val_loss:\n",
    "        torch.save({\n",
    "            'epoch': epoch,\n",
    "            'model_state_dict': model.state_dict(),\n",
    "            'optimizer_state_dict': optimizer.state_dict(),\n",
    "            'train_loss': train_loss,\n",
    "            'val_loss':val_loss}, \n",
    "            SAVE_PATH)                \n",
    "        lowest_val_loss = val_loss\n",
    "        early_stp_count = 0\n",
    "    else:\n",
    "        early_stp_count += 1 \n",
    "        \n",
    "    experiment.log_metric(\"loss_training\", train_loss, epoch=epoch)\n",
    "    experiment.log_metric(\"loss_validation\", val_loss, epoch=epoch)\n",
    "    \n",
    "    if early_stp_count >= EARLY_STOP:\n",
    "        break         \n"
   ]
  },
  {
   "cell_type": "code",
   "execution_count": null,
   "metadata": {},
   "outputs": [],
   "source": [
    "experiment.end()"
   ]
  },
  {
   "cell_type": "code",
   "execution_count": null,
   "metadata": {},
   "outputs": [],
   "source": []
  }
 ],
 "metadata": {
  "kernelspec": {
   "display_name": "Python 3 (milamoth_ai)",
   "language": "python",
   "name": "milamoth_ai"
  },
  "language_info": {
   "codemirror_mode": {
    "name": "ipython",
    "version": 3
   },
   "file_extension": ".py",
   "mimetype": "text/x-python",
   "name": "python",
   "nbconvert_exporter": "python",
   "pygments_lexer": "ipython3",
   "version": "3.9.13"
  }
 },
 "nbformat": 4,
 "nbformat_minor": 4
}
