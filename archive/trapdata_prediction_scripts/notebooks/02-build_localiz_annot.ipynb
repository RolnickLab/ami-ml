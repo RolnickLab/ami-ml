{
 "cells": [
  {
   "cell_type": "code",
   "execution_count": 1,
   "metadata": {},
   "outputs": [],
   "source": [
    "\"\"\"\n",
    "Author       : Aditya Jain\n",
    "Date Started : May 11, 2022\n",
    "About        : This file does DL-based localization on raw images and saves annotation information\n",
    "\"\"\"\n",
    "\n",
    "import torch\n",
    "import torchvision.models as torchmodels\n",
    "import torchvision\n",
    "import os\n",
    "from torchvision.models.detection.faster_rcnn import FastRCNNPredictor\n",
    "from torchvision import transforms\n",
    "from PIL import Image\n",
    "import cv2\n",
    "import json"
   ]
  },
  {
   "cell_type": "markdown",
   "metadata": {},
   "source": [
    "#### User-defined variables"
   ]
  },
  {
   "cell_type": "code",
   "execution_count": 2,
   "metadata": {},
   "outputs": [],
   "source": [
    "data_path  = '/home/mila/a/aditya.jain/scratch/TrapData_QuebecVermont_2022/Quebec/2022_05_14/'\n",
    "save_path  = '/home/mila/a/aditya.jain/scratch/TrapData_QuebecVermont_2022/Quebec/'\n",
    "annot_file = 'localiz_annotation-2022_05_14.json'"
   ]
  },
  {
   "cell_type": "markdown",
   "metadata": {},
   "source": [
    "#### Model Loading"
   ]
  },
  {
   "cell_type": "code",
   "execution_count": 3,
   "metadata": {},
   "outputs": [
    {
     "name": "stdout",
     "output_type": "stream",
     "text": [
      "cuda\n"
     ]
    },
    {
     "data": {
      "text/plain": [
       "<All keys matched successfully>"
      ]
     },
     "execution_count": 3,
     "metadata": {},
     "output_type": "execute_result"
    }
   ],
   "source": [
    "# Get cpu or gpu device for training.\n",
    "device = \"cuda\" if torch.cuda.is_available() else \"cpu\"\n",
    "print(device)\n",
    "\n",
    "# load a model pre-trained pre-trained on COCO\n",
    "model       = torchvision.models.detection.fasterrcnn_resnet50_fpn(pretrained=True)\n",
    "num_classes = 2  # 1 class (person) + background\n",
    "in_features = model.roi_heads.box_predictor.cls_score.in_features\n",
    "model.roi_heads.box_predictor = FastRCNNPredictor(in_features, num_classes)\n",
    "\n",
    "\n",
    "model_path  = '/home/mila/a/aditya.jain/logs/v1_localizmodel_2021-08-17-12-06.pt'\n",
    "checkpoint  = torch.load(model_path, map_location=device)\n",
    "model.load_state_dict(checkpoint['model_state_dict'])"
   ]
  },
  {
   "cell_type": "code",
   "execution_count": null,
   "metadata": {},
   "outputs": [],
   "source": [
    "model       = model.to(device)\n",
    "model.eval()\n",
    "\n",
    "annot_data = {}\n",
    "SCORE_THR  = 0.99\n",
    "image_list = os.listdir(data_path)\n",
    "image_list.sort()\n",
    "\n",
    "transform  = transforms.Compose([              \n",
    "            transforms.ToTensor()])\n",
    "\n",
    "for img in image_list:\n",
    "    image_path = data_path + img\n",
    "    image      = transform(Image.open(image_path))\n",
    "    image_pred = torch.unsqueeze(image, 0).to(device)\n",
    "    output     = model(image_pred)\n",
    "    \n",
    "    bboxes     = output[0]['boxes'][output[0]['scores'] > SCORE_THR]    \n",
    "    bbox_list  = []\n",
    "    label_list = []\n",
    "    \n",
    "    for box in bboxes:\n",
    "        box_numpy = box.detach().cpu().numpy() \n",
    "        bbox_list.append([int(box_numpy[0]), int(box_numpy[1]), \\\n",
    "                          int(box_numpy[2]), int(box_numpy[3])])\n",
    "        label_list.append(1)\n",
    "        \n",
    "    annot_data[img] = [bbox_list, label_list]\n",
    "\n",
    "with open(save_path + annot_file , 'w') as outfile:\n",
    "    json.dump(annot_data, outfile)    "
   ]
  },
  {
   "cell_type": "code",
   "execution_count": null,
   "metadata": {},
   "outputs": [],
   "source": []
  }
 ],
 "metadata": {
  "kernel_info": {
   "name": "newenv"
  },
  "kernelspec": {
   "display_name": "Python 3 (milamoth)",
   "language": "python",
   "name": "milamoth"
  },
  "language_info": {
   "codemirror_mode": {
    "name": "ipython",
    "version": 3
   },
   "file_extension": ".py",
   "mimetype": "text/x-python",
   "name": "python",
   "nbconvert_exporter": "python",
   "pygments_lexer": "ipython3",
   "version": "3.7.10"
  },
  "nteract": {
   "version": "nteract-front-end@1.0.0"
  }
 },
 "nbformat": 4,
 "nbformat_minor": 4
}
