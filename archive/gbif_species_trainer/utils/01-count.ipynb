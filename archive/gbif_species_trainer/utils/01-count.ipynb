{
 "cells": [
  {
   "cell_type": "code",
   "execution_count": 15,
   "metadata": {},
   "outputs": [],
   "source": [
    "\"\"\"\n",
    "Author: Aditya Jain\n",
    "Date  : 5th May, 2021\n",
    "About : This script counts the no. of species, genuses and families in a dataset\n",
    "\"\"\"\n",
    "import os\n",
    "\n",
    "data_dir = '/home/mila/a/aditya.jain/scratch/GBIF_Data/moths_uk'"
   ]
  },
  {
   "cell_type": "code",
   "execution_count": 16,
   "metadata": {},
   "outputs": [
    {
     "name": "stdout",
     "output_type": "stream",
     "text": [
      "No. of families: 18, No. of genuses: 490, No. of species: 982\n"
     ]
    }
   ],
   "source": [
    "family_list  = []\n",
    "genus_list   = []\n",
    "species_list = []\n",
    "\n",
    "for family in os.listdir(data_dir):\n",
    "    if os.path.isdir(data_dir + '/' + family) and family!='.ipynb_checkpoints':\n",
    "        family_list.append(family)\n",
    "    else:\n",
    "        continue\n",
    "    \n",
    "    for genus in os.listdir(data_dir + '/' + family):\n",
    "        if os.path.isdir(data_dir + '/' + family + '/' + genus):\n",
    "            genus_list.append(genus)\n",
    "        else:\n",
    "            continue\n",
    "        \n",
    "        for species in os.listdir(data_dir + '/' + family + '/' + genus):\n",
    "            if os.path.isdir(data_dir + '/' + family + '/' + genus + '/' + species):\n",
    "                species_list.append(species)\n",
    "            else:\n",
    "                continue\n",
    "                \n",
    "print(f'No. of families: {len(family_list)}, No. of genuses: {len(genus_list)}, No. of species: {len(species_list)}')"
   ]
  },
  {
   "cell_type": "code",
   "execution_count": null,
   "metadata": {},
   "outputs": [],
   "source": []
  }
 ],
 "metadata": {
  "kernelspec": {
   "display_name": "Python 3 (milamoth)",
   "language": "python",
   "name": "milamoth"
  },
  "language_info": {
   "codemirror_mode": {
    "name": "ipython",
    "version": 3
   },
   "file_extension": ".py",
   "mimetype": "text/x-python",
   "name": "python",
   "nbconvert_exporter": "python",
   "pygments_lexer": "ipython3",
   "version": "3.7.10"
  }
 },
 "nbformat": 4,
 "nbformat_minor": 4
}
