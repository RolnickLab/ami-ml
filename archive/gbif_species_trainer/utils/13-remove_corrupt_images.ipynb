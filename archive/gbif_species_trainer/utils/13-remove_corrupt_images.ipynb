{
 "cells": [
  {
   "cell_type": "code",
   "execution_count": 1,
   "metadata": {},
   "outputs": [],
   "source": [
    "\"\"\"\n",
    "Author        : Aditya Jain\n",
    "Date Started  : June 20, 2022\n",
    "About         : Removes corrupted images in the GBIF dataset\n",
    "\"\"\"\n",
    "import os\n",
    "import glob\n",
    "from PIL import Image\n",
    "\n",
    "data_dir    = '/home/mila/a/aditya.jain/scratch/GBIF_Data/moths_uk/'            "
   ]
  },
  {
   "cell_type": "code",
   "execution_count": null,
   "metadata": {},
   "outputs": [],
   "source": [
    "tot_corrupt_img = 0\n",
    "\n",
    "for family in os.listdir(data_dir):\n",
    "    if os.path.isdir(data_dir + '/' + family):\n",
    "        \n",
    "        for genus in os.listdir(data_dir + family):\n",
    "            if os.path.isdir(data_dir + '/' + family + '/' + genus):\n",
    "                \n",
    "                for species in os.listdir(data_dir + family + '/' + genus):\n",
    "                    if os.path.isdir(data_dir + '/' + family + '/' + genus + '/' + species):            \n",
    "                        file_data  = glob.glob(data_dir + family + '/' + genus + '/' + species + '/*.jpg')\n",
    "                        \n",
    "                        for filename in file_data:\n",
    "                            try:\n",
    "                                Image.open(filename)  \n",
    "                            except:\n",
    "                                print(filename)\n",
    "                                tot_corrupt_img += 1\n",
    "                                os.remove(filename)\n",
    "\n",
    "print(f'Total corrupted images are {tot_corrupt_img}')"
   ]
  },
  {
   "cell_type": "code",
   "execution_count": null,
   "metadata": {},
   "outputs": [],
   "source": []
  }
 ],
 "metadata": {
  "kernelspec": {
   "display_name": "Python 3",
   "language": "python",
   "name": "python3"
  },
  "language_info": {
   "codemirror_mode": {
    "name": "ipython",
    "version": 3
   },
   "file_extension": ".py",
   "mimetype": "text/x-python",
   "name": "python",
   "nbconvert_exporter": "python",
   "pygments_lexer": "ipython3",
   "version": "3.7.4"
  }
 },
 "nbformat": 4,
 "nbformat_minor": 4
}
