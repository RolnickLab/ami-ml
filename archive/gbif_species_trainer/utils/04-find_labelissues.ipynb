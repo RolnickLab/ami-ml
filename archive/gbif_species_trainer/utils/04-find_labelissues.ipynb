{
 "cells": [
  {
   "cell_type": "code",
   "execution_count": 11,
   "metadata": {},
   "outputs": [],
   "source": [
    "'''\n",
    "Author       : Aditya Jain\n",
    "Date Started : 11th May, 2021\n",
    "About        : This script converts string labels (species, genus, family) to numeric labels, saves to json file\n",
    "               The index in the list will be the class label\n",
    "'''\n",
    "\n",
    "import pandas as pd\n",
    "import json\n",
    "\n",
    "\n",
    "DATA_PATH  = '/home/mila/a/aditya.jain/mothAI/deeplearning/data/01-train_split.csv'\n",
    "LABEL_PATH = '/home/mila/a/aditya.jain/mothAI/deeplearning/data/numeric_labels.json'"
   ]
  },
  {
   "cell_type": "code",
   "execution_count": 12,
   "metadata": {},
   "outputs": [],
   "source": [
    "data_list   = pd.read_csv(DATA_PATH)\n",
    "f           = open(LABEL_PATH)\n",
    "label_data  = json.load(f)\n",
    "\n",
    "genus       = list(set(data_list['genus']))\n",
    "species     = list(set(data_list['species']))\n",
    "family      = list(set(data_list['family']))\n",
    "\n",
    "genus_list  = label_data['genus_list']\n",
    "species_list= label_data['species_list']\n",
    "family_list = label_data['family_list']\n"
   ]
  },
  {
   "cell_type": "code",
   "execution_count": 8,
   "metadata": {},
   "outputs": [],
   "source": [
    "for item in genus:\n",
    "    if item not in genus_list:\n",
    "        print(item)"
   ]
  },
  {
   "cell_type": "code",
   "execution_count": 9,
   "metadata": {},
   "outputs": [],
   "source": [
    "for item in species:\n",
    "    if item not in species_list:\n",
    "        print(item)"
   ]
  },
  {
   "cell_type": "code",
   "execution_count": 10,
   "metadata": {},
   "outputs": [],
   "source": [
    "for item in family:\n",
    "    if item not in family_list:\n",
    "        print(item)"
   ]
  },
  {
   "cell_type": "code",
   "execution_count": 17,
   "metadata": {},
   "outputs": [
    {
     "ename": "ValueError",
     "evalue": "'Tacparia detsata' is not in list",
     "output_type": "error",
     "traceback": [
      "\u001b[0;31m---------------------------------------------------------------------------\u001b[0m",
      "\u001b[0;31mValueError\u001b[0m                                Traceback (most recent call last)",
      "\u001b[0;32m<ipython-input-17-2ea4578220a2>\u001b[0m in \u001b[0;36m<module>\u001b[0;34m\u001b[0m\n\u001b[1;32m      1\u001b[0m \u001b[0mname\u001b[0m \u001b[0;34m=\u001b[0m \u001b[0;34m\"Tacparia detsata\"\u001b[0m\u001b[0;34m\u001b[0m\u001b[0;34m\u001b[0m\u001b[0m\n\u001b[0;32m----> 2\u001b[0;31m \u001b[0mprint\u001b[0m\u001b[0;34m(\u001b[0m\u001b[0mspecies_list\u001b[0m\u001b[0;34m.\u001b[0m\u001b[0mindex\u001b[0m\u001b[0;34m(\u001b[0m\u001b[0mname\u001b[0m\u001b[0;34m)\u001b[0m\u001b[0;34m)\u001b[0m\u001b[0;34m\u001b[0m\u001b[0;34m\u001b[0m\u001b[0m\n\u001b[0m",
      "\u001b[0;31mValueError\u001b[0m: 'Tacparia detsata' is not in list"
     ]
    }
   ],
   "source": [
    "name = \"Tacparia detsata\"\n",
    "print(species_list.index(name))"
   ]
  },
  {
   "cell_type": "code",
   "execution_count": null,
   "metadata": {},
   "outputs": [],
   "source": []
  }
 ],
 "metadata": {
  "kernelspec": {
   "display_name": "Python 3",
   "language": "python",
   "name": "python3"
  },
  "language_info": {
   "codemirror_mode": {
    "name": "ipython",
    "version": 3
   },
   "file_extension": ".py",
   "mimetype": "text/x-python",
   "name": "python",
   "nbconvert_exporter": "python",
   "pygments_lexer": "ipython3",
   "version": "3.7.4"
  }
 },
 "nbformat": 4,
 "nbformat_minor": 4
}
