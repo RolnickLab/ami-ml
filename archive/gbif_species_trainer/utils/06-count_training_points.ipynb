{
 "cells": [
  {
   "cell_type": "code",
   "execution_count": 9,
   "metadata": {},
   "outputs": [],
   "source": [
    "'''\n",
    "Author: Aditya Jain\n",
    "Date  : 11th June, 2021\n",
    "About : This script counts the no. of training points for each taxa\n",
    "'''\n",
    "import pandas as pd\n",
    "import json\n",
    "\n",
    "TRAIN_SET   = '/home/mila/a/aditya.jain/mothAI/deeplearning/data/01-train_split.csv'\n",
    "WRITE_DIR   = \"/home/mila/a/aditya.jain/mothAI/deeplearning/data/\""
   ]
  },
  {
   "cell_type": "code",
   "execution_count": 8,
   "metadata": {},
   "outputs": [],
   "source": [
    "train_data             = pd.read_csv(TRAIN_SET)\n",
    "final_count            = {}\n",
    "final_count['family']  = {}\n",
    "final_count['genus']   = {}\n",
    "final_count['species'] = {}\n",
    "\n",
    "for indx in train_data.index:\n",
    "    if train_data['family'][indx] not in final_count['family'].keys():\n",
    "        final_count['family'][train_data['family'][indx]] = 1\n",
    "    else:\n",
    "        final_count['family'][train_data['family'][indx]] += 1\n",
    "        \n",
    "    if train_data['genus'][indx] not in final_count['genus'].keys():\n",
    "        final_count['genus'][train_data['genus'][indx]] = 1\n",
    "    else:\n",
    "        final_count['genus'][train_data['genus'][indx]] += 1\n",
    "        \n",
    "    if train_data['species'][indx] not in final_count['species'].keys():\n",
    "        final_count['species'][train_data['species'][indx]] = 1\n",
    "    else:\n",
    "        final_count['species'][train_data['species'][indx]] += 1 "
   ]
  },
  {
   "cell_type": "code",
   "execution_count": 10,
   "metadata": {},
   "outputs": [],
   "source": [
    "with open(WRITE_DIR + 'count_train-points.json', 'w') as outfile:\n",
    "    json.dump(final_count, outfile)"
   ]
  }
 ],
 "metadata": {
  "kernelspec": {
   "display_name": "Python 3 (milamoth)",
   "language": "python",
   "name": "milamoth"
  },
  "language_info": {
   "codemirror_mode": {
    "name": "ipython",
    "version": 3
   },
   "file_extension": ".py",
   "mimetype": "text/x-python",
   "name": "python",
   "nbconvert_exporter": "python",
   "pygments_lexer": "ipython3",
   "version": "3.7.10"
  }
 },
 "nbformat": 4,
 "nbformat_minor": 4
}
