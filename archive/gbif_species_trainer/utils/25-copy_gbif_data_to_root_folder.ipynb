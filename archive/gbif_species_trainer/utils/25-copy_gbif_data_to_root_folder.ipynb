{
 "cells": [
  {
   "cell_type": "code",
   "execution_count": 1,
   "metadata": {},
   "outputs": [],
   "source": [
    "\"\"\"\n",
    "Author        : Aditya Jain\n",
    "Date Started  : April 10th, 2023\n",
    "About         : Copies GBIF data from region specifc folder to the world data folder\n",
    "\"\"\"\n",
    "import os\n",
    "import glob\n",
    "import pandas as pd\n",
    "import shutil\n",
    "from pygbif import species as species_api\n",
    "\n",
    "source_dir    = '/home/mila/a/aditya.jain/scratch/GBIF_Data/moths_uk-denmark_multiprocess/'    \n",
    "target_dir    = '/home/mila/a/aditya.jain/scratch/GBIF_Data/moths_world/'"
   ]
  },
  {
   "cell_type": "markdown",
   "metadata": {},
   "source": [
    "Read the species data already present in the moths world folder"
   ]
  },
  {
   "cell_type": "code",
   "execution_count": 4,
   "metadata": {},
   "outputs": [],
   "source": [
    "columns = [\n",
    "        \"taxon_key_gbif_id\",\n",
    "        \"family_name\",\n",
    "        \"genus_name\",\n",
    "        \"search_species_name\",\n",
    "        \"gbif_species_name\",\n",
    "        \"image_count\",\n",
    "        \"total_occ_count\",\n",
    "    ]\n",
    "\n",
    "data_type = {\n",
    "        \"taxon_key_gbif_id\": int,\n",
    "        \"family_name\": str,\n",
    "        \"genus_name\": str,\n",
    "        \"search_species_name\": str,\n",
    "        \"gbif_species_name\": str,\n",
    "        \"image_count\": int,\n",
    "        \"total_occ_count\": int,\n",
    "    }\n",
    "\n",
    "df_world_data = pd.read_csv(target_dir + 'data_statistics.csv', dtype=data_type)\n",
    "world_species = list(df_world_data['gbif_species_name'])"
   ]
  },
  {
   "cell_type": "markdown",
   "metadata": {},
   "source": [
    "Copy the data to the target directory"
   ]
  },
  {
   "cell_type": "code",
   "execution_count": null,
   "metadata": {},
   "outputs": [],
   "source": [
    "# traverse over family names\n",
    "for family in os.listdir(source_dir):\n",
    "    if os.path.isdir(source_dir + '/' + family):\n",
    "        \n",
    "        # traverse over genus names\n",
    "        for genus in os.listdir(source_dir + family):\n",
    "            if os.path.isdir(source_dir + '/' + family + '/' + genus):\n",
    "                \n",
    "                # traverse over species names\n",
    "                for species in os.listdir(source_dir + family + '/' + genus):\n",
    "                    if os.path.isdir(source_dir + '/' + family + '/' + genus + '/' + species): \n",
    "                        \n",
    "                        image_list  = glob.glob(source_dir + family + '/' + genus + '/' + species + '/*.jpg')\n",
    "                        if species not in world_species and len(image_list)!=0:\n",
    "                            source_folder = source_dir + '/' + family + '/' + genus + '/' + species\n",
    "                            target_folder = target_dir + '/' + family + '/' + genus + '/' + species\n",
    "                            \n",
    "                            # delete folder and its content, if exists already\n",
    "                            try:\n",
    "                                shutil.rmtree(target_folder)\n",
    "                                print(f'{target_folder} already existed but now deleted.', flush=True)\n",
    "                            except:\n",
    "                                pass\n",
    "                              \n",
    "                            # copy the data    \n",
    "                            try:\n",
    "                                shutil.copytree(source_folder, target_folder)\n",
    "                                backbone_data = species_api.name_backbone(name=species, strict=True, rank='species')\n",
    "                                df_world_data = pd.concat([df_world_data, pd.DataFrame([[backbone_data['usageKey'], family, genus, species, species, len(image_list), -1]], columns=columns)], ignore_index=True)\n",
    "                                df_world_data.to_csv(target_dir + \"data_statistics.csv\", index=False)\n",
    "                                print(f'Data copied for {species} with {len(image_list)} images.', flush=True)\n",
    "                            except Exception as e:\n",
    "                                print(e, flush=True)\n",
    "                                print(f'Data already available in the target directory for {species}', flush=True)\n",
    "                                continue                    \n",
    "\n"
   ]
  },
  {
   "cell_type": "code",
   "execution_count": null,
   "metadata": {},
   "outputs": [],
   "source": []
  }
 ],
 "metadata": {
  "kernelspec": {
   "display_name": "Python 3 (milamoth_ai)",
   "language": "python",
   "name": "milamoth_ai"
  },
  "language_info": {
   "codemirror_mode": {
    "name": "ipython",
    "version": 3
   },
   "file_extension": ".py",
   "mimetype": "text/x-python",
   "name": "python",
   "nbconvert_exporter": "python",
   "pygments_lexer": "ipython3",
   "version": "3.9.13"
  }
 },
 "nbformat": 4,
 "nbformat_minor": 4
}
