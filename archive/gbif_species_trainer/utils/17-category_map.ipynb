{
 "cells": [
  {
   "cell_type": "code",
   "execution_count": 1,
   "metadata": {},
   "outputs": [],
   "source": [
    "\"\"\"\n",
    "Author        : Aditya Jain\n",
    "Date Started  : August 4, 2022\n",
    "About         : Builds a category map from species names to integers\n",
    "\"\"\"\n",
    "import json\n",
    "\n",
    "numeric_label_file = '/home/mila/a/aditya.jain/mothAI/gbif_species_trainer/model_training/data/panama_numeric_labels.json'\n",
    "write_dir          = '/home/mila/a/aditya.jain/logs/'\n",
    "write_filename     = 'panama_moth-category-map_24Jan2023.json'"
   ]
  },
  {
   "cell_type": "code",
   "execution_count": 2,
   "metadata": {},
   "outputs": [],
   "source": [
    "with open(numeric_label_file, 'r') as f:\n",
    "    numeric_label_data = json.load(f)\n",
    "    \n",
    "categories_map = {}\n",
    "species_list   = numeric_label_data['species_list']\n",
    "\n",
    "for i in range(len(species_list)):\n",
    "    categories_map[species_list[i]] = i\n",
    "    \n",
    "with open(write_dir + write_filename, 'w') as outfile:\n",
    "    json.dump(categories_map, outfile)"
   ]
  },
  {
   "cell_type": "code",
   "execution_count": null,
   "metadata": {},
   "outputs": [],
   "source": []
  }
 ],
 "metadata": {
  "kernelspec": {
   "display_name": "Python 3 (milamoth_ai)",
   "language": "python",
   "name": "milamoth_ai"
  },
  "language_info": {
   "codemirror_mode": {
    "name": "ipython",
    "version": 3
   },
   "file_extension": ".py",
   "mimetype": "text/x-python",
   "name": "python",
   "nbconvert_exporter": "python",
   "pygments_lexer": "ipython3",
   "version": "3.9.13"
  }
 },
 "nbformat": 4,
 "nbformat_minor": 4
}
