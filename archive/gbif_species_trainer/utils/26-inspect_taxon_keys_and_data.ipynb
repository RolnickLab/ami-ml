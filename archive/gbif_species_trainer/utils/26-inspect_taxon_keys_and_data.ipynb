{
 "cells": [
  {
   "cell_type": "code",
   "execution_count": 1,
   "metadata": {},
   "outputs": [],
   "source": [
    "\"\"\"\n",
    "Author        : Aditya Jain\n",
    "Date Started  : April 24th, 2023\n",
    "About         : Analyze taxon keys, names and existing data on gbif\n",
    "\"\"\"\n",
    "\n",
    "import pandas as pd\n",
    "from pygbif import species as species_api\n",
    "import glob"
   ]
  },
  {
   "cell_type": "markdown",
   "metadata": {},
   "source": [
    "#### Analyze taxon keys and species"
   ]
  },
  {
   "cell_type": "code",
   "execution_count": 2,
   "metadata": {},
   "outputs": [
    {
     "name": "stdout",
     "output_type": "stream",
     "text": [
      "Total unique search species names are 3023 / 3023.\n",
      "Total unique gbif species names are 3006 / 3006.\n",
      "Total unique accepted taxon keys are 3006 / 3006.\n"
     ]
    }
   ],
   "source": [
    "species_list = pd.read_csv('/home/mila/a/aditya.jain/mothAI/species_lists/UK-Denmark_Moth-List_25Apr2023.csv')\n",
    "\n",
    "search_species_names = list(species_list['search_species_name'])\n",
    "\n",
    "# gbif names processing\n",
    "gbif_species_names   = list(species_list['gbif_species_name'])\n",
    "gbif_species_names   = [name for name in gbif_species_names if name != 'NotAvail']\n",
    "\n",
    "# taxon keys processing\n",
    "taxon_keys   = list(species_list['accepted_taxon_key'])\n",
    "taxon_keys   = [key for key in taxon_keys if key != -1]\n",
    "\n",
    "print(f'Total unique search species names are {len(set(search_species_names))} / {len(species_list)}.')\n",
    "print(f'Total unique gbif species names are {len(set(gbif_species_names))} / {len(gbif_species_names)}.')\n",
    "print(f'Total unique accepted taxon keys are {len(set(taxon_keys))} / {len(taxon_keys)}.')"
   ]
  },
  {
   "cell_type": "code",
   "execution_count": 13,
   "metadata": {},
   "outputs": [
    {
     "data": {
      "text/plain": [
       "set()"
      ]
     },
     "execution_count": 13,
     "metadata": {},
     "output_type": "execute_result"
    }
   ],
   "source": [
    "# check duplicates\n",
    "# set([x for x in gbif_species_names if gbif_species_names.count(x) > 1])"
   ]
  },
  {
   "cell_type": "markdown",
   "metadata": {},
   "source": [
    "#### Process the data statistics file in moths world folder"
   ]
  },
  {
   "cell_type": "code",
   "execution_count": 34,
   "metadata": {},
   "outputs": [],
   "source": [
    "filename = '/home/mila/a/aditya.jain/scratch/GBIF_Data/moths_world/data_statistics.csv'\n",
    "data     = pd.read_csv(filename)\n",
    "\n",
    "# remove last total image count column, not required\n",
    "data.drop(columns=['total_occ_count'], inplace=True)\n",
    "\n",
    "# rename taxon key field\n",
    "data.rename(columns={'taxon_key_gbif_id': 'accepted_taxon_key'}, inplace=True)\n",
    "\n",
    "# save the file\n",
    "data.to_csv(filename, index=False)  "
   ]
  },
  {
   "cell_type": "markdown",
   "metadata": {},
   "source": [
    "#### Delete family entries in Denmark list"
   ]
  },
  {
   "cell_type": "code",
   "execution_count": 23,
   "metadata": {},
   "outputs": [],
   "source": [
    "filename = '/home/mila/a/aditya.jain/mothAI/species_lists/Denmark_Moth-List_25Apr2023.csv'\n",
    "df = pd.read_csv(filename)\n",
    "\n",
    "index_to_drop = df[ (df['accepted_taxon_key'] == -1) & (df['order_name'] == 'NotAvail') ].index\n",
    "df.drop(index_to_drop , inplace=True)\n",
    "\n",
    "df.to_csv(filename, index=False)  "
   ]
  },
  {
   "cell_type": "markdown",
   "metadata": {},
   "source": [
    "#### Test checking name with GBIF backbone"
   ]
  },
  {
   "cell_type": "code",
   "execution_count": 6,
   "metadata": {},
   "outputs": [
    {
     "name": "stdout",
     "output_type": "stream",
     "text": [
      "{'confidence': 100, 'matchType': 'NONE', 'synonym': False}\n"
     ]
    }
   ],
   "source": [
    "data = species_api.name_backbone(name='Perigonia lusca ilus', strict=True, rank='species')\n",
    "\n",
    "print(data)"
   ]
  },
  {
   "cell_type": "markdown",
   "metadata": {},
   "source": [
    "#### Check missing data"
   ]
  },
  {
   "cell_type": "code",
   "execution_count": 5,
   "metadata": {},
   "outputs": [
    {
     "name": "stdout",
     "output_type": "stream",
     "text": [
      "A total of 0 species names do not have data.\n",
      "A total of 0 taxon keys do not have data.\n"
     ]
    }
   ],
   "source": [
    "species_list   = pd.read_csv('/home/mila/a/aditya.jain/mothAI/species_lists/UK-Denmark_Moth-List_25Apr2023.csv')\n",
    "datacount_file = pd.read_csv('/home/mila/a/aditya.jain/scratch/GBIF_Data/moths_world/data_statistics.csv')\n",
    "\n",
    "gbif_sp_names  = species_list['gbif_species_name']\n",
    "acc_taxon_keys = species_list['accepted_taxon_key']\n",
    "\n",
    "not_found_sp_name = 0\n",
    "for name in gbif_sp_names:\n",
    "    if name not in list(datacount_file['gbif_species_name']):\n",
    "        print(name)\n",
    "        not_found_sp_name += 1\n",
    "print(f'A total of {not_found_sp_name} species names do not have data.')\n",
    "\n",
    "not_found_taxon_keys = 0\n",
    "for key in acc_taxon_keys:\n",
    "    if key not in list(datacount_file['accepted_taxon_key']) and key!=-1:\n",
    "        print(key)\n",
    "        not_found_taxon_keys += 1\n",
    "print(f'A total of {not_found_taxon_keys} taxon keys do not have data.')\n",
    "\n",
    "# # for _, row in species_list.iterrows():\n",
    "# #     if row['gbif_species_name'] in list(datacount_file['gbif_species_name']) and row['accepted_taxon_key'] not in list(datacount_file['accepted_taxon_key']):\n",
    "# #         print(row['gbif_species_name'])\n",
    "\n",
    "# # species names in UK-Denmark checklist having zero images\n",
    "# for _, row in datacount_file.iterrows():\n",
    "#     if row['image_count']==0 and row['gbif_species_name'] in list(species_list['gbif_species_name']):\n",
    "#         print(row['gbif_species_name'])\n",
    "        \n",
    "# # species keys in UK-Denmark checklist having zero images\n",
    "# for _, row in datacount_file.iterrows():\n",
    "#     if row['image_count']==0 and row['accepted_taxon_key'] in list(species_list['accepted_taxon_key']):\n",
    "#         print(row['accepted_taxon_key'])"
   ]
  },
  {
   "cell_type": "markdown",
   "metadata": {},
   "source": [
    "#### Check species whose data is there but no entry in datacount file"
   ]
  },
  {
   "cell_type": "code",
   "execution_count": 6,
   "metadata": {},
   "outputs": [],
   "source": [
    "species_list   = pd.read_csv('/home/mila/a/aditya.jain/mothAI/species_lists/UK-Denmark_Moth-List_25Apr2023.csv')\n",
    "datacount_file = pd.read_csv('/home/mila/a/aditya.jain/scratch/GBIF_Data/moths_world/data_statistics.csv')\n",
    "root_dir       = '/home/mila/a/aditya.jain/scratch/GBIF_Data/moths_world/'\n",
    "columns        = [\n",
    "                    \"accepted_taxon_key\",\n",
    "                    \"family_name\",\n",
    "                    \"genus_name\",\n",
    "                    \"search_species_name\",\n",
    "                    \"gbif_species_name\",\n",
    "                    \"image_count\"\n",
    "                 ]\n",
    "\n",
    "for _, row in species_list.iterrows():\n",
    "    family = row['family_name']\n",
    "    genus  = row['genus_name']\n",
    "    search_species = row['search_species_name']\n",
    "    gbif_species = row['gbif_species_name']  \n",
    "    taxon_key = row['accepted_taxon_key']\n",
    "    species_data = glob.glob(root_dir + family + '/' + genus + '/' + gbif_species + '/*.jpg')\n",
    "    \n",
    "    if len(species_data)!=0 and gbif_species not in datacount_file['gbif_species_name'].tolist():\n",
    "        print(f'{gbif_species} has a missing entry in datacount file.')\n",
    "        \n",
    "        datacount_file = pd.concat([datacount_file, pd.DataFrame([[taxon_key, family, genus, search_species, gbif_species, len(species_data)]],\n",
    "                    columns=columns,),],ignore_index=True,)\n",
    "\n",
    "# datacount_file.to_csv('/home/mila/a/aditya.jain/scratch/GBIF_Data/moths_world/data_statistics.csv', index=False)  "
   ]
  },
  {
   "cell_type": "code",
   "execution_count": null,
   "metadata": {},
   "outputs": [],
   "source": []
  }
 ],
 "metadata": {
  "kernelspec": {
   "display_name": "Python 3 (milamoth_ai)",
   "language": "python",
   "name": "milamoth_ai"
  },
  "language_info": {
   "codemirror_mode": {
    "name": "ipython",
    "version": 3
   },
   "file_extension": ".py",
   "mimetype": "text/x-python",
   "name": "python",
   "nbconvert_exporter": "python",
   "pygments_lexer": "ipython3",
   "version": "3.9.13"
  }
 },
 "nbformat": 4,
 "nbformat_minor": 4
}
