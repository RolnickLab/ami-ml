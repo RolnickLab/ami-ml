{
 "cells": [
  {
   "cell_type": "code",
   "execution_count": 1,
   "metadata": {},
   "outputs": [],
   "source": [
    "\"\"\"\n",
    "Author         : Aditya Jain\n",
    "Last modified  : May 30th, 2023\n",
    "About          : Test notebook to debug and test changes to the main training file\n",
    "\"\"\"\n",
    "\n",
    "import wandb\n",
    "import torchvision.models as torchmodels\n",
    "import torch\n",
    "from torch import nn\n",
    "import json\n",
    "import os\n",
    "import matplotlib.pyplot as plt\n",
    "import numpy as np\n",
    "from torch.utils.data import Dataset, DataLoader\n",
    "from torchvision import transforms, utils\n",
    "import torch.nn.functional as F\n",
    "import torch.optim as optim\n",
    "import datetime\n",
    "import pandas as pd\n",
    "import tensorflow as tf\n",
    "import time\n",
    "from sklearn.metrics import confusion_matrix\n",
    "import argparse\n",
    "import random\n",
    "\n",
    "%load_ext autoreload\n",
    "%autoreload 2\n",
    "\n",
    "from data import dataloader\n",
    "from models.build_model import build_model\n",
    "from training_params.loss import Loss\n",
    "from training_params.optimizer import Optimizer\n",
    "from training_params.lr_scheduler import LRScheduler\n",
    "from evaluation.micro_accuracy import (\n",
    "    MicroAccuracyBatch,\n",
    "    add_batch_microacc,\n",
    "    final_micro_accuracy,\n",
    ")\n",
    "from evaluation.macro_accuracy import (\n",
    "    MacroAccuracyBatch,\n",
    "    add_batch_macroacc,\n",
    "    final_macro_accuracy,\n",
    ")\n",
    "from evaluation.taxon_accuracy import taxon_accuracy, add_taxon_accuracy_to_species_checklist\n",
    "from evaluation.confusion_matrix_data import confusion_matrix_data\n",
    "from evaluation.confusion_data_conversion import ConfusionDataConvert"
   ]
  },
  {
   "cell_type": "markdown",
   "metadata": {},
   "source": [
    "#### Define variables"
   ]
  },
  {
   "cell_type": "code",
   "execution_count": 7,
   "metadata": {},
   "outputs": [],
   "source": [
    "config_file = \"config/01-config_uk-denmark_efficientnet.json\"\n",
    "config_data = json.load(open(config_file))\n",
    "image_resize = config_data[\"training\"][\"image_resize\"]\n",
    "batch_size = config_data[\"training\"][\"batch_size\"]\n",
    "label_list = config_data[\"dataset\"][\"label_info\"]\n",
    "epochs = config_data[\"training\"][\"epochs\"]\n",
    "loss_name = config_data[\"training\"][\"loss\"][\"name\"]\n",
    "early_stop = config_data[\"training\"][\"early_stopping\"]\n",
    "start_val_loss = config_data[\"training\"][\"start_val_loss\"]\n",
    "label_read = json.load(open(label_list))\n",
    "num_classes = len(label_read[\"species\"])\n",
    "model_type = config_data[\"model\"][\"type\"]\n",
    "preprocess_mode = config_data[\"model\"][\"preprocess_mode\"]\n",
    "test_webdataset_url = \"/home/mila/a/aditya.jain/scratch/GBIF_Data/webdataset_moths_uk-denmark/test/test-500-{000000..000179}.tar\"\n",
    "\n",
    "test_dataloader = dataloader.build_webdataset_pipeline(\n",
    "        sharedurl=test_webdataset_url,\n",
    "        input_size=image_resize,\n",
    "        batch_size=batch_size,\n",
    "        set_type=\"test\",\n",
    "        num_workers=2,\n",
    "        preprocess_mode=preprocess_mode,\n",
    "        test_set_num=4,\n",
    "    )"
   ]
  },
  {
   "cell_type": "code",
   "execution_count": 4,
   "metadata": {},
   "outputs": [
    {
     "name": "stderr",
     "output_type": "stream",
     "text": [
      "Failed to detect the name of this notebook, you can set it manually with the WANDB_NOTEBOOK_NAME environment variable to enable code saving.\n",
      "\u001b[34m\u001b[1mwandb\u001b[0m: Currently logged in as: \u001b[33madityajain07\u001b[0m (\u001b[33mmoth-ai\u001b[0m). Use \u001b[1m`wandb login --relogin`\u001b[0m to force relogin\n"
     ]
    },
    {
     "data": {
      "text/html": [
       "wandb version 0.15.3 is available!  To upgrade, please run:\n",
       " $ pip install wandb --upgrade"
      ],
      "text/plain": [
       "<IPython.core.display.HTML object>"
      ]
     },
     "metadata": {},
     "output_type": "display_data"
    },
    {
     "data": {
      "text/html": [
       "Tracking run with wandb version 0.13.5"
      ],
      "text/plain": [
       "<IPython.core.display.HTML object>"
      ]
     },
     "metadata": {},
     "output_type": "display_data"
    },
    {
     "data": {
      "text/html": [
       "Run data is saved locally in <code>/home/mila/a/aditya.jain/mothAI/gbif_species_trainer/model_training/wandb/run-20230531_122201-1iu8himd</code>"
      ],
      "text/plain": [
       "<IPython.core.display.HTML object>"
      ]
     },
     "metadata": {},
     "output_type": "display_data"
    },
    {
     "data": {
      "text/html": [
       "Syncing run <strong><a href=\"https://wandb.ai/moth-ai/UK-Denmark-Moth-Classifier/runs/1iu8himd\" target=\"_blank\">deft-hill-45</a></strong> to <a href=\"https://wandb.ai/moth-ai/UK-Denmark-Moth-Classifier\" target=\"_blank\">Weights & Biases</a> (<a href=\"https://wandb.me/run\" target=\"_blank\">docs</a>)<br/>"
      ],
      "text/plain": [
       "<IPython.core.display.HTML object>"
      ]
     },
     "metadata": {},
     "output_type": "display_data"
    },
    {
     "data": {
      "text/html": [
       "Finishing last run (ID:1iu8himd) before initializing another..."
      ],
      "text/plain": [
       "<IPython.core.display.HTML object>"
      ]
     },
     "metadata": {},
     "output_type": "display_data"
    },
    {
     "data": {
      "text/html": [
       "Waiting for W&B process to finish... <strong style=\"color:green\">(success).</strong>"
      ],
      "text/plain": [
       "<IPython.core.display.HTML object>"
      ]
     },
     "metadata": {},
     "output_type": "display_data"
    },
    {
     "data": {
      "text/html": [
       "Synced <strong style=\"color:#cdcd00\">deft-hill-45</strong>: <a href=\"https://wandb.ai/moth-ai/UK-Denmark-Moth-Classifier/runs/1iu8himd\" target=\"_blank\">https://wandb.ai/moth-ai/UK-Denmark-Moth-Classifier/runs/1iu8himd</a><br/>Synced 5 W&B file(s), 0 media file(s), 0 artifact file(s) and 0 other file(s)"
      ],
      "text/plain": [
       "<IPython.core.display.HTML object>"
      ]
     },
     "metadata": {},
     "output_type": "display_data"
    },
    {
     "data": {
      "text/html": [
       "Find logs at: <code>./wandb/run-20230531_122201-1iu8himd/logs</code>"
      ],
      "text/plain": [
       "<IPython.core.display.HTML object>"
      ]
     },
     "metadata": {},
     "output_type": "display_data"
    },
    {
     "data": {
      "text/html": [
       "Successfully finished last run (ID:1iu8himd). Initializing new run:<br/>"
      ],
      "text/plain": [
       "<IPython.core.display.HTML object>"
      ]
     },
     "metadata": {},
     "output_type": "display_data"
    },
    {
     "data": {
      "text/html": [
       "wandb version 0.15.3 is available!  To upgrade, please run:\n",
       " $ pip install wandb --upgrade"
      ],
      "text/plain": [
       "<IPython.core.display.HTML object>"
      ]
     },
     "metadata": {},
     "output_type": "display_data"
    },
    {
     "data": {
      "text/html": [
       "Tracking run with wandb version 0.13.5"
      ],
      "text/plain": [
       "<IPython.core.display.HTML object>"
      ]
     },
     "metadata": {},
     "output_type": "display_data"
    },
    {
     "data": {
      "text/html": [
       "Run data is saved locally in <code>/home/mila/a/aditya.jain/mothAI/gbif_species_trainer/model_training/wandb/run-20230531_122205-sbps0nn2</code>"
      ],
      "text/plain": [
       "<IPython.core.display.HTML object>"
      ]
     },
     "metadata": {},
     "output_type": "display_data"
    },
    {
     "data": {
      "text/html": [
       "Syncing run <strong><a href=\"https://wandb.ai/moth-ai/mothAI-gbif_species_trainer_model_training/runs/sbps0nn2\" target=\"_blank\">dashing-violet-1</a></strong> to <a href=\"https://wandb.ai/moth-ai/mothAI-gbif_species_trainer_model_training\" target=\"_blank\">Weights & Biases</a> (<a href=\"https://wandb.me/run\" target=\"_blank\">docs</a>)<br/>"
      ],
      "text/plain": [
       "<IPython.core.display.HTML object>"
      ]
     },
     "metadata": {},
     "output_type": "display_data"
    },
    {
     "data": {
      "text/html": [
       "<button onClick=\"this.nextSibling.style.display='block';this.style.display='none';\">Display W&B run</button><iframe src=\"https://wandb.ai/moth-ai/mothAI-gbif_species_trainer_model_training/runs/sbps0nn2?jupyter=true\" style=\"border:none;width:100%;height:420px;display:none;\"></iframe>"
      ],
      "text/plain": [
       "<wandb.sdk.wandb_run.Run at 0x7f7c018f6580>"
      ]
     },
     "execution_count": 4,
     "metadata": {},
     "output_type": "execute_result"
    }
   ],
   "source": [
    "wandb.init(\n",
    "        project=config_data[\"training\"][\"wandb\"][\"project\"],\n",
    "        entity=config_data[\"training\"][\"wandb\"][\"entity\"],\n",
    "    )\n",
    "wandb.init(settings=wandb.Settings(start_method=\"fork\"))"
   ]
  },
  {
   "cell_type": "code",
   "execution_count": 5,
   "metadata": {},
   "outputs": [
    {
     "name": "stdout",
     "output_type": "stream",
     "text": [
      "cpu\n"
     ]
    }
   ],
   "source": [
    "# Read other dataset specific files\n",
    "taxon_hierarchy = config_data[\"dataset\"][\"taxon_hierarchy\"]\n",
    "label_info = config_data[\"dataset\"][\"label_info\"]\n",
    "species_checklist = pd.read_csv(config_data[\"dataset\"][\"species_checklist\"])\n",
    "\n",
    "# Loading model\n",
    "# Get cpu or gpu device for training.\n",
    "device = \"cuda\" if torch.cuda.is_available() else \"cpu\"\n",
    "print(device)\n",
    "model = build_model(num_classes, model_type)"
   ]
  },
  {
   "cell_type": "code",
   "execution_count": 8,
   "metadata": {},
   "outputs": [
    {
     "ename": "",
     "evalue": "",
     "output_type": "error",
     "traceback": [
      "\u001b[1;31mCanceled future for execute_request message before replies were done"
     ]
    },
    {
     "ename": "",
     "evalue": "",
     "output_type": "error",
     "traceback": [
      "\u001b[1;31mThe Kernel crashed while executing code in the the current cell or a previous cell. Please review the code in the cell(s) to identify a possible cause of the failure. Click <a href='https://aka.ms/vscodeJupyterKernelCrash'>here</a> for more info. View Jupyter <a href='command:jupyter.viewOutput'>log</a> for further details."
     ]
    }
   ],
   "source": [
    "global_micro_acc_data = None\n",
    "global_macro_acc_data = None\n",
    "\n",
    "with torch.no_grad():\n",
    "    for image_batch, label_batch in test_dataloader:\n",
    "        image_batch, label_batch = image_batch.to(device), label_batch.to(device)\n",
    "        predictions = model(image_batch)\n",
    "\n",
    "        # micro-accuracy calculation\n",
    "        micro_accuracy = MicroAccuracyBatch(\n",
    "            predictions, label_batch, label_info, taxon_hierarchy\n",
    "        ).batch_accuracy()\n",
    "        global_micro_acc_data = add_batch_microacc(\n",
    "            global_micro_acc_data, micro_accuracy\n",
    "        )\n",
    "\n",
    "        # macro-accuracy calculation\n",
    "        macro_accuracy = MacroAccuracyBatch(\n",
    "            predictions, label_batch, label_info, taxon_hierarchy\n",
    "        ).batch_accuracy()\n",
    "        global_macro_acc_data = add_batch_macroacc(\n",
    "            global_macro_acc_data, macro_accuracy\n",
    "        )\n",
    "\n",
    "        break"
   ]
  },
  {
   "cell_type": "code",
   "execution_count": null,
   "metadata": {},
   "outputs": [],
   "source": [
    "final_micro_acc = final_micro_accuracy(global_micro_acc_data)\n",
    "final_macro_acc, taxon_acc = final_macro_accuracy(global_macro_acc_data)\n",
    "taxa_accuracy = taxon_accuracy(taxon_acc, label_read)\n",
    "species_checklist_w_accuracy = add_taxon_accuracy_to_species_checklist(species_checklist, taxa_accuracy)"
   ]
  },
  {
   "cell_type": "code",
   "execution_count": 7,
   "metadata": {},
   "outputs": [
    {
     "data": {
      "text/html": [
       "<div>\n",
       "<style scoped>\n",
       "    .dataframe tbody tr th:only-of-type {\n",
       "        vertical-align: middle;\n",
       "    }\n",
       "\n",
       "    .dataframe tbody tr th {\n",
       "        vertical-align: top;\n",
       "    }\n",
       "\n",
       "    .dataframe thead th {\n",
       "        text-align: right;\n",
       "    }\n",
       "</style>\n",
       "<table border=\"1\" class=\"dataframe\">\n",
       "  <thead>\n",
       "    <tr style=\"text-align: right;\">\n",
       "      <th></th>\n",
       "      <th>accepted_taxon_key</th>\n",
       "      <th>order_name</th>\n",
       "      <th>family_name</th>\n",
       "      <th>genus_name</th>\n",
       "      <th>search_species_name</th>\n",
       "      <th>gbif_species_name</th>\n",
       "      <th>confidence</th>\n",
       "      <th>status</th>\n",
       "      <th>match_type</th>\n",
       "      <th>rank</th>\n",
       "      <th>source</th>\n",
       "      <th>accuracy</th>\n",
       "      <th>num_of_train_images</th>\n",
       "      <th>num_of_test_images</th>\n",
       "    </tr>\n",
       "  </thead>\n",
       "  <tbody>\n",
       "    <tr>\n",
       "      <th>0</th>\n",
       "      <td>1845962</td>\n",
       "      <td>Lepidoptera</td>\n",
       "      <td>Autostichidae</td>\n",
       "      <td>Oegoconia</td>\n",
       "      <td>Oegoconia quadripuncta</td>\n",
       "      <td>Oegoconia quadripuncta</td>\n",
       "      <td>99</td>\n",
       "      <td>ACCEPTED</td>\n",
       "      <td>EXACT</td>\n",
       "      <td>SPECIES</td>\n",
       "      <td>uksi_09May2022 denmark_Dec2022</td>\n",
       "      <td>-1.0</td>\n",
       "      <td>-1</td>\n",
       "      <td>-1</td>\n",
       "    </tr>\n",
       "    <tr>\n",
       "      <th>1</th>\n",
       "      <td>10055273</td>\n",
       "      <td>Lepidoptera</td>\n",
       "      <td>Tineidae</td>\n",
       "      <td>Oinophila</td>\n",
       "      <td>Oinophila v-flava</td>\n",
       "      <td>Oinophila v-flava</td>\n",
       "      <td>99</td>\n",
       "      <td>ACCEPTED</td>\n",
       "      <td>EXACT</td>\n",
       "      <td>SPECIES</td>\n",
       "      <td>uksi_09May2022</td>\n",
       "      <td>-1.0</td>\n",
       "      <td>-1</td>\n",
       "      <td>-1</td>\n",
       "    </tr>\n",
       "    <tr>\n",
       "      <th>2</th>\n",
       "      <td>1742185</td>\n",
       "      <td>Lepidoptera</td>\n",
       "      <td>Tortricidae</td>\n",
       "      <td>Olethreutes</td>\n",
       "      <td>Olethreutes arcuella</td>\n",
       "      <td>Olethreutes arcuella</td>\n",
       "      <td>99</td>\n",
       "      <td>ACCEPTED</td>\n",
       "      <td>EXACT</td>\n",
       "      <td>SPECIES</td>\n",
       "      <td>uksi_09May2022 denmark_Dec2022</td>\n",
       "      <td>0.0</td>\n",
       "      <td>5</td>\n",
       "      <td>1</td>\n",
       "    </tr>\n",
       "    <tr>\n",
       "      <th>3</th>\n",
       "      <td>1741545</td>\n",
       "      <td>Lepidoptera</td>\n",
       "      <td>Tortricidae</td>\n",
       "      <td>Olindia</td>\n",
       "      <td>Olindia schumacherana</td>\n",
       "      <td>Olindia schumacherana</td>\n",
       "      <td>99</td>\n",
       "      <td>ACCEPTED</td>\n",
       "      <td>EXACT</td>\n",
       "      <td>SPECIES</td>\n",
       "      <td>uksi_09May2022 denmark_Dec2022</td>\n",
       "      <td>-1.0</td>\n",
       "      <td>-1</td>\n",
       "      <td>-1</td>\n",
       "    </tr>\n",
       "    <tr>\n",
       "      <th>4</th>\n",
       "      <td>1875120</td>\n",
       "      <td>Lepidoptera</td>\n",
       "      <td>Pyralidae</td>\n",
       "      <td>Oncocera</td>\n",
       "      <td>Oncocera semirubella</td>\n",
       "      <td>Oncocera semirubella</td>\n",
       "      <td>99</td>\n",
       "      <td>ACCEPTED</td>\n",
       "      <td>EXACT</td>\n",
       "      <td>SPECIES</td>\n",
       "      <td>uksi_09May2022 denmark_Dec2022</td>\n",
       "      <td>-1.0</td>\n",
       "      <td>-1</td>\n",
       "      <td>-1</td>\n",
       "    </tr>\n",
       "    <tr>\n",
       "      <th>...</th>\n",
       "      <td>...</td>\n",
       "      <td>...</td>\n",
       "      <td>...</td>\n",
       "      <td>...</td>\n",
       "      <td>...</td>\n",
       "      <td>...</td>\n",
       "      <td>...</td>\n",
       "      <td>...</td>\n",
       "      <td>...</td>\n",
       "      <td>...</td>\n",
       "      <td>...</td>\n",
       "      <td>...</td>\n",
       "      <td>...</td>\n",
       "      <td>...</td>\n",
       "    </tr>\n",
       "    <tr>\n",
       "      <th>3018</th>\n",
       "      <td>4532050</td>\n",
       "      <td>Lepidoptera</td>\n",
       "      <td>Crambidae</td>\n",
       "      <td>Udea</td>\n",
       "      <td>Udea hamalis Thnbg.</td>\n",
       "      <td>Udea hamalis</td>\n",
       "      <td>99</td>\n",
       "      <td>ACCEPTED</td>\n",
       "      <td>EXACT</td>\n",
       "      <td>SPECIES</td>\n",
       "      <td>denmark_Dec2022</td>\n",
       "      <td>-1.0</td>\n",
       "      <td>-1</td>\n",
       "      <td>-1</td>\n",
       "    </tr>\n",
       "    <tr>\n",
       "      <th>3019</th>\n",
       "      <td>1882158</td>\n",
       "      <td>Lepidoptera</td>\n",
       "      <td>Crambidae</td>\n",
       "      <td>Loxostege</td>\n",
       "      <td>Loxostege turbidalis Tr.</td>\n",
       "      <td>Loxostege turbidalis</td>\n",
       "      <td>99</td>\n",
       "      <td>ACCEPTED</td>\n",
       "      <td>EXACT</td>\n",
       "      <td>SPECIES</td>\n",
       "      <td>denmark_Dec2022</td>\n",
       "      <td>-1.0</td>\n",
       "      <td>-1</td>\n",
       "      <td>-1</td>\n",
       "    </tr>\n",
       "    <tr>\n",
       "      <th>3020</th>\n",
       "      <td>1892242</td>\n",
       "      <td>Lepidoptera</td>\n",
       "      <td>Crambidae</td>\n",
       "      <td>Ecpyrrhorrhoe</td>\n",
       "      <td>Ecpyrrhorrhoe rubiginalis Hb.</td>\n",
       "      <td>Ecpyrrhorrhoe rubiginalis</td>\n",
       "      <td>99</td>\n",
       "      <td>ACCEPTED</td>\n",
       "      <td>EXACT</td>\n",
       "      <td>SPECIES</td>\n",
       "      <td>denmark_Dec2022</td>\n",
       "      <td>-1.0</td>\n",
       "      <td>-1</td>\n",
       "      <td>-1</td>\n",
       "    </tr>\n",
       "    <tr>\n",
       "      <th>3021</th>\n",
       "      <td>1890699</td>\n",
       "      <td>Lepidoptera</td>\n",
       "      <td>Crambidae</td>\n",
       "      <td>Pyrausta</td>\n",
       "      <td>Pyrausta porphyralis D.&amp; S.</td>\n",
       "      <td>Pyrausta porphyralis</td>\n",
       "      <td>98</td>\n",
       "      <td>ACCEPTED</td>\n",
       "      <td>EXACT</td>\n",
       "      <td>SPECIES</td>\n",
       "      <td>denmark_Dec2022</td>\n",
       "      <td>-1.0</td>\n",
       "      <td>-1</td>\n",
       "      <td>-1</td>\n",
       "    </tr>\n",
       "    <tr>\n",
       "      <th>3022</th>\n",
       "      <td>1886320</td>\n",
       "      <td>Lepidoptera</td>\n",
       "      <td>Crambidae</td>\n",
       "      <td>Ostrinia</td>\n",
       "      <td>Ostrinia palustralis Hb.</td>\n",
       "      <td>Ostrinia palustralis</td>\n",
       "      <td>99</td>\n",
       "      <td>ACCEPTED</td>\n",
       "      <td>EXACT</td>\n",
       "      <td>SPECIES</td>\n",
       "      <td>denmark_Dec2022</td>\n",
       "      <td>-1.0</td>\n",
       "      <td>-1</td>\n",
       "      <td>-1</td>\n",
       "    </tr>\n",
       "  </tbody>\n",
       "</table>\n",
       "<p>3023 rows × 14 columns</p>\n",
       "</div>"
      ],
      "text/plain": [
       "     accepted_taxon_key   order_name    family_name     genus_name  \\\n",
       "0               1845962  Lepidoptera  Autostichidae      Oegoconia   \n",
       "1              10055273  Lepidoptera       Tineidae      Oinophila   \n",
       "2               1742185  Lepidoptera    Tortricidae    Olethreutes   \n",
       "3               1741545  Lepidoptera    Tortricidae        Olindia   \n",
       "4               1875120  Lepidoptera      Pyralidae       Oncocera   \n",
       "...                 ...          ...            ...            ...   \n",
       "3018            4532050  Lepidoptera      Crambidae           Udea   \n",
       "3019            1882158  Lepidoptera      Crambidae      Loxostege   \n",
       "3020            1892242  Lepidoptera      Crambidae  Ecpyrrhorrhoe   \n",
       "3021            1890699  Lepidoptera      Crambidae       Pyrausta   \n",
       "3022            1886320  Lepidoptera      Crambidae       Ostrinia   \n",
       "\n",
       "                search_species_name          gbif_species_name confidence  \\\n",
       "0            Oegoconia quadripuncta     Oegoconia quadripuncta         99   \n",
       "1                 Oinophila v-flava          Oinophila v-flava         99   \n",
       "2              Olethreutes arcuella       Olethreutes arcuella         99   \n",
       "3             Olindia schumacherana      Olindia schumacherana         99   \n",
       "4              Oncocera semirubella       Oncocera semirubella         99   \n",
       "...                             ...                        ...        ...   \n",
       "3018            Udea hamalis Thnbg.               Udea hamalis         99   \n",
       "3019       Loxostege turbidalis Tr.       Loxostege turbidalis         99   \n",
       "3020  Ecpyrrhorrhoe rubiginalis Hb.  Ecpyrrhorrhoe rubiginalis         99   \n",
       "3021    Pyrausta porphyralis D.& S.       Pyrausta porphyralis         98   \n",
       "3022       Ostrinia palustralis Hb.       Ostrinia palustralis         99   \n",
       "\n",
       "        status match_type     rank                          source  accuracy  \\\n",
       "0     ACCEPTED      EXACT  SPECIES  uksi_09May2022 denmark_Dec2022      -1.0   \n",
       "1     ACCEPTED      EXACT  SPECIES                  uksi_09May2022      -1.0   \n",
       "2     ACCEPTED      EXACT  SPECIES  uksi_09May2022 denmark_Dec2022       0.0   \n",
       "3     ACCEPTED      EXACT  SPECIES  uksi_09May2022 denmark_Dec2022      -1.0   \n",
       "4     ACCEPTED      EXACT  SPECIES  uksi_09May2022 denmark_Dec2022      -1.0   \n",
       "...        ...        ...      ...                             ...       ...   \n",
       "3018  ACCEPTED      EXACT  SPECIES                 denmark_Dec2022      -1.0   \n",
       "3019  ACCEPTED      EXACT  SPECIES                 denmark_Dec2022      -1.0   \n",
       "3020  ACCEPTED      EXACT  SPECIES                 denmark_Dec2022      -1.0   \n",
       "3021  ACCEPTED      EXACT  SPECIES                 denmark_Dec2022      -1.0   \n",
       "3022  ACCEPTED      EXACT  SPECIES                 denmark_Dec2022      -1.0   \n",
       "\n",
       "     num_of_train_images num_of_test_images  \n",
       "0                     -1                 -1  \n",
       "1                     -1                 -1  \n",
       "2                      5                  1  \n",
       "3                     -1                 -1  \n",
       "4                     -1                 -1  \n",
       "...                  ...                ...  \n",
       "3018                  -1                 -1  \n",
       "3019                  -1                 -1  \n",
       "3020                  -1                 -1  \n",
       "3021                  -1                 -1  \n",
       "3022                  -1                 -1  \n",
       "\n",
       "[3023 rows x 14 columns]"
      ]
     },
     "execution_count": 7,
     "metadata": {},
     "output_type": "execute_result"
    }
   ],
   "source": [
    "species_checklist_w_accuracy"
   ]
  },
  {
   "cell_type": "code",
   "execution_count": null,
   "metadata": {},
   "outputs": [],
   "source": []
  }
 ],
 "metadata": {
  "kernelspec": {
   "display_name": "Python 3 (milamoth_ai)",
   "language": "python",
   "name": "milamoth_ai"
  }
 },
 "nbformat": 4,
 "nbformat_minor": 4
}
