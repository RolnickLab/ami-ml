{
 "cells": [
  {
   "cell_type": "code",
   "execution_count": 1,
   "metadata": {},
   "outputs": [],
   "source": [
    "\"\"\"\n",
    "Author: Aditya Jain\n",
    "Date  : March 8th, 2023\n",
    "About : This script fixes the type entries in world datacount file\n",
    "\"\"\"\n",
    "\n",
    "import pandas as pd\n",
    "import math"
   ]
  },
  {
   "cell_type": "code",
   "execution_count": 4,
   "metadata": {},
   "outputs": [],
   "source": [
    "filepath = '/home/mila/a/aditya.jain/scratch/GBIF_Data/moths_world/data_statistics.csv'\n",
    "\n",
    "df = pd.read_csv(filepath, dtype=object)\n",
    "\n",
    "for idx, row in df.iterrows():\n",
    "\n",
    "    # taxon key\n",
    "#     df.iloc[idx, 0] = int(df.iloc[idx, 0])\n",
    "\n",
    "    # family name\n",
    "    if pd.isna(df.iloc[idx, 1]):\n",
    "        df.iloc[idx, 1] = \"NotAvail\"\n",
    "\n",
    "    # family name\n",
    "    if pd.isna(df.iloc[idx, 1]):\n",
    "        df.iloc[idx, 1] = \"NotAvail\"\n",
    "\n",
    "    # genus name\n",
    "    if pd.isna(df.iloc[idx, 2]):\n",
    "        df.iloc[idx, 2] = \"NotAvail\"\n",
    "\n",
    "    # gbif species name\n",
    "    if pd.isna(df.iloc[idx, 4]):\n",
    "        df.iloc[idx, 4] = \"NotAvail\"\n",
    "\n",
    "    # total occurence count\n",
    "    if pd.isna(df.iloc[idx, -1]):\n",
    "        df.iloc[idx, -1] = int(-1)\n",
    "    else:\n",
    "        df.iloc[idx, -1] = int(float(df.iloc[idx, -1]))\n",
    "\n",
    "    # image count\n",
    "    if pd.isna(df.iloc[idx, -2]):\n",
    "        df.iloc[idx, -2] = int(-1)\n",
    "    else:\n",
    "        df.iloc[idx, -2] = int(float(df.iloc[idx, -2]))   "
   ]
  },
  {
   "cell_type": "code",
   "execution_count": 5,
   "metadata": {},
   "outputs": [],
   "source": [
    "df.to_csv('/home/mila/a/aditya.jain/scratch/GBIF_Data/moths_world/data_statistics_test.csv', index=False)"
   ]
  },
  {
   "cell_type": "code",
   "execution_count": null,
   "metadata": {},
   "outputs": [],
   "source": []
  }
 ],
 "metadata": {
  "kernelspec": {
   "display_name": "Python 3 (milamoth_ai)",
   "language": "python",
   "name": "milamoth_ai"
  },
  "language_info": {
   "codemirror_mode": {
    "name": "ipython",
    "version": 3
   },
   "file_extension": ".py",
   "mimetype": "text/x-python",
   "name": "python",
   "nbconvert_exporter": "python",
   "pygments_lexer": "ipython3",
   "version": "3.9.13"
  }
 },
 "nbformat": 4,
 "nbformat_minor": 4
}
