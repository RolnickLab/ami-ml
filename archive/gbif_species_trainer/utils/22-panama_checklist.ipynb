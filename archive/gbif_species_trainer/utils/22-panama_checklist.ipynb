{
 "cells": [
  {
   "cell_type": "code",
   "execution_count": 20,
   "metadata": {},
   "outputs": [],
   "source": [
    "\"\"\"\n",
    "Author: Aditya Jain\n",
    "Date  : January 11, 2023\n",
    "About : This script tries to find statistics for the panama moth checklist\n",
    "\"\"\"\n",
    "\n",
    "import os\n",
    "import pandas as pd\n",
    "\n",
    "panama_checklist = '/home/mila/a/aditya.jain/mothAI/species_lists/Barro-Colorado-Island_Moth-List_11January2023.csv'\n",
    "data_df          = pd.read_csv(panama_checklist)"
   ]
  },
  {
   "cell_type": "markdown",
   "metadata": {},
   "source": [
    "#### Count number of not-found species"
   ]
  },
  {
   "cell_type": "code",
   "execution_count": 11,
   "metadata": {},
   "outputs": [
    {
     "name": "stdout",
     "output_type": "stream",
     "text": [
      "Total species are 163, out of which, 14 are not found\n"
     ]
    }
   ],
   "source": [
    "total     = 0\n",
    "not_found = 0\n",
    "\n",
    "for _, row in data_df.iterrows():\n",
    "    if row['taxon_key_gbif_id']==-1:\n",
    "        not_found += 1        \n",
    "    total += 1\n",
    "    \n",
    "print(f'Total species are {total}, out of which, {not_found} are not found')"
   ]
  },
  {
   "cell_type": "markdown",
   "metadata": {},
   "source": [
    "#### Check species presence in other checklists"
   ]
  },
  {
   "cell_type": "code",
   "execution_count": 18,
   "metadata": {},
   "outputs": [],
   "source": [
    "queb_ver_checklist = '/home/mila/a/aditya.jain/mothAI/species_lists/Quebec-Vermont_Moth-List_22July2022.csv'\n",
    "uk_den_checklist   = '/home/mila/a/aditya.jain/mothAI/species_lists/UK-Denmark-Moth-List_11July2022.csv'\n",
    "\n",
    "queb_ver_data = pd.read_csv(queb_ver_checklist)\n",
    "uk_den_data   = pd.read_csv(uk_den_checklist)\n",
    "\n",
    "queb_ver_species = list(queb_ver_data.loc[:, 'gbif_species_name'])\n",
    "uk_den_species   = list(uk_den_data.loc[:, 'gbif_species_name'])"
   ]
  },
  {
   "cell_type": "code",
   "execution_count": 22,
   "metadata": {},
   "outputs": [
    {
     "name": "stdout",
     "output_type": "stream",
     "text": [
      "Parapoynx diminutalis species is already present\n",
      "Menesta tortriciformella species is already present\n",
      "Antichloris viridis species is already present\n",
      "Diphthera festiva species is already present\n",
      "Eacles imperialis species is already present\n",
      "Eumorpha fasciatus species is already present\n",
      "Eumorpha satellitia species is already present\n",
      "Hyles lineata species is already present\n",
      "Manduca rustica species is already present\n",
      "Manduca sexta species is already present\n",
      "The number of already existing species are 10\n"
     ]
    }
   ],
   "source": [
    "species_found = 0\n",
    "\n",
    "for _, row in data_df.iterrows():\n",
    "    if row['gbif_species_name'] in queb_ver_species or row['gbif_species_name'] in uk_den_species:\n",
    "        species_name = row['gbif_species_name']\n",
    "        print(f'{species_name} species is already present')\n",
    "        species_found += 1\n",
    "            \n",
    "print(f'The number of already existing species are {species_found}')"
   ]
  },
  {
   "cell_type": "code",
   "execution_count": null,
   "metadata": {},
   "outputs": [],
   "source": []
  }
 ],
 "metadata": {
  "kernelspec": {
   "display_name": "Python 3 (milamoth_ai)",
   "language": "python",
   "name": "milamoth_ai"
  },
  "language_info": {
   "codemirror_mode": {
    "name": "ipython",
    "version": 3
   },
   "file_extension": ".py",
   "mimetype": "text/x-python",
   "name": "python",
   "nbconvert_exporter": "python",
   "pygments_lexer": "ipython3",
   "version": "3.9.13"
  }
 },
 "nbformat": 4,
 "nbformat_minor": 4
}
