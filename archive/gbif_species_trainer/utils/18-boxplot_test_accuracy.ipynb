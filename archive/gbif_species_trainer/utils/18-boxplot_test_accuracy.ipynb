{
 "cells": [
  {
   "cell_type": "code",
   "execution_count": 32,
   "metadata": {},
   "outputs": [],
   "source": [
    "\"\"\"\n",
    "Author        : Aditya Jain\n",
    "Date Started  : September 15, 2022\n",
    "About         : Builds box plots test accuracy for binned training images\n",
    "\"\"\"\n",
    "import json\n",
    "import plotly.express as px\n",
    "import pandas as pd\n",
    "\n",
    "test_accuracy_file  = '/home/mila/a/aditya.jain/logs/uk-denmark-moth-model_v01_taxon-accuracy.json'\n",
    "train_points_file   = '/home/mila/a/aditya.jain/gbif_species_trainer/model_training/data/uk-denmark_count_training_points.json'"
   ]
  },
  {
   "cell_type": "code",
   "execution_count": 33,
   "metadata": {},
   "outputs": [],
   "source": [
    "with open(test_accuracy_file, 'r') as f:\n",
    "    test_acc_data = json.load(f)\n",
    "test_acc_data = test_acc_data['species']    \n",
    "\n",
    "with open(train_points_file, 'r') as f:\n",
    "    train_pts_data = json.load(f)\n",
    "train_pts_data = train_pts_data['species']"
   ]
  },
  {
   "cell_type": "code",
   "execution_count": 34,
   "metadata": {},
   "outputs": [
    {
     "name": "stdout",
     "output_type": "stream",
     "text": [
      "1053\n"
     ]
    }
   ],
   "source": [
    "test_acc_data_list  = []\n",
    "train_pts_data_list = []\n",
    "\n",
    "for species in test_acc_data:\n",
    "    test_acc_data_list.append(test_acc_data[species][0])\n",
    "    \n",
    "    # adding training points according to bins\n",
    "    if train_pts_data[species]<5:        \n",
    "        train_pts_data_list.append('0-4')\n",
    "    elif train_pts_data[species]>=5 and train_pts_data[species]<10:        \n",
    "        train_pts_data_list.append('5-9')\n",
    "    elif train_pts_data[species]>=10 and train_pts_data[species]<20:        \n",
    "        train_pts_data_list.append('10-19')\n",
    "    elif train_pts_data[species]>=20 and train_pts_data[species]<50:        \n",
    "        train_pts_data_list.append('20-49')\n",
    "    elif train_pts_data[species]>=50 and train_pts_data[species]<100:        \n",
    "        train_pts_data_list.append('50-99')\n",
    "    elif train_pts_data[species]>=100 and train_pts_data[species]<200:        \n",
    "        train_pts_data_list.append('100-199')\n",
    "    elif train_pts_data[species]>=200 and train_pts_data[species]<500:        \n",
    "        train_pts_data_list.append('200-499')\n",
    "    elif train_pts_data[species]>=500 and train_pts_data[species]<=1000:        \n",
    "        train_pts_data_list.append('500-1K')\n",
    "    else:\n",
    "        train_pts_data_list.append('1K+')\n",
    "\n",
    "df = pd.DataFrame(list(zip(test_acc_data_list, train_pts_data_list)),\n",
    "               columns =['Test Accuracy', 'Binned Number of Training Images'])\n",
    "\n",
    "fig = px.box(df, x=\"Binned Number of Training Images\", y=\"Test Accuracy\", \\\n",
    "             title=\"UK-Denmark Model Accuracy (EfficientNet-V2B3)\",\\\n",
    "             category_orders={\"Binned Number of Training Images\": [\"0-4\", \"5-9\", \"10-19\", \"20-49\", \"50-99\", \"100-199\", \"200-499\", \"500-1K\", \"1K+\"]})\n",
    "\n",
    "bins = df['Binned Number of Training Images'].unique()\n",
    "for bin_var in bins:\n",
    "    fig.add_annotation(x=bin_var,\n",
    "                       y = df[df['Binned Number of Training Images']==bin_var]['Test Accuracy'].max(),\n",
    "                       text = str(len(df[df['Binned Number of Training Images']==bin_var]['Binned Number of Training Images'])),\n",
    "                       yshift = 10,\n",
    "                       showarrow = False\n",
    "                      )\n",
    "\n",
    "fig.write_image(\"UK-Denmark_boxplot_binned_test_accuracy.png\")"
   ]
  }
 ],
 "metadata": {
  "kernelspec": {
   "display_name": "Python 3 (milamoth)",
   "language": "python",
   "name": "milamoth"
  },
  "language_info": {
   "codemirror_mode": {
    "name": "ipython",
    "version": 3
   },
   "file_extension": ".py",
   "mimetype": "text/x-python",
   "name": "python",
   "nbconvert_exporter": "python",
   "pygments_lexer": "ipython3",
   "version": "3.7.10"
  }
 },
 "nbformat": 4,
 "nbformat_minor": 4
}
