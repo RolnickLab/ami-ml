{
 "cells": [
  {
   "cell_type": "code",
   "execution_count": 1,
   "metadata": {},
   "outputs": [],
   "source": [
    "'''\n",
    "Author       : Aditya Jain\n",
    "Date Started : 18th August, 2021\n",
    "About        : This file does DL-based localization by directly reading video and outputing final video\n",
    "'''\n",
    "import torch\n",
    "import torchvision.models as torchmodels\n",
    "import torchvision\n",
    "import os\n",
    "from torchvision.models.detection.faster_rcnn import FastRCNNPredictor\n",
    "from torchvision import transforms\n",
    "from PIL import Image\n",
    "import cv2"
   ]
  },
  {
   "cell_type": "code",
   "execution_count": 23,
   "metadata": {},
   "outputs": [],
   "source": [
    "from azureml.core import Workspace\n",
    "from azureml.core.model import Model\n",
    "\n",
    "ws = Workspace.get(name='MothAI',\n",
    "                     subscription_id='1e5f7432-8004-48f7-a32d-668eee0f349e',\n",
    "                     resource_group='MothProject'\n",
    "                     )                    "
   ]
  },
  {
   "cell_type": "code",
   "execution_count": 24,
   "metadata": {},
   "outputs": [],
   "source": [
    "\n",
    "\n",
    "model = Model(ws, 'DL_Localization_Model')"
   ]
  },
  {
   "cell_type": "code",
   "execution_count": 25,
   "metadata": {},
   "outputs": [
    {
     "data": {
      "text/plain": [
       "Model(workspace=Workspace.create(name='MothAI', subscription_id='1e5f7432-8004-48f7-a32d-668eee0f349e', resource_group='MothProject'), name=DL_Localization_Model, id=DL_Localization_Model:1, version=1, tags={}, properties={})"
      ]
     },
     "execution_count": 25,
     "metadata": {},
     "output_type": "execute_result"
    }
   ],
   "source": [
    "model"
   ]
  },
  {
   "cell_type": "markdown",
   "metadata": {},
   "source": [
    "#### Model Loading"
   ]
  },
  {
   "cell_type": "code",
   "execution_count": null,
   "metadata": {},
   "outputs": [],
   "source": [
    "# Get cpu or gpu device for training.\n",
    "device = \"cuda\" if torch.cuda.is_available() else \"cpu\"\n",
    "print(device)\n",
    "\n",
    "# load a model pre-trained pre-trained on COCO\n",
    "model       = torchvision.models.detection.fasterrcnn_resnet50_fpn(pretrained=True)\n",
    "num_classes = 2  # 1 class (person) + background\n",
    "in_features = model.roi_heads.box_predictor.cls_score.in_features\n",
    "model.roi_heads.box_predictor = FastRCNNPredictor(in_features, num_classes)\n",
    "\n",
    "\n",
    "MODEL_PATH  = '/home/mila/a/aditya.jain/logs/v1_localizmodel_2021-08-17-12-06.pt'\n",
    "checkpoint  = torch.load(MODEL_PATH, map_location=device)\n",
    "model.load_state_dict(checkpoint['model_state_dict'])"
   ]
  },
  {
   "cell_type": "code",
   "execution_count": 29,
   "metadata": {},
   "outputs": [],
   "source": [
    "model       = model.to(device)\n",
    "model.eval()\n",
    "\n",
    "DATA_PATH  = '/miniscratch/transit_datasets/restricted/inat_users/Localization/dl_test/orig_resized_images/'\n",
    "SAVE_PATH  = '/miniscratch/transit_datasets/restricted/inat_users/Localization/dl_test/dl_bbox/'\n",
    "SCORE_THR  = 0.99\n",
    "image_list = os.listdir(DATA_PATH)\n",
    "\n",
    "transform  = transforms.Compose([              \n",
    "            transforms.ToTensor()])\n",
    "\n",
    "for img in image_list:\n",
    "    image_path = DATA_PATH + img\n",
    "    image      = transform(Image.open(image_path))\n",
    "    image_pred = torch.unsqueeze(image, 0).to(device)\n",
    "    output     = model(image_pred)\n",
    "    \n",
    "    bboxes     = output[0]['boxes'][output[0]['scores'] > SCORE_THR]\n",
    "    image_cv   = cv2.imread(image_path)\n",
    "    \n",
    "    for box in bboxes:\n",
    "        box_numpy = box.detach().cpu().numpy()        \n",
    "        cv2.rectangle(image_cv,(box_numpy[0], box_numpy[1]),(box_numpy[2], box_numpy[3]),(0,0,255),3)\n",
    "     \n",
    "    cv2.imwrite(SAVE_PATH + img, image_cv)    "
   ]
  },
  {
   "cell_type": "code",
   "execution_count": null,
   "metadata": {},
   "outputs": [],
   "source": []
  }
 ],
 "metadata": {
  "kernel_info": {
   "name": "newenv"
  },
  "kernelspec": {
   "display_name": "milamoth",
   "language": "python",
   "name": "newenv"
  },
  "language_info": {
   "codemirror_mode": {
    "name": "ipython",
    "version": 3
   },
   "file_extension": ".py",
   "mimetype": "text/x-python",
   "name": "python",
   "nbconvert_exporter": "python",
   "pygments_lexer": "ipython3",
   "version": "3.7.10"
  },
  "nteract": {
   "version": "nteract-front-end@1.0.0"
  }
 },
 "nbformat": 4,
 "nbformat_minor": 4
}
