{
 "cells": [
  {
   "cell_type": "code",
   "execution_count": 4,
   "metadata": {},
   "outputs": [],
   "source": [
    "'''\n",
    "Author: Aditya Jain\n",
    "Date  : 5th May, 2021\n",
    "About : This script counts the no. of species, genuses and families in a dataset\n",
    "'''\n",
    "import os\n",
    "\n",
    "DATA_DIR = '/miniscratch/adityajain'"
   ]
  },
  {
   "cell_type": "code",
   "execution_count": 5,
   "metadata": {},
   "outputs": [],
   "source": [
    "family_list  = []\n",
    "genus_list   = []\n",
    "species_list = []\n",
    "\n",
    "for family in os.listdir(DATA_DIR):\n",
    "    family_list.append(family)\n",
    "    \n",
    "    for genus in os.listdir(DATA_DIR + '/' + family):\n",
    "        genus_list.append(genus)\n",
    "        \n",
    "        for species in os.listdir(DATA_DIR + '/' + family + '/' + genus):\n",
    "            species_list.append(species)"
   ]
  },
  {
   "cell_type": "code",
   "execution_count": 6,
   "metadata": {},
   "outputs": [
    {
     "name": "stdout",
     "output_type": "stream",
     "text": [
      "['Bombycidae', 'Apatelodidae', 'Hepialidae', 'Cossidae']\n",
      "['Bombyx', 'Olceclostera', 'Apatelodes', 'Gazoryctra', 'Pharmacis', 'Sthenopis', 'Hepialus', 'Prionoxystus', 'Zeuzera', 'Acossus']\n",
      "15 ['Bombyx mori', 'Olceclostera angelica', 'Apatelodes torrefacta', 'Gazoryctra hyperboreus', 'Korscheltellus gracilis', 'Korscheltellus lupulinus', 'Sthenopis thule', 'Sthenopis purpurascens', 'Sthenopis argenteomaculatus', 'Hepialus novigannus', 'Prionoxystus robiniae', 'Prionoxystus macmurtrei', 'Zeuzera pyrina', 'Acossus populi', 'Acossus centerensis']\n"
     ]
    }
   ],
   "source": [
    "print(family_list)\n",
    "print(genus_list)\n",
    "print(len(species_list), species_list)"
   ]
  },
  {
   "cell_type": "code",
   "execution_count": null,
   "metadata": {},
   "outputs": [],
   "source": []
  }
 ],
 "metadata": {
  "kernelspec": {
   "display_name": "Python 3 (milamoth)",
   "language": "python",
   "name": "milamoth"
  },
  "language_info": {
   "codemirror_mode": {
    "name": "ipython",
    "version": 3
   },
   "file_extension": ".py",
   "mimetype": "text/x-python",
   "name": "python",
   "nbconvert_exporter": "python",
   "pygments_lexer": "ipython3",
   "version": "3.7.10"
  }
 },
 "nbformat": 4,
 "nbformat_minor": 4
}
