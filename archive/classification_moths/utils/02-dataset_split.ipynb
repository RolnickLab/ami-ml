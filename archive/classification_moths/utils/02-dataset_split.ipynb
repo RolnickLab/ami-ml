{
 "cells": [
  {
   "cell_type": "code",
   "execution_count": 1,
   "metadata": {},
   "outputs": [],
   "source": [
    "\"\"\"\n",
    "Author        : Aditya Jain\n",
    "Date Started  : 7th May, 2021\n",
    "About         : Division of dataset into train, validation and test sets\n",
    "\"\"\"\n",
    "import os\n",
    "import glob\n",
    "import random\n",
    "import pandas as pd\n",
    "\n",
    "data_dir    = '/home/mila/a/aditya.jain/scratch/GBIF_Data/moths_uk/'            # root directory of data\n",
    "write_dir   = '/home/mila/a/aditya.jain/mothAI/classification_moths/data/'      # split files to be written\n",
    "train_spt   = 0.75                                                              # train set ratio\n",
    "val_spt     = 0.10                                                              # validation set ration\n",
    "test_spt    = 0.15                                                              # test set ratio\n",
    "\n",
    "# family_list = ['Apatelodidae', 'Bombycidae', 'Cossidae',\n",
    "#                'Drepanidae', 'Erebidae', 'Geometridae', 'Hepialidae',\n",
    "#                'Lasiocampidae', 'Limacodidae', 'Notodontidae', 'Noctuidae', 'Nolidae',\n",
    "#                'Saturniidae', 'Sesiidae', 'Sphingidae', 'Uraniidae', 'Zygaenidae']"
   ]
  },
  {
   "cell_type": "code",
   "execution_count": 2,
   "metadata": {},
   "outputs": [],
   "source": [
    "def prepare_split_list(global_pd, new_list, fields):\n",
    "    \"\"\"\n",
    "    prepares a global csv list for every type of data split\n",
    "    \n",
    "    Args:\n",
    "        global_pd: a global list into which new entries will be appended\n",
    "        new_list : list of new entries to be appended to global list   \n",
    "        fields   : contains the column names\n",
    "    \"\"\"\n",
    "    new_data = []\n",
    "    \n",
    "    for path in new_list:\n",
    "        path_split = path.split('/')\n",
    "        \n",
    "        filename   = path_split[-1]\n",
    "        species    = path_split[-2]\n",
    "        genus      = path_split[-3]\n",
    "        family     = path_split[-4]\n",
    "        \n",
    "        new_data.append([filename, family, genus, species])\n",
    "        \n",
    "    new_data  = pd.DataFrame(new_data, columns=fields)    \n",
    "    global_pd = global_pd.append(new_data, ignore_index=True)\n",
    "    \n",
    "    return global_pd        "
   ]
  },
  {
   "cell_type": "code",
   "execution_count": 3,
   "metadata": {},
   "outputs": [],
   "source": [
    "fields     = ['filename', 'family', 'genus', 'species']\n",
    "train_data = pd.DataFrame(columns = fields)\n",
    "val_data   = pd.DataFrame(columns = fields)\n",
    "test_data  = pd.DataFrame(columns = fields)\n",
    "\n",
    "# for family in family_list:            # if you want to sample particular families in the dataset\n",
    "for family in os.listdir(data_dir):\n",
    "    if os.path.isdir(data_dir + '/' + family):\n",
    "        \n",
    "        for genus in os.listdir(data_dir + family):\n",
    "            if os.path.isdir(data_dir + '/' + family + '/' + genus):\n",
    "                \n",
    "                for species in os.listdir(data_dir + family + '/' + genus):\n",
    "                    if os.path.isdir(data_dir + '/' + family + '/' + genus + '/' + species):\n",
    "            \n",
    "                        file_data  = glob.glob(data_dir + family + '/' + genus + '/' + species + '/*.jpg')\n",
    "                        random.shuffle(file_data)\n",
    "            \n",
    "                        total      = len(file_data)\n",
    "                        train_amt  = round(total*train_spt)\n",
    "                        val_amt    = round(total*val_spt)            \n",
    "             \n",
    "                        train_list = file_data[:train_amt]\n",
    "                        val_list   = file_data[train_amt:train_amt+val_amt]\n",
    "                        test_list  = file_data[train_amt+val_amt:]\n",
    "        #             print(species, ' ', len(train_list), len(val_list), len(test_list))\n",
    "            \n",
    "                        train_data = prepare_split_list(train_data, train_list, fields)\n",
    "                        val_data   = prepare_split_list(val_data, val_list, fields)\n",
    "                        test_data  = prepare_split_list(test_data, test_list, fields)\n",
    "            "
   ]
  },
  {
   "cell_type": "code",
   "execution_count": 4,
   "metadata": {},
   "outputs": [
    {
     "name": "stdout",
     "output_type": "stream",
     "text": [
      "Training data size:  240114\n",
      "Validation data size:  32007\n",
      "Testing data size:  48009\n",
      "Total images:  320130\n"
     ]
    }
   ],
   "source": [
    "# saving the lists to disk\n",
    "train_data.to_csv(write_dir + '01-uk-train-split.csv', index=False)\n",
    "val_data.to_csv(write_dir + '01-uk-val-split.csv', index=False)\n",
    "test_data.to_csv(write_dir + '01-uk-test-split.csv', index=False)\n",
    "\n",
    "print('Training data size: ', len(train_data))\n",
    "print('Validation data size: ', len(val_data))\n",
    "print('Testing data size: ', len(test_data))\n",
    "\n",
    "print('Total images: ', len(train_data)+len(val_data)+len(test_data))"
   ]
  },
  {
   "cell_type": "code",
   "execution_count": 5,
   "metadata": {},
   "outputs": [
    {
     "name": "stdout",
     "output_type": "stream",
     "text": [
      "240114\n",
      "240114\n"
     ]
    }
   ],
   "source": [
    "# unique entry test\n",
    "filelist = list(train_data['filename'])\n",
    "print(len(filelist))\n",
    "filelist = set(filelist)\n",
    "print(len(filelist))"
   ]
  },
  {
   "cell_type": "code",
   "execution_count": null,
   "metadata": {},
   "outputs": [],
   "source": []
  }
 ],
 "metadata": {
  "kernelspec": {
   "display_name": "Python 3",
   "language": "python",
   "name": "python3"
  },
  "language_info": {
   "codemirror_mode": {
    "name": "ipython",
    "version": 3
   },
   "file_extension": ".py",
   "mimetype": "text/x-python",
   "name": "python",
   "nbconvert_exporter": "python",
   "pygments_lexer": "ipython3",
   "version": "3.7.4"
  }
 },
 "nbformat": 4,
 "nbformat_minor": 4
}
