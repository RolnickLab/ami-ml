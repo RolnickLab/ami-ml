{
 "cells": [
  {
   "cell_type": "code",
   "execution_count": 1,
   "metadata": {},
   "outputs": [],
   "source": [
    "\"\"\"\n",
    "Author       : Aditya Jain\n",
    "Date Started : 18th May, 2021\n",
    "About        : This script saves the taxon hierarchy for each species\n",
    "\"\"\"\n",
    "\n",
    "import pandas as pd\n",
    "import json\n",
    "\n",
    "data_list   = '/home/mila/a/aditya.jain/mothAI/UK-MacroMoth-List_09May2022.csv'\n",
    "write_dir   = '/home/mila/a/aditya.jain/mothAI/classification_moths/data/'"
   ]
  },
  {
   "cell_type": "code",
   "execution_count": 2,
   "metadata": {},
   "outputs": [],
   "source": [
    "data                 = pd.read_csv(data_list, keep_default_na=False)\n",
    "taxon_hierar         = {}\n",
    "taxon_hierar['Note'] = 'The 0th index is genus and 1st index is family'\n",
    "\n",
    "for indx in data.index:\n",
    "    if data['gbif_species_name'][indx] not in taxon_hierar.keys() and data['gbif_species_name'][indx]!='NA':\n",
    "        taxon_hierar[data['gbif_species_name'][indx]] = [data['genus_name'][indx], data['family_name'][indx]]\n",
    "        \n",
    "with open(write_dir + 'uk_taxon_hierarchy.json', 'w') as outfile:\n",
    "    json.dump(taxon_hierar, outfile)"
   ]
  }
 ],
 "metadata": {
  "kernelspec": {
   "display_name": "Python 3",
   "language": "python",
   "name": "python3"
  },
  "language_info": {
   "codemirror_mode": {
    "name": "ipython",
    "version": 3
   },
   "file_extension": ".py",
   "mimetype": "text/x-python",
   "name": "python",
   "nbconvert_exporter": "python",
   "pygments_lexer": "ipython3",
   "version": "3.7.4"
  }
 },
 "nbformat": 4,
 "nbformat_minor": 4
}
