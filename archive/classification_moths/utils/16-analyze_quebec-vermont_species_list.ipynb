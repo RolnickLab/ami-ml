{
 "cells": [
  {
   "cell_type": "code",
   "execution_count": 8,
   "metadata": {},
   "outputs": [],
   "source": [
    "\"\"\"\n",
    "Author        : Aditya Jain\n",
    "Date Started  : July 26, 2022\n",
    "About         : Script for analyzing issues with species list\n",
    "\"\"\"\n",
    "import os\n",
    "import glob\n",
    "import pandas as pd\n",
    "\n",
    "species_list      = '/home/mila/a/aditya.jain/mothAI/species_lists/Quebec-Vermont_Moth-List_22July2022.csv'\n",
    "species_data      = pd.read_csv(species_list, index_col=False)\n",
    "data_file         = '/home/mila/a/aditya.jain/scratch/GBIF_Data/moths_quebec-vermont/datacount.csv'\n",
    "download_data     = pd.read_csv(data_file, index_col=False)\n",
    "data_dir          = '/home/mila/a/aditya.jain/scratch/GBIF_Data/moths_quebec-vermont/'"
   ]
  },
  {
   "cell_type": "markdown",
   "metadata": {},
   "source": [
    "#### Analyzing original list"
   ]
  },
  {
   "cell_type": "code",
   "execution_count": 2,
   "metadata": {},
   "outputs": [
    {
     "name": "stdout",
     "output_type": "stream",
     "text": [
      "138 species are not found on GBIF\n"
     ]
    }
   ],
   "source": [
    "taxon_key_list = list(species_data['taxon_key_gbif_id'])\n",
    "not_found = 0\n",
    "\n",
    "for i in range(len(taxon_key_list)):\n",
    "    if taxon_key_list[i] in taxon_key_list[i+1:]:\n",
    "        not_found += 1\n",
    "\n",
    "print(f'{not_found} species are not found on GBIF')\n"
   ]
  },
  {
   "cell_type": "code",
   "execution_count": 3,
   "metadata": {},
   "outputs": [
    {
     "name": "stdout",
     "output_type": "stream",
     "text": [
      "Agonopterix nigrinotella\n",
      "Sparganothis unifasciana\n",
      "Epinotia nisella\n",
      "Lithophane lepida\n",
      "Hemipachnobia subporphyrea\n",
      "5 species are duplicate in the list\n"
     ]
    }
   ],
   "source": [
    "species_name_list = list(species_data['gbif_species_name'])\n",
    "duplicate = 0\n",
    "\n",
    "for i in range(len(species_name_list)):\n",
    "    if species_name_list[i] in species_name_list[i+1:] and species_name_list[i]!='-1':\n",
    "        duplicate += 1\n",
    "        print(species_name_list[i])\n",
    "\n",
    "print(f'{duplicate} species are duplicate in the list')"
   ]
  },
  {
   "cell_type": "markdown",
   "metadata": {},
   "source": [
    "#### Comparison with downloaded data"
   ]
  },
  {
   "cell_type": "code",
   "execution_count": 4,
   "metadata": {},
   "outputs": [
    {
     "name": "stdout",
     "output_type": "stream",
     "text": [
      "33 species are not found on GBIF\n"
     ]
    }
   ],
   "source": [
    "taxon_key_list = list(download_data['taxon_key_gbif_id'])\n",
    "not_found = 0\n",
    "\n",
    "for i in range(len(taxon_key_list)):\n",
    "    if taxon_key_list[i]==-1:\n",
    "        not_found += 1\n",
    "\n",
    "print(f'{not_found} species are not found on GBIF')\n"
   ]
  },
  {
   "cell_type": "code",
   "execution_count": 5,
   "metadata": {},
   "outputs": [],
   "source": [
    "species_name_list     = list(species_data['gbif_species_name'])\n",
    "download_species_list = list(download_data['gbif_species_name'])\n",
    "\n",
    "for name in species_name_list:\n",
    "    if name not in download_species_list:\n",
    "        print(name)"
   ]
  },
  {
   "cell_type": "markdown",
   "metadata": {},
   "source": [
    "#### finding folder species that are not found in species list"
   ]
  },
  {
   "cell_type": "code",
   "execution_count": 15,
   "metadata": {},
   "outputs": [
    {
     "name": "stdout",
     "output_type": "stream",
     "text": [
      "Crambidae, Diaphania, Diaphani indica\n"
     ]
    }
   ],
   "source": [
    "for family in os.listdir(data_dir):\n",
    "    if os.path.isdir(data_dir + '/' + family):\n",
    "        \n",
    "        for genus in os.listdir(data_dir + family):\n",
    "            if os.path.isdir(data_dir + '/' + family + '/' + genus):\n",
    "                \n",
    "                for species in os.listdir(data_dir + family + '/' + genus):\n",
    "                    if os.path.isdir(data_dir + '/' + family + '/' + genus + '/' + species):                        \n",
    "                        if species not in species_name_list:\n",
    "                            print(f'{family}, {genus}, {species}')\n"
   ]
  },
  {
   "cell_type": "markdown",
   "metadata": {},
   "source": [
    "aa = list(set(species_data[]))\n",
    "aa.\n",
    "b = '-1'\n",
    "\n",
    "if b in aa:\n",
    "    print('Problem')"
   ]
  },
  {
   "cell_type": "code",
   "execution_count": null,
   "metadata": {},
   "outputs": [],
   "source": []
  }
 ],
 "metadata": {
  "kernelspec": {
   "display_name": "Python 3 (milamoth)",
   "language": "python",
   "name": "milamoth"
  },
  "language_info": {
   "codemirror_mode": {
    "name": "ipython",
    "version": 3
   },
   "file_extension": ".py",
   "mimetype": "text/x-python",
   "name": "python",
   "nbconvert_exporter": "python",
   "pygments_lexer": "ipython3",
   "version": "3.7.10"
  }
 },
 "nbformat": 4,
 "nbformat_minor": 4
}
