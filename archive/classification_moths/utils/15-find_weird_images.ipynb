{
 "cells": [
  {
   "cell_type": "code",
   "execution_count": null,
   "metadata": {},
   "outputs": [],
   "source": [
    "\"\"\"\n",
    "Author        : Aditya Jain\n",
    "Date Started  : June 24, 2022\n",
    "About         : Finds those images that are not resizable\n",
    "\"\"\"\n",
    "import os\n",
    "import glob\n",
    "from PIL import Image\n",
    "from torchvision import transforms, utils\n",
    "import pandas as pd\n",
    "\n",
    "data_dir    = '/home/mila/a/aditya.jain/scratch/GBIF_Data/moths_uk/'    \n",
    "image_resize = 300"
   ]
  },
  {
   "cell_type": "markdown",
   "metadata": {},
   "source": [
    "#### Test 1"
   ]
  },
  {
   "cell_type": "code",
   "execution_count": null,
   "metadata": {},
   "outputs": [],
   "source": [
    "tot_corrupt_img = 0\n",
    "transformer = transforms.Compose([\n",
    "                transforms.Resize((image_resize, image_resize)),              # resize the image to 300x300 \n",
    "                transforms.ToTensor()])\n",
    "\n",
    "for family in os.listdir(data_dir):\n",
    "    if os.path.isdir(data_dir + '/' + family):\n",
    "        \n",
    "        for genus in os.listdir(data_dir + family):\n",
    "            if os.path.isdir(data_dir + '/' + family + '/' + genus):\n",
    "                \n",
    "                for species in os.listdir(data_dir + family + '/' + genus):\n",
    "                    if os.path.isdir(data_dir + '/' + family + '/' + genus + '/' + species):            \n",
    "                        file_data  = glob.glob(data_dir + family + '/' + genus + '/' + species + '/*.jpg')\n",
    "                        \n",
    "                        for filename in file_data:\n",
    "                            try:\n",
    "                                image = Image.open(filename) \n",
    "                                image = transformer(image)\n",
    "                            except:\n",
    "                                print(filename)\n",
    "                                tot_corrupt_img += 1\n",
    "#                                 os.remove(filename)\n",
    "\n",
    "print(f'Total corrupted images are {tot_corrupt_img}')"
   ]
  },
  {
   "cell_type": "markdown",
   "metadata": {},
   "source": [
    "#### Test 2"
   ]
  },
  {
   "cell_type": "code",
   "execution_count": null,
   "metadata": {},
   "outputs": [],
   "source": [
    "file_path      = '/home/mila/a/aditya.jain/mothAI/classification_moths/data/01-uk-train-split.csv'\n",
    "data           = pd.read_csv(file_path, index_col=False)\n",
    "\n",
    "tot_img_issues = 0\n",
    "transformer    = transforms.Compose([\n",
    "                transforms.Resize((image_resize, image_resize)),              # resize the image to 300x300 \n",
    "                transforms.ToTensor()])\n",
    "\n",
    "for indx in data.index:\n",
    "    filename = data_dir + data['family'][indx] + '/' + data['genus'][indx] + \\\n",
    "    '/' + data['species'][indx] + '/' + data['filename'][indx]\n",
    "    \n",
    "    try:\n",
    "        image = Image.open(filename) \n",
    "        image = transformer(image)\n",
    "    except:\n",
    "        print(filename)\n",
    "        tot_img_issues += 1\n",
    "\n",
    "print(f'Total image issues are: {tot_img_issues}')"
   ]
  },
  {
   "cell_type": "code",
   "execution_count": null,
   "metadata": {},
   "outputs": [],
   "source": []
  }
 ],
 "metadata": {
  "kernelspec": {
   "display_name": "Python 3 (milamoth)",
   "language": "python",
   "name": "milamoth"
  },
  "language_info": {
   "codemirror_mode": {
    "name": "ipython",
    "version": 3
   },
   "file_extension": ".py",
   "mimetype": "text/x-python",
   "name": "python",
   "nbconvert_exporter": "python",
   "pygments_lexer": "ipython3",
   "version": "3.7.10"
  }
 },
 "nbformat": 4,
 "nbformat_minor": 4
}
