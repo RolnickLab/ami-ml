{
 "cells": [
  {
   "cell_type": "code",
   "execution_count": 10,
   "metadata": {},
   "outputs": [
    {
     "data": {
      "text/plain": [
       "'\\nAuthor        : Aditya Jain\\nDate Started  : May 5, 2022\\nAbout         : Finds and deletes the corrupted images in the dataset\\n'"
      ]
     },
     "execution_count": 10,
     "metadata": {},
     "output_type": "execute_result"
    }
   ],
   "source": [
    "\"\"\"\n",
    "Author        : Aditya Jain\n",
    "Date Started  : May 5, 2022\n",
    "About         : Finds and deletes the corrupted images in the dataset\n",
    "\"\"\""
   ]
  },
  {
   "cell_type": "code",
   "execution_count": 11,
   "metadata": {},
   "outputs": [],
   "source": [
    "import os\n",
    "import glob\n",
    "import cv2\n",
    "import time"
   ]
  },
  {
   "cell_type": "markdown",
   "metadata": {},
   "source": [
    "#### In moths dataset"
   ]
  },
  {
   "cell_type": "code",
   "execution_count": null,
   "metadata": {},
   "outputs": [],
   "source": [
    "moth_data_dir    = '/home/mila/a/aditya.jain/scratch/GBIF_Data/moths/'\n",
    "total_images     = 0\n",
    "count            = 0\n",
    "s_time           = time.time()\n",
    "\n",
    "for family in os.listdir(moth_data_dir):\n",
    "    if not family.endswith('.csv') and not family.endswith('.ipynb_checkpoints'):\n",
    "        for genus in os.listdir(moth_data_dir + family):        \n",
    "            for species in os.listdir(moth_data_dir + family + '/' + genus):\n",
    "                path       = moth_data_dir + family + '/' + genus + '/' + species\n",
    "                file_data  = glob.glob(path + '/*.jpg')\n",
    "                \n",
    "                for file in file_data:\n",
    "                    total_images += 1\n",
    "                    image      = cv2.imread(file)\n",
    "                    \n",
    "                    if image is None:\n",
    "                        print(file)\n",
    "                        count += 1\n",
    "                        os.remove(file)\n",
    "\n",
    "print('Total images in the moth dataset: ', total_images)                        \n",
    "print('Total corrupted images found in the moth dataset: ', count)\n",
    "print('Time taken (mins): ', (time.time()-s_time)/60)"
   ]
  },
  {
   "cell_type": "markdown",
   "metadata": {},
   "source": [
    "#### In non-moths dataset"
   ]
  },
  {
   "cell_type": "code",
   "execution_count": null,
   "metadata": {},
   "outputs": [],
   "source": [
    "total_images     = 0\n",
    "count            = 0\n",
    "nonmoth_data_dir = '/home/mila/a/aditya.jain/scratch/GBIF_Data/nonmoths/'\n",
    "s_time           = time.time()\n",
    "\n",
    "for order in os.listdir(nonmoth_data_dir):\n",
    "    if not order.endswith('.csv') and not order.endswith('.ipynb_checkpoints'):\n",
    "        \n",
    "        file_data  = glob.glob(nonmoth_data_dir + order + '/*.jpg')\n",
    "        \n",
    "        for file in file_data:\n",
    "            total_images += 1\n",
    "            image      = cv2.imread(file)\n",
    "            \n",
    "            if image is None:\n",
    "                print(file)\n",
    "                count += 1\n",
    "                os.remove(file)\n",
    "\n",
    "print('Total images in the non-moth dataset: ', total_images)                        \n",
    "print('Total corrupted images found in the non-moth dataset: ', count)\n",
    "print('Time taken (mins): ', (time.time()-s_time)/60)"
   ]
  }
 ],
 "metadata": {
  "kernelspec": {
   "display_name": "Python 3 (milamoth)",
   "language": "python",
   "name": "milamoth"
  },
  "language_info": {
   "codemirror_mode": {
    "name": "ipython",
    "version": 3
   },
   "file_extension": ".py",
   "mimetype": "text/x-python",
   "name": "python",
   "nbconvert_exporter": "python",
   "pygments_lexer": "ipython3",
   "version": "3.7.10"
  }
 },
 "nbformat": 4,
 "nbformat_minor": 4
}
