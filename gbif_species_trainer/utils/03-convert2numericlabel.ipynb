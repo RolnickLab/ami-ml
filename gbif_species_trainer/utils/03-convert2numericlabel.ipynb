{
 "cells": [
  {
   "cell_type": "code",
   "execution_count": 18,
   "metadata": {},
   "outputs": [],
   "source": [
    "\"\"\"\n",
    "Author       : Aditya Jain\n",
    "Date Started : 11th May, 2021\n",
    "About        : This script converts string labels (species, genus, family) to numeric labels, saves to json file\n",
    "               The index in the list will be the class label\n",
    "\"\"\"\n",
    "\n",
    "import pandas as pd\n",
    "import json\n",
    "\n",
    "data_list   = '/home/mila/a/aditya.jain/mothAI/UK-MacroMoth-List_09May2022.csv'\n",
    "write_dir   = '/home/mila/a/aditya.jain/mothAI/classification_moths/data/'"
   ]
  },
  {
   "cell_type": "code",
   "execution_count": 19,
   "metadata": {},
   "outputs": [
    {
     "name": "stdout",
     "output_type": "stream",
     "text": [
      "Total families: 18, genuses: 495, species: 992\n"
     ]
    }
   ],
   "source": [
    "data         = pd.read_csv(data_list, keep_default_na=False)\n",
    "\n",
    "species_list = list(set(data['gbif_species_name']))\n",
    "species_list.remove('NA')  # not found species\n",
    "\n",
    "genus_list   = list(set(data['genus_name']))\n",
    "genus_list.remove('NA')  # not found genus\n",
    "\n",
    "family_list  = list(set(data['family_name']))\n",
    "family_list.remove('NA')  # not found family\n",
    "\n",
    "print(f'Total families: {len(family_list)}, genuses: {len(genus_list)}, species: {len(species_list)}')"
   ]
  },
  {
   "cell_type": "code",
   "execution_count": 20,
   "metadata": {},
   "outputs": [],
   "source": [
    "list_data = {}\n",
    "\n",
    "list_data['family_list']  = family_list\n",
    "list_data['genus_list']   = genus_list\n",
    "list_data['species_list'] = species_list\n",
    "list_data['Note']         = 'The integer index in their respective list will be the numeric class label'\n",
    "\n",
    "# print(json.dumps(list_data, indent=3))\n",
    "\n",
    "with open(write_dir + 'uk_numeric_labels.json', 'w') as outfile:\n",
    "    json.dump(list_data, outfile)"
   ]
  },
  {
   "cell_type": "code",
   "execution_count": null,
   "metadata": {},
   "outputs": [],
   "source": []
  }
 ],
 "metadata": {
  "kernelspec": {
   "display_name": "Python 3",
   "language": "python",
   "name": "python3"
  },
  "language_info": {
   "codemirror_mode": {
    "name": "ipython",
    "version": 3
   },
   "file_extension": ".py",
   "mimetype": "text/x-python",
   "name": "python",
   "nbconvert_exporter": "python",
   "pygments_lexer": "ipython3",
   "version": "3.7.4"
  }
 },
 "nbformat": 4,
 "nbformat_minor": 4
}
