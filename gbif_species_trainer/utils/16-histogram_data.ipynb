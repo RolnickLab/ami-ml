{
 "cells": [
  {
   "cell_type": "code",
   "execution_count": 3,
   "metadata": {},
   "outputs": [],
   "source": [
    "\"\"\"\n",
    "Author        : Aditya Jain\n",
    "Date Started  : August 12, 2022\n",
    "About         : Analyze the number of training data points\n",
    "\"\"\"\n",
    "\n",
    "import json\n",
    "import matplotlib.pyplot as plt\n",
    "\n",
    "train_cnt_file    = '/home/mila/a/aditya.jain/gbif_species_trainer/model_training/data/quebec-vermont_count_training_points.json'    \n",
    "# plot_title        = 'Histogram of Training Points: UK-Denmark Model'\n",
    "plot_title        = 'Histogram of Training Points: Quebec-Vermont Model'"
   ]
  },
  {
   "cell_type": "code",
   "execution_count": 4,
   "metadata": {},
   "outputs": [
    {
     "data": {
      "image/png": "[encoded data removed]",
      "text/plain": [
       "<Figure size 432x288 with 1 Axes>"
      ]
     },
     "metadata": {
      "needs_background": "light"
     },
     "output_type": "display_data"
    }
   ],
   "source": [
    "with open(train_cnt_file, 'r') as f:\n",
    "    data_dict = json.load(f)\n",
    "    \n",
    "data_dict   = data_dict['species']\n",
    "species_cnt = [data_dict[key] for key in data_dict.keys()]\n",
    "bins_width  = [x for x in range(0,540,20)]\n",
    "bins_width.append(1000)\n",
    "\n",
    "plt.hist(species_cnt, bins=bins_width)\n",
    "plt.title(plot_title)\n",
    "plt.xlabel('Training points bins (5 bins for every 100)')\n",
    "plt.ylabel('No. of species')\n",
    "plt.savefig(plot_title + '.png')\n",
    "plt.show()"
   ]
  },
  {
   "cell_type": "markdown",
   "metadata": {},
   "source": [
    "#### Save species names with greater than n samples\n",
    "Used for fetching species that have more than a certain number of training samples"
   ]
  },
  {
   "cell_type": "code",
   "execution_count": 20,
   "metadata": {},
   "outputs": [],
   "source": [
    "import json\n",
    "\n",
    "train_cnt_file    = '/home/mila/a/aditya.jain/gbif_species_trainer/model_training/data/uk-denmark_count_training_points.json'\n",
    "num_label_file    = '/home/mila/a/aditya.jain/gbif_species_trainer/model_training/data/uk-denmark_numeric_labels.json' \n",
    "write_file        = '/home/mila/a/aditya.jain/gbif_species_trainer/model_training/data/uk-denmark_overfit_test_species.json'\n"
   ]
  },
  {
   "cell_type": "code",
   "execution_count": 21,
   "metadata": {},
   "outputs": [],
   "source": [
    "with open(train_cnt_file, 'r') as f:\n",
    "    data_dict = json.load(f)\n",
    "    \n",
    "# get the names\n",
    "data_dict     = data_dict['species']\n",
    "n_count       = 60\n",
    "species_names = [key for key in data_dict.keys() if data_dict[key]>=n_count]\n",
    "\n",
    "# get the numeric labels\n",
    "label_list       = json.load(open(num_label_file))\n",
    "species_list     = label_list['species_list']\n",
    "final_label_list = [species_list.index(name) for name in species_names]\n",
    "\n",
    "with open(write_file, 'w') as outfile:\n",
    "    json.dump(final_label_list, outfile)"
   ]
  },
  {
   "cell_type": "code",
   "execution_count": null,
   "metadata": {},
   "outputs": [],
   "source": []
  }
 ],
 "metadata": {
  "kernelspec": {
   "display_name": "Python 3 (milamoth)",
   "language": "python",
   "name": "milamoth"
  },
  "language_info": {
   "codemirror_mode": {
    "name": "ipython",
    "version": 3
   },
   "file_extension": ".py",
   "mimetype": "text/x-python",
   "name": "python",
   "nbconvert_exporter": "python",
   "pygments_lexer": "ipython3",
   "version": "3.7.10"
  }
 },
 "nbformat": 4,
 "nbformat_minor": 4
}
