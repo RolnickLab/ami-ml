{
 "cells": [
  {
   "cell_type": "code",
   "execution_count": 2,
   "metadata": {},
   "outputs": [
    {
     "data": {
      "text/plain": [
       "True"
      ]
     },
     "execution_count": 2,
     "metadata": {},
     "output_type": "execute_result"
    }
   ],
   "source": [
    "# System packages\n",
    "import sys\n",
    "import os\n",
    "\n",
    "# 3rd party packages\n",
    "import pandas as pd\n",
    "import dotenv\n",
    "\n",
    "# Our main package (coming soon!)\n",
    "# import ami_ml\n",
    "\n",
    "# Local development packages not yet in the main package\n",
    "sys.path.append(\"./\")\n",
    "import script_template\n",
    "\n",
    "# Auto reload your development packages\n",
    "%load_ext autoreload\n",
    "%autoreload 2\n",
    "\n",
    "# Load secrets and config from optional .env file\n",
    "dotenv.load_dotenv()"
   ]
  },
  {
   "cell_type": "code",
   "execution_count": 3,
   "metadata": {},
   "outputs": [],
   "source": [
    "# Get a variable from the environment\n",
    "logs_dir = os.getenv(\"OUTPUT_LOGS_DIR\")\n",
    "wandb_api_key = os.getenv(\"WANDB_API_KEY\")"
   ]
  },
  {
   "cell_type": "markdown",
   "metadata": {},
   "source": []
  }
 ],
 "metadata": {
  "kernelspec": {
   "display_name": "ami-ml-doL67Yqc-py3.11",
   "language": "python",
   "name": "python3"
  },
  "language_info": {
   "codemirror_mode": {
    "name": "ipython",
    "version": 3
   },
   "file_extension": ".py",
   "mimetype": "text/x-python",
   "name": "python",
   "nbconvert_exporter": "python",
   "pygments_lexer": "ipython3",
   "version": "3.11.3"
  }
 },
 "nbformat": 4,
 "nbformat_minor": 2
}
