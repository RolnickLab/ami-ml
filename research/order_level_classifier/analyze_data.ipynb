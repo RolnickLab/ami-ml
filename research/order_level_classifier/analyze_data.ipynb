{
 "cells": [
  {
   "cell_type": "markdown",
   "metadata": {},
   "source": [
    "#### Sandbox notebook to analyze data"
   ]
  },
  {
   "cell_type": "code",
   "execution_count": 1,
   "metadata": {},
   "outputs": [
    {
     "data": {
      "text/plain": [
       "True"
      ]
     },
     "execution_count": 1,
     "metadata": {},
     "output_type": "execute_result"
    }
   ],
   "source": [
    "# System packages\n",
    "import sys\n",
    "import os\n",
    "\n",
    "# 3rd party packages\n",
    "import pandas as pd\n",
    "import dotenv\n",
    "from collections import Counter\n",
    "\n",
    "sys.path.append(\"./\")\n",
    "\n",
    "# Auto reload your development packages\n",
    "%load_ext autoreload\n",
    "%autoreload 2\n",
    "\n",
    "# Load secrets and config from optional .env file\n",
    "dotenv.load_dotenv()"
   ]
  },
  {
   "cell_type": "code",
   "execution_count": 2,
   "metadata": {},
   "outputs": [],
   "source": [
    "# Combine two checklists\n",
    "nonleps_df = pd.read_csv(\"/home/mila/a/aditya.jain/scratch/order_classifier/image_verification_results_clean_p1.csv\")\n",
    "leps_df = pd.read_csv(\"/home/mila/a/aditya.jain/scratch/order_classifier/image_verification_results_clean_p2.csv\")\n",
    "final_df = pd.concat([leps_df, nonleps_df])\n",
    "final_df.to_csv(\"/home/mila/a/aditya.jain/scratch/order_classifier/image_verification_results_clean.csv\", index=False)"
   ]
  },
  {
   "cell_type": "code",
   "execution_count": 2,
   "metadata": {},
   "outputs": [],
   "source": [
    "# Read the dataset\n",
    "clean_dataset_df = pd.read_csv(\"/home/mila/a/aditya.jain/scratch/order_classifier/val.csv\")"
   ]
  },
  {
   "cell_type": "code",
   "execution_count": 5,
   "metadata": {},
   "outputs": [],
   "source": [
    "clean_dataset_df[\"orderKey\"] = clean_dataset_df[\"orderKey\"].astype(int)"
   ]
  },
  {
   "cell_type": "code",
   "execution_count": 3,
   "metadata": {},
   "outputs": [
    {
     "name": "stdout",
     "output_type": "stream",
     "text": [
      "Total images: 29107\n",
      "Total unique order keys: 16\n",
      "Order keys occurrences: Counter({797: 4323, 788: 2082, 800: 2049, 1501: 2037, 809: 1979, 1496: 1964, 1470: 1950, 789: 1914, 1457: 1900, 907: 1874, 1458: 1867, 811: 1725, 1224: 1710, 1003: 765, 1225: 695, 787: 273})\n"
     ]
    }
   ],
   "source": [
    "# Calculate statistics\n",
    "order_keys = clean_dataset_df[\"orderKey\"].tolist()\n",
    "order_keys_occurrences = Counter(order_keys)\n",
    "\n",
    "print(f\"Total images: {len(clean_dataset_df)}\")\n",
    "print(f\"Total unique order keys: {len(set(order_keys))}\")\n",
    "print(f\"Order keys occurrences: {order_keys_occurrences}\")"
   ]
  },
  {
   "cell_type": "code",
   "execution_count": 10,
   "metadata": {},
   "outputs": [],
   "source": [
    "# Randomly downsample Hymenoptera class\n",
    "filtered_df = clean_dataset_df[clean_dataset_df[\"orderKey\"]==1457]\n",
    "rows_to_delete = filtered_df.sample(n=27000, random_state=42).index\n",
    "clean_dataset_df = clean_dataset_df.drop(rows_to_delete)\n"
   ]
  },
  {
   "cell_type": "code",
   "execution_count": 7,
   "metadata": {},
   "outputs": [],
   "source": [
    "clean_dataset_df.to_csv(os.getenv(\"ORDER_CLEAN_DATASET\"), index=False)"
   ]
  },
  {
   "cell_type": "code",
   "execution_count": null,
   "metadata": {},
   "outputs": [],
   "source": []
  }
 ],
 "metadata": {
  "kernelspec": {
   "display_name": "ami-ml",
   "language": "python",
   "name": "python3"
  },
  "language_info": {
   "codemirror_mode": {
    "name": "ipython",
    "version": 3
   },
   "file_extension": ".py",
   "mimetype": "text/x-python",
   "name": "python",
   "nbconvert_exporter": "python",
   "pygments_lexer": "ipython3",
   "version": "3.11.9"
  }
 },
 "nbformat": 4,
 "nbformat_minor": 2
}
