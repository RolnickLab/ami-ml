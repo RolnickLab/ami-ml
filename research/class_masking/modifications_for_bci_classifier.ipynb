{
 "cells": [
  {
   "cell_type": "markdown",
   "metadata": {},
   "source": [
    "### Select Panama model species that are found in BCI region"
   ]
  },
  {
   "cell_type": "code",
   "execution_count": 25,
   "metadata": {},
   "outputs": [
    {
     "name": "stdout",
     "output_type": "stream",
     "text": [
      "The autoreload extension is already loaded. To reload it, use:\n",
      "  %reload_ext autoreload\n"
     ]
    },
    {
     "data": {
      "text/plain": [
       "True"
      ]
     },
     "execution_count": 25,
     "metadata": {},
     "output_type": "execute_result"
    }
   ],
   "source": [
    "# System packages\n",
    "import sys\n",
    "import os\n",
    "import json\n",
    "import pickle\n",
    "\n",
    "# 3rd party packages\n",
    "import pandas as pd\n",
    "import dotenv\n",
    "\n",
    "# Local development packages not yet in the main package\n",
    "sys.path.append(\"./\")\n",
    "\n",
    "# Auto reload your development packages\n",
    "%load_ext autoreload\n",
    "%autoreload 2\n",
    "\n",
    "# Load secrets and config from optional .env file\n",
    "dotenv.load_dotenv()"
   ]
  },
  {
   "cell_type": "markdown",
   "metadata": {},
   "source": [
    "Get file names from the env files"
   ]
  },
  {
   "cell_type": "code",
   "execution_count": 2,
   "metadata": {},
   "outputs": [],
   "source": [
    "panama_category_map_f = os.getenv(\"PANAMA_CATEGORY_MAP\")\n",
    "taxonomy_map_f = os.getenv(\"TAXONOMY_MAP\")\n",
    "bci_species_list_f = os.getenv(\"BCI_SPECIES_LIST\")\n"
   ]
  },
  {
   "cell_type": "markdown",
   "metadata": {},
   "source": [
    "Read the data"
   ]
  },
  {
   "cell_type": "code",
   "execution_count": 4,
   "metadata": {},
   "outputs": [],
   "source": [
    "with open(panama_category_map_f, \"r\") as f:\n",
    "    panama_category_map = json.load(f)\n",
    "\n",
    "taxonomy_map = pd.read_csv(taxonomy_map_f)\n",
    "\n",
    "bci_species_list = pd.read_csv(bci_species_list_f)"
   ]
  },
  {
   "cell_type": "markdown",
   "metadata": {},
   "source": [
    "Get panama species names"
   ]
  },
  {
   "cell_type": "code",
   "execution_count": 5,
   "metadata": {},
   "outputs": [
    {
     "name": "stdout",
     "output_type": "stream",
     "text": [
      "Number of species in the Panama model 636.\n"
     ]
    }
   ],
   "source": [
    "panama_species = []\n",
    "\n",
    "for species_key in panama_category_map:\n",
    "    \n",
    "    try:\n",
    "        species_match = taxonomy_map[taxonomy_map[\"speciesKey\"]==int(species_key)]\n",
    "        species_name = species_match[\"species\"].tolist()[0]\n",
    "        panama_species.append(species_name)\n",
    "    except:\n",
    "        print(f\"Species key {species_key} is not found.\")\n",
    "\n",
    "print(f\"Number of species in the Panama model {len(panama_species)}.\")"
   ]
  },
  {
   "cell_type": "markdown",
   "metadata": {},
   "source": [
    "Get panama species that are found in the BCI region"
   ]
  },
  {
   "cell_type": "code",
   "execution_count": 6,
   "metadata": {},
   "outputs": [
    {
     "name": "stdout",
     "output_type": "stream",
     "text": [
      "The number of BCI species available in the Panama model are 597.\n"
     ]
    }
   ],
   "source": [
    "bci_species_in_panama = bci_species_list[bci_species_list[\"Current_valid_binomen\"].isin(panama_species)]\n",
    "bci_species_in_panama.to_csv(\"BCI_species_in_Panama_model_04232025_v1.csv\", index=False)\n",
    "\n",
    "print(f\"The number of BCI species available in the Panama model are {len(bci_species_in_panama)}.\")"
   ]
  },
  {
   "cell_type": "markdown",
   "metadata": {},
   "source": [
    "Save species of interest to disk"
   ]
  },
  {
   "cell_type": "code",
   "execution_count": 23,
   "metadata": {},
   "outputs": [],
   "source": [
    "all_bci_species = bci_species_in_panama[\"Current_valid_binomen\"].tolist()\n",
    "november_bci_species_subset = bci_species_in_panama[bci_species_in_panama[\"Timeframe_Nov2023\"] == 1.0]\n",
    "november_bci_species = november_bci_species_subset[\"Current_valid_binomen\"].tolist()"
   ]
  },
  {
   "cell_type": "code",
   "execution_count": 26,
   "metadata": {},
   "outputs": [],
   "source": [
    "# Save the lists to a pickle file\n",
    "with open(\"all_bci_species.pkl\", \"wb\") as f:\n",
    "    pickle.dump(all_bci_species, f)\n",
    "\n",
    "with open(\"november_bci_species.pkl\", \"wb\") as f:\n",
    "    pickle.dump(november_bci_species, f)"
   ]
  },
  {
   "cell_type": "markdown",
   "metadata": {},
   "source": [
    "Save key to taxon name map"
   ]
  },
  {
   "cell_type": "code",
   "execution_count": 37,
   "metadata": {},
   "outputs": [],
   "source": [
    "key_to_taxon_map = {}\n",
    "\n",
    "for key in panama_category_map:\n",
    "    species = taxonomy_map[taxonomy_map[\"speciesKey\"] == int(key)][\"species\"].item()\n",
    "    key_to_taxon_map[key] = species\n",
    "\n",
    "with open(\"panama_key_to_taxon_map.json\", \"w\") as f:\n",
    "    json.dump(key_to_taxon_map, f, indent=4)"
   ]
  }
 ],
 "metadata": {
  "kernelspec": {
   "display_name": "Python 3",
   "language": "python",
   "name": "python3"
  },
  "language_info": {
   "codemirror_mode": {
    "name": "ipython",
    "version": 3
   },
   "file_extension": ".py",
   "mimetype": "text/x-python",
   "name": "python",
   "nbconvert_exporter": "python",
   "pygments_lexer": "ipython3",
   "version": "3.11.9"
  }
 },
 "nbformat": 4,
 "nbformat_minor": 2
}
