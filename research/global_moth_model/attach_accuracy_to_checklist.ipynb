{
 "cells": [
  {
   "cell_type": "code",
   "execution_count": 1,
   "metadata": {},
   "outputs": [
    {
     "data": {
      "text/plain": [
       "True"
      ]
     },
     "execution_count": 1,
     "metadata": {},
     "output_type": "execute_result"
    }
   ],
   "source": [
    "# Module imports \n",
    "import pandas as pd\n",
    "import os\n",
    "import json\n",
    "\n",
    "import dotenv\n",
    "\n",
    "# Auto reload your development packages\n",
    "%load_ext autoreload\n",
    "%autoreload 2\n",
    "\n",
    "# Load secrets and config from optional .env file\n",
    "dotenv.load_dotenv()"
   ]
  },
  {
   "cell_type": "code",
   "execution_count": 2,
   "metadata": {},
   "outputs": [],
   "source": [
    "# Load the datasets \n",
    "train_stats_df = pd.read_csv(os.getenv(\"TRAIN_STATS\"))\n",
    "test_stats_df = pd.read_csv(os.getenv(\"TEST_STATS\"))\n",
    "gbif_moth_checklist_df = pd.read_csv(os.getenv(\"GLOBAL_MOTH_CHECKLIST\"))"
   ]
  },
  {
   "cell_type": "code",
   "execution_count": 3,
   "metadata": {},
   "outputs": [],
   "source": [
    "# Filter rows in gbif_moth_checklist where 'acceptedTaxonKey' is present in train_stats's 'accepted_taxon_key'\n",
    "gbif_moth_checklist_df = gbif_moth_checklist_df[gbif_moth_checklist_df[\"taxonomicStatus\"]==\"ACCEPTED\"]\n",
    "trained_gbif_moth_checklist_df = gbif_moth_checklist_df[\n",
    "    gbif_moth_checklist_df['acceptedTaxonKey'].isin(train_stats_df['accepted_taxon_key'])\n",
    "]"
   ]
  },
  {
   "cell_type": "code",
   "execution_count": 4,
   "metadata": {},
   "outputs": [],
   "source": [
    "# Add accuracy columns to the checklist\n",
    "trained_gbif_moth_checklist_df = trained_gbif_moth_checklist_df.assign(\n",
    "    gbif_train_imgs = 0,\n",
    "    gbif_test_imgs = 0,\n",
    "    gbif_test_top1_acc = 0.0,\n",
    "    traps_test_imgs = 0,\n",
    "    traps_test_top1_acc = 0.0,\n",
    "    traps_test_top5_acc = 0.0\n",
    ")\n"
   ]
  },
  {
   "cell_type": "code",
   "execution_count": 5,
   "metadata": {},
   "outputs": [],
   "source": [
    "## Add GBIF images and accuracy number ##\n",
    "checklist_df = trained_gbif_moth_checklist_df.copy()\n",
    "\n",
    "# Add number of training images\n",
    "for _, row in train_stats_df.iterrows():\n",
    "    key, imgs = row[\"accepted_taxon_key\"], row[\"num_gbif_train_images\"]\n",
    "    checklist_df.loc[checklist_df[\"acceptedTaxonKey\"]==key, \"gbif_train_imgs\"] = imgs \n",
    "\n",
    "# Add number of test images\n",
    "for _, row in test_stats_df.iterrows():\n",
    "    key, imgs = row[\"accepted_taxon_key\"], row[\"num_gbif_test_images\"]\n",
    "    checklist_df.loc[checklist_df[\"acceptedTaxonKey\"]==key, \"gbif_test_imgs\"] = imgs \n",
    "\n",
    "# Add test accuracy\n",
    "with open(os.getenv(\"GBIF_TEST_ACC\"), \"r\") as file:\n",
    "    gbif_test_acc = json.load(file)\n",
    "for key in gbif_test_acc.keys():\n",
    "    imgs = gbif_test_acc[key][1]\n",
    "    top1_acc = round(gbif_test_acc[key][0]/imgs*100, 2)\n",
    "    checklist_df.loc[checklist_df[\"acceptedTaxonKey\"]==int(float(key)), \"gbif_test_top1_acc\"] = top1_acc"
   ]
  },
  {
   "cell_type": "code",
   "execution_count": 6,
   "metadata": {},
   "outputs": [],
   "source": [
    "## Add AMI-Traps images and accuracy number ##\n",
    "# Load AMI-Traps accuracy file\n",
    "with open(os.getenv(\"AMI_TRAPS_ACC\"), \"r\") as file:\n",
    "    ami_traps_acc = json.load(file)\n",
    "ami_traps_acc_sp = ami_traps_acc[\"SPECIES\"]\n",
    "\n",
    "# Append the image and accuracy numbers to the checklist\n",
    "for sp in ami_traps_acc_sp.keys():\n",
    "    imgs = ami_traps_acc_sp[sp][2]\n",
    "    top1_acc = round(ami_traps_acc_sp[sp][0]/imgs*100, 2)\n",
    "    top5_acc = round(ami_traps_acc_sp[sp][1]/imgs*100, 2)\n",
    "    checklist_df.loc[checklist_df[\"species\"]==sp, [\"traps_test_imgs\", \"traps_test_top1_acc\", \"traps_test_top5_acc\"]] = [imgs, top1_acc, top5_acc]\n"
   ]
  },
  {
   "cell_type": "code",
   "execution_count": 7,
   "metadata": {},
   "outputs": [],
   "source": [
    "# Save the checklist to disk\n",
    "checklist_df.to_csv(os.getenv(\"GLOBAL_MOTH_CHECKLIST_ACC\"), index=False)"
   ]
  },
  {
   "cell_type": "code",
   "execution_count": null,
   "metadata": {},
   "outputs": [],
   "source": []
  }
 ],
 "metadata": {
  "kernelspec": {
   "display_name": "ami-ml",
   "language": "python",
   "name": "python3"
  },
  "language_info": {
   "codemirror_mode": {
    "name": "ipython",
    "version": 3
   },
   "file_extension": ".py",
   "mimetype": "text/x-python",
   "name": "python",
   "nbconvert_exporter": "python",
   "pygments_lexer": "ipython3",
   "version": "3.11.9"
  }
 },
 "nbformat": 4,
 "nbformat_minor": 2
}
