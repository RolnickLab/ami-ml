{
 "cells": [
  {
   "cell_type": "markdown",
   "id": "4eb3ea4e",
   "metadata": {},
   "source": [
    "#### Analyze classes that are available in the train and test set"
   ]
  },
  {
   "cell_type": "code",
   "execution_count": 8,
   "id": "02c017d6",
   "metadata": {},
   "outputs": [
    {
     "name": "stdout",
     "output_type": "stream",
     "text": [
      "The autoreload extension is already loaded. To reload it, use:\n",
      "  %reload_ext autoreload\n"
     ]
    },
    {
     "data": {
      "text/plain": [
       "True"
      ]
     },
     "execution_count": 8,
     "metadata": {},
     "output_type": "execute_result"
    }
   ],
   "source": [
    "# System packages\n",
    "import sys\n",
    "import os\n",
    "\n",
    "# 3rd party packages\n",
    "import pandas as pd\n",
    "import dotenv\n",
    "import pickle\n",
    "from pathlib import Path\n",
    "import json\n",
    "\n",
    "# Our main package (coming soon!)\n",
    "# import ami_ml\n",
    "\n",
    "# Local development packages not yet in the main package\n",
    "sys.path.append(\"./\")\n",
    "\n",
    "# Auto reload your development packages\n",
    "%load_ext autoreload\n",
    "%autoreload 2\n",
    "\n",
    "# Load secrets and config from optional .env file\n",
    "dotenv.load_dotenv()"
   ]
  },
  {
   "cell_type": "markdown",
   "id": "71526b98",
   "metadata": {},
   "source": [
    "Read the files"
   ]
  },
  {
   "cell_type": "code",
   "execution_count": 4,
   "id": "e3b3ed58",
   "metadata": {},
   "outputs": [
    {
     "name": "stdout",
     "output_type": "stream",
     "text": [
      "Number of training species: 82\n",
      "Number of test species: 230\n"
     ]
    }
   ],
   "source": [
    "train_set = pd.read_csv(os.getenv(\"FINE_TUNING_UK_DENMARK_TRAIN_FILE\", \"train.csv\"))\n",
    "num_train_set_species = train_set[\"taxonkey\"].nunique()\n",
    "test_set = pd.read_csv(os.getenv(\"FINE_TUNING_UK_DENMARK_TEST_FILE\", \"test.csv\"))\n",
    "num_test_set_species = test_set[\"taxonkey\"].nunique()\n",
    "\n",
    "print(f\"Number of training species: {num_train_set_species}\")\n",
    "print(f\"Number of test species: {num_test_set_species}\")"
   ]
  },
  {
   "cell_type": "markdown",
   "id": "587ccdd0",
   "metadata": {},
   "source": [
    "Read category map"
   ]
  },
  {
   "cell_type": "code",
   "execution_count": 5,
   "id": "6e02a8c4",
   "metadata": {},
   "outputs": [],
   "source": [
    "with open(os.getenv(\"WEUROPE_CATEGORY_MAP\", \"ne-america_category_map.json\"), \"r\") as f:\n",
    "    category_map = json.load(f)"
   ]
  },
  {
   "cell_type": "code",
   "execution_count": 6,
   "id": "c11096d8",
   "metadata": {},
   "outputs": [],
   "source": [
    "seen_species_during_training = list(train_set[\"taxonkey\"].unique())\n",
    "test_species = list(test_set[\"taxonkey\"].unique())\n",
    "unseen_species_during_training = list(set(test_species) - set(seen_species_during_training))\n",
    "\n",
    "seen_species_during_training_id = [category_map.get(str(key), -1) for key in seen_species_during_training]\n",
    "unseen_species_during_training_id = [category_map.get(str(key), -1) for key in unseen_species_during_training]"
   ]
  },
  {
   "cell_type": "code",
   "execution_count": 9,
   "id": "0ed53699",
   "metadata": {},
   "outputs": [],
   "source": [
    "# Save the lists to a pickle file\n",
    "data_dir = Path(os.getenv(\"FINE_TUNING_UK_DENMARK_DATA_DIR\", \"./data_dir\"))\n",
    "\n",
    "with open(data_dir / \"seen_species.pkl\", \"wb\") as f:\n",
    "    pickle.dump(seen_species_during_training_id, f)\n",
    "\n",
    "with open(data_dir / \"unseen_species.pkl\", \"wb\") as f:\n",
    "    pickle.dump(unseen_species_during_training_id, f)"
   ]
  },
  {
   "cell_type": "code",
   "execution_count": null,
   "id": "ae5c9707",
   "metadata": {},
   "outputs": [],
   "source": []
  }
 ],
 "metadata": {
  "kernelspec": {
   "display_name": "Python 3",
   "language": "python",
   "name": "python3"
  },
  "language_info": {
   "codemirror_mode": {
    "name": "ipython",
    "version": 3
   },
   "file_extension": ".py",
   "mimetype": "text/x-python",
   "name": "python",
   "nbconvert_exporter": "python",
   "pygments_lexer": "ipython3",
   "version": "3.11.9"
  }
 },
 "nbformat": 4,
 "nbformat_minor": 5
}
