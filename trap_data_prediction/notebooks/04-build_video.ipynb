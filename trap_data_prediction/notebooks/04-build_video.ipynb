{
 "cells": [
  {
   "cell_type": "code",
   "execution_count": 1,
   "metadata": {},
   "outputs": [],
   "source": [
    "\"\"\"\"\n",
    "Author        : Aditya Jain\n",
    "Date started  : May 20, 2022\n",
    "About         : builds a video given the images and their localization, tracking information\n",
    "\"\"\"\n",
    "\n",
    "import cv2\n",
    "import os\n",
    "import time\n",
    "import pandas as pd"
   ]
  },
  {
   "cell_type": "code",
   "execution_count": 9,
   "metadata": {},
   "outputs": [],
   "source": [
    "data_dir    = '/home/mila/a/aditya.jain/scratch/TrapData_QuebecVermont_2022/Quebec/'\n",
    "image_dir   = data_dir + '2022_05_14/'\n",
    "track_file  = data_dir + 'tracking_annotation-2022_05_14.csv'\n",
    "\n",
    "data_images = os.listdir(image_dir)\n",
    "# data_images.sort()\n",
    "data_annot  = pd.read_csv(track_file)\n",
    "\n",
    "# output video settings\n",
    "framerate   = 5\n",
    "test_img    = cv2.imread(image_dir + data_images[0])\n",
    "height, width, layers = test_img.shape\n",
    "vid_out     = cv2.VideoWriter(data_dir + '2022_05_14_localiz-tracking.mp4',\n",
    "                              cv2.VideoWriter_fourcc(*'XVID'), \n",
    "                              framerate, \n",
    "                              (width,height))"
   ]
  },
  {
   "cell_type": "code",
   "execution_count": 10,
   "metadata": {},
   "outputs": [],
   "source": [
    "def prev_track_centre(annot_data, img_name, track_id):\n",
    "    \"\"\"returns centre given a track id and image, if available\"\"\"\n",
    "    \n",
    "    img_points = annot_data[annot_data['image']==img_name]\n",
    "    \n",
    "    for i in range(len(img_points)):\n",
    "        if img_points.iloc[i,1]==track_id:\n",
    "            return [img_points.iloc[i,6], img_points.iloc[i,7]]\n",
    "        \n",
    "    return [None, None]"
   ]
  },
  {
   "cell_type": "code",
   "execution_count": 11,
   "metadata": {},
   "outputs": [
    {
     "name": "stdout",
     "output_type": "stream",
     "text": [
      "Time take to build video in minutes:  0.34285067319869994\n",
      "Total images:  149\n"
     ]
    }
   ],
   "source": [
    "i = 0\n",
    "prev_image_name = ''\n",
    "start           = time.time()\n",
    "img_count       = 0\n",
    "\n",
    "while i<len(data_annot):\n",
    "    image_name = data_annot.loc[i, 'image']\n",
    "    image = cv2.imread(image_dir + image_name)\n",
    "    img_count += 1\n",
    "    \n",
    "    while i<len(data_annot) and data_annot.loc[i, 'image']==image_name:\n",
    "        cv2.rectangle(image,\n",
    "                      (data_annot.loc[i, 'bb_topleft_x'], data_annot.loc[i, 'bb_topleft_y']),\n",
    "                      (data_annot.loc[i, 'bb_botright_x'], data_annot.loc[i, 'bb_botright_y']),\n",
    "                      (0,0,255),\n",
    "                       3)\n",
    "        cv2.putText(image, 'ID: '+str(data_annot.loc[i, 'track_id']), \n",
    "                    (data_annot.loc[i, 'bb_topleft_x'], data_annot.loc[i, 'bb_topleft_y']-10), \n",
    "                    cv2.FONT_HERSHEY_SIMPLEX, 0.9, \n",
    "                    (0,0,255), \n",
    "                    2)        \n",
    "        cv2.circle(image,\n",
    "                   (data_annot.loc[i, 'bb_centre_x'], data_annot.loc[i, 'bb_centre_y']), \n",
    "                   4, \n",
    "                   (0,0,255), \n",
    "                   -1)\n",
    "        \n",
    "        # showing the previous track\n",
    "        if prev_image_name:\n",
    "            prev_centre = prev_track_centre(data_annot, prev_image_name, data_annot.loc[i, 'track_id'])\n",
    "            if prev_centre[0]:\n",
    "                cv2.line(image,\n",
    "                         (prev_centre[0], prev_centre[1]),\n",
    "                         (data_annot.loc[i, 'bb_centre_x'], data_annot.loc[i, 'bb_centre_y']),\n",
    "                         (0,0,255), \n",
    "                          3)                \n",
    "                \n",
    "        i += 1    \n",
    "    \n",
    "    prev_image_name = image_name     \n",
    "    vid_out.write(image)\n",
    "        \n",
    "vid_out.release()\n",
    "print('Time take to build video in minutes: ', (time.time()-start)/60)\n",
    "print('Total images: ', img_count)"
   ]
  },
  {
   "cell_type": "code",
   "execution_count": null,
   "metadata": {},
   "outputs": [],
   "source": []
  }
 ],
 "metadata": {
  "kernelspec": {
   "display_name": "Python 3 (milamoth)",
   "language": "python",
   "name": "milamoth"
  },
  "language_info": {
   "codemirror_mode": {
    "name": "ipython",
    "version": 3
   },
   "file_extension": ".py",
   "mimetype": "text/x-python",
   "name": "python",
   "nbconvert_exporter": "python",
   "pygments_lexer": "ipython3",
   "version": "3.7.10"
  }
 },
 "nbformat": 4,
 "nbformat_minor": 4
}
